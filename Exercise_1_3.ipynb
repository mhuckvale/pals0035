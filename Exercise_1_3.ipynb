{
  "nbformat": 4,
  "nbformat_minor": 0,
  "metadata": {
    "colab": {
      "name": "Exercise_1_3.ipynb",
      "private_outputs": true,
      "provenance": [],
      "collapsed_sections": [],
      "include_colab_link": true
    },
    "kernelspec": {
      "name": "python3",
      "display_name": "Python 3"
    }
  },
  "cells": [
    {
      "cell_type": "markdown",
      "metadata": {
        "id": "view-in-github",
        "colab_type": "text"
      },
      "source": [
        "<a href=\"https://colab.research.google.com/github/mhuckvale/pals0039/blob/master/Exercise_1_3.ipynb\" target=\"_parent\"><img src=\"https://colab.research.google.com/assets/colab-badge.svg\" alt=\"Open In Colab\"/></a>"
      ]
    },
    {
      "cell_type": "markdown",
      "metadata": {
        "id": "LzfM-BoYc5fF"
      },
      "source": [
        "[![PALS0039 Logo](https://www.phon.ucl.ac.uk/courses/pals0039/images/pals0039logo.png)](https://www.phon.ucl.ac.uk/courses/pals0039/)\n",
        "\n",
        "#Exercise 1.3 Practice with Matplotlib\n",
        "\n",
        "In this exercise we practise using the matplotlib library for drawing graphs."
      ]
    },
    {
      "cell_type": "markdown",
      "metadata": {
        "id": "D-4nX60DdIs1"
      },
      "source": [
        "(a) Use numpy to generate a vector \"x\" of 100 values between 0 and 10. Then generate a vector \"y\" from x using a regression \"y=2x+e\", where \"e\" is a gaussian random variable of mean 0 and sd 1.\n",
        "\n",
        "Use matplotlib to plot a scatter graph of the points.\n",
        "\n",
        "Use matplotlib to add the correct regression line y=2x.\n",
        "\n",
        "**Hint:** You'll need to import the matplotlib and numpy libraries. The numpy **linspace()** method can be used to generate a sequence of numbers in a numpy array. The **normal()** method of **numpy.random** can be used to sample a normal distribution.\n"
      ]
    },
    {
      "cell_type": "code",
      "metadata": {
        "id": "n5ipM1Nvc2qb"
      },
      "source": [
        ""
      ],
      "execution_count": null,
      "outputs": []
    },
    {
      "cell_type": "markdown",
      "metadata": {
        "id": "uwWUPOTXfqSG"
      },
      "source": [
        "---\n",
        "(b) Plot a bar chart of the following data (GDP per capita 2019, Source: IMF)\n",
        "\n",
        "<table><tr><th align=\"left\">Continent</th><th align='right'>GDP (US$)</th></tr>\n",
        "<tr><td>Oceania</td><td align='right'>53,220</td></tr>\n",
        "<tr><td>North America</td><td align='right'>49,240</td></tr>\n",
        "<tr><td>Europe</td><td align='right'>29,410</td></tr>\n",
        "<tr><td>South America</td><td align='right'>8,560</td></tr>\n",
        "<tr><td>Asia</td><td align='right'>7,350</td></tr>\n",
        "<tr><td>Africa</td><td align='right'>1,930</td></tr>\n",
        "<tr><td>World Average</td><td align='right'>11,570</td></tr>\n",
        "</table>\n",
        "\n",
        "Use matplotlib to add axis labels and a graph title. Change the size of the plot so that the text is clearly displayed.\n",
        "\n",
        "**Hint:** Start by storing the data as Python tuples. Use a **matplotlib** method to set up a bar chart then add axis labels and a title using other **matplotlib** methods."
      ]
    },
    {
      "cell_type": "code",
      "metadata": {
        "id": "q9jaGJi9iect"
      },
      "source": [
        ""
      ],
      "execution_count": null,
      "outputs": []
    },
    {
      "cell_type": "markdown",
      "metadata": {
        "id": "uFpsGCm3kqxb"
      },
      "source": [
        "---\n",
        "(c) Use numpy to sample 1000 vaues from a normally distributed random variable with a mean of 5 and a standard deviation of 1. Use matplotlib to plot a histogram of the sample probability density.\n",
        "\n",
        "The formula for the normal distribution is as follows:\n",
        "\n",
        "<ul>\n",
        "<p>$$N(\\mu,\\sigma) = {1 \\over \\sqrt (2\\pi\\sigma^2)} exp(-{ (x-\\mu)^2 \\over 2\\sigma^2 } )$$\n",
        "</ul>\n",
        "\n",
        "Where $\\mu$ is the mean of the sample, and $\\sigma$ is the standard deviation. Plot a line representing the best fitting normal distribution over the histogram.\n",
        "\n",
        "**Hint:** Use the **numpy.random** **normal()** to generate the sample, then use the formula to generate the shape of a normal distribution that fits the data from **x** values between 0 and 10."
      ]
    },
    {
      "cell_type": "code",
      "metadata": {
        "id": "knh6Ur6alMXm"
      },
      "source": [
        ""
      ],
      "execution_count": null,
      "outputs": []
    }
  ]
}