{
  "nbformat": 4,
  "nbformat_minor": 0,
  "metadata": {
    "colab": {
      "name": "Answers_1_3.ipynb",
      "provenance": [],
      "private_outputs": true,
      "collapsed_sections": [],
      "include_colab_link": true
    },
    "kernelspec": {
      "name": "python3",
      "display_name": "Python 3"
    }
  },
  "cells": [
    {
      "cell_type": "markdown",
      "metadata": {
        "id": "view-in-github",
        "colab_type": "text"
      },
      "source": [
        "<a href=\"https://colab.research.google.com/github/mhuckvale/pals0039/blob/master/Answers_1_3.ipynb\" target=\"_parent\"><img src=\"https://colab.research.google.com/assets/colab-badge.svg\" alt=\"Open In Colab\"/></a>"
      ]
    },
    {
      "cell_type": "markdown",
      "metadata": {
        "id": "LzfM-BoYc5fF",
        "colab_type": "text"
      },
      "source": [
        "[![PALS0039 Logo](https://www.phon.ucl.ac.uk/courses/pals0039/images/pals0039logo.png)](https://www.phon.ucl.ac.uk/courses/pals0039/)\n",
        "\n",
        "#Exercise 1.3 Answers"
      ]
    },
    {
      "cell_type": "markdown",
      "metadata": {
        "id": "D-4nX60DdIs1",
        "colab_type": "text"
      },
      "source": [
        "(a) Use numpy to generate a vector \"x\" of 100 values between 0 and 10. Then generate a vector \"y\" from x using a regression \"y=2x+e\", where \"e\" is a gaussian random variable of mean 0 and sd 1.\n",
        "\n",
        "Use matplotlib to plot a scatter graph of the points.\n",
        "\n",
        "Use matplotlib to add the correct regression line y=2x.\n",
        "\n"
      ]
    },
    {
      "cell_type": "code",
      "metadata": {
        "id": "n5ipM1Nvc2qb",
        "colab_type": "code",
        "colab": {}
      },
      "source": [
        "import numpy as np\n",
        "import matplotlib.pyplot as plt\n",
        "%matplotlib inline\n",
        "n=100\n",
        "x=np.linspace(0,10,n)\n",
        "y=2*x+np.random.normal(size=n)\n",
        "plt.plot(x,y,'bo')\n",
        "plt.plot(x,2*x,'r-')\n",
        "plt.show()\n"
      ],
      "execution_count": 0,
      "outputs": []
    },
    {
      "cell_type": "markdown",
      "metadata": {
        "id": "uwWUPOTXfqSG",
        "colab_type": "text"
      },
      "source": [
        "---\n",
        "(b) Plot a bar chart of the following data (GDP per capita 2019, Source: IMF)\n",
        "\n",
        "<table><tr><th align=\"left\">Continent</th><th align='right'>GDP (US$)</th></tr>\n",
        "<tr><td>Oceania</td><td align='right'>53,220</td></tr>\n",
        "<tr><td>North America</td><td align='right'>49,240</td></tr>\n",
        "<tr><td>Europe</td><td align='right'>29,410</td></tr>\n",
        "<tr><td>South America</td><td align='right'>8,560</td></tr>\n",
        "<tr><td>Asia</td><td align='right'>7,350</td></tr>\n",
        "<tr><td>Africa</td><td align='right'>1,930</td></tr>\n",
        "<tr><td>World Average</td><td align='right'>11,570</td></tr>\n",
        "</table>\n",
        "\n",
        "Use matplotlib to add axis labels and a graph title. Change the size of the plot so that the text is clearly displayed."
      ]
    },
    {
      "cell_type": "code",
      "metadata": {
        "id": "q9jaGJi9iect",
        "colab_type": "code",
        "colab": {}
      },
      "source": [
        "continents=(\"Oceania\",\"North America\",\"Europe\",\"South America\",\"Asia\",\"Africa\",\"World Average\")\n",
        "gdp=(53220,49240,29410,8560,7350,1930,11570)\n",
        "\n",
        "plt.figure(figsize=(9,7))\n",
        "plt.bar(continents,gdp)\n",
        "plt.xlabel(\"Continents\",fontsize=14)\n",
        "plt.ylabel(\"GDP/capita (US$)\",fontsize=14)\n",
        "plt.title(\"GDP/capita 2019 (IMF)\",fontsize=16)\n",
        "plt.show()"
      ],
      "execution_count": 0,
      "outputs": []
    },
    {
      "cell_type": "markdown",
      "metadata": {
        "id": "uFpsGCm3kqxb",
        "colab_type": "text"
      },
      "source": [
        "---\n",
        "(c) Use numpy to sample 1000 vaues from a normally distributed random variable with a mean of 5 and a standard deviation of 1. Use matplotlib to plot a histogram of the sample probability density.\n",
        "\n",
        "The formula for the normal distribution is as follows:\n",
        "\n",
        "<ul>\n",
        "<p>$$N(\\mu,\\sigma) = {1 \\over \\sqrt (2\\pi\\sigma^2)} exp(-{ (x-\\mu)^2 \\over 2\\sigma^2 } )$$\n",
        "</ul>\n",
        "\n",
        "Where $\\mu$ is the mean of the sample, and $\\sigma$ is the standard deviation. Plot a line representing the best fitting normal distribution over the histogram."
      ]
    },
    {
      "cell_type": "code",
      "metadata": {
        "id": "knh6Ur6alMXm",
        "colab_type": "code",
        "colab": {}
      },
      "source": [
        "from math import sqrt, pi\n",
        "x=np.random.normal(5,1,size=1000)\n",
        "plt.hist(x,20,density=True)\n",
        "mu=np.mean(x)\n",
        "sigma=np.std(x)\n",
        "x=np.linspace(0,10,100)\n",
        "y=(1/sqrt(2*pi*sigma**2))*np.exp(-((x-mu)**2)/(2*sigma**2))\n",
        "plt.plot(x,y,'r-')\n",
        "plt.show()"
      ],
      "execution_count": 0,
      "outputs": []
    }
  ]
}