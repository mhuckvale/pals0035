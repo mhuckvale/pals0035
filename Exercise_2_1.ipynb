{
  "nbformat": 4,
  "nbformat_minor": 0,
  "metadata": {
    "colab": {
      "name": "Exercise_2_1.ipynb",
      "provenance": [],
      "private_outputs": true,
      "collapsed_sections": [],
      "include_colab_link": true
    },
    "kernelspec": {
      "name": "python3",
      "display_name": "Python 3"
    }
  },
  "cells": [
    {
      "cell_type": "markdown",
      "metadata": {
        "id": "view-in-github",
        "colab_type": "text"
      },
      "source": [
        "<a href=\"https://colab.research.google.com/github/mhuckvale/pals0039/blob/master/Exercise_2_1.ipynb\" target=\"_parent\"><img src=\"https://colab.research.google.com/assets/colab-badge.svg\" alt=\"Open In Colab\"/></a>"
      ]
    },
    {
      "cell_type": "markdown",
      "metadata": {
        "id": "3icOIwLXxb0F",
        "colab_type": "text"
      },
      "source": [
        "[![PALS0039 Logo](https://www.phon.ucl.ac.uk/courses/pals0039/images/pals0039logo.png)](https://www.phon.ucl.ac.uk/courses/pals0039/)\n",
        "\n",
        "#Exercise 2.1 Pandas"
      ]
    },
    {
      "cell_type": "markdown",
      "metadata": {
        "id": "FHox_53oxmWs",
        "colab_type": "text"
      },
      "source": [
        "(a) Use pandas to read the CSV file stored at this URL into a dataframe:\n",
        "* [https://www.phon.ucl.ac.uk/courses/pals0039/data/alcohol.csv](https://www.phon.ucl.ac.uk/courses/pals0039/data/alcohol.csv)\n",
        "\n",
        "This data describes alcohol consumption in litres per person for 2016 broken down by country (source: World Bank). \n",
        "\n",
        "Use pandas to display the first 10 rows of the table.\n",
        "\n",
        "\n",
        "\n",
        "\n"
      ]
    },
    {
      "cell_type": "code",
      "metadata": {
        "id": "lk1Q7ZgqxYWk",
        "colab_type": "code",
        "colab": {}
      },
      "source": [
        ""
      ],
      "execution_count": 0,
      "outputs": []
    },
    {
      "cell_type": "markdown",
      "metadata": {
        "id": "yLZHPpe82tHD",
        "colab_type": "text"
      },
      "source": [
        "(b) Display the rows in the dataframe with the 10 greatest alcohol consumption values. Display the rows with the 10 smallest alcohol consumption values. \n",
        "\n",
        "Hint: the data frame <tt>sort_values</tt> method will sort a frame according to values found in a column.\n"
      ]
    },
    {
      "cell_type": "code",
      "metadata": {
        "id": "3Qz8zux_3BCp",
        "colab_type": "code",
        "colab": {}
      },
      "source": [
        ""
      ],
      "execution_count": 0,
      "outputs": []
    },
    {
      "cell_type": "markdown",
      "metadata": {
        "id": "Z1sn-jXF3HAp",
        "colab_type": "text"
      },
      "source": [
        "(c) Display all rows in which the alcohol consumption value is missing.\n",
        "\n",
        "Hint: the series <tt>isna</tt> method is useful here."
      ]
    },
    {
      "cell_type": "code",
      "metadata": {
        "id": "LLz7A3N33c6C",
        "colab_type": "code",
        "colab": {}
      },
      "source": [
        ""
      ],
      "execution_count": 0,
      "outputs": []
    },
    {
      "cell_type": "markdown",
      "metadata": {
        "id": "yIE7l0us44JR",
        "colab_type": "text"
      },
      "source": [
        "(d) Copy the valid alcohol values into a numpy vector\n",
        "\n",
        "Hint: the series <tt>notna</tt> method and the <tt>to_numpy</tt> are useful here."
      ]
    },
    {
      "cell_type": "code",
      "metadata": {
        "id": "AdX1aLxL5Ch0",
        "colab_type": "code",
        "colab": {}
      },
      "source": [
        ""
      ],
      "execution_count": 0,
      "outputs": []
    },
    {
      "cell_type": "markdown",
      "metadata": {
        "id": "PjkBsDAx7BIP",
        "colab_type": "text"
      },
      "source": [
        "(e) Plot a histogram of the ALCOHOL values\n",
        "\n",
        "Hint: pandas has a data frame method and a series method for this."
      ]
    },
    {
      "cell_type": "code",
      "metadata": {
        "id": "84M9kfk77BjO",
        "colab_type": "code",
        "colab": {}
      },
      "source": [
        ""
      ],
      "execution_count": 0,
      "outputs": []
    },
    {
      "cell_type": "markdown",
      "metadata": {
        "id": "JPxhF0htHOH2",
        "colab_type": "text"
      },
      "source": [
        "---\n",
        "(f) Save the contents of the dataframe to a CSV file in your Google Drive account.\n",
        "\n",
        "Hint: to access your Google drive account you first must authorise access using:\n",
        "\n",
        "<pre>\n",
        "from google.colab import drive\n",
        "drive.mount('/content/gdrive')\n",
        "</pre>\n",
        "After that, your Drive can be accessed at the folder \"/content/gdrive/My Drive/\".\n",
        "\n",
        "Reload the CSV file from your Google drive account into a new dataframe and check that the values have been reloaded successfuly. Do this by reporting the number of rows in the two data frames, and by calling the pandas \"describe()\" method on the ALCOHOL column."
      ]
    },
    {
      "cell_type": "code",
      "metadata": {
        "id": "MuU1Vu_Y_mkg",
        "colab_type": "code",
        "colab": {}
      },
      "source": [
        ""
      ],
      "execution_count": 0,
      "outputs": []
    }
  ]
}