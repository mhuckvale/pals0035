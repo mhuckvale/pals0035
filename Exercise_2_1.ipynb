{
  "nbformat": 4,
  "nbformat_minor": 0,
  "metadata": {
    "colab": {
      "name": "Answers_2_1.ipynb",
      "provenance": [],
      "private_outputs": true,
      "collapsed_sections": [],
      "include_colab_link": true
    },
    "kernelspec": {
      "name": "python3",
      "display_name": "Python 3"
    }
  },
  "cells": [
    {
      "cell_type": "markdown",
      "metadata": {
        "id": "view-in-github",
        "colab_type": "text"
      },
      "source": [
        "<a href=\"https://colab.research.google.com/github/mhuckvale/pals0039/blob/master/Exercise_2_1.ipynb\" target=\"_parent\"><img src=\"https://colab.research.google.com/assets/colab-badge.svg\" alt=\"Open In Colab\"/></a>"
      ]
    },
    {
      "cell_type": "markdown",
      "metadata": {
        "id": "3icOIwLXxb0F",
        "colab_type": "text"
      },
      "source": [
        "[PALS0039 Introduction to Deep Learning for Speech and Language Processing](https://www.phon.ucl.ac.uk/courses/pals0039/)\n",
        "\n",
        "#Exercise 2.1 Answers"
      ]
    },
    {
      "cell_type": "markdown",
      "metadata": {
        "id": "FHox_53oxmWs",
        "colab_type": "text"
      },
      "source": [
        "(a) Use pandas to read the CSV file stored at this URL into a dataframe:\n",
        "* [https://www.phon.ucl.ac.uk/courses/pals0039/data/alcohol.csv](https://www.phon.ucl.ac.uk/courses/pals0039/data/alcohol.csv)\n",
        "\n",
        "This data describes alcohol comsumpion in litres per person for 2016 broken down by country (source: World Bank). Use pandas to display the first 5 rows of the table.\n",
        "\n",
        "Display the rows in the dataframe with the 10 greatest alcohol consumption values. Display the rows with the 10 smallest alcohol consumption values. Display all rows in which the alcohol consumption value is missing.\n",
        "\n",
        "Save the contents of the dataframe to a CSV file in your Google Drive account.\n",
        "\n",
        "Hint: to access your Google drive account you first must authorise access using:\n",
        "\n",
        "<pre>\n",
        "from google.colab import drive\n",
        "drive.mount('/content/gdrive')\n",
        "</pre>\n",
        "\n",
        "After that, your drive can accessed at the folder <tt>\"/content/gdrive/My Drive/\"</tt>.\n",
        "\n",
        "Reload the CSV file from your Google drive account and check that the values have been reloaded successfuly. Do this by reporting the number of rows in the two data frames, and by calling the pandas \"describe()\" method on the ALCOHOL column.\n",
        "\n"
      ]
    },
    {
      "cell_type": "code",
      "metadata": {
        "id": "lk1Q7ZgqxYWk",
        "colab_type": "code",
        "colab": {}
      },
      "source": [
        "import pandas as pd\n",
        "df=pd.read_csv(\"https://www.phon.ucl.ac.uk/courses/pals0039/data/alcohol.csv\")\n",
        "print(df.head())\n",
        "print(df.sort_values(\"ALCOHOL\",ascending=False).head(10))\n",
        "print(df.sort_values(\"ALCOHOL\",ascending=True).head(10))\n",
        "print(df[df.isnull().any(axis=1)])"
      ],
      "execution_count": 0,
      "outputs": []
    },
    {
      "cell_type": "markdown",
      "metadata": {
        "id": "JPxhF0htHOH2",
        "colab_type": "text"
      },
      "source": [
        "---\n",
        "(b) Using the alcohol dataframe from (a):\n",
        "\n",
        "Save the contents of the dataframe to a CSV file in your Google Drive account.\n",
        "\n",
        "Hint: to access your Google drive account you first must authorise access using:\n",
        "\n",
        "<pre>\n",
        "from google.colab import drive\n",
        "drive.mount('/content/gdrive')\n",
        "</pre>\n",
        "After that, your Drive can be accessed at the folder \"/content/gdrive/My Drive/\".\n",
        "\n",
        "Reload the CSV file from your Google drive account into a new dataframe and check that the values have been reloaded successfuly. Do this by reporting the number of rows in the two data frames, and by calling the pandas \"describe()\" method on the ALCOHOL column."
      ]
    },
    {
      "cell_type": "code",
      "metadata": {
        "id": "MuU1Vu_Y_mkg",
        "colab_type": "code",
        "colab": {}
      },
      "source": [
        "from google.colab import drive\n",
        "drive.mount('/content/gdrive')\n",
        "\n",
        "df.to_csv(\"/content/gdrive/My Drive/alcohol.csv\")\n",
        "df2=pd.read_csv(\"/content/gdrive/My Drive/alcohol.csv\")\n",
        "\n",
        "print(\"df has\",len(df),\" rows\")\n",
        "print(\"df2 has\",len(df2),\" rows\")\n",
        "\n",
        "print(df.ALCOHOL.describe())\n",
        "print(df2.ALCOHOL.describe())\n"
      ],
      "execution_count": 0,
      "outputs": []
    },
    {
      "cell_type": "markdown",
      "metadata": {
        "id": "rH6tv62hH5rV",
        "colab_type": "text"
      },
      "source": [
        "---\n",
        "(c) "
      ]
    }
  ]
}