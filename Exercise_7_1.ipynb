{
  "nbformat": 4,
  "nbformat_minor": 0,
  "metadata": {
    "colab": {
      "name": "Exercise_7_1.ipynb",
      "provenance": [],
      "private_outputs": true,
      "collapsed_sections": [],
      "include_colab_link": true
    },
    "kernelspec": {
      "name": "python3",
      "display_name": "Python 3"
    },
    "accelerator": "GPU"
  },
  "cells": [
    {
      "cell_type": "markdown",
      "metadata": {
        "id": "view-in-github",
        "colab_type": "text"
      },
      "source": [
        "<a href=\"https://colab.research.google.com/github/mhuckvale/pals0039/blob/master/Exercise_7_1.ipynb\" target=\"_parent\"><img src=\"https://colab.research.google.com/assets/colab-badge.svg\" alt=\"Open In Colab\"/></a>"
      ]
    },
    {
      "cell_type": "markdown",
      "metadata": {
        "id": "BaxAfBk1iWFo",
        "colab_type": "text"
      },
      "source": [
        "[![PALS0039 Logo](https://www.phon.ucl.ac.uk/courses/pals0039/images/pals0039logo.png)](https://www.phon.ucl.ac.uk/courses/pals0039/)\n",
        "\n",
        "# Exercise 7.1\n",
        "\n",
        "In this exercise we train a character sequence language model using a recurrent neural network and then generate some random text.\n"
      ]
    },
    {
      "cell_type": "markdown",
      "metadata": {
        "id": "XKlBlwuGigPf",
        "colab_type": "text"
      },
      "source": [
        "(a) Import the standard libraries."
      ]
    },
    {
      "cell_type": "code",
      "metadata": {
        "id": "_NyvFYGmiVgd",
        "colab_type": "code",
        "colab": {}
      },
      "source": [
        "import requests\n",
        "import numpy as np\n",
        "\n",
        "%tensorflow_version 2.x\n",
        "from tensorflow.keras.models import Sequential, Model\n",
        "from tensorflow.keras.layers import Dense, Embedding, Flatten, SimpleRNN, LSTM, GRU, Bidirectional, Dropout, TimeDistributed\n",
        "from tensorflow.keras.preprocessing.sequence import pad_sequences"
      ],
      "execution_count": 0,
      "outputs": []
    },
    {
      "cell_type": "markdown",
      "metadata": {
        "id": "vQzyn_HwkS62",
        "colab_type": "text"
      },
      "source": [
        "---\n",
        "(b) Read in text file and convert characters to a list of integers. Run the code and add comments"
      ]
    },
    {
      "cell_type": "code",
      "metadata": {
        "id": "Bq9BEcbFkXNW",
        "colab_type": "code",
        "colab": {}
      },
      "source": [
        "# \n",
        "url = \"https://www.phon.ucl.ac.uk/courses/pals0039/data/alice.txt\"\n",
        "response = requests.get(url)\n",
        "# \n",
        "raw_text = response.text.lower().replace('\\n',' ')\n",
        "print(raw_text[:250])"
      ],
      "execution_count": 0,
      "outputs": []
    },
    {
      "cell_type": "code",
      "metadata": {
        "id": "gWGzYeu_mYvm",
        "colab_type": "code",
        "colab": {}
      },
      "source": [
        "# \n",
        "chars = sorted(list(set(raw_text)))\n",
        "char_to_int = dict((c, i) for i, c in enumerate(chars))\n",
        "print(char_to_int)\n",
        "# \n",
        "NCHAR=len(chars)\n",
        "print(NCHAR)\n",
        "# \n",
        "raw_seq=[char_to_int[x] for x in raw_text]\n",
        "print(raw_seq[:100])"
      ],
      "execution_count": 0,
      "outputs": []
    },
    {
      "cell_type": "markdown",
      "metadata": {
        "id": "859zOvqpnwCN",
        "colab_type": "text"
      },
      "source": [
        "---\n",
        "(c) Divide into train and test. Run the code and add comments."
      ]
    },
    {
      "cell_type": "code",
      "metadata": {
        "id": "giJUPXe1n3Cj",
        "colab_type": "code",
        "colab": {}
      },
      "source": [
        "#\n",
        "ntrain=int(0.9*len(raw_seq))\n",
        "train_seq=raw_seq[:ntrain]\n",
        "test_seq=raw_seq[ntrain:]\n",
        "print(len(train_seq),len(test_seq))"
      ],
      "execution_count": 0,
      "outputs": []
    },
    {
      "cell_type": "markdown",
      "metadata": {
        "id": "jamOLwfEoWZD",
        "colab_type": "text"
      },
      "source": [
        "---\n",
        "(d) Build training sequences of fixed length. Run the code and add comments."
      ]
    },
    {
      "cell_type": "code",
      "metadata": {
        "id": "t3j7gXhuoVT9",
        "colab_type": "code",
        "colab": {}
      },
      "source": [
        "# \n",
        "def prepare_sequences(text,seqlen):\n",
        "  # \n",
        "  nseq=(len(text)-1)//seqlen\n",
        "  # \n",
        "  feats=np.zeros((nseq,seqlen))\n",
        "  # \n",
        "  labels=np.zeros((nseq,seqlen))\n",
        "  for i in range(nseq):\n",
        "    # \n",
        "    feats[i,:]=text[i*seqlen:i*seqlen+seqlen]\n",
        "    # \n",
        "    labels[i,:]=text[i*seqlen+1:i*seqlen+seqlen+1]\n",
        "  return feats,labels\n",
        "\n",
        "# \n",
        "seqlen=100\n",
        "Xtrain,ytrain = prepare_sequences(train_seq,seqlen)\n",
        "Xtest,ytest = prepare_sequences(test_seq,seqlen)\n",
        "\n",
        "print(Xtrain.shape,ytrain.shape)\n",
        "print(Xtest.shape,ytest.shape)\n"
      ],
      "execution_count": 0,
      "outputs": []
    },
    {
      "cell_type": "markdown",
      "metadata": {
        "id": "3N55UVqupzF6",
        "colab_type": "text"
      },
      "source": [
        "---\n",
        "(e) Build the recurrent model. Run the code and add comments"
      ]
    },
    {
      "cell_type": "code",
      "metadata": {
        "id": "qvQmEePLp0s_",
        "colab_type": "code",
        "colab": {}
      },
      "source": [
        "import tensorflow as tf\n",
        "# \n",
        "def perplexity(y_true, y_pred):\n",
        "    cross_entropy = tf.losses.sparse_categorical_crossentropy(y_true, y_pred)\n",
        "    perplexity = tf.exp(tf.reduce_mean(cross_entropy))\n",
        "    return perplexity\n",
        "\n",
        "# \n",
        "isize=NCHAR\n",
        "embed_size=64\n",
        "osize=NCHAR\n",
        "\n",
        "# \n",
        "model = Sequential()\n",
        "model.add(Embedding(input_dim=isize, output_dim=embed_size,input_length=seqlen))\n",
        "model.add(LSTM(128,return_sequences=True,activation='tanh'))\n",
        "model.add(LSTM(128,return_sequences=True,activation='tanh'))\n",
        "model.add(TimeDistributed(Dense(osize, activation='softmax')));\n",
        "#\n",
        "# \n",
        "model.compile(loss='sparse_categorical_crossentropy', optimizer='rmsprop', metrics=[perplexity])\n",
        "print(model.summary())"
      ],
      "execution_count": 0,
      "outputs": []
    },
    {
      "cell_type": "markdown",
      "metadata": {
        "id": "u8eDh2Xyq7gi",
        "colab_type": "text"
      },
      "source": [
        "(f) train model"
      ]
    },
    {
      "cell_type": "code",
      "metadata": {
        "id": "w5QL8nhOq-2o",
        "colab_type": "code",
        "colab": {}
      },
      "source": [
        "# \n",
        "history=model.fit(Xtrain,ytrain, batch_size=64, validation_data=(Xtest,ytest), epochs=100)\n"
      ],
      "execution_count": 0,
      "outputs": []
    },
    {
      "cell_type": "markdown",
      "metadata": {
        "id": "pW8FHyjEAFiI",
        "colab_type": "text"
      },
      "source": [
        "---\n",
        "(g) Calculate perplexity on test set. Run the code and add comments."
      ]
    },
    {
      "cell_type": "code",
      "metadata": {
        "id": "oj2m4HNmAODX",
        "colab_type": "code",
        "colab": {}
      },
      "source": [
        "import math\n",
        "\n",
        "# \n",
        "ypred=model.predict(Xtest)\n",
        "\n",
        "# \n",
        "nseq=ypred.shape[0]\n",
        "seqlen=ypred.shape[1]\n",
        "ypred=np.reshape(ypred,(nseq*seqlen,ypred.shape[2]));\n",
        "\n",
        "# \n",
        "ytest_seq=np.reshape(ytest,(nseq*seqlen,1))\n",
        "\n",
        "# \n",
        "probs=[]\n",
        "for i in range(ytest_seq.shape[0]):\n",
        "  probs.append(ypred[i,int(ytest_seq[i])])\n",
        "\n",
        "# \n",
        "meanprob=np.mean(probs)\n",
        "entropy=np.mean(-np.log(probs))\n",
        "print(meanprob,entropy,math.exp(entropy))"
      ],
      "execution_count": 0,
      "outputs": []
    },
    {
      "cell_type": "markdown",
      "metadata": {
        "id": "YceLFtXlIPbx",
        "colab_type": "text"
      },
      "source": [
        "---\n",
        "(h) Generate some new text using the language model. Run the code and add comments."
      ]
    },
    {
      "cell_type": "code",
      "metadata": {
        "id": "ZNJroHB0ISXo",
        "colab_type": "code",
        "colab": {}
      },
      "source": [
        "# \n",
        "def sampledist(dist):\n",
        "  thresh=np.random.random()\n",
        "  sum=0\n",
        "  for i in range(len(dist)):\n",
        "    sum += dist[i]\n",
        "    if sum > thresh:\n",
        "      return(i)\n",
        "  return(0)\n",
        "\n",
        "def generate_text(model, start_string, num_generate=1000):\n",
        "  # \n",
        "\n",
        "  # \n",
        "  input_eval = [char_to_int[s] for s in start_string]\n",
        "  input_eval = pad_sequences([input_eval],maxlen=100,padding='pre',value=0)\n",
        "  input_eval = np.reshape(input_eval,(1,100))\n",
        "\n",
        "  # \n",
        "  text_generated = []\n",
        "\n",
        "  # \n",
        "  model.reset_states()\n",
        "  for i in range(num_generate):\n",
        "    # \n",
        "    predictions = model.predict(input_eval,batch_size=1)\n",
        "\n",
        "    # \n",
        "    cprobabilities=predictions[0][-1,:]\n",
        "\n",
        "    # \n",
        "    predicted_id = sampledist(cprobabilities)\n",
        "  \n",
        "    # \n",
        "    # \n",
        "    input_eval[0,0:99] = input_eval[0,1:100];\n",
        "    input_eval[0,99] = predicted_id;\n",
        "\n",
        "    # \n",
        "    text_generated.append(chars[predicted_id])\n",
        "\n",
        "  return (start_string + ''.join(text_generated))\n",
        "\n",
        "# \n",
        "import textwrap\n",
        "text=generate_text(model, start_string=\"once upon a time \",num_generate=1000)\n",
        "print(textwrap.fill(text,80))"
      ],
      "execution_count": 0,
      "outputs": []
    }
  ]
}