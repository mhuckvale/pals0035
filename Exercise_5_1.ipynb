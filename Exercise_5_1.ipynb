{
  "nbformat": 4,
  "nbformat_minor": 0,
  "metadata": {
    "colab": {
      "name": "Exercise_5_1.ipynb",
      "provenance": [],
      "private_outputs": true,
      "collapsed_sections": [],
      "include_colab_link": true
    },
    "kernelspec": {
      "name": "python3",
      "display_name": "Python 3"
    }
  },
  "cells": [
    {
      "cell_type": "markdown",
      "metadata": {
        "id": "view-in-github",
        "colab_type": "text"
      },
      "source": [
        "<a href=\"https://colab.research.google.com/github/mhuckvale/pals0039/blob/master/Exercise_5_1.ipynb\" target=\"_parent\"><img src=\"https://colab.research.google.com/assets/colab-badge.svg\" alt=\"Open In Colab\"/></a>"
      ]
    },
    {
      "cell_type": "markdown",
      "metadata": {
        "id": "30escY0BvQ9Z",
        "colab_type": "text"
      },
      "source": [
        "[![PALS0039 Logo](https://www.phon.ucl.ac.uk/courses/pals0039/images/pals0039logo.png)](https://www.phon.ucl.ac.uk/courses/pals0039/)\n",
        "\n",
        "#Exercise 5.1 Answers\n",
        "\n",
        "In this exercise, we explore the use WordNet to desribe th meanings of words, their relationships and similarities."
      ]
    },
    {
      "cell_type": "markdown",
      "metadata": {
        "id": "u4jh1hfhAfoX",
        "colab_type": "text"
      },
      "source": [
        "(a) Import WordNet. Run the code and add comments"
      ]
    },
    {
      "cell_type": "code",
      "metadata": {
        "id": "lPXDz_8XvMTF",
        "colab_type": "code",
        "colab": {}
      },
      "source": [
        "# \n",
        "import nltk\n",
        "# \n",
        "nltk.download('wordnet')\n",
        "# \n",
        "from nltk.corpus import wordnet as wn\n"
      ],
      "execution_count": 0,
      "outputs": []
    },
    {
      "cell_type": "markdown",
      "metadata": {
        "id": "4D2looc6Aitf",
        "colab_type": "text"
      },
      "source": [
        "---\n",
        "(b) Research some synsets. Run the code and add comments. Then try out the code with some different words."
      ]
    },
    {
      "cell_type": "code",
      "metadata": {
        "id": "c5F0X4VcvhD3",
        "colab_type": "code",
        "colab": {}
      },
      "source": [
        "# \n",
        "word='car'\n",
        "\n",
        "# \n",
        "syns=wn.synsets(word)\n",
        "\n",
        "# \n",
        "for s in syns:\n",
        "  # \n",
        "  print(s,\":\",s.definition())\n",
        "  # \n",
        "  lemmas=s.lemmas()\n",
        "  print(\"    Lemmas:\" ,lemmas)\n",
        "  # \n",
        "  print(\"    Hypernyms:\",[hyp.name() for hyp in s.hypernyms()])\n",
        "  print(\"    Hyponyms:\",[hyp.name() for hyp in s.hyponyms()])\n",
        "  print(\"    Holonyms:\",[hol.name() for hol in s.part_holonyms()])\n",
        "  print(\"    Meronyms:\",[mer.name() for mer in s.part_meronyms()])\n",
        "\n"
      ],
      "execution_count": 0,
      "outputs": []
    },
    {
      "cell_type": "markdown",
      "metadata": {
        "id": "T1PcRbf8AnX3",
        "colab_type": "text"
      },
      "source": [
        "---\n",
        "(c) Research some word similarities. Run the code and add comments. Then try out similarities between other words."
      ]
    },
    {
      "cell_type": "code",
      "metadata": {
        "id": "0uNZTF4ZyCW-",
        "colab_type": "code",
        "colab": {}
      },
      "source": [
        "# \n",
        "dog = wn.synset('dog.n.01')\n",
        "cat = wn.synset('cat.n.01')\n",
        "hit = wn.synset('hit.v.01')\n",
        "slap = wn.synset('slap.v.01')\n",
        "\n",
        "# \n",
        "print(\"ps(dog:dog)\",dog.path_similarity(dog))\n",
        "print(\"ps(dog:cat)\",dog.path_similarity(cat))\n",
        "print(\"ps(hit:slap)\",hit.path_similarity(slap))\n",
        "\n",
        "# \n",
        "print(\"lch(dog:cat)\",dog.lch_similarity(cat))\n",
        "print(\"lch(hit:slap)\",hit.lch_similarity(slap))\n",
        "\n",
        "#\n",
        "print(\"wup(dog:cat)\",dog.wup_similarity(cat))\n",
        "print(\"wup(hit:slap)\",hit.wup_similarity(slap))\n"
      ],
      "execution_count": 0,
      "outputs": []
    }
  ]
}