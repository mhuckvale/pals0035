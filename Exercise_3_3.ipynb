{
  "nbformat": 4,
  "nbformat_minor": 0,
  "metadata": {
    "colab": {
      "name": "Exercise_3_3.ipynb",
      "provenance": [],
      "private_outputs": true,
      "collapsed_sections": [],
      "include_colab_link": true
    },
    "kernelspec": {
      "name": "python3",
      "display_name": "Python 3"
    }
  },
  "cells": [
    {
      "cell_type": "markdown",
      "metadata": {
        "id": "view-in-github",
        "colab_type": "text"
      },
      "source": [
        "<a href=\"https://colab.research.google.com/github/mhuckvale/pals0039/blob/master/Exercise_3_3.ipynb\" target=\"_parent\"><img src=\"https://colab.research.google.com/assets/colab-badge.svg\" alt=\"Open In Colab\"/></a>"
      ]
    },
    {
      "cell_type": "markdown",
      "metadata": {
        "id": "K9iIFPb3tljn",
        "colab_type": "text"
      },
      "source": [
        "[![PALS0039 Logo](https://www.phon.ucl.ac.uk/courses/pals0039/images/pals0039logo.png)](https://www.phon.ucl.ac.uk/courses/pals0039/)\n",
        "\n",
        "#Exercise 3.3\n",
        "\n",
        "In this exercise we train a network to classify vowels from formant data."
      ]
    },
    {
      "cell_type": "markdown",
      "metadata": {
        "id": "DVukh7MYtnbO",
        "colab_type": "text"
      },
      "source": [
        "(a) Load in vowels data set and prepare for learning. Add comments to explain this code."
      ]
    },
    {
      "cell_type": "code",
      "metadata": {
        "id": "YbGbZU26taor",
        "colab_type": "code",
        "colab": {}
      },
      "source": [
        "# \n",
        "import numpy as np\n",
        "import pandas as pd\n",
        "import matplotlib.pyplot as plt\n",
        "%matplotlib inline\n",
        "%tensorflow_version 2.x\n",
        "from tensorflow.keras.models import Sequential, Model\n",
        "from tensorflow.keras.layers import Dense\n",
        "from tensorflow.keras.optimizers import SGD\n",
        "from tensorflow.keras.utils import to_categorical\n",
        "\n",
        "# \n",
        "df=pd.read_csv(\"https://www.phon.ucl.ac.uk/courses/pals0039/data/vowels.csv\")\n",
        "\n",
        "# \n",
        "df.head()"
      ],
      "execution_count": 0,
      "outputs": []
    },
    {
      "cell_type": "markdown",
      "metadata": {
        "id": "pK-hRoznuFLQ",
        "colab_type": "text"
      },
      "source": [
        "---\n",
        "(b) Convert SEX column to a number. Comment this code."
      ]
    },
    {
      "cell_type": "code",
      "metadata": {
        "id": "uCscBUwRuLCH",
        "colab_type": "code",
        "colab": {}
      },
      "source": [
        "# \n",
        "df[\"SEX\"]=df.SEX.astype('category')\n",
        "# \n",
        "df[\"SEX\"]=df.SEX.cat.codes"
      ],
      "execution_count": 0,
      "outputs": []
    },
    {
      "cell_type": "markdown",
      "metadata": {
        "id": "zn3ciETyucIm",
        "colab_type": "text"
      },
      "source": [
        "---\n",
        "(c) Copy all numbers into numpy array and standardise. Comment his code."
      ]
    },
    {
      "cell_type": "code",
      "metadata": {
        "id": "W5nRPtCnumjm",
        "colab_type": "code",
        "colab": {}
      },
      "source": [
        "#\n",
        "X=np.array(df.iloc[:,3:7])\n",
        "print(X)\n",
        "\n",
        "# \n",
        "for i in range(X.shape[1]):\n",
        "  X[:,i]=(X[:,i]-np.mean(X[:,i]))/np.std(X[:,i])\n",
        "print(X)\n"
      ],
      "execution_count": 0,
      "outputs": []
    },
    {
      "cell_type": "markdown",
      "metadata": {
        "id": "rjl_gZo1v04n",
        "colab_type": "text"
      },
      "source": [
        "---\n",
        "(d) Convert vowels to one hot coding. Comment this code."
      ]
    },
    {
      "cell_type": "code",
      "metadata": {
        "id": "f9sIC-Kwv5AO",
        "colab_type": "code",
        "colab": {}
      },
      "source": [
        "# \n",
        "df[\"VOWEL\"]=df.VOWEL.astype('category')\n",
        "# \n",
        "vowels=df.VOWEL.cat.codes\n",
        "print(vowels[:10])\n",
        "# \n",
        "vowelcode = to_categorical(vowels)\n",
        "print(vowelcode[:10])\n",
        "# \n",
        "nvowel=vowelcode.shape[1]"
      ],
      "execution_count": 0,
      "outputs": []
    },
    {
      "cell_type": "markdown",
      "metadata": {
        "id": "XaactudHypBN",
        "colab_type": "text"
      },
      "source": [
        "---\n",
        "(e) Divide the data into train and test. Comment this code."
      ]
    },
    {
      "cell_type": "code",
      "metadata": {
        "id": "-p67qMATxlnW",
        "colab_type": "code",
        "colab": {}
      },
      "source": [
        "# \n",
        "ntrain=int(0.8*X.shape[0])\n",
        "# \n",
        "indices = np.random.permutation(X.shape[0])\n",
        "# \n",
        "Xtrain,Xtest = X[indices[:ntrain],:], X[indices[ntrain:],:]\n",
        "#\n",
        "ytrain,ytest = vowelcode[indices[:ntrain],:], vowelcode[indices[ntrain:],:]\n"
      ],
      "execution_count": 0,
      "outputs": []
    },
    {
      "cell_type": "markdown",
      "metadata": {
        "id": "4A5F1Ttcw1nP",
        "colab_type": "text"
      },
      "source": [
        "---\n",
        "(f) Build a classifier network with configurable number of inputs and outputs. Comment this code."
      ]
    },
    {
      "cell_type": "code",
      "metadata": {
        "id": "5ZaFcKI4xAM2",
        "colab_type": "code",
        "colab": {}
      },
      "source": [
        "# \n",
        "def build_model(numinput,numhidden,numoutput):\n",
        "  # \n",
        "  model=Sequential()\n",
        "  # \n",
        "  model.add(Dense(numhidden,activation='sigmoid',input_shape=(numinput,),name=\"hidden_layer\"))\n",
        "  # \n",
        "  model.add(Dense(numoutput,activation='softmax',name=\"output_layer\"))\n",
        "  # \n",
        "  sgd=SGD(learning_rate=0.1, momentum=0.9)\n",
        "  # \n",
        "  model.compile(loss='categorical_crossentropy',optimizer=sgd,metrics=[\"accuracy\"])\n",
        "  return model"
      ],
      "execution_count": 0,
      "outputs": []
    },
    {
      "cell_type": "markdown",
      "metadata": {
        "id": "4Hr9M4IvysFU",
        "colab_type": "text"
      },
      "source": [
        "---\n",
        "(g) Train the network. Comment this code."
      ]
    },
    {
      "cell_type": "code",
      "metadata": {
        "id": "YONJ4Z-jy3ll",
        "colab_type": "code",
        "colab": {}
      },
      "source": [
        "# \n",
        "model=build_model(Xtrain.shape[1],32,nvowel);\n",
        "# \n",
        "hist=model.fit(Xtrain,ytrain,validation_data=(Xtest,ytest),epochs=100,batch_size=16,verbose=0)\n",
        "# \n",
        "print(model.evaluate(Xtrain,ytrain,verbose=0))"
      ],
      "execution_count": 0,
      "outputs": []
    },
    {
      "cell_type": "markdown",
      "metadata": {
        "id": "bYZMVEXy23Nt",
        "colab_type": "text"
      },
      "source": [
        "---\n",
        "(h) Plot training curves. Comment this code."
      ]
    },
    {
      "cell_type": "code",
      "metadata": {
        "id": "aR-xDcd7283U",
        "colab_type": "code",
        "colab": {}
      },
      "source": [
        "# \n",
        "plt.figure(figsize=(10,4))\n",
        "# \n",
        "plt.subplot(1,2,1)\n",
        "# \n",
        "plt.plot(hist.history['loss'])\n",
        "plt.plot(hist.history['val_loss'])\n",
        "plt.xlabel(\"Epoch\")\n",
        "plt.ylabel(\"Loss\")\n",
        "plt.legend([\"loss\",\"val_loss\"])\n",
        "# second plot\n",
        "plt.subplot(1,2,2)\n",
        "# \n",
        "plt.plot(hist.history['accuracy'])\n",
        "plt.plot(hist.history['val_accuracy'])\n",
        "plt.xlabel(\"Epoch\")\n",
        "plt.ylabel(\"Accuracy\")\n",
        "plt.legend([\"accuracy\",\"val_accuracy\"])\n",
        "plt.show()"
      ],
      "execution_count": 0,
      "outputs": []
    },
    {
      "cell_type": "markdown",
      "metadata": {
        "id": "dP6fRtoY0ABe",
        "colab_type": "text"
      },
      "source": [
        "---\n",
        "(i) Calculate performance on test data. Comment this code."
      ]
    },
    {
      "cell_type": "code",
      "metadata": {
        "id": "xNhtTzuE0DXl",
        "colab_type": "code",
        "colab": {}
      },
      "source": [
        "#\n",
        "vowelcodepred=model.predict(Xtest)\n",
        "print(vowelcodepred)\n",
        "# \n",
        "voweltrue=np.argmax(ytest,axis=1)\n",
        "print(voweltrue)\n",
        "# \n",
        "vowelpred=np.argmax(vowelcodepred,axis=1)\n",
        "print(vowelpred)\n",
        "# \n",
        "total=ytest.shape[0]\n",
        "# \n",
        "correct=np.sum(voweltrue==vowelpred)\n",
        "print(\"Correct %d/%d (%.1f%%)\" % (correct,total,100.0*correct/total))"
      ],
      "execution_count": 0,
      "outputs": []
    },
    {
      "cell_type": "markdown",
      "metadata": {
        "id": "l7QmdT1GISfh",
        "colab_type": "text"
      },
      "source": [
        "---\n",
        "(j) Experiment with the number of hidden units, the number of training epochs and the optimizer parameters to see their effect on test set performance."
      ]
    }
  ]
}