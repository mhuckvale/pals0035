{
  "nbformat": 4,
  "nbformat_minor": 0,
  "metadata": {
    "colab": {
      "name": "Answers_3_1.ipynb",
      "provenance": [],
      "private_outputs": true,
      "collapsed_sections": [],
      "include_colab_link": true
    },
    "kernelspec": {
      "name": "python3",
      "display_name": "Python 3"
    }
  },
  "cells": [
    {
      "cell_type": "markdown",
      "metadata": {
        "id": "view-in-github",
        "colab_type": "text"
      },
      "source": [
        "<a href=\"https://colab.research.google.com/github/mhuckvale/pals0039/blob/master/Answers_3_1.ipynb\" target=\"_parent\"><img src=\"https://colab.research.google.com/assets/colab-badge.svg\" alt=\"Open In Colab\"/></a>"
      ]
    },
    {
      "cell_type": "markdown",
      "metadata": {
        "id": "d1dW6Y-FBfg5",
        "colab_type": "text"
      },
      "source": [
        "[PALS0039 Introduction to Deep Learning for Speech and Language Processing](https://www.phon.ucl.ac.uk/courses/pals0039/)\n",
        "\n",
        "#Exercise 3.1 Answers"
      ]
    },
    {
      "cell_type": "markdown",
      "metadata": {
        "id": "Bvndi7vQBqxq",
        "colab_type": "text"
      },
      "source": [
        "(a) set up a simple regression problem"
      ]
    },
    {
      "cell_type": "code",
      "metadata": {
        "id": "SZWU5iE2BfFi",
        "colab_type": "code",
        "colab": {}
      },
      "source": [
        "import numpy as np\n",
        "import matplotlib.pyplot as plt\n",
        "%matplotlib inline\n",
        "\n",
        "#\n",
        "trueslope=4\n",
        "trueintercept=2\n",
        "N=100\n",
        "\n",
        "#\n",
        "x=np.linspace(0,1,N)\n",
        "y=trueintercept+trueslope*x+np.random.normal(size=N)\n",
        "\n",
        "#\n",
        "plt.plot(x,y,'bo')\n",
        "plt.show()\n"
      ],
      "execution_count": 0,
      "outputs": []
    },
    {
      "cell_type": "markdown",
      "metadata": {
        "id": "-CRvLrn_B5pQ",
        "colab_type": "text"
      },
      "source": [
        "(b) define a loss function"
      ]
    },
    {
      "cell_type": "code",
      "metadata": {
        "id": "-VDM9s2CB-iA",
        "colab_type": "code",
        "colab": {}
      },
      "source": [
        "def loss(ytrue,ypred):\n",
        "  return np.sqrt(np.mean(np.square(np.subtract(ypred,ytrue))))\n"
      ],
      "execution_count": 0,
      "outputs": []
    },
    {
      "cell_type": "markdown",
      "metadata": {
        "id": "r-gmFZOgCEng",
        "colab_type": "text"
      },
      "source": [
        "(c) set up a single neuron with input weight W and bias B"
      ]
    },
    {
      "cell_type": "code",
      "metadata": {
        "id": "drsbAMdyCQFw",
        "colab_type": "code",
        "colab": {}
      },
      "source": [
        "def neuron(W,B,x):\n",
        "  return B+W*x\n",
        "\n"
      ],
      "execution_count": 0,
      "outputs": []
    },
    {
      "cell_type": "markdown",
      "metadata": {
        "id": "cVXdGuy2C-iE",
        "colab_type": "text"
      },
      "source": [
        "(d) calculate gradients given weights and loss"
      ]
    },
    {
      "cell_type": "code",
      "metadata": {
        "id": "z7WGJlWODJxf",
        "colab_type": "code",
        "colab": {}
      },
      "source": [
        "def gradients(x,y,ypred):\n",
        "  deltaW=np.mean(-x*(ypred-y))\n",
        "  deltaB=np.mean(-(ypred-y))\n",
        "  return deltaW,deltaB"
      ],
      "execution_count": 0,
      "outputs": []
    },
    {
      "cell_type": "markdown",
      "metadata": {
        "id": "vCwvgp-zDfK_",
        "colab_type": "text"
      },
      "source": [
        "(e) fit"
      ]
    },
    {
      "cell_type": "code",
      "metadata": {
        "id": "6F-LQ5eUDlo3",
        "colab_type": "code",
        "colab": {}
      },
      "source": [
        "W=np.random.normal(0.0,0.1)\n",
        "B=np.random.normal(0.0,0.1)\n",
        "print(W,B)\n",
        "\n",
        "learnrate=0.5\n",
        "for epoch in range(1,50):\n",
        "  ypred=neuron(W,B,x)\n",
        "  err=loss(y,ypred)\n",
        "  print(epoch,err)\n",
        "  deltaW,deltaB=gradients(x,y,ypred)\n",
        "  W += learnrate*deltaW\n",
        "  B += learnrate*deltaB\n",
        "\n",
        "poly=np.polyfit(x,y,1)\n",
        "ypoly=np.polyval(poly,x)\n",
        "#\n",
        "plt.plot(x,y,'bo')\n",
        "plt.plot(x,ypred,'r-')\n",
        "plt.plot(x,ypoly,'g:')\n",
        "plt.show()\n"
      ],
      "execution_count": 0,
      "outputs": []
    }
  ]
}