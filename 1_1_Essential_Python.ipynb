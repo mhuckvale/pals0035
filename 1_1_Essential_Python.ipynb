{
  "nbformat": 4,
  "nbformat_minor": 0,
  "metadata": {
    "colab": {
      "name": "1.1 Essential Python.ipynb",
      "version": "0.3.2",
      "provenance": [],
      "collapsed_sections": [],
      "include_colab_link": true
    },
    "kernelspec": {
      "name": "python3",
      "display_name": "Python 3"
    }
  },
  "cells": [
    {
      "cell_type": "markdown",
      "metadata": {
        "id": "view-in-github",
        "colab_type": "text"
      },
      "source": [
        "<a href=\"https://colab.research.google.com/github/mhuckvale/pals0035/blob/master/1_1_Essential_Python.ipynb\" target=\"_parent\"><img src=\"https://colab.research.google.com/assets/colab-badge.svg\" alt=\"Open In Colab\"/></a>"
      ]
    },
    {
      "metadata": {
        "id": "V00uYktcm7SF",
        "colab_type": "code",
        "colab": {}
      },
      "cell_type": "code",
      "source": [
        ""
      ],
      "execution_count": 0,
      "outputs": []
    },
    {
      "metadata": {
        "id": "sVuP4tyKm79J",
        "colab_type": "text"
      },
      "cell_type": "markdown",
      "source": [
        "# PALS0035 - 1.1 Essential Python\n",
        "A brief introduction to the essentials of programming in Python.\n"
      ]
    },
    {
      "metadata": {
        "id": "5w-d-8ZmnS_p",
        "colab_type": "text"
      },
      "cell_type": "markdown",
      "source": [
        "## Types\n",
        "\n",
        "The basic types in Python are integers, floats, strings and booleans.\n",
        "<p>Integers: 2, 25, -13, 1e9\n",
        "<p>Floats: 1.2, 0.0001, -3.4, 1.5e-10\n",
        "<p>Strings: \"hello\", \"this is a string\", \"iːvən juːnɪkəʊd\"\n",
        "<p>Booleans: True, False"
      ]
    },
    {
      "metadata": {
        "id": "zIRKbVXjonmP",
        "colab_type": "text"
      },
      "cell_type": "markdown",
      "source": [
        "## Print statement\n",
        "You can display values with the print() statement. Separate values with commas.\n",
        "<p>The type() function will report the type of the expression."
      ]
    },
    {
      "metadata": {
        "id": "qxn0LD-Bo88d",
        "colab_type": "code",
        "colab": {
          "base_uri": "https://localhost:8080/",
          "height": 51
        },
        "outputId": "cd3bbd84-1afc-46da-beac-9e4d2d0e1a3a"
      },
      "cell_type": "code",
      "source": [
        "print(2,1.2,\"hello\",True)\n",
        "print(type(2),type(1.2),type(\"hello\"),type(True))"
      ],
      "execution_count": 5,
      "outputs": [
        {
          "output_type": "stream",
          "text": [
            "2 1.2 hello True\n",
            "<class 'int'> <class 'float'> <class 'str'> <class 'bool'>\n"
          ],
          "name": "stdout"
        }
      ]
    },
    {
      "metadata": {
        "id": "ToC9PMYtqfpD",
        "colab_type": "text"
      },
      "cell_type": "markdown",
      "source": [
        "## Expressions\n",
        "The basic types can be combined into expressions with the following operators:\n",
        "<table>\n",
        "  <tr><th>Operator</th><th>Example</th><th>Operation</th></tr>\n",
        "  <tr><td>+</td><td>3+4</td><td>Addition</td></tr>\n",
        "  <tr><td>-</td><td>-5</td><td>Negation</td></tr>\n",
        "  <tr><td>-</td><td>5-3</td><td>Subtraction</td></tr>\n",
        "  <tr><td>\\*</td><td>3\\*4</td><td>Multiplication</td></tr>\n",
        "  <tr><td>/</td><td>3/4</td><td>Division (float result)</td></tr>\n",
        "  <tr><td>/</td><td>12//4</td><td>Division (int result)</td></tr>\n",
        "  <tr><td>//</td><td>10%4</td><td>Modulus (int result)</td></tr>\n",
        "  <tr><td>\\*\\*</td><td>2\\*\\*8</td><td>Exponentiation (float result)</td></tr>  \n",
        "</table>\n"
      ]
    },
    {
      "metadata": {
        "id": "yJf4yaw9rkli",
        "colab_type": "code",
        "colab": {
          "base_uri": "https://localhost:8080/",
          "height": 34
        },
        "outputId": "33139c1a-93fd-4f82-a25f-c057614ee8a4"
      },
      "cell_type": "code",
      "source": [
        "print(3+4,-5,5-3,3*4,3/4,12//4,10%4,2**8)"
      ],
      "execution_count": 6,
      "outputs": [
        {
          "output_type": "stream",
          "text": [
            "7 -5 2 12 0.75 3 2 256\n"
          ],
          "name": "stdout"
        }
      ]
    },
    {
      "metadata": {
        "id": "YQ8YSEkPp28k",
        "colab_type": "text"
      },
      "cell_type": "markdown",
      "source": [
        "## Variables\n",
        "Variables are named storage locations for values. Variable names consist of alphanumeric characters and underscore, but may not start with a digit.\n",
        "<p>The assignment statement causes a named variable to contain the value of an expression:\n",
        "<p>Variable = Expression\n",
        "    "
      ]
    }
  ]
}