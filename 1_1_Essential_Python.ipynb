{
  "nbformat": 4,
  "nbformat_minor": 0,
  "metadata": {
    "colab": {
      "name": "1.1 Essential Python.ipynb",
      "version": "0.3.2",
      "provenance": [],
      "collapsed_sections": [],
      "include_colab_link": true
    },
    "kernelspec": {
      "name": "python3",
      "display_name": "Python 3"
    }
  },
  "cells": [
    {
      "cell_type": "markdown",
      "metadata": {
        "id": "view-in-github",
        "colab_type": "text"
      },
      "source": [
        "<a href=\"https://colab.research.google.com/github/mhuckvale/pals0035/blob/master/1_1_Essential_Python.ipynb\" target=\"_parent\"><img src=\"https://colab.research.google.com/assets/colab-badge.svg\" alt=\"Open In Colab\"/></a>"
      ]
    },
    {
      "metadata": {
        "id": "sVuP4tyKm79J",
        "colab_type": "text"
      },
      "cell_type": "markdown",
      "source": [
        "# PALS0035 - 1.1 Essential Python\n",
        "A brief introduction to the essentials of programming in Python.\n"
      ]
    },
    {
      "metadata": {
        "id": "5w-d-8ZmnS_p",
        "colab_type": "text"
      },
      "cell_type": "markdown",
      "source": [
        "## Types\n",
        "\n",
        "The basic types in Python are integers, floats, strings and booleans.\n",
        "<p>Integers: `2, 25, -13, 1000000`\n",
        "<p>Floats: `1.2, 0.0001, -3.4, 1.5e-10`\n",
        "<p>Strings: `\"hello\", \"this is a string\", \"iːvən juːnɪkəʊd\", 'single quotes are also OK', \"can't\"`\n",
        "<p>Booleans: `True, False`"
      ]
    },
    {
      "metadata": {
        "id": "zIRKbVXjonmP",
        "colab_type": "text"
      },
      "cell_type": "markdown",
      "source": [
        "## Print statement\n",
        "You can display values with the print() statement. Separate values with commas.\n",
        "<p>The type() function will report the type of the expression."
      ]
    },
    {
      "metadata": {
        "id": "qxn0LD-Bo88d",
        "colab_type": "code",
        "colab": {
          "base_uri": "https://localhost:8080/",
          "height": 51
        },
        "outputId": "cd3bbd84-1afc-46da-beac-9e4d2d0e1a3a"
      },
      "cell_type": "code",
      "source": [
        "print(2,1.2,\"hello\",True)\n",
        "print(type(2),type(1.2),type(\"hello\"),type(True))"
      ],
      "execution_count": 5,
      "outputs": [
        {
          "output_type": "stream",
          "text": [
            "2 1.2 hello True\n",
            "<class 'int'> <class 'float'> <class 'str'> <class 'bool'>\n"
          ],
          "name": "stdout"
        }
      ]
    },
    {
      "metadata": {
        "id": "ToC9PMYtqfpD",
        "colab_type": "text"
      },
      "cell_type": "markdown",
      "source": [
        "## Expressions\n",
        "The basic types can be combined into expressions with the following operators:\n",
        "<table>\n",
        "  <tr><th>Operator</th><th>Example</th><th>Operation</th></tr>\n",
        "  <tr><td>+</td><td>`3+4`</td><td>Addition</td></tr>\n",
        "  <tr><td>-</td><td>`-5`</td><td>Negation</td></tr>\n",
        "  <tr><td>-</td><td>`5-3`</td><td>Subtraction</td></tr>\n",
        "  <tr><td>\\*</td><td>`3*4`</td><td>Multiplication</td></tr>\n",
        "  <tr><td>/</td><td>`12/4`</td><td>Division (float result)</td></tr>\n",
        "  <tr><td>//</td><td>`12//4`</td><td>Division (int result)</td></tr>\n",
        "  <tr><td>%</td><td>`10%4`</td><td>Modulus (int result)</td></tr>\n",
        "  <tr><td>\\*\\*</td><td>`2**8`</td><td>Exponentiation (float result)</td></tr>  \n",
        "  <tr><td>+</td><td>`\"Hello \"+\"world!\"`</td><td>String concatenation (string result)</td></tr>\n",
        "</table>\n",
        "<p>The following operators create a boolean result\n",
        "<table>\n",
        "  <tr><th>Operator</th><th>Example</th><th>Operation</th></tr>\n",
        "  <tr><td>&lt;</td><td>`3<4`</td><td>Less than</td></tr>\n",
        "  <tr><td>&lt;=</td><td>`3<=4`</td><td>Less than or equal</td></tr>\n",
        "  <tr><td>==</td><td>`3==4`</td><td>Equal</td></tr>\n",
        "  <tr><td>!=</td><td>`3!=4`</td><td>Not equal</td></tr>\n",
        "  <tr><td>&gt;=</td><td>`3>=4`</td><td>Greater than or equal</td></tr>\n",
        "  <tr><td>&gt;</td><td>`3>4`</td><td>Greater than</td></tr>\n",
        "  <tr><td>and</td><td>`0<3 and 3<5`</td><td>Logical and</td></tr>\n",
        "  <tr><td>or</td><td>`0<3 or 3<5`</td><td>Logical or</td></tr>\n",
        "  <tr><td>not</td><td>`not True`</td><td>Logical not</td></tr>\n",
        "</table>\n",
        " <p>Parentheses may be used to control order of evaluation in complex expressions:\n",
        " <p>`2+3*4` vs `(2+3)*4`\n",
        "   "
      ]
    },
    {
      "metadata": {
        "id": "yJf4yaw9rkli",
        "colab_type": "code",
        "colab": {
          "base_uri": "https://localhost:8080/",
          "height": 68
        },
        "outputId": "ed3fa8aa-1011-4833-9097-028671aae7de"
      },
      "cell_type": "code",
      "source": [
        "print(3+4,-5,5-3,3*4,12/4,12//4,10%4,2**8,\"Hello_\"+\"world!\")\n",
        "print(3<4,3<=4,3==4,3!=4,3>=4,3>4,0<3 and 3<5,0<3 or 3<5,not True)\n",
        "print(2+3*4,(2+3)*4)"
      ],
      "execution_count": 12,
      "outputs": [
        {
          "output_type": "stream",
          "text": [
            "7 -5 2 12 3.0 3 2 256 Hello_world!\n",
            "True True False True False False True True False\n",
            "14 20\n"
          ],
          "name": "stdout"
        }
      ]
    },
    {
      "metadata": {
        "id": "YQ8YSEkPp28k",
        "colab_type": "text"
      },
      "cell_type": "markdown",
      "source": [
        "## Variables\n",
        "Variables are named storage locations for values. Variable names may consist of alphanumeric characters and underscore, but may not start with a digit. Case is significant. Legal: a, b27, aardvark, apple_pie, someVeryLongNameWithMixedCase. Illegal: e$, 1a, big name.\n",
        "<p>The assignment statement causes a named variable to contain the value of an expression:\n",
        "<p>`Variable = Expression`\n",
        "    "
      ]
    },
    {
      "metadata": {
        "id": "6euuogIJt7Me",
        "colab_type": "code",
        "colab": {
          "base_uri": "https://localhost:8080/",
          "height": 34
        },
        "outputId": "ecbc052f-fb35-47b6-b966-a58f99b7be66"
      },
      "cell_type": "code",
      "source": [
        "ivar=23*10\n",
        "fvar=13/10\n",
        "bvar=2<4\n",
        "svar=\"abcd\"+\"efgh\"\n",
        "print(ivar,fvar,bvar,svar)"
      ],
      "execution_count": 14,
      "outputs": [
        {
          "output_type": "stream",
          "text": [
            "230 1.3 True abcdefgh\n"
          ],
          "name": "stdout"
        }
      ]
    },
    {
      "metadata": {
        "id": "tPMN3iYRyqkx",
        "colab_type": "text"
      },
      "cell_type": "markdown",
      "source": [
        "## Lists\n",
        "A list of values of arbitrary length can be created using the square bracket operator:\n",
        "<p>`mylist=[100,\"Mark\",True,3.14159]`\n",
        "<p>Note that elements in the list can be of any type.\n",
        "<p>Elements in the list can be indexed by integers, with first=index 0.\n",
        "<p>`element=mylist[1]`\n",
        "<p>Lists are mutable and can be extended and shortened\n",
        "<p>`mylist[1]=\"Fred\"`\n",
        "<p>`mylist.append(\"new value\")`\n",
        "<p>`del mylist[2]`\n",
        "  "
      ]
    },
    {
      "metadata": {
        "id": "dYDszCC0z-U_",
        "colab_type": "code",
        "colab": {
          "base_uri": "https://localhost:8080/",
          "height": 102
        },
        "outputId": "1cd3612f-9291-400d-b986-fb63adaae8e2"
      },
      "cell_type": "code",
      "source": [
        "mylist=[100,\"Mark\",True,3.14159]\n",
        "print(mylist)\n",
        "element=mylist[1]\n",
        "print(element)\n",
        "mylist[1]=\"Fred\"\n",
        "print(mylist)\n",
        "mylist.append(\"new value\")\n",
        "print(mylist)\n",
        "del mylist[2]\n",
        "print(mylist)"
      ],
      "execution_count": 15,
      "outputs": [
        {
          "output_type": "stream",
          "text": [
            "[100, 'Mark', True, 3.14159]\n",
            "Mark\n",
            "[100, 'Fred', True, 3.14159]\n",
            "[100, 'Fred', True, 3.14159, 'new value']\n",
            "[100, 'Fred', 3.14159, 'new value']\n"
          ],
          "name": "stdout"
        }
      ]
    },
    {
      "metadata": {
        "id": "eaZdNrMA0dt3",
        "colab_type": "text"
      },
      "cell_type": "markdown",
      "source": [
        "## Dictionaries\n",
        "Dictionaries are lists in which the individual elements are indexed by name rather than by an integer:\n",
        "<p>`mydict={'firstname':\"Mark\",'employed':True,'height':1.8 }`\n",
        "<p>Individual elements may be accessed using the square brackets operator\n",
        " <p>`element=mydict[\"employed\"]`\n",
        "<p>Dictionaries are mutable and can be extended and shortened:\n",
        "<p>`mydict['status']=\"academic\"`\n",
        "<p>`del mydict[\"height\"]`\n",
        "   "
      ]
    },
    {
      "metadata": {
        "id": "lTtAlNZ018JE",
        "colab_type": "code",
        "colab": {
          "base_uri": "https://localhost:8080/",
          "height": 85
        },
        "outputId": "bbd17df6-e6fd-47a7-e1d3-1058c35d2372"
      },
      "cell_type": "code",
      "source": [
        "mydict={'firstname':\"Mark\",'employed':True,'height':1.8 }\n",
        "print(mydict)\n",
        "element=mydict[\"employed\"]\n",
        "print(element)\n",
        "mydict['status']=\"academic\"\n",
        "print(mydict)\n",
        "del mydict[\"height\"]\n",
        "print(mydict)"
      ],
      "execution_count": 21,
      "outputs": [
        {
          "output_type": "stream",
          "text": [
            "{'firstname': 'Mark', 'employed': True, 'height': 1.8}\n",
            "True\n",
            "{'firstname': 'Mark', 'employed': True, 'height': 1.8, 'status': 'academic'}\n",
            "{'firstname': 'Mark', 'employed': True, 'status': 'academic'}\n"
          ],
          "name": "stdout"
        }
      ]
    },
    {
      "metadata": {
        "id": "S1MYsQFd30cb",
        "colab_type": "text"
      },
      "cell_type": "markdown",
      "source": [
        "## Conditional statements\n",
        "Conditional control statements allow different blocks of statements to be executed depending on the truth value of a boolean expression.\n",
        "<p>The basic structure of a conditional statement is:\n",
        "  <ul>if &lt;boolean expression>:\n",
        "    <ul>&lt;statements to be executed only if expression is true></ul>\n",
        "  </ul>\n",
        "<p>For example:\n",
        "```\n",
        "if val > 100:\n",
        "    print(\"warning: value is too big\")\n",
        "    val=100\n",
        "```\n",
        "<p>Note that all statements in the conditional block must be indented to the same level.\n",
        "<p>A choice between two action can be performed with the `else` statement:\n",
        "```\n",
        "if val > 100:\n",
        "    print(\"warning: value is too big\")\n",
        "    val=100\n",
        "else:\n",
        "    print(\"value is OK\")\n",
        "```\n",
        "<p>Conditional statements can be chained with the `elif` statement:\n",
        "```\n",
        "if val > 100:\n",
        "    print(\"warning: value is too big\")\n",
        "    val=100\n",
        "elif val < 0:\n",
        "    print(\"warning: value is too small\")\n",
        "    val=0\n",
        "else:\n",
        "    print(\"value is OK\")\n",
        "```\n",
        "  \n",
        "\n",
        "\n",
        "  \n",
        "  "
      ]
    },
    {
      "metadata": {
        "id": "nB0jIHsqX6Su",
        "colab_type": "code",
        "colab": {
          "base_uri": "https://localhost:8080/",
          "height": 68
        },
        "outputId": "b385ee0e-0018-44b5-8c7e-0833079d2edc"
      },
      "cell_type": "code",
      "source": [
        "val=int(input(\"Type a number: \"))\n",
        "if val > 100:\n",
        "    print(\"warning: value is too big\")\n",
        "    val=100\n",
        "elif val < 0:\n",
        "    print(\"warning: value is too small\")\n",
        "    val=0\n",
        "else:\n",
        "    print(\"value is OK\")\n",
        "print(\"value=\",val)"
      ],
      "execution_count": 27,
      "outputs": [
        {
          "output_type": "stream",
          "text": [
            "Type a number: 23\n",
            "value is OK\n",
            "value= 23\n"
          ],
          "name": "stdout"
        }
      ]
    },
    {
      "metadata": {
        "id": "WWmQASHQ35Nh",
        "colab_type": "text"
      },
      "cell_type": "markdown",
      "source": [
        "## Looping statements\n",
        "Looping statements allow blocks of statements to be executed repetitively.\n",
        "<p>The `while` statement executes some block of statements as long as some conditional expression evaluates as true.\n",
        "<p>The basic structure of the `while` statement is:\n",
        "<p>while &lt;boolean expression>:\n",
        "<ul>&lt;statements to be repeated>\n",
        "</ul>\n",
        "<p>For example:\n",
        "```\n",
        "val=1\n",
        "while val <= 10:\n",
        "    print(val)\n",
        "    val=val+1\n",
        "```\n",
        "<p>Note that the program will loop indefinitely if the boolean expression never becomes false.\n"
      ]
    },
    {
      "metadata": {
        "id": "-vfDmYwnbwoJ",
        "colab_type": "code",
        "colab": {
          "base_uri": "https://localhost:8080/",
          "height": 187
        },
        "outputId": "72615a3b-a538-4651-b54d-ab157a7b7f66"
      },
      "cell_type": "code",
      "source": [
        "val=1\n",
        "while val <= 10:\n",
        "    print(val)\n",
        "    val=val+1"
      ],
      "execution_count": 28,
      "outputs": [
        {
          "output_type": "stream",
          "text": [
            "1\n",
            "2\n",
            "3\n",
            "4\n",
            "5\n",
            "6\n",
            "7\n",
            "8\n",
            "9\n",
            "10\n"
          ],
          "name": "stdout"
        }
      ]
    },
    {
      "metadata": {
        "id": "HbMlXY2dsDrb",
        "colab_type": "text"
      },
      "cell_type": "markdown",
      "source": [
        "The `for` statement executes a block of statements for some given range of values.\n",
        "<p>The basic structure of the `for` statement is:\n",
        "<p>for &lt;variable> in &lt;range>:\n",
        "<ul>&lt;statements to be repeated>\n",
        "</ul>\n",
        "<p>The range can be specified in terms of a range of integers, or in terms of all items in a list or dictionary.\n",
        "<p>To loop over a given range of integers, use the built-in function `range`:\n",
        "```\n",
        "for val in range(1,11):\n",
        "    print(val)\n",
        "```\n",
        "<p>The function `range(start,stop,incr)` generates a sequence of integers from `start` in steps of `incr` ending when the sequence is greater than or equal to `stop`. If not specified, the default value of `start` is 0, and the default value of `incr` is 1.\n",
        "<p>To loop over all values in a list:\n",
        "```\n",
        "list=[\"M\",\"N\",\"O\",\"P\"]\n",
        "for ch in list:\n",
        "    print(ch)\n",
        "```"
      ]
    },
    {
      "metadata": {
        "id": "TT3LLSSGtR3p",
        "colab_type": "code",
        "colab": {
          "base_uri": "https://localhost:8080/",
          "height": 272
        },
        "outputId": "157002cc-b86f-423f-e66f-0982a0a517f8"
      },
      "cell_type": "code",
      "source": [
        "for val in range(1,11):\n",
        "    print(val)\n",
        "\n",
        "list=[\"M\",\"N\",\"O\",\"P\"]\n",
        "for ch in list:\n",
        "    print(ch)"
      ],
      "execution_count": 29,
      "outputs": [
        {
          "output_type": "stream",
          "text": [
            "0\n",
            "1\n",
            "2\n",
            "3\n",
            "4\n",
            "5\n",
            "6\n",
            "7\n",
            "8\n",
            "9\n",
            "10\n",
            "M\n",
            "N\n",
            "O\n",
            "P\n"
          ],
          "name": "stdout"
        }
      ]
    },
    {
      "metadata": {
        "id": "CDmAf0Ui4AqC",
        "colab_type": "text"
      },
      "cell_type": "markdown",
      "source": [
        "## Function definitions and calls"
      ]
    },
    {
      "metadata": {
        "id": "H_H0C5xXVMfS",
        "colab_type": "text"
      },
      "cell_type": "markdown",
      "source": [
        "## Built-in functions"
      ]
    },
    {
      "metadata": {
        "id": "-AmTkINTVQ5h",
        "colab_type": "text"
      },
      "cell_type": "markdown",
      "source": [
        "## Importing modules\n"
      ]
    }
  ]
}