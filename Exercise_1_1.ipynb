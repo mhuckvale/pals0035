{
  "nbformat": 4,
  "nbformat_minor": 0,
  "metadata": {
    "colab": {
      "name": "Exercise_1.1.ipynb",
      "private_outputs": true,
      "provenance": [],
      "collapsed_sections": [],
      "include_colab_link": true
    },
    "kernelspec": {
      "name": "python3",
      "display_name": "Python 3"
    }
  },
  "cells": [
    {
      "cell_type": "markdown",
      "metadata": {
        "id": "view-in-github",
        "colab_type": "text"
      },
      "source": [
        "<a href=\"https://colab.research.google.com/github/mhuckvale/pals0039/blob/master/Exercise_1_1.ipynb\" target=\"_parent\"><img src=\"https://colab.research.google.com/assets/colab-badge.svg\" alt=\"Open In Colab\"/></a>"
      ]
    },
    {
      "cell_type": "markdown",
      "metadata": {
        "id": "sDmP53D5EKCo"
      },
      "source": [
        "[![PALS0039 Logo](https://www.phon.ucl.ac.uk/courses/pals0039/images/pals0039logo.png)](https://www.phon.ucl.ac.uk/courses/pals0039/)\n",
        "\n",
        "#Exercise 1.1 Python Practice\n",
        "\n",
        "In this exercise we practise writing some Python code to implement some simple functions.\n"
      ]
    },
    {
      "cell_type": "markdown",
      "metadata": {
        "id": "ILmuz5PHEeqD"
      },
      "source": [
        "(a) Write a function that returns the Greatest Common Divisor of two integers and test it out with some examples, for instance:\n",
        "\n",
        "*   GCD(50,15) => 5\n",
        "*   GCD(80,256) => 16\n",
        "\n",
        "[Euclid's algorithm](https://en.wikipedia.org/wiki/Euclidean_algorithm) for finding the GCD of two integers greater than zero is as follows:\n",
        "* if a equals b, the answer is a\n",
        "* if a is bigger than b the answer is the GCD of a-b and b\n",
        "* if b is bigger than a the answer is the GCD of a and b-a\n",
        "\n",
        "**Hint:** \n",
        "You will want to define a function **GCD(a,b)** that tests the value of **a** compared to **b** and returns one of three values."
      ]
    },
    {
      "cell_type": "code",
      "metadata": {
        "id": "4jR4AlMXEJb9"
      },
      "source": [
        ""
      ],
      "execution_count": null,
      "outputs": []
    },
    {
      "cell_type": "markdown",
      "metadata": {
        "id": "A9z5nsWXILBu"
      },
      "source": [
        "---\n",
        "(b) Write a function that tests whether an integer is prime (has no factors \n",
        "other than itself and 1). Test the function by printing all the primes less than 1000.\n",
        "\n",
        "[A number is prime](https://en.wikipedia.org/wiki/Primality_test) if there are no numbers greater than 1 and less than or equal to the square root of the number that divide into the number without a remainder.\n",
        "\n",
        "**Hint:** You will want to define a function **isprime(n)** that tests whether any integers greater than 1 but smaller than **n** divide into it with no remainder. The Python operator **%** gives you the remainder after division. You can use a **for** loop to print all the primes up to 1000."
      ]
    },
    {
      "cell_type": "code",
      "metadata": {
        "id": "Hi1ev_AtIIyn"
      },
      "source": [
        ""
      ],
      "execution_count": null,
      "outputs": []
    },
    {
      "cell_type": "markdown",
      "metadata": {
        "id": "NirKqAKQJqIn"
      },
      "source": [
        "---\n",
        "(c) Write a program that inputs a string from the user then splits the string into separate words. Print out the separate words in normal order, in reverse order and in sorted order.\n",
        "\n",
        "**Hint:** The **input()** function will read a string from the keyboard. The string method **split()** will divide a string at instances of a separator character. The array slicing notation can be used to select sections of the array of words. You will find additional help in the documentation of the [Python string class](https://docs.python.org/3.5/library/stdtypes.html#string-methods)."
      ]
    },
    {
      "cell_type": "code",
      "metadata": {
        "id": "nL5xbqTTKJut"
      },
      "source": [
        ""
      ],
      "execution_count": null,
      "outputs": []
    },
    {
      "cell_type": "markdown",
      "metadata": {
        "id": "_2ENx7w-MIxO"
      },
      "source": [
        "---\n",
        "(d) Write a program that inputs a string from the user, splits the string into separate words then makes the following substitutions:\n",
        "* I => you\n",
        "* me => you\n",
        "* my => your\n",
        "* mine => yours\n",
        "* . => ?\n",
        "\n",
        "For example:\n",
        "* input: \"I like my book.\"\n",
        "* output: \"You like your book?\"\n",
        "\n",
        "**Hint:** Once you have the input from the user as an array of words, you can loop through it making substitutions. Then you can combine the array back into a single string with the string **join()** method. You can make substitutions with a chain of **if** statements, but a better way would be to use a dictionary - if a word is a key in the dictionary, then substitute it for the keyed value."
      ]
    },
    {
      "cell_type": "code",
      "metadata": {
        "id": "iR7ENQ_-M-rM"
      },
      "source": [
        ""
      ],
      "execution_count": null,
      "outputs": []
    }
  ]
}