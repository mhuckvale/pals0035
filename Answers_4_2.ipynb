{
  "nbformat": 4,
  "nbformat_minor": 0,
  "metadata": {
    "colab": {
      "name": "Answers_4_2.ipynb",
      "provenance": [],
      "private_outputs": true,
      "collapsed_sections": [],
      "include_colab_link": true
    },
    "kernelspec": {
      "name": "python3",
      "display_name": "Python 3"
    }
  },
  "cells": [
    {
      "cell_type": "markdown",
      "metadata": {
        "id": "view-in-github",
        "colab_type": "text"
      },
      "source": [
        "<a href=\"https://colab.research.google.com/github/mhuckvale/pals0039/blob/master/Answers_4_2.ipynb\" target=\"_parent\"><img src=\"https://colab.research.google.com/assets/colab-badge.svg\" alt=\"Open In Colab\"/></a>"
      ]
    },
    {
      "cell_type": "markdown",
      "metadata": {
        "id": "ba_u4lIeY3lI",
        "colab_type": "text"
      },
      "source": [
        "[![PALS0039 Logo](https://www.phon.ucl.ac.uk/courses/pals0039/images/pals0039logo.png)](https://www.phon.ucl.ac.uk/courses/pals0039/)\n",
        "\n",
        "#Exercise 4.2 Answers"
      ]
    },
    {
      "cell_type": "markdown",
      "metadata": {
        "id": "Qr7p4QeSY3zH",
        "colab_type": "text"
      },
      "source": [
        "(a) implement emotion recogniser"
      ]
    },
    {
      "cell_type": "code",
      "metadata": {
        "id": "Esxxmio6Y2Xh",
        "colab_type": "code",
        "colab": {}
      },
      "source": [
        "# test DNN for emotion recognition\n",
        "#\n",
        "import numpy as np\n",
        "import pandas as pd\n",
        "import matplotlib.pyplot as plt\n",
        "%tensorflow_version 2.x\n",
        "from tensorflow.keras.models import Sequential, Model\n",
        "from tensorflow.keras.layers import Dense\n",
        "#\n",
        "# load a CSV file and divide into feats and labels\n",
        "def LoadCSV(filename,labelname,featcolstart):\n",
        "\tdf=pd.read_csv(filename,sep=',')\n",
        "\tfeats=np.array(df.iloc[:,featcolstart:])\n",
        "\tlabels=pd.Categorical(df[labelname])\n",
        "\tp = np.random.permutation(feats.shape[0])\n",
        "\treturn labels.codes[p],labels.categories,feats[p]\n",
        "#\n",
        "labels,table,feats=LoadCSV(\"https://www.phon.ucl.ac.uk/courses/pals0039/data/emotion.csv\",\"EMOTION\",4);\n",
        "print(labels.shape)\n",
        "print(feats.shape)\n",
        "print(labels[1:10])\n",
        "print(table)\n",
        "values=list(table[x] for x in labels);\n",
        "print(values[1:10]);\n",
        "#\n",
        "isize=feats.shape[1];\n",
        "osize=len(table)\n",
        "print(isize,osize)\n",
        "#\n",
        "model = Sequential()\n",
        "model.add(Dense(64,activation='tanh',input_shape=(isize,)))\n",
        "model.add(Dense(2,activation='linear',name='mapping'));\n",
        "model.add(Dense(osize, activation='softmax'))\n",
        "model.compile(loss='sparse_categorical_crossentropy', optimizer='adam', metrics=['accuracy'])\n",
        "print(model.summary())\n",
        "#\n",
        "model.fit(feats,labels, epochs=10, batch_size=64, validation_split=0.1)\n",
        "#\n",
        "intermediate_layer_model = Model(inputs=model.input,outputs=model.get_layer(\"mapping\").output)\n",
        "intermediate_output = intermediate_layer_model.predict(feats)\n",
        "#\n",
        "print(intermediate_output.shape);\n",
        "print(values[0:20]);\n",
        "print(intermediate_output[0:20,:]);\n",
        "#\n",
        "#'anger', 'disgust', 'fear', 'happiness', 'sadness', 'surprise'\n",
        "colours=['red','brown','green','yellow','grey','blue'];\n",
        "x=intermediate_output[:,0];\n",
        "y=intermediate_output[:,1];\n",
        "cols=list(colours[i] for i in labels);\n",
        "#\n",
        "plt.scatter(x, y, c=cols, s=20, alpha=0.5)\n",
        "\n",
        "for i in range(len(table)):\n",
        "    plt.scatter([], [], c=colours[i], s=20, label=table[i])\n",
        "plt.legend(scatterpoints=1, labelspacing=0.5, title='Emotion')\n",
        "\n",
        "plt.grid(True)\n",
        "plt.title(\"Emotion classification plane\")\n",
        "plt.show()\n",
        "\n"
      ],
      "execution_count": 0,
      "outputs": []
    }
  ]
}