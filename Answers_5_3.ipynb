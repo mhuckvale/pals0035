{
  "nbformat": 4,
  "nbformat_minor": 0,
  "metadata": {
    "colab": {
      "name": "Answers_5_3.ipynb",
      "provenance": [],
      "private_outputs": true,
      "collapsed_sections": [],
      "include_colab_link": true
    },
    "kernelspec": {
      "name": "python3",
      "display_name": "Python 3"
    },
    "accelerator": "GPU"
  },
  "cells": [
    {
      "cell_type": "markdown",
      "metadata": {
        "id": "view-in-github",
        "colab_type": "text"
      },
      "source": [
        "<a href=\"https://colab.research.google.com/github/mhuckvale/pals0039/blob/master/Answers_5_3.ipynb\" target=\"_parent\"><img src=\"https://colab.research.google.com/assets/colab-badge.svg\" alt=\"Open In Colab\"/></a>"
      ]
    },
    {
      "cell_type": "markdown",
      "metadata": {
        "id": "7nJSE0LnQMoJ",
        "colab_type": "text"
      },
      "source": [
        "[![PALS0039 Logo](https://www.phon.ucl.ac.uk/courses/pals0039/images/pals0039logo.png)](https://www.phon.ucl.ac.uk/courses/pals0039/)\n",
        "\n",
        "#Exercise 5.3 Answers"
      ]
    },
    {
      "cell_type": "markdown",
      "metadata": {
        "id": "9crfQ3oVQQl5",
        "colab_type": "text"
      },
      "source": [
        "(a) Load in Glove embeddings"
      ]
    },
    {
      "cell_type": "code",
      "metadata": {
        "id": "dDGInp2gRzVX",
        "colab_type": "code",
        "colab": {}
      },
      "source": [
        "import numpy as np\n",
        "import pandas as pd\n",
        "\n",
        "df=pd.read_csv('https://www.phon.ucl.ac.uk/courses/pals0039/data/glove.6B.100d.zip',header=None)\n",
        "df.rename(columns={0:\"word\"},inplace=True)\n",
        "print(\"Read %d word embeddings of length %d\" % (len(df),len(df.columns)-1))\n",
        "df.head()"
      ],
      "execution_count": 0,
      "outputs": []
    },
    {
      "cell_type": "markdown",
      "metadata": {
        "id": "9OaTVoDXUfsG",
        "colab_type": "text"
      },
      "source": [
        "(b) Build a look-up dictionary"
      ]
    },
    {
      "cell_type": "code",
      "metadata": {
        "id": "O5JQNXS9Ue3d",
        "colab_type": "code",
        "colab": {}
      },
      "source": [
        "word_index={}\n",
        "for i,word in enumerate(df.word):\n",
        "  word_index[word]=i\n",
        "\n",
        "print(\"#words\",len(word_index))\n",
        "print(word_index['the'],word_index['white'],word_index['cat'])\n",
        "print(df.word[word_index['the']],df.word[word_index['white']],df.word[word_index['cat']])\n",
        "\n",
        "word_embed=np.array(df.iloc[:,1:])"
      ],
      "execution_count": 0,
      "outputs": []
    },
    {
      "cell_type": "markdown",
      "metadata": {
        "id": "uKiSkGJoWJUt",
        "colab_type": "text"
      },
      "source": [
        "(c) Compute word similarities"
      ]
    },
    {
      "cell_type": "code",
      "metadata": {
        "id": "QTTUDOSgUHD4",
        "colab_type": "code",
        "colab": {}
      },
      "source": [
        "def get_vector(word):\n",
        "  vec=word_embed[word_index[word],:]\n",
        "  #print(word,vec[:10])\n",
        "  return vec\n",
        "\n",
        "def similarity(a,b):\n",
        "  dot = np.dot(a, b)\n",
        "  norma = np.linalg.norm(a)\n",
        "  normb = np.linalg.norm(b)\n",
        "  return dot / (norma * normb)\n",
        "\n",
        "def word_similarity(a,b):\n",
        "  return similarity(get_vector(a),get_vector(b))\n",
        "\n",
        "print(word_similarity(\"cat\",\"dog\"))\n",
        "print(word_similarity(\"cat\",\"crocodile\"))\n",
        "print(word_similarity(\"cat\",\"car\"))\n"
      ],
      "execution_count": 0,
      "outputs": []
    },
    {
      "cell_type": "markdown",
      "metadata": {
        "id": "bbbTj4UsZslS",
        "colab_type": "text"
      },
      "source": [
        "(d) Vector arithmetic on word meanings"
      ]
    },
    {
      "cell_type": "code",
      "metadata": {
        "id": "RgiBMNIWWoPr",
        "colab_type": "code",
        "colab": {}
      },
      "source": [
        "def closest_word(vec):\n",
        "  print(vec[:10])\n",
        "  maxsim=0\n",
        "  maxidx=0\n",
        "  for i in range(word_embed.shape[0]):\n",
        "    #d=similarity(vec,word_embed[i,:])\n",
        "    d=1-np.sqrt(np.mean(np.square(vec-word_embed[i,:])))\n",
        "    if d > maxsim:\n",
        "      maxsim=d\n",
        "      maxidx=i\n",
        "  return df.word[maxidx]\n",
        "\n",
        "print(closest_word(get_vector('prince')-get_vector('boy')+get_vector('man')))\n"
      ],
      "execution_count": 0,
      "outputs": []
    },
    {
      "cell_type": "markdown",
      "metadata": {
        "id": "7qgo3LM7cQwH",
        "colab_type": "text"
      },
      "source": [
        "(e) Part of speech corpus"
      ]
    },
    {
      "cell_type": "code",
      "metadata": {
        "id": "FQqPbYtzcUUN",
        "colab_type": "code",
        "colab": {}
      },
      "source": [
        "import nltk\n",
        "nltk.download('conll2000')\n",
        "from nltk.corpus import conll2000\n",
        "%tensorflow_version 2.x\n",
        "from tensorflow.keras.layers import Dense, Embedding, Activation, Flatten\n",
        "from tensorflow.keras import Sequential\n",
        "from tensorflow.keras.utils import to_categorical"
      ],
      "execution_count": 0,
      "outputs": []
    },
    {
      "cell_type": "code",
      "metadata": {
        "id": "nShY2A6CcxCG",
        "colab_type": "code",
        "colab": {}
      },
      "source": [
        "train_words=conll2000.tagged_words('train.txt')\n",
        "test_words=conll2000.tagged_words('test.txt')\n",
        "print(train_words[:10])\n",
        "print(test_words[:10])\n"
      ],
      "execution_count": 0,
      "outputs": []
    },
    {
      "cell_type": "markdown",
      "metadata": {
        "id": "V9VRglskokga",
        "colab_type": "text"
      },
      "source": [
        "(f) build tag index"
      ]
    },
    {
      "cell_type": "code",
      "metadata": {
        "id": "efKc9CW9QJlh",
        "colab_type": "code",
        "colab": {}
      },
      "source": [
        "# build index to tags\n",
        "tag_index={\"UNK\":0}\n",
        "for item in train_words:\n",
        "  tag=item[1]\n",
        "  tag_index.setdefault(tag,len(tag_index))\n",
        "\n",
        "print(tag_index)"
      ],
      "execution_count": 0,
      "outputs": []
    },
    {
      "cell_type": "markdown",
      "metadata": {
        "id": "-tRM5xK8onPp",
        "colab_type": "text"
      },
      "source": [
        "(g) map all to integer data"
      ]
    },
    {
      "cell_type": "code",
      "metadata": {
        "id": "Un_eYhDbl6Wd",
        "colab_type": "code",
        "colab": {}
      },
      "source": [
        "# map all to integer data\n",
        "def gen_int_data(tagged_words,word_index,tag_index):\n",
        "  X, Y = [], []\n",
        "  unk_count=0;\n",
        "  for word,tag in tagged_words:\n",
        "    if word.lower() in word_index:\n",
        "      X.append(get_vector(word.lower()))\n",
        "      Y.append(tag_index[tag])\n",
        "    else:\n",
        "      X.append(get_vector('.'))\n",
        "      Y.append(tag_index[tag])\n",
        "      unk_count += 1\n",
        "  print(\"Data created. Unknown proportion %.3f\" % (unk_count/len(tagged_words)))\n",
        "  return np.array(X),np.array(Y)\n",
        "\n",
        "X_train,Y_train = gen_int_data(train_words,word_index,tag_index)\n",
        "X_test,Y_test = gen_int_data(test_words,word_index,tag_index)\n"
      ],
      "execution_count": 0,
      "outputs": []
    },
    {
      "cell_type": "markdown",
      "metadata": {
        "id": "xsL2wqjJoe6z",
        "colab_type": "text"
      },
      "source": [
        "(h) Build POS model"
      ]
    },
    {
      "cell_type": "code",
      "metadata": {
        "id": "vyvTXXDzoq3C",
        "colab_type": "code",
        "colab": {}
      },
      "source": [
        "def define_model(inpsize,hidsize,outsize):\n",
        "  model=Sequential()\n",
        "  model.add(Dense(hidsize,activation='sigmoid',input_shape=(inpsize,)))\n",
        "  model.add(Dense(outsize,activation='softmax'))\n",
        "  model.compile(optimizer='adam',loss='sparse_categorical_crossentropy',metrics=['accuracy'])\n",
        "  model.summary()\n",
        "  return model\n",
        "\n",
        "pos_model=define_model(X_train.shape[1],128,len(tag_index))\n"
      ],
      "execution_count": 0,
      "outputs": []
    },
    {
      "cell_type": "markdown",
      "metadata": {
        "id": "OA9v1tpKqNbt",
        "colab_type": "text"
      },
      "source": [
        "(i) Train model"
      ]
    },
    {
      "cell_type": "code",
      "metadata": {
        "id": "t8u-5IzWqTTQ",
        "colab_type": "code",
        "colab": {}
      },
      "source": [
        "pos_model.fit(X_train,Y_train,epochs=5,batch_size=64,verbose=1,validation_split=0.1)"
      ],
      "execution_count": 0,
      "outputs": []
    },
    {
      "cell_type": "markdown",
      "metadata": {
        "id": "tna1TGm_qiII",
        "colab_type": "text"
      },
      "source": [
        "(j) Evaluate model"
      ]
    },
    {
      "cell_type": "code",
      "metadata": {
        "id": "iwYYdZciqkHB",
        "colab_type": "code",
        "colab": {}
      },
      "source": [
        "score,acc = pos_model.evaluate(X_test,Y_test,verbose=0)\n",
        "print(\"Test accuracy: %.2f\" % (acc));\n",
        "\n",
        "Y_pred = pos_model.predict_classes(X_test,batch_size=128)\n",
        "\n",
        "print(Y_test[:10],Y_pred[:10])\n",
        "\n",
        "y_actu = pd.Series(Y_test, name='Actual')\n",
        "y_pred = pd.Series(Y_pred, name='Predicted')\n",
        "df_confusion = pd.crosstab(y_actu, y_pred, margins=True)\n",
        "print(df_confusion/ df_confusion.sum(axis=1))"
      ],
      "execution_count": 0,
      "outputs": []
    },
    {
      "cell_type": "code",
      "metadata": {
        "id": "ush3XtwAsdEf",
        "colab_type": "code",
        "colab": {}
      },
      "source": [
        "import matplotlib.pyplot as plt\n",
        "%matplotlib inline\n",
        "def plot_confusion_matrix(df_confusion, title='Confusion matrix', cmap=plt.cm.gray_r):\n",
        "  rowsums=np.sum(df_confusion,axis=1)\n",
        "  confusion=100*df_confusion/rowsums;\n",
        "  plt.figure(figsize=(10,10))\n",
        "  plt.matshow(confusion, cmap=cmap,fignum=1) # imshow\n",
        "  #plt.title(title)\n",
        "  plt.colorbar()\n",
        "  tick_marks = np.arange(len(df_confusion.columns))\n",
        "  plt.xticks(tick_marks, df_confusion.columns, rotation=45)\n",
        "  plt.yticks(tick_marks, df_confusion.index)\n",
        "  #plt.tight_layout()\n",
        "  plt.ylabel(df_confusion.index.name)\n",
        "  plt.xlabel(df_confusion.columns.name)\n",
        "  plt.show()\n",
        "\n",
        "df_confusion = pd.crosstab(y_actu, y_pred)\n",
        "plot_confusion_matrix(df_confusion)\n"
      ],
      "execution_count": 0,
      "outputs": []
    },
    {
      "cell_type": "code",
      "metadata": {
        "id": "ZryaG89fvHXX",
        "colab_type": "code",
        "colab": {}
      },
      "source": [
        "from nltk import ConfusionMatrix\n",
        "\n",
        "id2tab={}\n",
        "for k,v in tag_index.items():\n",
        "  id2tab[v]=k\n",
        "POS_test=[]\n",
        "POS_pred=[]\n",
        "for i in range(len(Y_test)):\n",
        "  POS_test.append(id2tab[Y_test[i]])\n",
        "  POS_pred.append(id2tab[Y_pred[i]])\n",
        "\n",
        "print(ConfusionMatrix(POS_test,POS_pred))"
      ],
      "execution_count": 0,
      "outputs": []
    }
  ]
}