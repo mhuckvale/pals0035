{
  "nbformat": 4,
  "nbformat_minor": 0,
  "metadata": {
    "colab": {
      "name": "Answers_5_2.ipynb",
      "provenance": [],
      "private_outputs": true,
      "collapsed_sections": [],
      "include_colab_link": true
    },
    "kernelspec": {
      "name": "python3",
      "display_name": "Python 3"
    },
    "accelerator": "GPU"
  },
  "cells": [
    {
      "cell_type": "markdown",
      "metadata": {
        "id": "view-in-github",
        "colab_type": "text"
      },
      "source": [
        "<a href=\"https://colab.research.google.com/github/mhuckvale/pals0039/blob/master/Answers_5_2.ipynb\" target=\"_parent\"><img src=\"https://colab.research.google.com/assets/colab-badge.svg\" alt=\"Open In Colab\"/></a>"
      ]
    },
    {
      "cell_type": "markdown",
      "metadata": {
        "id": "sWoJVUEQQNBT",
        "colab_type": "text"
      },
      "source": [
        "# Exercise 5.2 Answers\n",
        "\n",
        "Adapted from [https://blog.cambridgespark.com/tutorial-build-your-own-embedding-and-use-it-in-a-neural-network](https://blog.cambridgespark.com/tutorial-build-your-own-embedding-and-use-it-in-a-neural-network-e9cde4a81296)"
      ]
    },
    {
      "cell_type": "markdown",
      "metadata": {
        "id": "OlIL6nylWm6s",
        "colab_type": "text"
      },
      "source": [
        "(a) Get the Brown Corpus"
      ]
    },
    {
      "cell_type": "code",
      "metadata": {
        "id": "XAmnl9NDQJmh",
        "colab_type": "code",
        "colab": {}
      },
      "source": [
        "import warnings\n",
        "warnings.simplefilter(action='ignore', category=FutureWarning)\n",
        "\n",
        "import nltk\n",
        "nltk.download('brown')\n",
        "from nltk.corpus import brown\n"
      ],
      "execution_count": 0,
      "outputs": []
    },
    {
      "cell_type": "markdown",
      "metadata": {
        "id": "W77xGgZWWvOm",
        "colab_type": "text"
      },
      "source": [
        "(b) Get tokenized sentences from Brown."
      ]
    },
    {
      "cell_type": "code",
      "metadata": {
        "id": "iUdWUy1cQk0L",
        "colab_type": "code",
        "colab": {}
      },
      "source": [
        "sentences=brown.sents()\n",
        "print(sentences[:3])"
      ],
      "execution_count": 0,
      "outputs": []
    },
    {
      "cell_type": "markdown",
      "metadata": {
        "id": "aKz62r0xW1k1",
        "colab_type": "text"
      },
      "source": [
        "(c) Get the opitmised Word2vec training code from gensim [https://radimrehurek.com/gensim/models/word2vec.html](https://radimrehurek.com/gensim/models/word2vec.html)"
      ]
    },
    {
      "cell_type": "code",
      "metadata": {
        "id": "Om6qvQ4QQ8vR",
        "colab_type": "code",
        "colab": {}
      },
      "source": [
        "from gensim.models import Word2Vec\n"
      ],
      "execution_count": 0,
      "outputs": []
    },
    {
      "cell_type": "markdown",
      "metadata": {
        "id": "2ACl6M57XC5W",
        "colab_type": "text"
      },
      "source": [
        "(d) Train the Word2Vec model (takes about a minute with GPU)"
      ]
    },
    {
      "cell_type": "code",
      "metadata": {
        "id": "j0hlWrabRLEi",
        "colab_type": "code",
        "colab": {}
      },
      "source": [
        "%%time\n",
        "EMB_DIM=300\n",
        "w2v=Word2Vec(sentences,size=EMB_DIM,window=5,min_count=5,negative=15,iter=10)"
      ],
      "execution_count": 0,
      "outputs": []
    },
    {
      "cell_type": "markdown",
      "metadata": {
        "id": "bU9QdLEzXI0c",
        "colab_type": "text"
      },
      "source": [
        "(e) Look up some similarities"
      ]
    },
    {
      "cell_type": "code",
      "metadata": {
        "id": "HSfQ6Wd-SFO9",
        "colab_type": "code",
        "colab": {}
      },
      "source": [
        "word_vectors=w2v.wv\n",
        "result=word_vectors.similar_by_word('Saturday')\n",
        "print(result[:5])\n",
        "result=word_vectors.similar_by_word('money')\n",
        "print(result[:5])\n",
        "result=word_vectors.similar_by_word('child')\n",
        "print(result[:5])\n",
        "result=word_vectors.most_similar(positive=['vehicle'],negative=['expensive'])\n",
        "print(result[:5])\n",
        "\n",
        "result=word_vectors.most_similar(positive=['woman', 'king'], negative=['man'])\n",
        "print(result)\n",
        "result=word_vectors.doesnt_match(\"breakfast cereal dinner lunch\".split())\n",
        "print(result)\n",
        "result=word_vectors.similarity('woman', 'man')\n",
        "print(result)\n"
      ],
      "execution_count": 0,
      "outputs": []
    },
    {
      "cell_type": "markdown",
      "metadata": {
        "id": "g42Fa16LXQM8",
        "colab_type": "text"
      },
      "source": [
        "(f) Build a simple part-of-speech tagger"
      ]
    },
    {
      "cell_type": "code",
      "metadata": {
        "id": "Lbcf-pWXXU1t",
        "colab_type": "code",
        "colab": {}
      },
      "source": [
        "nltk.download('conll2000')\n",
        "from nltk.corpus import conll2000\n",
        "from tensorflow.keras.layers import Dense, Embedding, Activation, Flatten\n",
        "from tensorflow.keras import Sequential\n",
        "from tensorflow.keras.utils import to_categorical\n",
        "import numpy as np\n",
        "import collections\n"
      ],
      "execution_count": 0,
      "outputs": []
    },
    {
      "cell_type": "code",
      "metadata": {
        "id": "P7Pw4gPZYPl0",
        "colab_type": "code",
        "colab": {}
      },
      "source": [
        "train_words=conll2000.tagged_words('train.txt')\n",
        "test_words=conll2000.tagged_words('test.txt')\n",
        "print(train_words[:10])\n"
      ],
      "execution_count": 0,
      "outputs": []
    },
    {
      "cell_type": "code",
      "metadata": {
        "id": "ibiTXmfdYtcT",
        "colab_type": "code",
        "colab": {}
      },
      "source": [
        "def get_tag_vocabulary(tagged_words):\n",
        "  tag2id={}\n",
        "  for item in tagged_words:\n",
        "    tag=item[1]\n",
        "    tag2id.setdefault(tag,len(tag2id))\n",
        "  return tag2id\n",
        "\n",
        "word2id={ k:v.index for k,v in word_vectors.vocab.items()}\n",
        "tag2id=get_tag_vocabulary(train_words)"
      ],
      "execution_count": 0,
      "outputs": []
    },
    {
      "cell_type": "code",
      "metadata": {
        "id": "kyGUzTXEZwrN",
        "colab_type": "code",
        "colab": {}
      },
      "source": [
        "def get_int_data(tagged_words,word2id,tag2id):\n",
        "  X, Y = [], []\n",
        "  unk_count=0;\n",
        "  for word,tag in tagged_words:\n",
        "    if word in word2id:\n",
        "      X.append(word2id.get(word))\n",
        "      Y.append(tag2id.get(tag))\n",
        "    else:\n",
        "      unk_count += 1\n",
        "  print(\"Data created. Unknown proportion %.3f\" % (unk_count/len(tagged_words)))\n",
        "  return np.array(X),np.array(Y)\n",
        "\n",
        "X_train,Y_train = get_int_data(train_words,word2id,tag2id)\n",
        "X_test,Y_test = get_int_data(test_words,word2id,tag2id)\n",
        "\n",
        "Y_train, Y_test = to_categorical(Y_train), to_categorical(Y_test)\n",
        "\n",
        "embedding_matrix=word_vectors.vectors\n"
      ],
      "execution_count": 0,
      "outputs": []
    },
    {
      "cell_type": "code",
      "metadata": {
        "id": "bKQ4CeClbMdx",
        "colab_type": "code",
        "colab": {}
      },
      "source": [
        "HIDDEN_SIZE=50\n",
        "BATCH_SIZE=128\n",
        "\n",
        "def define_model(embedding_matrix, class_count):\n",
        "  vocab_length=len(embedding_matrix)\n",
        "  model=Sequential()\n",
        "  model.add(Embedding(input_dim=vocab_length,output_dim=EMB_DIM,weights=[embedding_matrix],input_length=1))\n",
        "  model.add(Flatten())\n",
        "  model.add(Dense(HIDDEN_SIZE,activation='tanh'))\n",
        "  model.add(Dense(class_count,activation='softmax'))\n",
        "  model.compile(optimizer='adam',loss='categorical_crossentropy',metrics=['accuracy'])\n",
        "  model.summary()\n",
        "  return model\n",
        "\n",
        "pos_model=define_model(embedding_matrix,len(tag2id))\n",
        "\n"
      ],
      "execution_count": 0,
      "outputs": []
    },
    {
      "cell_type": "code",
      "metadata": {
        "id": "lctVvp6zczKA",
        "colab_type": "code",
        "colab": {}
      },
      "source": [
        "pos_model.fit(X_train,Y_train,batch_size=BATCH_SIZE,epochs=5,verbose=1)"
      ],
      "execution_count": 0,
      "outputs": []
    },
    {
      "cell_type": "code",
      "metadata": {
        "id": "36yaBs42dP9E",
        "colab_type": "code",
        "colab": {}
      },
      "source": [
        "def evaluate_model(model,id2word,x_test,y_test):\n",
        "    _,acc = model.evaluate(x_test,y_test)\n",
        "    print(\"Accuracy: %.2f\" % (acc));\n",
        "    y_pred = model.predict_classes(x_test)\n",
        "    error_counter = collections.Counter()\n",
        "    for i in range(len(x_test)):\n",
        "      correct_tag_id = np.argmax(y_test[i])\n",
        "      if y_pred[i]!= correct_tag_id:\n",
        "        word = id2word[x_test[i]]\n",
        "        error_counter[word] += 1\n",
        "    print(\"Most common errors:\\n\",error_counter.most_common(10))\n",
        "\n",
        "id2word = sorted(word2id,key=word2id.get)\n",
        "evaluate_model(pos_model,id2word,X_test,Y_test)\n",
        "        "
      ],
      "execution_count": 0,
      "outputs": []
    }
  ]
}