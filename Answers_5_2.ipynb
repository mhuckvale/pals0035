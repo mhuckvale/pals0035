{
  "nbformat": 4,
  "nbformat_minor": 0,
  "metadata": {
    "colab": {
      "name": "Answers_5_2.ipynb",
      "provenance": [],
      "private_outputs": true,
      "collapsed_sections": [],
      "include_colab_link": true
    },
    "kernelspec": {
      "name": "python3",
      "display_name": "Python 3"
    },
    "accelerator": "GPU"
  },
  "cells": [
    {
      "cell_type": "markdown",
      "metadata": {
        "id": "view-in-github",
        "colab_type": "text"
      },
      "source": [
        "<a href=\"https://colab.research.google.com/github/mhuckvale/pals0039/blob/master/Answers_5_2.ipynb\" target=\"_parent\"><img src=\"https://colab.research.google.com/assets/colab-badge.svg\" alt=\"Open In Colab\"/></a>"
      ]
    },
    {
      "cell_type": "markdown",
      "metadata": {
        "id": "sWoJVUEQQNBT",
        "colab_type": "text"
      },
      "source": [
        "[![PALS0039 Logo](https://www.phon.ucl.ac.uk/courses/pals0039/images/pals0039logo.png)](https://www.phon.ucl.ac.uk/courses/pals0039/)\n",
        "\n",
        "# Exercise 5.2 Answers\n",
        "\n",
        "Adapted from [https://blog.cambridgespark.com/tutorial-build-your-own-embedding-and-use-it-in-a-neural-network](https://blog.cambridgespark.com/tutorial-build-your-own-embedding-and-use-it-in-a-neural-network-e9cde4a81296)"
      ]
    },
    {
      "cell_type": "markdown",
      "metadata": {
        "id": "OlIL6nylWm6s",
        "colab_type": "text"
      },
      "source": [
        "(a) Get the Brown Corpus"
      ]
    },
    {
      "cell_type": "code",
      "metadata": {
        "id": "XAmnl9NDQJmh",
        "colab_type": "code",
        "colab": {}
      },
      "source": [
        "import warnings\n",
        "warnings.simplefilter(action='ignore', category=FutureWarning)\n",
        "\n",
        "import nltk\n",
        "nltk.download('brown')\n",
        "from nltk.corpus import brown\n"
      ],
      "execution_count": 0,
      "outputs": []
    },
    {
      "cell_type": "markdown",
      "metadata": {
        "id": "W77xGgZWWvOm",
        "colab_type": "text"
      },
      "source": [
        "(b) Get tokenized sentences from Brown."
      ]
    },
    {
      "cell_type": "code",
      "metadata": {
        "id": "iUdWUy1cQk0L",
        "colab_type": "code",
        "colab": {}
      },
      "source": [
        "sentences=brown.sents()\n",
        "print(sentences[:3])"
      ],
      "execution_count": 0,
      "outputs": []
    },
    {
      "cell_type": "markdown",
      "metadata": {
        "id": "aKz62r0xW1k1",
        "colab_type": "text"
      },
      "source": [
        "(c) Get the opitmised Word2vec training code from gensim [https://radimrehurek.com/gensim/models/word2vec.html](https://radimrehurek.com/gensim/models/word2vec.html)"
      ]
    },
    {
      "cell_type": "code",
      "metadata": {
        "id": "Om6qvQ4QQ8vR",
        "colab_type": "code",
        "colab": {}
      },
      "source": [
        "from gensim.models import Word2Vec\n"
      ],
      "execution_count": 0,
      "outputs": []
    },
    {
      "cell_type": "markdown",
      "metadata": {
        "id": "2ACl6M57XC5W",
        "colab_type": "text"
      },
      "source": [
        "(d) Train the Word2Vec model (takes about a minute with GPU)"
      ]
    },
    {
      "cell_type": "code",
      "metadata": {
        "id": "j0hlWrabRLEi",
        "colab_type": "code",
        "colab": {}
      },
      "source": [
        "%%time\n",
        "EMB_DIM=300\n",
        "w2v=Word2Vec(sentences,size=EMB_DIM,window=5,min_count=5,negative=15,iter=10)"
      ],
      "execution_count": 0,
      "outputs": []
    },
    {
      "cell_type": "markdown",
      "metadata": {
        "id": "bU9QdLEzXI0c",
        "colab_type": "text"
      },
      "source": [
        "(e) Look up some similarities"
      ]
    },
    {
      "cell_type": "code",
      "metadata": {
        "id": "HSfQ6Wd-SFO9",
        "colab_type": "code",
        "colab": {}
      },
      "source": [
        "word_vectors=w2v.wv\n",
        "result=word_vectors.similar_by_word('Saturday')\n",
        "print(result[:5])\n",
        "result=word_vectors.similar_by_word('money')\n",
        "print(result[:5])\n",
        "result=word_vectors.similar_by_word('child')\n",
        "print(result[:5])\n",
        "result=word_vectors.most_similar(positive=['vehicle'],negative=['expensive'])\n",
        "print(result[:5])\n",
        "\n",
        "result=word_vectors.most_similar(positive=['woman', 'king'], negative=['man'])\n",
        "print(result)\n",
        "result=word_vectors.doesnt_match(\"breakfast cereal dinner lunch\".split())\n",
        "print(result)\n",
        "result=word_vectors.similarity('woman', 'man')\n",
        "print(result)\n",
        "\n",
        "result=word_vectors['computer']\n",
        "print(result)\n",
        "\n",
        "print(\"Vocab size\", len(word_vectors.vocab.items()))"
      ],
      "execution_count": 0,
      "outputs": []
    }
  ]
}