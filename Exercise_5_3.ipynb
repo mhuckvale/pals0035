{
  "nbformat": 4,
  "nbformat_minor": 0,
  "metadata": {
    "colab": {
      "name": "Exercise_5_3.ipynb",
      "private_outputs": true,
      "provenance": [],
      "collapsed_sections": [],
      "include_colab_link": true
    },
    "kernelspec": {
      "name": "python3",
      "display_name": "Python 3"
    },
    "accelerator": "GPU"
  },
  "cells": [
    {
      "cell_type": "markdown",
      "metadata": {
        "id": "view-in-github",
        "colab_type": "text"
      },
      "source": [
        "<a href=\"https://colab.research.google.com/github/mhuckvale/pals0039/blob/master/Exercise_5_3.ipynb\" target=\"_parent\"><img src=\"https://colab.research.google.com/assets/colab-badge.svg\" alt=\"Open In Colab\"/></a>"
      ]
    },
    {
      "cell_type": "markdown",
      "metadata": {
        "id": "7nJSE0LnQMoJ"
      },
      "source": [
        "[![PALS0039 Logo](https://www.phon.ucl.ac.uk/courses/pals0039/images/pals0039logo.png)](https://www.phon.ucl.ac.uk/courses/pals0039/)\n",
        "\n",
        "#Exercise 5.3\n",
        "\n",
        "In this exercise we load some pre-trained word embeddings and use them to build a simple part-of-speech tagger."
      ]
    },
    {
      "cell_type": "markdown",
      "metadata": {
        "id": "9crfQ3oVQQl5"
      },
      "source": [
        "(a) Load in Glove embeddings. Run the code and add comments."
      ]
    },
    {
      "cell_type": "code",
      "metadata": {
        "id": "dDGInp2gRzVX"
      },
      "source": [
        "# \n",
        "import numpy as np\n",
        "import pandas as pd\n",
        "\n",
        "# \n",
        "df=pd.read_csv('https://www.phon.ucl.ac.uk/courses/pals0039/data/glove.6B.100d.zip',header=None)\n",
        "df.rename(columns={0:\"word\"},inplace=True)\n",
        "\n",
        "# \n",
        "print(\"Read %d word embeddings of length %d\" % (len(df),len(df.columns)-1))\n",
        "df.head()"
      ],
      "execution_count": null,
      "outputs": []
    },
    {
      "cell_type": "markdown",
      "metadata": {
        "id": "9OaTVoDXUfsG"
      },
      "source": [
        "---\n",
        "(b) Build a look-up dictionary. Run the code and add comments."
      ]
    },
    {
      "cell_type": "code",
      "metadata": {
        "id": "O5JQNXS9Ue3d"
      },
      "source": [
        "# \n",
        "word_index={}\n",
        "for i,word in enumerate(df.word):\n",
        "  word_index[word]=i\n",
        "\n",
        "# \n",
        "print(\"#words\",len(word_index))\n",
        "print(word_index['the'],word_index['white'],word_index['cat'])\n",
        "print(df.word[word_index['the']],df.word[word_index['white']],df.word[word_index['cat']])\n",
        "\n",
        "# \n",
        "word_embed=np.array(df.iloc[:,1:])"
      ],
      "execution_count": null,
      "outputs": []
    },
    {
      "cell_type": "markdown",
      "metadata": {
        "id": "uKiSkGJoWJUt"
      },
      "source": [
        "---\n",
        "(c) Compute word similarities. Run the code and add comments. Then try with different example words."
      ]
    },
    {
      "cell_type": "code",
      "metadata": {
        "id": "QTTUDOSgUHD4"
      },
      "source": [
        "# \n",
        "def get_vector(word):\n",
        "  vec=word_embed[word_index[word],:]\n",
        "  return vec\n",
        "\n",
        "# \n",
        "def similarity(a,b):\n",
        "  dot = np.dot(a, b)\n",
        "  norma = np.linalg.norm(a)\n",
        "  normb = np.linalg.norm(b)\n",
        "  return dot / (norma * normb)\n",
        "\n",
        "# \n",
        "def word_similarity(a,b):\n",
        "  return similarity(get_vector(a),get_vector(b))\n",
        "\n",
        "# \n",
        "print(word_similarity(\"cat\",\"dog\"))\n",
        "print(word_similarity(\"cat\",\"crocodile\"))\n",
        "print(word_similarity(\"cat\",\"car\"))\n"
      ],
      "execution_count": null,
      "outputs": []
    },
    {
      "cell_type": "markdown",
      "metadata": {
        "id": "bbbTj4UsZslS"
      },
      "source": [
        "---\n",
        "(d) Vector arithmetic on word meanings. Run the code and add comments. Then try some different word examples."
      ]
    },
    {
      "cell_type": "code",
      "metadata": {
        "id": "RgiBMNIWWoPr"
      },
      "source": [
        "# \n",
        "def closest_word(vec,butnotword=None):\n",
        "  maxsim=0\n",
        "  maxidx=0\n",
        "  for i in range(word_embed.shape[0]):\n",
        "    d=similarity(vec,word_embed[i,:])\n",
        "    if d > maxsim and i!=butnotword:\n",
        "      maxsim=d\n",
        "      maxidx=i\n",
        "  return df.word[maxidx]\n",
        "\n",
        "# \n",
        "def find_analogy(a,b,c):\n",
        "  return closest_word(get_vector(b)-get_vector(a)+get_vector(c),word_index[b])\n",
        "\n",
        "# \n",
        "print(find_analogy('man','king','woman'))\n",
        "print(find_analogy('england','london','scotland'))"
      ],
      "execution_count": null,
      "outputs": []
    },
    {
      "cell_type": "markdown",
      "metadata": {
        "id": "7qgo3LM7cQwH"
      },
      "source": [
        "---\n",
        "(e) Load a part of speech corpus for training a POS tagger. Run the code and add comments."
      ]
    },
    {
      "cell_type": "code",
      "metadata": {
        "id": "FQqPbYtzcUUN"
      },
      "source": [
        "#\n",
        "import nltk\n",
        "# \n",
        "nltk.download('conll2000')\n",
        "# \n",
        "from nltk.corpus import conll2000\n",
        "\n",
        "# \n",
        "%tensorflow_version 2.x\n",
        "from tensorflow.keras.layers import Dense, Embedding, Activation, Flatten\n",
        "from tensorflow.keras import Sequential\n",
        "from tensorflow.keras.utils import to_categorical"
      ],
      "execution_count": null,
      "outputs": []
    },
    {
      "cell_type": "code",
      "metadata": {
        "id": "nShY2A6CcxCG"
      },
      "source": [
        "# \n",
        "train_words=conll2000.tagged_words('train.txt')\n",
        "test_words=conll2000.tagged_words('test.txt')\n",
        "print(train_words[:10])\n",
        "print(test_words[:10])\n"
      ],
      "execution_count": null,
      "outputs": []
    },
    {
      "cell_type": "markdown",
      "metadata": {
        "id": "V9VRglskokga"
      },
      "source": [
        "---\n",
        "(f) Build tag index. Run the code and add comments."
      ]
    },
    {
      "cell_type": "code",
      "metadata": {
        "id": "efKc9CW9QJlh"
      },
      "source": [
        "# \n",
        "tag_index={\"UNK\":0}\n",
        "for item in train_words:\n",
        "  # \n",
        "  tag=item[1]\n",
        "  # \n",
        "  tag_index.setdefault(tag,len(tag_index))\n",
        "\n",
        "print(tag_index)"
      ],
      "execution_count": null,
      "outputs": []
    },
    {
      "cell_type": "markdown",
      "metadata": {
        "id": "-tRM5xK8onPp"
      },
      "source": [
        "---\n",
        "(g) Map the corpus data to integers"
      ]
    },
    {
      "cell_type": "code",
      "metadata": {
        "id": "Un_eYhDbl6Wd"
      },
      "source": [
        "# \n",
        "def gen_int_data(tagged_words,word_index,tag_index):\n",
        "  # \n",
        "  X, Y = [], []\n",
        "  # \n",
        "  unk_count=0;\n",
        "  for word,tag in tagged_words:\n",
        "    # \n",
        "    if word.lower() in word_index:\n",
        "      #\n",
        "      X.append(get_vector(word.lower()))\n",
        "      Y.append(tag_index[tag])\n",
        "    else:\n",
        "      # \n",
        "      X.append(get_vector('.'))\n",
        "      Y.append(tag_index[tag])\n",
        "      unk_count += 1\n",
        "  # \n",
        "  print(\"Data created. Unknown proportion %.3f\" % (unk_count/len(tagged_words)))\n",
        "  return np.array(X),np.array(Y)\n",
        "\n",
        "# \n",
        "X_train,Y_train = gen_int_data(train_words,word_index,tag_index)\n",
        "X_test,Y_test = gen_int_data(test_words,word_index,tag_index)\n"
      ],
      "execution_count": null,
      "outputs": []
    },
    {
      "cell_type": "markdown",
      "metadata": {
        "id": "xsL2wqjJoe6z"
      },
      "source": [
        "---\n",
        "(h) Build the POS tagger model. Run the code and add comments."
      ]
    },
    {
      "cell_type": "code",
      "metadata": {
        "id": "vyvTXXDzoq3C"
      },
      "source": [
        "# \n",
        "inpsize=X_train.shape[1]\n",
        "hidsize=128\n",
        "outsize=len(tag_index)\n",
        "\n",
        "#\n",
        "model=Sequential()\n",
        "model.add(Dense(hidsize,activation='sigmoid',input_shape=(inpsize,)))\n",
        "model.add(Dense(outsize,activation='softmax'))\n",
        "\n",
        "# \n",
        "model.compile(optimizer='adam',loss='sparse_categorical_crossentropy',metrics=['accuracy'])\n",
        "\n",
        "# \n",
        "model.summary()\n"
      ],
      "execution_count": null,
      "outputs": []
    },
    {
      "cell_type": "markdown",
      "metadata": {
        "id": "OA9v1tpKqNbt"
      },
      "source": [
        "---\n",
        "(i) Train model. Run the code and add comments."
      ]
    },
    {
      "cell_type": "code",
      "metadata": {
        "id": "t8u-5IzWqTTQ"
      },
      "source": [
        "#\n",
        "model.fit(X_train,Y_train,epochs=5,batch_size=64,verbose=1,validation_split=0.1)"
      ],
      "execution_count": null,
      "outputs": []
    },
    {
      "cell_type": "markdown",
      "metadata": {
        "id": "tna1TGm_qiII"
      },
      "source": [
        "---\n",
        "(j) Evaluate model. Run the code and add comments."
      ]
    },
    {
      "cell_type": "code",
      "metadata": {
        "id": "iwYYdZciqkHB"
      },
      "source": [
        "# \n",
        "score,acc = model.evaluate(X_test,Y_test,verbose=0)\n",
        "print(\"Test accuracy: %.2f\" % (acc));\n",
        "\n",
        "# \n",
        "Y_pred = np.argmax(model.predict(X_test,batch_size=128), axis=-1)\n",
        "\n",
        "# use the pandas crosstabs function to calculate and print confusion matrix\n",
        "y_actu = pd.Categorical.from_codes(Y_test, categories=tag_index.keys())\n",
        "y_pred = pd.Categorical.from_codes(Y_pred, categories=tag_index.keys())\n",
        "df_confusion = pd.crosstab(y_actu, y_pred, margins=True, normalize='index',dropna=False)\n",
        "df_confusion"
      ],
      "execution_count": null,
      "outputs": []
    },
    {
      "cell_type": "code",
      "metadata": {
        "id": "ush3XtwAsdEf"
      },
      "source": [
        "# use the matplotlib matshow function to draw a confusion matrix\n",
        "import matplotlib.pyplot as plt\n",
        "%matplotlib inline\n",
        "\n",
        "def plot_confusion_matrix(df_confusion, title='Confusion matrix', cmap=plt.cm.gray_r):\n",
        "  plt.figure(figsize=(10,10))\n",
        "  plt.matshow(df_confusion, cmap=cmap,fignum=1)\n",
        "  plt.title(\"Confusion Matrix\")\n",
        "  tick_marks = np.arange(len(df_confusion))\n",
        "  plt.xticks(tick_marks, df_confusion.index, rotation=45)\n",
        "  plt.yticks(tick_marks, df_confusion.index)\n",
        "  plt.ylabel(df_confusion.index.name)\n",
        "  plt.xlabel(df_confusion.columns.name)\n",
        "  plt.show()\n",
        "\n",
        "df_confusion = pd.crosstab(y_actu, y_pred, margins=False, normalize='index',dropna=False)\n",
        "plot_confusion_matrix(df_confusion)\n"
      ],
      "execution_count": null,
      "outputs": []
    },
    {
      "cell_type": "code",
      "metadata": {
        "id": "ZryaG89fvHXX"
      },
      "source": [
        "# use the NLTK ConfusionMatrix function to print a confusion matrix\n",
        "from nltk import ConfusionMatrix\n",
        "\n",
        "# build reverse index for tags\n",
        "id2tab={}\n",
        "for k,v in tag_index.items():\n",
        "  id2tab[v]=k\n",
        "\n",
        "# collect all the data as named tags\n",
        "POS_test=[]\n",
        "POS_pred=[]\n",
        "for i in range(len(Y_test)):\n",
        "  POS_test.append(id2tab[Y_test[i]])\n",
        "  POS_pred.append(id2tab[Y_pred[i]])\n",
        "\n",
        "print(ConfusionMatrix(POS_test,POS_pred))\n"
      ],
      "execution_count": null,
      "outputs": []
    },
    {
      "cell_type": "markdown",
      "metadata": {
        "id": "JohBngN2zJRU"
      },
      "source": [
        "---\r\n",
        "(k) Try and improve the performance of the tagger. Hints for things you might try:\r\n",
        "<ul>\r\n",
        "<li>Change the configuration of the DNN, its size, node types or training protocol.\r\n",
        "<li>Reduce the size of the tagset by eliminating rare tags.\r\n",
        "<li>Include in the input to the DNN the words on either side of the word to be tagged (or two words on each side, or ...)\r\n",
        "</ul>\r\n",
        "\r\n"
      ]
    }
  ]
}