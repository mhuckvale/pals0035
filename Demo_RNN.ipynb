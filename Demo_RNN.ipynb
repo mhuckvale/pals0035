{
  "nbformat": 4,
  "nbformat_minor": 0,
  "metadata": {
    "colab": {
      "name": "Demo_RNN.ipynb",
      "provenance": [],
      "private_outputs": true,
      "collapsed_sections": [],
      "authorship_tag": "ABX9TyP8+SdMj2lzy/2XneWOp1bY",
      "include_colab_link": true
    },
    "kernelspec": {
      "name": "python3",
      "display_name": "Python 3"
    },
    "accelerator": "GPU"
  },
  "cells": [
    {
      "cell_type": "markdown",
      "metadata": {
        "id": "view-in-github",
        "colab_type": "text"
      },
      "source": [
        "<a href=\"https://colab.research.google.com/github/mhuckvale/pals0039/blob/master/Demo_RNN.ipynb\" target=\"_parent\"><img src=\"https://colab.research.google.com/assets/colab-badge.svg\" alt=\"Open In Colab\"/></a>"
      ]
    },
    {
      "cell_type": "markdown",
      "metadata": {
        "id": "InD-uXSYeChZ",
        "colab_type": "text"
      },
      "source": [
        "# Demonstration of Recurrent Networks"
      ]
    },
    {
      "cell_type": "code",
      "metadata": {
        "id": "o_2ycaqNeBWR",
        "colab_type": "code",
        "colab": {}
      },
      "source": [
        "import numpy as np\n",
        "\n",
        "%tensorflow_version 2.x\n",
        "from tensorflow.keras import Sequential\n",
        "from tensorflow.keras.layers import Dense, SimpleRNN, LSTM, GRU, TimeDistributed, Embedding, Flatten\n",
        "\n",
        "import matplotlib.pyplot as plt\n",
        "%matplotlib inline"
      ],
      "execution_count": 0,
      "outputs": []
    },
    {
      "cell_type": "markdown",
      "metadata": {
        "id": "In8IVnjM_bhz",
        "colab_type": "text"
      },
      "source": [
        "## Example 1 - Clean a noisy waveform\n",
        "(a) generate a noisy sinusoid"
      ]
    },
    {
      "cell_type": "code",
      "metadata": {
        "id": "qQTqdAF7O9I4",
        "colab_type": "code",
        "colab": {}
      },
      "source": [
        "N = 1000\n",
        "\n",
        "t=np.arange(0,N)\n",
        "y=5*np.sin(0.1*t)\n",
        "x=y+np.random.normal(size=N)\n",
        "\n",
        "plt.figure(figsize=(15,4))\n",
        "plt.plot(t,x,'r-',alpha=0.5)\n",
        "plt.plot(t,y,'b-')\n",
        "plt.grid()\n",
        "plt.show() \n",
        "\n",
        "xtrain=x.reshape(1,N,1)\n",
        "ytrain=y.reshape(1,N,1)\n"
      ],
      "execution_count": 0,
      "outputs": []
    },
    {
      "cell_type": "markdown",
      "metadata": {
        "id": "VQvqEcAr3Nzj",
        "colab_type": "text"
      },
      "source": [
        "(b) build a simple recurrent network to clean the signal"
      ]
    },
    {
      "cell_type": "code",
      "metadata": {
        "id": "FNbEiGxgRtcg",
        "colab_type": "code",
        "colab": {}
      },
      "source": [
        "model=Sequential()\n",
        "model.add(SimpleRNN(10,activation='tanh',return_sequences=True,input_shape=(N,1)))\n",
        "model.add(TimeDistributed(Dense(1,activation='linear')))\n",
        "model.compile(optimizer='rmsprop',loss='mse')\n",
        "model.summary()"
      ],
      "execution_count": 0,
      "outputs": []
    },
    {
      "cell_type": "code",
      "metadata": {
        "id": "2ToFLt81SKJt",
        "colab_type": "code",
        "colab": {}
      },
      "source": [
        "model.fit(xtrain,ytrain,batch_size=1,epochs=100,verbose=2)\n"
      ],
      "execution_count": 0,
      "outputs": []
    },
    {
      "cell_type": "markdown",
      "metadata": {
        "id": "Fb2i1trA3n4i",
        "colab_type": "text"
      },
      "source": [
        "(c) generate some new data for testing and evaluate"
      ]
    },
    {
      "cell_type": "code",
      "metadata": {
        "id": "m1AGLmGz0iIN",
        "colab_type": "code",
        "colab": {}
      },
      "source": [
        "y=5*np.sin(0.1*t)\n",
        "x=y+np.random.normal(size=N)\n",
        "xtest=x.reshape(1,N,1)\n",
        "\n",
        "ypred=model.predict(xtest)\n",
        "\n",
        "plt.figure(figsize=(15,4))\n",
        "plt.plot(t,x,'r-',alpha=0.5)\n",
        "plt.plot(t,ypred.flatten(),'b-')\n",
        "plt.grid()\n",
        "plt.show() \n"
      ],
      "execution_count": 0,
      "outputs": []
    },
    {
      "cell_type": "markdown",
      "metadata": {
        "id": "ZoXXUeDtme_N",
        "colab_type": "text"
      },
      "source": [
        "## Example 2 - parse sequence\n",
        "(a) Build some sequences"
      ]
    },
    {
      "cell_type": "code",
      "metadata": {
        "id": "NrT4wle5mcJ9",
        "colab_type": "code",
        "colab": {}
      },
      "source": [
        "from tensorflow.keras.preprocessing.sequence import pad_sequences\n",
        "from nltk.parse.generate import generate\n",
        "from nltk import CFG\n",
        "\n",
        "# use a simple grammar to create two types of sequence A (=unmatched 1/2) or B (=matched 1/2)\n",
        "seq_grammar=\"\"\"\n",
        "S -> 'A' padding middle0 padding | 'B' padding middle1 padding\n",
        "middle0 -> tokena padding tokenb | tokenb padding tokena\n",
        "middle1 -> tokena padding tokena | tokenb padding tokenb\n",
        "padding -> digit | digit padding\n",
        "tokena -> '1' \n",
        "tokenb -> '2'\n",
        "digit -> '3' | '4' \n",
        "\"\"\"\n",
        "grammar = CFG.fromstring(seq_grammar)\n",
        "print(grammar)\n",
        "\n",
        "data=[]\n",
        "labels=[]\n",
        "for sentence in generate(grammar, depth=7, n=100000):\n",
        "  data.append(list(map(int,sentence[1:])))\n",
        "  labels.append(0 if sentence[0]=='A' else 1)\n",
        "\n",
        "# convert to fixed length numpy arrays\n",
        "data = pad_sequences(data, dtype='int32', padding='post', truncating='post', value=0)\n",
        "labels=np.asarray(labels,dtype='int')\n",
        "\n",
        "ndata=data.shape[0]\n",
        "seqlen=data.shape[1]\n",
        "print(\"generated\",ndata,\"sequences of length\",seqlen)\n",
        "\n",
        "# generate train and test data from random partition\n",
        "ntrain=int(0.9*ndata)\n",
        "idx=np.random.permutation(ndata)\n",
        "xtrain=data[idx[:ntrain]]\n",
        "ytrain=labels[idx[:ntrain]]\n",
        "xtest=data[idx[ntrain:]]\n",
        "ytest=labels[idx[ntrain:]]\n",
        "\n",
        "print('xtrain',xtrain[:10])\n",
        "print('ytrain',ytrain[:10])\n",
        "print('xtest',xtest[:10])\n",
        "print('ytest',ytest[:10])\n"
      ],
      "execution_count": 0,
      "outputs": []
    },
    {
      "cell_type": "markdown",
      "metadata": {
        "id": "BUscrFaP0D7k",
        "colab_type": "text"
      },
      "source": [
        "(b) see what a conventional dense network can do"
      ]
    },
    {
      "cell_type": "code",
      "metadata": {
        "id": "2Pa6EV920Aru",
        "colab_type": "code",
        "colab": {}
      },
      "source": [
        "model=Sequential()\n",
        "model.add(Embedding(5, 5, input_length=seqlen))\n",
        "model.add(Dense(10,activation='tanh'))\n",
        "model.add(Flatten())\n",
        "model.add(Dense(1,activation='sigmoid'))\n",
        "model.compile(optimizer='rmsprop', loss='binary_crossentropy', metrics=['accuracy'])\n",
        "model.summary()"
      ],
      "execution_count": 0,
      "outputs": []
    },
    {
      "cell_type": "code",
      "metadata": {
        "id": "LBaAwo3z6Qc1",
        "colab_type": "code",
        "colab": {}
      },
      "source": [
        "model.fit(xtrain,ytrain,batch_size=50,epochs=10,validation_split=0.05)\n",
        "loss,accuracy=model.evaluate(xtest,ytest)\n",
        "print(\"Loss=%.3f Accuracy=%.3f%%\" % (loss,100*accuracy))"
      ],
      "execution_count": 0,
      "outputs": []
    },
    {
      "cell_type": "markdown",
      "metadata": {
        "id": "Rx5x_PzH0ibM",
        "colab_type": "text"
      },
      "source": [
        "(c) now try a recurrent network"
      ]
    },
    {
      "cell_type": "code",
      "metadata": {
        "id": "Kcwa83gD0q7M",
        "colab_type": "code",
        "colab": {}
      },
      "source": [
        "model=Sequential()\n",
        "model.add(Embedding(5, 5, input_length=seqlen))\n",
        "model.add(LSTM(10,activation='tanh',return_sequences=False))\n",
        "model.add(Dense(1,activation='sigmoid'))\n",
        "model.compile(optimizer='adam', loss='binary_crossentropy', metrics=['accuracy'])\n",
        "model.summary()"
      ],
      "execution_count": 0,
      "outputs": []
    },
    {
      "cell_type": "code",
      "metadata": {
        "id": "WweT7VH70wp0",
        "colab_type": "code",
        "colab": {}
      },
      "source": [
        "model.fit(xtrain,ytrain,batch_size=50,epochs=5,validation_split=0.05)\n",
        "loss,accuracy=model.evaluate(xtest,ytest)\n",
        "print(\"Loss=%.3f Accuracy=%.3f%%\" % (loss,100*accuracy))"
      ],
      "execution_count": 0,
      "outputs": []
    }
  ]
}