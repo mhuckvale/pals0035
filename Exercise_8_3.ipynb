{
  "nbformat": 4,
  "nbformat_minor": 0,
  "metadata": {
    "colab": {
      "name": "Exercise_8_3.ipynb",
      "provenance": [],
      "collapsed_sections": [],
      "include_colab_link": true
    },
    "kernelspec": {
      "name": "python3",
      "display_name": "Python 3"
    },
    "accelerator": "GPU"
  },
  "cells": [
    {
      "cell_type": "markdown",
      "metadata": {
        "id": "view-in-github",
        "colab_type": "text"
      },
      "source": [
        "<a href=\"https://colab.research.google.com/github/mhuckvale/pals0039/blob/master/Exercise_8_3.ipynb\" target=\"_parent\"><img src=\"https://colab.research.google.com/assets/colab-badge.svg\" alt=\"Open In Colab\"/></a>"
      ]
    },
    {
      "cell_type": "markdown",
      "metadata": {
        "id": "3Rk8mbL-hk8s"
      },
      "source": [
        "[![PALS0039 Logo](https://www.phon.ucl.ac.uk/courses/pals0039/images/pals0039logo.png)](https://www.phon.ucl.ac.uk/courses/pals0039/)\n",
        "\n",
        "# Exercise 8.3 \n",
        "\n",
        "In this exercise we build a simple German to English machine translation system based on an English-German phrase dictionary. \n",
        "\n",
        "We approach the task as a sequence-to-sequence problem, with an encoder which generates a sentence embedding from the input, and a decoder which generates the translation from the embedding word by word. Each decoder time step takes as input the whole sentence embedding, the previous output symbol and the RNN state from the previous output.\n",
        "\n",
        "This exercise also demonstrates how the BLEU metric can be used to score the performance of machine translation.\n",
        "\n",
        "The implementation uses a simple Sequential DNN model implemeted in Keras and was developed from [https://machinelearningmastery.com/develop-neural-machine-translation-system-keras/](https://machinelearningmastery.com/develop-neural-machine-translation-system-keras/)"
      ]
    },
    {
      "cell_type": "markdown",
      "metadata": {
        "id": "aj6gmAWmhqtz"
      },
      "source": [
        "(a) Setup libraries"
      ]
    },
    {
      "cell_type": "code",
      "metadata": {
        "id": "s0ZjWJURhkWe"
      },
      "source": [
        "# import libraries\n",
        "import string\n",
        "import re\n",
        "from pickle import load\n",
        "from pickle import dump\n",
        "from unicodedata import normalize\n",
        "from numpy import array\n",
        "import requests\n",
        "from numpy.random import rand\n",
        "from numpy.random import shuffle\n",
        "from numpy import argmax\n",
        "\n",
        "# import Keras functions\n",
        "%tensorflow_version 2.x\n",
        "from tensorflow.keras.preprocessing.text import Tokenizer\n",
        "from tensorflow.keras.preprocessing.sequence import pad_sequences\n",
        "from tensorflow.keras.utils import to_categorical\n",
        "from tensorflow.keras.utils import plot_model\n",
        "from tensorflow.keras.models import Sequential\n",
        "from tensorflow.keras.layers import LSTM\n",
        "from tensorflow.keras.layers import Dense\n",
        "from tensorflow.keras.layers import Embedding\n",
        "from tensorflow.keras.layers import RepeatVector\n",
        "from tensorflow.keras.layers import TimeDistributed\n",
        "from tensorflow.keras.callbacks import ModelCheckpoint\n",
        "from tensorflow.keras.models import load_model\n",
        "\n",
        "# import BLEU calculator from NLTK\n",
        "from nltk.translate.bleu_score import corpus_bleu\n"
      ],
      "execution_count": 1,
      "outputs": []
    },
    {
      "cell_type": "markdown",
      "metadata": {
        "id": "SoTXkGawioNy"
      },
      "source": [
        "---\n",
        "(b) Load the phrase dictionary."
      ]
    },
    {
      "cell_type": "code",
      "metadata": {
        "id": "af5mGp-DiuXi",
        "colab": {
          "base_uri": "https://localhost:8080/"
        },
        "outputId": "9b22f5f2-65f9-4890-b5ca-acad1663e651"
      },
      "source": [
        "# function to read the phrase dictionary into a text buffer, using UTF-8 coding\n",
        "def load_doc(url):\n",
        "  response = requests.get(url)\n",
        "  response.encoding='utf-8'\n",
        "#  response.text\n",
        "  print(\"Corpus has\",len(response.text),\"characters\")\n",
        "  print(response.text[:250])\n",
        "  return response.text\n",
        " \n",
        "# function to divide text up into pairs of English and German phrases\n",
        "def to_pairs(doc):\n",
        "\tlines = doc.strip().split('\\n')\n",
        "\tpairs = [line.split('\\t')[:2] for line in  lines]\n",
        "\treturn pairs\n",
        " \n",
        "# function to tidy up and normalise the phrases\n",
        "def clean_pairs(lines):\n",
        "  cleaned = list()\n",
        "\t# make a character translation table \n",
        "  table = str.maketrans('', '', string.punctuation)\n",
        "  # process all pairs\n",
        "  for pair in lines:\n",
        "    clean_pair = list()\n",
        "    for phrase in pair:\n",
        "\t\t\t# divide into words \n",
        "      words = phrase.split()\n",
        "      # convert to lowercase\n",
        "      words = [word.lower() for word in words]\n",
        "      # eliminate punctuation\n",
        "      words = [word.translate(table) for word in words]\n",
        "      # save cleaned words\n",
        "      clean_pair.append(' '.join(words))\n",
        "    # add cleaned pair back to list  \n",
        "    cleaned.append(clean_pair)\n",
        "  return array(cleaned)\n",
        " \n",
        "# save the data to file system\n",
        "def save_clean_data(sentences, filename):\n",
        "\tdump(sentences, open(filename, 'wb'))\n",
        "\tprint('Saved: %s' % filename)\n",
        " \n",
        "# load the phrase book\n",
        "url = 'https://www.phon.ucl.ac.uk/courses/pals0039/data/deu-eng.txt'\n",
        "doc = load_doc(url)\n",
        "\n",
        "# convert to pairs\n",
        "pairs = to_pairs(doc)\n",
        "\n",
        "# clean the pairs\n",
        "clean_pairs = clean_pairs(pairs)\n",
        "\n",
        "# save the cleaned pairs\n",
        "save_clean_data(clean_pairs, 'english-german.txt')\n",
        "\n",
        "# print out a sample\n",
        "for i in (1,10,100,1000,10000,100000):\n",
        "\tprint('[%s] => [%s]' % (clean_pairs[i,0], clean_pairs[i,1]))"
      ],
      "execution_count": 2,
      "outputs": [
        {
          "output_type": "stream",
          "text": [
            "Corpus has 31279287 characters\n",
            "﻿Hi.\tHallo!\tCC-BY 2.0 (France) Attribution: tatoeba.org #538123 (CM) & #380701 (cburgmer)\n",
            "Hi.\tGrüß Gott!\tCC-BY 2.0 (France) Attribution: tatoeba.org #538123 (CM) & #659813 (Esperantostern)\n",
            "Run!\tLauf!\tCC-BY 2.0 (France) Attribution: tatoeba.org #90632\n",
            "Saved: english-german.txt\n",
            "[hi] => [grüß gott]\n",
            "[go on] => [mach weiter]\n",
            "[get out] => [geh raus]\n",
            "[can i help] => [kann ich mich nützlich machen]\n",
            "[get off my lawn] => [gehen sie von meinem rasen]\n",
            "[i intend to stay a whole week] => [ich habe die absicht eine ganze woche zu bleiben]\n"
          ],
          "name": "stdout"
        }
      ]
    },
    {
      "cell_type": "markdown",
      "metadata": {
        "id": "KjuUj7r6kZlp"
      },
      "source": [
        "---\n",
        "(c) Prepare data for training."
      ]
    },
    {
      "cell_type": "code",
      "metadata": {
        "id": "-hAqk7SSkhfI",
        "colab": {
          "base_uri": "https://localhost:8080/"
        },
        "outputId": "ade8dc87-4afe-45b0-8a94-8b8436cf0199"
      },
      "source": [
        "# load a clean dataset\n",
        "def load_clean_sentences(filename):\n",
        "\treturn load(open(filename, 'rb'))\n",
        " \n",
        "# save a list of clean sentences to file\n",
        "def save_clean_data(sentences, filename):\n",
        "\tdump(sentences, open(filename, 'wb'))\n",
        "\tprint('Saved: %s' % filename)\n",
        " \n",
        "# load dataset\n",
        "raw_dataset = load_clean_sentences('english-german.txt')\n",
        " \n",
        "# limit dataset size to speed up training in demonstration\n",
        "n_sentences = 100000\n",
        "dataset = raw_dataset[:n_sentences, :]\n",
        "\n",
        "# random shuffle\n",
        "shuffle(dataset)\n",
        "\n",
        "# split into train/test\n",
        "ntest=dataset.shape[0]//20\n",
        "train, test = dataset[:-ntest], dataset[-ntest:]\n",
        "print(\"Train\",train.shape,\"Test\",test.shape)\n",
        "\n",
        "# save\n",
        "save_clean_data(dataset, 'english-german-both.txt')\n",
        "save_clean_data(train, 'english-german-train.txt')\n",
        "save_clean_data(test, 'english-german-test.txt')\n",
        "\n",
        "# clean up unused variables\n",
        "del raw_dataset\n",
        "del dataset"
      ],
      "execution_count": 3,
      "outputs": [
        {
          "output_type": "stream",
          "text": [
            "Train (95000, 2) Test (5000, 2)\n",
            "Saved: english-german-both.txt\n",
            "Saved: english-german-train.txt\n",
            "Saved: english-german-test.txt\n"
          ],
          "name": "stdout"
        }
      ]
    },
    {
      "cell_type": "markdown",
      "metadata": {
        "id": "ADizOxGHkwnI"
      },
      "source": [
        "---\n",
        "(d) Tokenize the English and German sentences."
      ]
    },
    {
      "cell_type": "code",
      "metadata": {
        "id": "wFlX5wWSk2QI",
        "colab": {
          "base_uri": "https://localhost:8080/"
        },
        "outputId": "650a8a70-ff9c-442f-ce3a-0b9b581a5290"
      },
      "source": [
        "# load a clean dataset\n",
        "def load_clean_sentences(filename):\n",
        "\treturn load(open(filename, 'rb'))\n",
        " \n",
        "# fit a tokenizer\n",
        "def create_tokenizer(lines):\n",
        "\ttokenizer = Tokenizer()\n",
        "\ttokenizer.fit_on_texts(lines)\n",
        "\treturn tokenizer\n",
        " \n",
        "# find max sentence length\n",
        "def max_length(lines):\n",
        "\treturn max(len(line.split()) for line in lines)\n",
        " \n",
        "# encode and pad sequences\n",
        "def encode_sequences(tokenizer, length, lines):\n",
        "\t# integer encode sequences\n",
        "\tX = tokenizer.texts_to_sequences(lines)\n",
        "\t# pad sequences with 0 values\n",
        "\tX = pad_sequences(X, maxlen=length, padding='post')\n",
        "\treturn X\n",
        " \n",
        "# load datasets\n",
        "dataset = load_clean_sentences('english-german-both.txt')\n",
        "train = load_clean_sentences('english-german-train.txt')\n",
        "test = load_clean_sentences('english-german-test.txt')\n",
        " \n",
        "# prepare english tokenizer\n",
        "eng_tokenizer = create_tokenizer(dataset[:, 0])\n",
        "eng_vocab_size = len(eng_tokenizer.word_index) + 1\n",
        "eng_length = max_length(dataset[:, 0])\n",
        "print('English Vocabulary Size: %d' % eng_vocab_size)\n",
        "print('English Max Length: %d' % (eng_length))\n",
        "\n",
        "# prepare german tokenizer\n",
        "ger_tokenizer = create_tokenizer(dataset[:, 1])\n",
        "ger_vocab_size = len(ger_tokenizer.word_index) + 1\n",
        "ger_length = max_length(dataset[:, 1])\n",
        "print('German Vocabulary Size: %d' % ger_vocab_size)\n",
        "print('German Max Length: %d' % (ger_length))\n",
        "\n",
        "# free the dataset\n",
        "del dataset \n",
        "\n",
        "# prepare training data\n",
        "trainX = encode_sequences(ger_tokenizer, ger_length, train[:, 1])\n",
        "trainY = encode_sequences(eng_tokenizer, eng_length, train[:, 0])\n",
        "\n",
        "# prepare test data\n",
        "testX = encode_sequences(ger_tokenizer, ger_length, test[:, 1])\n",
        "testY = encode_sequences(eng_tokenizer, eng_length, test[:, 0])\n",
        "\n"
      ],
      "execution_count": 4,
      "outputs": [
        {
          "output_type": "stream",
          "text": [
            "English Vocabulary Size: 9496\n",
            "English Max Length: 9\n",
            "German Vocabulary Size: 17285\n",
            "German Max Length: 18\n"
          ],
          "name": "stdout"
        }
      ]
    },
    {
      "cell_type": "markdown",
      "metadata": {
        "id": "mNzdWy3flTzA"
      },
      "source": [
        "---\n",
        "(e) Build the translation model. This uses an LSTM to return a sentence encoding of the source sentence, then replicates that encoding on the input to an LSTM that generates the target sentence."
      ]
    },
    {
      "cell_type": "code",
      "metadata": {
        "id": "WbwCFXvVlVb_",
        "colab": {
          "base_uri": "https://localhost:8080/",
          "height": 967
        },
        "outputId": "18cba5a0-11ec-43f9-f3d2-bbc58c2e9e5d"
      },
      "source": [
        "# define the encoder-decoder model\n",
        "def define_model(src_vocab, tar_vocab, src_timesteps, tar_timesteps, n_units):\n",
        "\tmodel = Sequential()\n",
        "\t# layer 1 is an embedding of the input words\n",
        "\tmodel.add(Embedding(src_vocab, 256, input_length=src_timesteps))\n",
        "\t# layer 2 creates sentence embedding\n",
        "\tmodel.add(LSTM(n_units))\n",
        "\t# the embedding is then replicated over all the output timesteps\n",
        "\tmodel.add(RepeatVector(tar_timesteps))\n",
        "\t# layer 3 unpacks the embedding\n",
        "\tmodel.add(LSTM(n_units, return_sequences=True))\n",
        "\t# layer 4 computes a pdf over the output vocabulary\n",
        "\tmodel.add(TimeDistributed(Dense(tar_vocab, activation='softmax')))\n",
        "\treturn model\n",
        "\n",
        "# create a german to english translation model\n",
        "model = define_model(ger_vocab_size, eng_vocab_size, ger_length, eng_length, 256)\n",
        "model.compile(optimizer='adam', loss='sparse_categorical_crossentropy')\n",
        "\n",
        "# summarise the model\n",
        "print(model.summary())\n",
        "plot_model(model, to_file='model.png', show_shapes=True)"
      ],
      "execution_count": 7,
      "outputs": [
        {
          "output_type": "stream",
          "text": [
            "Model: \"sequential_1\"\n",
            "_________________________________________________________________\n",
            "Layer (type)                 Output Shape              Param #   \n",
            "=================================================================\n",
            "embedding_1 (Embedding)      (None, 18, 256)           4424960   \n",
            "_________________________________________________________________\n",
            "lstm_2 (LSTM)                (None, 256)               525312    \n",
            "_________________________________________________________________\n",
            "repeat_vector_1 (RepeatVecto (None, 9, 256)            0         \n",
            "_________________________________________________________________\n",
            "lstm_3 (LSTM)                (None, 9, 256)            525312    \n",
            "_________________________________________________________________\n",
            "time_distributed_1 (TimeDist (None, 9, 9496)           2440472   \n",
            "=================================================================\n",
            "Total params: 7,916,056\n",
            "Trainable params: 7,916,056\n",
            "Non-trainable params: 0\n",
            "_________________________________________________________________\n",
            "None\n"
          ],
          "name": "stdout"
        },
        {
          "output_type": "execute_result",
          "data": {
            "image/png": "[encoded data removed]",
            "text/plain": [
              "<IPython.core.display.Image object>"
            ]
          },
          "metadata": {
            "tags": []
          },
          "execution_count": 7
        }
      ]
    },
    {
      "cell_type": "markdown",
      "metadata": {
        "id": "m5Zetvrkle2H"
      },
      "source": [
        "---\n",
        "(f) Fit model to phrases. Training takes about 60min. Run the code and add comments."
      ]
    },
    {
      "cell_type": "code",
      "metadata": {
        "id": "l6lNVcxplgO_",
        "colab": {
          "base_uri": "https://localhost:8080/"
        },
        "outputId": "d1b13d43-2dcf-4e60-b7d2-e16ce5891743"
      },
      "source": [
        "# because training takes time, we checkpoint the model during training\n",
        "# this saves the partially trained model any time that the validation loss is reduced\n",
        "filename = 'model.h5'\n",
        "checkpoint = ModelCheckpoint(filename, monitor='val_loss', verbose=1, save_best_only=True, mode='min')\n",
        "# \n",
        "history=model.fit(trainX, trainY, epochs=50, batch_size=64, validation_data=(testX, testY), callbacks=[checkpoint], verbose=2)"
      ],
      "execution_count": 8,
      "outputs": [
        {
          "output_type": "stream",
          "text": [
            "Epoch 1/50\n",
            "1485/1485 - 74s - loss: 3.3428 - val_loss: 3.1759\n",
            "\n",
            "Epoch 00001: val_loss improved from inf to 3.17591, saving model to model.h5\n",
            "Epoch 2/50\n",
            "1485/1485 - 71s - loss: 3.1560 - val_loss: 3.1546\n",
            "\n",
            "Epoch 00002: val_loss improved from 3.17591 to 3.15461, saving model to model.h5\n",
            "Epoch 3/50\n",
            "1485/1485 - 72s - loss: 3.1362 - val_loss: 3.1466\n",
            "\n",
            "Epoch 00003: val_loss improved from 3.15461 to 3.14660, saving model to model.h5\n",
            "Epoch 4/50\n",
            "1485/1485 - 72s - loss: 3.1258 - val_loss: 3.1457\n",
            "\n",
            "Epoch 00004: val_loss improved from 3.14660 to 3.14572, saving model to model.h5\n",
            "Epoch 5/50\n",
            "1485/1485 - 71s - loss: 3.1193 - val_loss: 3.1431\n",
            "\n",
            "Epoch 00005: val_loss improved from 3.14572 to 3.14315, saving model to model.h5\n",
            "Epoch 6/50\n",
            "1485/1485 - 72s - loss: 3.1149 - val_loss: 3.1440\n",
            "\n",
            "Epoch 00006: val_loss did not improve from 3.14315\n",
            "Epoch 7/50\n",
            "1485/1485 - 71s - loss: 3.1118 - val_loss: 3.1455\n",
            "\n",
            "Epoch 00007: val_loss did not improve from 3.14315\n",
            "Epoch 8/50\n",
            "1485/1485 - 70s - loss: 3.1224 - val_loss: 5.0763\n",
            "\n",
            "Epoch 00008: val_loss did not improve from 3.14315\n",
            "Epoch 9/50\n",
            "1485/1485 - 70s - loss: 3.3012 - val_loss: 3.2032\n",
            "\n",
            "Epoch 00009: val_loss did not improve from 3.14315\n",
            "Epoch 10/50\n",
            "1485/1485 - 70s - loss: 3.1401 - val_loss: 3.1532\n",
            "\n",
            "Epoch 00010: val_loss did not improve from 3.14315\n",
            "Epoch 11/50\n",
            "1485/1485 - 70s - loss: 3.1084 - val_loss: 3.1359\n",
            "\n",
            "Epoch 00011: val_loss improved from 3.14315 to 3.13586, saving model to model.h5\n",
            "Epoch 12/50\n",
            "1485/1485 - 71s - loss: 3.0942 - val_loss: 3.1234\n",
            "\n",
            "Epoch 00012: val_loss improved from 3.13586 to 3.12335, saving model to model.h5\n",
            "Epoch 13/50\n",
            "1485/1485 - 71s - loss: 3.1510 - val_loss: 3.2184\n",
            "\n",
            "Epoch 00013: val_loss did not improve from 3.12335\n",
            "Epoch 14/50\n",
            "1485/1485 - 69s - loss: 3.1235 - val_loss: 3.0106\n",
            "\n",
            "Epoch 00014: val_loss improved from 3.12335 to 3.01061, saving model to model.h5\n",
            "Epoch 15/50\n",
            "1485/1485 - 71s - loss: 2.6971 - val_loss: 2.5333\n",
            "\n",
            "Epoch 00015: val_loss improved from 3.01061 to 2.53326, saving model to model.h5\n",
            "Epoch 16/50\n",
            "1485/1485 - 71s - loss: 2.3234 - val_loss: 2.2932\n",
            "\n",
            "Epoch 00016: val_loss improved from 2.53326 to 2.29324, saving model to model.h5\n",
            "Epoch 17/50\n",
            "1485/1485 - 71s - loss: 2.0883 - val_loss: 2.1468\n",
            "\n",
            "Epoch 00017: val_loss improved from 2.29324 to 2.14684, saving model to model.h5\n",
            "Epoch 18/50\n",
            "1485/1485 - 71s - loss: 1.9092 - val_loss: 2.0517\n",
            "\n",
            "Epoch 00018: val_loss improved from 2.14684 to 2.05168, saving model to model.h5\n",
            "Epoch 19/50\n",
            "1485/1485 - 71s - loss: 1.7582 - val_loss: 1.9530\n",
            "\n",
            "Epoch 00019: val_loss improved from 2.05168 to 1.95304, saving model to model.h5\n",
            "Epoch 20/50\n",
            "1485/1485 - 70s - loss: 1.6259 - val_loss: 1.8856\n",
            "\n",
            "Epoch 00020: val_loss improved from 1.95304 to 1.88559, saving model to model.h5\n",
            "Epoch 21/50\n",
            "1485/1485 - 70s - loss: 1.5098 - val_loss: 1.8291\n",
            "\n",
            "Epoch 00021: val_loss improved from 1.88559 to 1.82913, saving model to model.h5\n",
            "Epoch 22/50\n",
            "1485/1485 - 70s - loss: 1.4091 - val_loss: 1.7846\n",
            "\n",
            "Epoch 00022: val_loss improved from 1.82913 to 1.78456, saving model to model.h5\n",
            "Epoch 23/50\n",
            "1485/1485 - 70s - loss: 1.2891 - val_loss: 1.5648\n",
            "\n",
            "Epoch 00023: val_loss improved from 1.78456 to 1.56476, saving model to model.h5\n",
            "Epoch 24/50\n",
            "1485/1485 - 70s - loss: 1.0630 - val_loss: 1.4473\n",
            "\n",
            "Epoch 00024: val_loss improved from 1.56476 to 1.44726, saving model to model.h5\n",
            "Epoch 25/50\n",
            "1485/1485 - 70s - loss: 0.9127 - val_loss: 1.3958\n",
            "\n",
            "Epoch 00025: val_loss improved from 1.44726 to 1.39581, saving model to model.h5\n",
            "Epoch 26/50\n",
            "1485/1485 - 70s - loss: 0.8098 - val_loss: 1.3666\n",
            "\n",
            "Epoch 00026: val_loss improved from 1.39581 to 1.36662, saving model to model.h5\n",
            "Epoch 27/50\n",
            "1485/1485 - 69s - loss: 0.7279 - val_loss: 1.3527\n",
            "\n",
            "Epoch 00027: val_loss improved from 1.36662 to 1.35266, saving model to model.h5\n",
            "Epoch 28/50\n",
            "1485/1485 - 70s - loss: 0.6590 - val_loss: 1.3398\n",
            "\n",
            "Epoch 00028: val_loss improved from 1.35266 to 1.33982, saving model to model.h5\n",
            "Epoch 29/50\n",
            "1485/1485 - 70s - loss: 0.6032 - val_loss: 1.3513\n",
            "\n",
            "Epoch 00029: val_loss did not improve from 1.33982\n",
            "Epoch 30/50\n",
            "1485/1485 - 70s - loss: 0.5549 - val_loss: 1.3499\n",
            "\n",
            "Epoch 00030: val_loss did not improve from 1.33982\n",
            "Epoch 31/50\n",
            "1485/1485 - 70s - loss: 0.5129 - val_loss: 1.3477\n",
            "\n",
            "Epoch 00031: val_loss did not improve from 1.33982\n",
            "Epoch 32/50\n",
            "1485/1485 - 70s - loss: 0.4771 - val_loss: 1.3603\n",
            "\n",
            "Epoch 00032: val_loss did not improve from 1.33982\n",
            "Epoch 33/50\n",
            "1485/1485 - 71s - loss: 0.4458 - val_loss: 1.3688\n",
            "\n",
            "Epoch 00033: val_loss did not improve from 1.33982\n",
            "Epoch 34/50\n",
            "1485/1485 - 70s - loss: 0.4183 - val_loss: 1.3770\n",
            "\n",
            "Epoch 00034: val_loss did not improve from 1.33982\n",
            "Epoch 35/50\n",
            "1485/1485 - 70s - loss: 0.3922 - val_loss: 1.3855\n",
            "\n",
            "Epoch 00035: val_loss did not improve from 1.33982\n",
            "Epoch 36/50\n",
            "1485/1485 - 71s - loss: 0.3701 - val_loss: 1.4002\n",
            "\n",
            "Epoch 00036: val_loss did not improve from 1.33982\n",
            "Epoch 37/50\n",
            "1485/1485 - 70s - loss: 0.3499 - val_loss: 1.4155\n",
            "\n",
            "Epoch 00037: val_loss did not improve from 1.33982\n",
            "Epoch 38/50\n",
            "1485/1485 - 70s - loss: 0.3322 - val_loss: 1.4145\n",
            "\n",
            "Epoch 00038: val_loss did not improve from 1.33982\n",
            "Epoch 39/50\n",
            "1485/1485 - 71s - loss: 0.3153 - val_loss: 1.4393\n",
            "\n",
            "Epoch 00039: val_loss did not improve from 1.33982\n",
            "Epoch 40/50\n",
            "1485/1485 - 70s - loss: 0.3009 - val_loss: 1.4444\n",
            "\n",
            "Epoch 00040: val_loss did not improve from 1.33982\n",
            "Epoch 41/50\n",
            "1485/1485 - 70s - loss: 0.2871 - val_loss: 1.4654\n",
            "\n",
            "Epoch 00041: val_loss did not improve from 1.33982\n",
            "Epoch 42/50\n",
            "1485/1485 - 70s - loss: 0.2750 - val_loss: 1.4706\n",
            "\n",
            "Epoch 00042: val_loss did not improve from 1.33982\n",
            "Epoch 43/50\n",
            "1485/1485 - 70s - loss: 0.2638 - val_loss: 1.4852\n",
            "\n",
            "Epoch 00043: val_loss did not improve from 1.33982\n",
            "Epoch 44/50\n",
            "1485/1485 - 70s - loss: 0.2535 - val_loss: 1.5017\n",
            "\n",
            "Epoch 00044: val_loss did not improve from 1.33982\n",
            "Epoch 45/50\n",
            "1485/1485 - 70s - loss: 0.2437 - val_loss: 1.5167\n",
            "\n",
            "Epoch 00045: val_loss did not improve from 1.33982\n",
            "Epoch 46/50\n",
            "1485/1485 - 70s - loss: 0.2361 - val_loss: 1.5305\n",
            "\n",
            "Epoch 00046: val_loss did not improve from 1.33982\n",
            "Epoch 47/50\n",
            "1485/1485 - 70s - loss: 0.2277 - val_loss: 1.5456\n",
            "\n",
            "Epoch 00047: val_loss did not improve from 1.33982\n",
            "Epoch 48/50\n",
            "1485/1485 - 69s - loss: 0.2207 - val_loss: 1.5609\n",
            "\n",
            "Epoch 00048: val_loss did not improve from 1.33982\n",
            "Epoch 49/50\n",
            "1485/1485 - 69s - loss: 0.2140 - val_loss: 1.5601\n",
            "\n",
            "Epoch 00049: val_loss did not improve from 1.33982\n",
            "Epoch 50/50\n",
            "1485/1485 - 70s - loss: 0.2077 - val_loss: 1.5722\n",
            "\n",
            "Epoch 00050: val_loss did not improve from 1.33982\n"
          ],
          "name": "stdout"
        }
      ]
    },
    {
      "cell_type": "code",
      "metadata": {
        "colab": {
          "base_uri": "https://localhost:8080/",
          "height": 367
        },
        "id": "W3oV-hI5xbt4",
        "outputId": "a97543ca-54f8-49bc-f35f-f6beb790623d"
      },
      "source": [
        "# get the history dictionary \r\n",
        "hist=history.history\r\n",
        "epochs=range(1,len(hist['loss'])+1)\r\n",
        "\r\n",
        "import matplotlib.pyplot as plt\r\n",
        "%matplotlib inline\r\n",
        "\r\n",
        "# plot loss curves\r\n",
        "plt.figure(figsize=(5,5))\r\n",
        "plt.plot(epochs,hist['loss'],'bo',label=\"Training loss\")\r\n",
        "plt.plot(epochs,hist['val_loss'],'r-',label=\"Validation loss\")\r\n",
        "plt.title(\"Training and Validation loss\")\r\n",
        "plt.xlabel(\"Epochs\")\r\n",
        "plt.ylabel(\"Loss\")\r\n",
        "plt.legend()\r\n"
      ],
      "execution_count": 11,
      "outputs": [
        {
          "output_type": "execute_result",
          "data": {
            "text/plain": [
              "<matplotlib.legend.Legend at 0x7fb3dd86d4d0>"
            ]
          },
          "metadata": {
            "tags": []
          },
          "execution_count": 11
        },
        {
          "output_type": "display_data",
          "data": {
            "image/png": "[encoded data removed]",
            "text/plain": [
              "<Figure size 360x360 with 1 Axes>"
            ]
          },
          "metadata": {
            "tags": [],
            "needs_background": "light"
          }
        }
      ]
    },
    {
      "cell_type": "markdown",
      "metadata": {
        "id": "rpWMN5J4nHl-"
      },
      "source": [
        "---\n",
        "(g) Evaluate model on both training and test sentences. The code does take some minutes to run and calculate the BLEU scores. Run the code and add comments."
      ]
    },
    {
      "cell_type": "code",
      "metadata": {
        "id": "EhOJKGKKnLJN",
        "colab": {
          "base_uri": "https://localhost:8080/"
        },
        "outputId": "b7430188-6492-4c55-a78f-958a6f232513"
      },
      "source": [
        "# load a clean dataset\n",
        "def load_clean_sentences(filename):\n",
        "\treturn load(open(filename, 'rb'))\n",
        "\n",
        "# fit a tokenizer\n",
        "def create_tokenizer(lines):\n",
        "\ttokenizer = Tokenizer()\n",
        "\ttokenizer.fit_on_texts(lines)\n",
        "\treturn tokenizer\n",
        "\n",
        "# max sentence length\n",
        "def max_length(lines):\n",
        "\treturn max(len(line.split()) for line in lines)\n",
        "\n",
        "# encode and pad sequences\n",
        "def encode_sequences(tokenizer, length, lines):\n",
        "\t# integer encode sequences\n",
        "\tX = tokenizer.texts_to_sequences(lines)\n",
        "\t# pad sequences with 0 values\n",
        "\tX = pad_sequences(X, maxlen=length, padding='post')\n",
        "\treturn X\n",
        "\n",
        "# map an integer to a word\n",
        "def word_for_id(integer, tokenizer):\n",
        "\tfor word, index in tokenizer.word_index.items():\n",
        "\t\tif index == integer:\n",
        "\t\t\treturn word\n",
        "\treturn None\n",
        "\n",
        "# generate target given source sequence\n",
        "def predict_sequence(model, tokenizer, source):\n",
        "\tprediction = model.predict(source, verbose=0)[0]\n",
        "\tintegers = [argmax(vector) for vector in prediction]\n",
        "\ttarget = list()\n",
        "\tfor i in integers:\n",
        "\t\tword = word_for_id(i, tokenizer)\n",
        "\t\tif word is None:\n",
        "\t\t\tbreak\n",
        "\t\ttarget.append(word)\n",
        "\treturn ' '.join(target)\n",
        "\n",
        "# evaluate the performance of the model\n",
        "def evaluate_model(model, tokenizer, sources, raw_dataset):\n",
        "  actual, predicted = list(), list()\n",
        "  for i, source in enumerate(sources):\n",
        "    # translate encoded source text\n",
        "    source = source.reshape((1, source.shape[0]))\n",
        "    translation = predict_sequence(model, eng_tokenizer, source)\n",
        "    raw_target, raw_src = raw_dataset[i]\n",
        "    if i < 10:\n",
        "      print('src=[%s], target=[%s], predicted=[%s]' % (raw_src, raw_target, translation))\n",
        "    actual.append([raw_target.split()])\n",
        "    predicted.append(translation.split())\n",
        "\n",
        "  # calculate BLEU score\n",
        "  print('BLEU-1: %f' % corpus_bleu(actual, predicted, weights=(1.0, 0, 0, 0)))\n",
        "  print('BLEU-2: %f' % corpus_bleu(actual, predicted, weights=(0.5, 0.5, 0, 0)))\n",
        "  print('BLEU-3: %f' % corpus_bleu(actual, predicted, weights=(0.3, 0.3, 0.3, 0)))\n",
        "  print('BLEU-4: %f' % corpus_bleu(actual, predicted, weights=(0.25, 0.25, 0.25, 0.25)))\n",
        "\n",
        "# load datasets\n",
        "dataset = load_clean_sentences('english-german-both.txt')\n",
        "train = load_clean_sentences('english-german-train.txt')\n",
        "test = load_clean_sentences('english-german-test.txt')\n",
        "\n",
        "# prepare english tokenizer\n",
        "eng_tokenizer = create_tokenizer(dataset[:, 0])\n",
        "eng_vocab_size = len(eng_tokenizer.word_index) + 1\n",
        "eng_length = max_length(dataset[:, 0])\n",
        "\n",
        "# prepare german tokenizer\n",
        "ger_tokenizer = create_tokenizer(dataset[:, 1])\n",
        "ger_vocab_size = len(ger_tokenizer.word_index) + 1\n",
        "ger_length = max_length(dataset[:, 1])\n",
        "\n",
        "# prepare samples of train and test data for evaluation\n",
        "trainX = encode_sequences(ger_tokenizer, ger_length, train[:7500, 1])\n",
        "testX = encode_sequences(ger_tokenizer, ger_length, test[:, 1])\n",
        "\n",
        "# load model\n",
        "model = load_model('model.h5')\n",
        "\n",
        "# test on some training sequences\n",
        "print('***** train')\n",
        "evaluate_model(model, eng_tokenizer, trainX, train)\n",
        "\n",
        "# test on some test sequences\n",
        "print('***** test')\n",
        "evaluate_model(model, eng_tokenizer, testX, test)\n"
      ],
      "execution_count": 12,
      "outputs": [
        {
          "output_type": "stream",
          "text": [
            "***** train\n",
            "src=[tom ist sehr hartnäckig], target=[tom is very persistent], predicted=[tom is very very]\n",
            "src=[warum fahrt ihr nicht mit dem taxi], target=[why dont you take a taxi], predicted=[why dont you take a taxi]\n",
            "src=[keiner kann euch helfen], target=[nobody can help you], predicted=[no one can help you]\n",
            "src=[mein rücken schmerzt], target=[my back hurts], predicted=[my back hurts]\n",
            "src=[tom wusch sich nicht die hände], target=[tom didnt wash his hands], predicted=[tom didnt wash hands]\n",
            "src=[den typen kenne ich], target=[i know that guy], predicted=[i know that guy]\n",
            "src=[jesus wurde in bethlehem geboren], target=[jesus was born in bethlehem], predicted=[he was born in bethlehem]\n",
            "src=[ich bin dir böse], target=[im mad at you], predicted=[im angry with you]\n",
            "src=[du bist sehr reich], target=[you are very rich], predicted=[youre are very rich]\n",
            "src=[feier schön], target=[have fun], predicted=[have fun]\n",
            "BLEU-1: 0.769163\n",
            "BLEU-2: 0.679304\n",
            "BLEU-3: 0.631712\n",
            "BLEU-4: 0.526013\n",
            "***** test\n",
            "src=[ich möchte in die innenstadt gehen], target=[i want to go downtown], predicted=[i want to go out]\n",
            "src=[wart ihr gestern beschäftigt], target=[were you busy yesterday], predicted=[were you busy yesterday]\n",
            "src=[ich hab gesagt macht dass ihr rauskommt], target=[i said get out], predicted=[i made that for thing]\n",
            "src=[manchmal breche ich die regeln], target=[i sometimes break the rules], predicted=[sometimes believes the bell]\n",
            "src=[mein fernsehgerät hat seinen dienst quittiert], target=[my tv has quit working], predicted=[my words is on the]\n",
            "src=[ich weiß nicht warum das passiert ist], target=[i dont know why it happened], predicted=[i dont know why that that]\n",
            "src=[ich werde morgen mit ihnen sprechen], target=[ill talk to you tomorrow], predicted=[ill talk to you tomorrow tomorrow]\n",
            "src=[wer schrieb dieses gedicht], target=[who wrote this poem], predicted=[who wrote this poem]\n",
            "src=[als ich ein kind war hatte ich einen hund], target=[i had a dog when i was a kid], predicted=[my i have idea i a did]\n",
            "src=[ich werde morgen dort sein], target=[ill be there tomorrow], predicted=[ill be there tomorrow tomorrow]\n",
            "BLEU-1: 0.597127\n",
            "BLEU-2: 0.468254\n",
            "BLEU-3: 0.411673\n",
            "BLEU-4: 0.300969\n"
          ],
          "name": "stdout"
        }
      ]
    },
    {
      "cell_type": "markdown",
      "metadata": {
        "id": "F6IRriwanymJ"
      },
      "source": [
        "---\n",
        "(h) Experiment with different amounts of training data and different network configurations. What is the best BLEU score you can obtain on the test set?"
      ]
    }
  ]
}