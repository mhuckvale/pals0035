{
  "nbformat": 4,
  "nbformat_minor": 0,
  "metadata": {
    "colab": {
      "name": "Ex0.1_Sunflower.ipynb",
      "provenance": [],
      "private_outputs": true,
      "include_colab_link": true
    },
    "kernelspec": {
      "name": "python3",
      "display_name": "Python 3"
    }
  },
  "cells": [
    {
      "cell_type": "markdown",
      "metadata": {
        "id": "view-in-github",
        "colab_type": "text"
      },
      "source": [
        "<a href=\"https://colab.research.google.com/github/mhuckvale/pals0039/blob/master/Ex0.1_Sunflower.ipynb\" target=\"_parent\"><img src=\"https://colab.research.google.com/assets/colab-badge.svg\" alt=\"Open In Colab\"/></a>"
      ]
    },
    {
      "cell_type": "markdown",
      "metadata": {
        "id": "vOGaDRtvR09b",
        "colab_type": "text"
      },
      "source": [
        "# Ex0.1 Drawing a Sunflower\n",
        "\n",
        "1. Type in the following code and run it\n",
        "2. Save the notebook to your Google Drive account\n",
        "3. Open a new Colab notebook and retrieve the saved code from Drive\n",
        "4. Work out what each of the statements in the code does\n",
        "\n",
        "<pre>\n",
        "# draw a sunflower head\n",
        "import numpy as np\n",
        "import matplotlib.pyplot as plt\n",
        "%matplotlib inline\n",
        "#\n",
        "n=np.array(range(500))\n",
        "r=np.sqrt(n)\n",
        "theta=137.51*np.pi*n/180\n",
        "#\n",
        "x=r*np.cos(theta)\n",
        "y=r*np.sin(theta)\n",
        "#\n",
        "plt.plot(x,y,'o')\n",
        "plt.axis('equal')\n",
        "plt.axis('off')\n",
        "</pre>\n",
        "\n",
        "\n"
      ]
    },
    {
      "cell_type": "code",
      "metadata": {
        "id": "PDUHffTURvbP",
        "colab_type": "code",
        "colab": {}
      },
      "source": [
        ""
      ],
      "execution_count": 0,
      "outputs": []
    }
  ]
}
