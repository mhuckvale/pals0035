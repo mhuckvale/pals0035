{
  "nbformat": 4,
  "nbformat_minor": 0,
  "metadata": {
    "colab": {
      "name": "Tutorial_Python.ipynb",
      "provenance": [],
      "private_outputs": true,
      "collapsed_sections": [],
      "include_colab_link": true
    },
    "kernelspec": {
      "name": "python3",
      "display_name": "Python 3"
    }
  },
  "cells": [
    {
      "cell_type": "markdown",
      "metadata": {
        "id": "view-in-github",
        "colab_type": "text"
      },
      "source": [
        "<a href=\"https://colab.research.google.com/github/mhuckvale/pals0039/blob/master/Tutorial_Python.ipynb\" target=\"_parent\"><img src=\"https://colab.research.google.com/assets/colab-badge.svg\" alt=\"Open In Colab\"/></a>"
      ]
    },
    {
      "cell_type": "markdown",
      "metadata": {
        "id": "sVuP4tyKm79J",
        "colab_type": "text"
      },
      "source": [
        "# Tutorial Introduction to Python\n",
        "A brief introduction to the essentials of programming in Python.\n"
      ]
    },
    {
      "cell_type": "markdown",
      "metadata": {
        "id": "5w-d-8ZmnS_p",
        "colab_type": "text"
      },
      "source": [
        "## Data Types\n",
        "\n",
        "The basic data types in Python are integers, floats, strings and booleans.\n",
        "<p>Integers: <tt>2, 25, -13, 1000000</tt>\n",
        "<p>Floats: <tt>1.2, 0.0001, -3.4, 1.5e-10</tt>\n",
        "<p>Strings: <tt>\"hello\", \"this is a string\", \"iːvən juːnɪkəʊd\", 'single quotes are also OK', \"can't\"</tt>\n",
        "<p>Booleans: <tt>True</tt>, <tt>False</tt>"
      ]
    },
    {
      "cell_type": "markdown",
      "metadata": {
        "id": "zIRKbVXjonmP",
        "colab_type": "text"
      },
      "source": [
        "## Print statement\n",
        "You can display values with the <tt>print()<tt> statement. Separate values with commas.\n",
        "<p>The <tt>type()</tt> function will report the type of the expression."
      ]
    },
    {
      "cell_type": "code",
      "metadata": {
        "id": "qxn0LD-Bo88d",
        "colab_type": "code",
        "colab": {}
      },
      "source": [
        "print(2,1.2,\"hello\",True)\n",
        "print(type(2),type(1.2),type(\"hello\"),type(True))"
      ],
      "execution_count": 0,
      "outputs": []
    },
    {
      "cell_type": "markdown",
      "metadata": {
        "id": "ToC9PMYtqfpD",
        "colab_type": "text"
      },
      "source": [
        "## Expressions\n",
        "The basic types can be combined into expressions with the following operators:\n",
        "<table>\n",
        "  <tr><th>Operator</th><th>Example</th><th>Operation</th></tr>\n",
        "  <tr><td>+</td><td><tt>3+4</tt></td><td>Addition</td></tr>\n",
        "  <tr><td>-</td><td><tt>-5</tt></td><td>Negation</td></tr>\n",
        "  <tr><td>-</td><td><tt>5-3</tt></td><td>Subtraction</td></tr>\n",
        "  <tr><td>*</td><td><tt>3*4</tt></td><td>Multiplication</td></tr>\n",
        "  <tr><td>/</td><td><tt>12/4</tt></td><td>Division (float result)</td></tr>\n",
        "  <tr><td>//</td><td><tt>12//4</tt></td><td>Division (int result)</td></tr>\n",
        "  <tr><td>%</td><td><tt>10%4</tt></td><td>Modulus (int result)</td></tr>\n",
        "  <tr><td>**</td><td><tt>2**8</tt></td><td>Exponentiation (float result)</td></tr>  \n",
        "  <tr><td>+</td><td><tt>\"Hello \"+\"world!\"</tt></td><td>String concatenation (string result)</td></tr>\n",
        "</table>\n",
        "<p>The following operators create a boolean result\n",
        "<table>\n",
        "  <tr><th>Operator</th><th>Example</th><th>Operation</th></tr>\n",
        "  <tr><td>&lt;</td><td><tt>3<4</tt></td><td>Less than</td></tr>\n",
        "  <tr><td>&lt;=</td><td><tt>3<=4</tt></td><td>Less than or equal</td></tr>\n",
        "  <tr><td>==</td><td><tt>3==4</tt></td><td>Equal</td></tr>\n",
        "  <tr><td>!=</td><td><tt>3!=4</tt></td><td>Not equal</td></tr>\n",
        "  <tr><td>&gt;=</td><td><tt>3>=4</tt></td><td>Greater than or equal</td></tr>\n",
        "  <tr><td>&gt;</td><td><tt>3>4</tt></td><td>Greater than</td></tr>\n",
        "  <tr><td>and</td><td><tt>0<3 and 3&lt;5</tt></td><td>Logical and</td></tr>\n",
        "  <tr><td>or</td><td><tt>0&lt;3 or 3&lt;5</tt></td><td>Logical or</td></tr>\n",
        "  <tr><td>not</td><td><tt>not True</tt></td><td>Logical not</td></tr>\n",
        "</table>\n",
        " <p>Parentheses may be used to control order of evaluation in complex expressions:\n",
        " <p>Compare: <tt>2+3*4</tt> vs <tt>(2+3)*4</tt>\n",
        "   "
      ]
    },
    {
      "cell_type": "code",
      "metadata": {
        "id": "yJf4yaw9rkli",
        "colab_type": "code",
        "colab": {}
      },
      "source": [
        "print(3+4,-5,5-3,3*4,12/4,12//4,10%4,2**8,\"Hello_\"+\"world!\")\n",
        "print(3<4,3<=4,3==4,3!=4,3>=4,3>4,0<3 and 3<5,0<3 or 3<5,not True)\n",
        "print(2+3*4,(2+3)*4)"
      ],
      "execution_count": 0,
      "outputs": []
    },
    {
      "cell_type": "markdown",
      "metadata": {
        "id": "YQ8YSEkPp28k",
        "colab_type": "text"
      },
      "source": [
        "## Variables\n",
        "Variables are named storage locations for values. Variable names may consist of alphanumeric characters and underscore, but may not start with a digit. Case is significant. Legal: <tt>a, b27, aardvark, apple_pie, someVeryLongNameWithMixedCase</tt>. Illegal: <tt>e$, 1a, big name</tt>.\n",
        "<p>The assignment statement causes a named variable to contain the value of an expression:\n",
        "<p><tt>Variable = Expression</tt>\n",
        "    "
      ]
    },
    {
      "cell_type": "code",
      "metadata": {
        "id": "6euuogIJt7Me",
        "colab_type": "code",
        "colab": {}
      },
      "source": [
        "ivar=23*10\n",
        "fvar=13/10\n",
        "bvar=2<4\n",
        "svar=\"abcd\"+\"efgh\"\n",
        "print(ivar,fvar,bvar,svar)"
      ],
      "execution_count": 0,
      "outputs": []
    },
    {
      "cell_type": "markdown",
      "metadata": {
        "id": "Dkj7mdsCrlZh",
        "colab_type": "text"
      },
      "source": [
        "##Tuples\n",
        "A list of values of arbitrary length can be created using the round bracket operator:\n",
        "```\n",
        "mylist=(100,\"Mark\",True,3.14159)\n",
        "```\n",
        "Note that elements in the list can be of any type.\n",
        "\n",
        "Elements in the list can be indexed by integers using the square bracket operator, with first index=0.\n",
        "```\n",
        "element=mylist[1]\n",
        "```\n",
        "Note that tuples cannot be changed once created, i.e. this is not allowed\n",
        "```\n",
        "mylist[1]='Fred'   # error\n",
        "```\n",
        "If you want a list where items can be modified after creation, use the square-bracket list operator, described below.\n",
        "\n",
        "If you want a list of length one, then you need to use a trailing comma, e.g.\n",
        "```\n",
        "x=(2)   # a single number\n",
        "x=(2,)  # a tuple of length 1\n",
        "```\n"
      ]
    },
    {
      "cell_type": "code",
      "metadata": {
        "id": "247RVhvbrfv2",
        "colab_type": "code",
        "colab": {}
      },
      "source": [
        "mylist=(100,\"Mark\",True,3.14159)\n",
        "print(mylist)\n",
        "element=mylist[1]\n",
        "print(element)\n",
        "mylist[1]=\"Fred\"  # this will cause an error since tuples may not be changed\n"
      ],
      "execution_count": 0,
      "outputs": []
    },
    {
      "cell_type": "markdown",
      "metadata": {
        "id": "tPMN3iYRyqkx",
        "colab_type": "text"
      },
      "source": [
        "## Lists\n",
        "A list of values of arbitrary length can be created using the square bracket operator:\n",
        "<pre>\n",
        "mylist=[100,\"Mark\",True,3.14159]\n",
        "</pre>\n",
        "<p>Note that elements in the list can be of any type.\n",
        "<p>Elements in the list can be indexed by integers, with first=index 0.\n",
        "<pre>\n",
        "element=mylist[1]\n",
        "</pre>\n",
        "<p>Lists are mutable and can be extended and shortened\n",
        "<pre>\n",
        "mylist[1]=\"Fred\"\n",
        "mylist.append(\"new value\")\n",
        "del mylist[2]\n",
        "</pre>\n",
        "<p>Sub-parts of a list may be extracted using slices. These have the form <tt>start:stop</tt>, where <tt>start</tt> is the index of the first item to be extracted and <tt>stop</tt> is the index after the last item to be extracted. Indexes start from 0. For example\n",
        " <pre>\n",
        " lst=['a','b','c','d','e'];\n",
        " print(lst[1:3])\n",
        " => ['b','c']\n",
        "</pre>\n",
        "  "
      ]
    },
    {
      "cell_type": "code",
      "metadata": {
        "id": "dYDszCC0z-U_",
        "colab_type": "code",
        "colab": {}
      },
      "source": [
        "mylist=[100,\"Mark\",True,3.14159]\n",
        "print(mylist)\n",
        "element=mylist[1]\n",
        "print(element)\n",
        "mylist[1]=\"Fred\"\n",
        "print(mylist)\n",
        "mylist.append(\"new value\")\n",
        "print(mylist)\n",
        "del mylist[2]\n",
        "print(mylist)\n",
        "lst=['a','b','c','d','e'];\n",
        "print(lst[1:3])"
      ],
      "execution_count": 0,
      "outputs": []
    },
    {
      "cell_type": "markdown",
      "metadata": {
        "id": "eaZdNrMA0dt3",
        "colab_type": "text"
      },
      "source": [
        "## Dictionaries\n",
        "Dictionaries are lists in which the individual elements are indexed by name rather than by an integer. Dictionaries are created using curly bracket notation:\n",
        "<p><tt>mydict={'firstname':\"Mark\",'employed':True,'height':1.8 }</tt>\n",
        "<p>Note that each element of the dictionary has a key and a value. The keys here are strings, but integers, floats and booleans can also be keys. Keys must be unique in the dictionary.\n",
        "<p>Individual elements may be accessed using the square brackets operator and the name of the key:\n",
        " <p><tt>element=mydict[\"employed\"]</tt>\n",
        "<p>Dictionaries are mutable and can be extended and shortened:\n",
        "<p><tt>mydict['status']=\"academic\"</tt>\n",
        "<p><tt>del mydict[\"height\"]</tt>\n",
        "   "
      ]
    },
    {
      "cell_type": "code",
      "metadata": {
        "id": "lTtAlNZ018JE",
        "colab_type": "code",
        "colab": {}
      },
      "source": [
        "mydict={'firstname':\"Mark\",'employed':True,'height':1.8 }\n",
        "print(mydict)\n",
        "element=mydict[\"employed\"]\n",
        "print(element)\n",
        "mydict['status']=\"academic\"\n",
        "print(mydict)\n",
        "del mydict[\"height\"]\n",
        "print(mydict)"
      ],
      "execution_count": 0,
      "outputs": []
    },
    {
      "cell_type": "markdown",
      "metadata": {
        "id": "S1MYsQFd30cb",
        "colab_type": "text"
      },
      "source": [
        "## Conditional statements\n",
        "Conditional control statements allow different blocks of statements to be executed depending on the truth value of a boolean expression.\n",
        "<p>The basic structure of a conditional statement is:\n",
        "  <ul>if &lt;boolean expression>:\n",
        "    <ul>&lt;statements to be executed only if expression is true></ul>\n",
        "  </ul>\n",
        "<p>Notethe use of the colon ':' symbol to indicate the start of a controlled block. For example:\n",
        "<pre>\n",
        "if val > 100:\n",
        "    print(\"warning: value is too big\")\n",
        "    val=100\n",
        "</pre>\n",
        "<p>Both statements are controlled by the if statement. Note that all statements in the conditional block must be indented to the same level.\n",
        "<p>A choice between two action can be performed with the <tt>else<tt> statement:\n",
        "<pre>\n",
        "if val > 100:\n",
        "    print(\"warning: value is too big\")\n",
        "    val=100\n",
        "else:\n",
        "    print(\"value is OK\")\n",
        "</pre>\n",
        "<p>Conditional statements can be chained with the <tt>elif<tt> statement:\n",
        "<pre>\n",
        "if val > 100:\n",
        "    print(\"warning: value is too big\")\n",
        "    val=100\n",
        "elif val < 0:\n",
        "    print(\"warning: value is too small\")\n",
        "    val=0\n",
        "else:\n",
        "    print(\"value is OK\")\n",
        "</pre>\n",
        "  \n",
        "\n",
        "\n",
        "  \n",
        "  "
      ]
    },
    {
      "cell_type": "code",
      "metadata": {
        "id": "nB0jIHsqX6Su",
        "colab_type": "code",
        "colab": {}
      },
      "source": [
        "val=int(input(\"Type a number: \"))\n",
        "if val > 100:\n",
        "    print(\"warning: value is too big\")\n",
        "    val=100\n",
        "elif val < 0:\n",
        "    print(\"warning: value is too small\")\n",
        "    val=0\n",
        "else:\n",
        "    print(\"value is OK\")\n",
        "print(\"value=\",val)"
      ],
      "execution_count": 0,
      "outputs": []
    },
    {
      "cell_type": "markdown",
      "metadata": {
        "id": "WWmQASHQ35Nh",
        "colab_type": "text"
      },
      "source": [
        "## Looping statements\n",
        "Looping statements allow blocks of statements to be executed repetitively.\n",
        "\n",
        "###while\n",
        "<p>The <tt>while</tt> statement executes some block of statements as long as some conditional expression evaluates as true.\n",
        "<p>The basic structure of the <tt>while</tt> statement is:\n",
        "<ul>while &lt;boolean expression>:\n",
        "<ul>&lt;statements to be repeated>\n",
        "</ul></ul>\n",
        "<p>Note the use of the colon ':' symbol to mark the start of the controlled block. For example:\n",
        "<pre>\n",
        "val=1\n",
        "while val <= 10:\n",
        "    print(val)\n",
        "    val=val+1\n",
        "</pre>\n",
        "<p>Note that the program will loop indefinitely if the boolean expression never becomes false.\n"
      ]
    },
    {
      "cell_type": "code",
      "metadata": {
        "id": "-vfDmYwnbwoJ",
        "colab_type": "code",
        "colab": {}
      },
      "source": [
        "val=1\n",
        "while val <= 10:\n",
        "    print(val)\n",
        "    val=val+1"
      ],
      "execution_count": 0,
      "outputs": []
    },
    {
      "cell_type": "markdown",
      "metadata": {
        "id": "HbMlXY2dsDrb",
        "colab_type": "text"
      },
      "source": [
        "###for\n",
        "The <tt>for</tt> statement executes a block of statements for some given range of values.\n",
        "<p>The basic structure of the <tt>for</tt> statement is:\n",
        "<ul>for &lt;variable> in &lt;range>:\n",
        "<ul>&lt;statements to be repeated>\n",
        "  </ul></ul>\n",
        "<p>The range can be specified in terms of a range of integers, or in terms of all items in a list or dictionary.\n",
        "<p>To loop over a given range of integers, use the built-in function <tt>range</tt>:\n",
        "<pre>\n",
        "for val in range(1,11):\n",
        "    print(val)\n",
        "</pre>\n",
        "<p>The function <tt>range(start,stop,incr)</tt> generates a sequence of integers from <tt>start</tt> in steps of <tt>incr</tt> ending when the sequence is greater than or equal to <tt>stop</tt>. If not specified, the default value of <tt>start</tt> is 0, and the default value of <tt>incr</tt> is 1.\n",
        "<p>To loop over all values in a list:\n",
        "<pre>\n",
        "list=[\"M\",\"N\",\"O\",\"P\"]\n",
        "for ch in list:\n",
        "    print(ch)\n",
        "</pre>"
      ]
    },
    {
      "cell_type": "code",
      "metadata": {
        "id": "TT3LLSSGtR3p",
        "colab_type": "code",
        "colab": {}
      },
      "source": [
        "for val in range(1,11):\n",
        "    print(val)\n",
        "\n",
        "list=[\"M\",\"N\",\"O\",\"P\"]\n",
        "for ch in list:\n",
        "    print(ch)"
      ],
      "execution_count": 0,
      "outputs": []
    },
    {
      "cell_type": "markdown",
      "metadata": {
        "id": "CDmAf0Ui4AqC",
        "colab_type": "text"
      },
      "source": [
        "## Function definitions and calls\n",
        "Functions are re-usable blocks of code that take parameters which control their operation. Functions are the building blocks of modular software design. Functions are first defined in terms of a set of parameters, and they are then executed with specific values for those parameters.\n",
        "<p>A function is defined using the <tt>def</tt> keyword, following this basic structure:\n",
        "<ul><tt>def</tt> &lt;function_name> ( &lt; function_parameter_list > ):\n",
        "<ul>&lt;block of statements parameterised by given parameter list>\n",
        "<p><tt>return</tt> &lt;optional return value>\n",
        "</ul></ul>\n",
        "<p>For example\n",
        "<pre>\n",
        "def square(x):\n",
        "    y=x*x\n",
        "    return(y)\n",
        "</pre>\n",
        "<p>This function can square any number, here parameterised by <tt>x</tt>. When called with <tt>square(10)</tt>, say, it will calculate and return the square of10.  \n",
        "<p>Functions can take multiple parameters, and these can be given default values if not specified in the call to the function, for example:\n",
        "<pre>\n",
        "def power(x,exp=2):\n",
        "    y=x**exp\n",
        "    return(y)\n",
        "print(power(10),power(2,3),power(exp=0.5,x=25))\n",
        "</pre>\n",
        "<p>Note here that if the parameter names are given in the call, then the parameters can be given in any order.\n",
        "  "
      ]
    },
    {
      "cell_type": "code",
      "metadata": {
        "id": "E_Cyw_repGuF",
        "colab_type": "code",
        "colab": {}
      },
      "source": [
        "def power(x,exp=2):\n",
        "    y=x**exp\n",
        "    return(y)\n",
        "print(power(10),power(2,3),power(exp=0.5,x=25))"
      ],
      "execution_count": 0,
      "outputs": []
    },
    {
      "cell_type": "markdown",
      "metadata": {
        "id": "H_H0C5xXVMfS",
        "colab_type": "text"
      },
      "source": [
        "## Built-in functions\n",
        "Python has a large number of built-in functions. Here are the most commonly used:\n",
        "<p><table>\n",
        "  <tr><th>Function</th><th>Example</th><th>Description</th></tr>\n",
        "  <tr><td><tt>abs</tt></td><td><tt>y=abs(x)</tt></td><td>Absolute value</td></tr>\n",
        "  <tr><td><tt>chr</tt></td><td><tt>ch=chr(x)</tt></td><td>Character with specified code</td></tr>\n",
        "  <tr><td><tt>float</tt></td><td><tt>x=float(str)</tt></td><td>Convert string to floating point number</td></tr>\n",
        "  <tr><td><tt>input</tt></td><td><tt>y=input('Type your name: ')</tt></td><td>Input string value from user</td></tr>\n",
        "  <tr><td><tt>int</tt></td><td><tt>n=int(str)</tt></td><td>Convert string to integer number</td></tr>\n",
        "  <tr><td><tt>len</tt></td><td><tt>n=len(mylist)</tt></td><td>Number of items in list or characters in string</td></tr>\n",
        "  <tr><td><tt>max</tt></td><td><tt>x=max(mylist)</tt></td><td>Largest value in list</td></tr>\n",
        "  <tr><td><tt>min</tt></td><td><tt>x=min(mylist)</tt></td><td>Smallest value in list</td></tr>\n",
        "  <tr><td><tt>ord</tt></td><td><tt>n=ord(ch)</tt></td><td>Character code from string</td></tr>\n",
        "  <tr><td><tt>print</tt></td><td><tt>print(x,y,str)</tt></td><td>Convert values to string form and print</td></tr>\n",
        "  <tr><td><tt>range</tt></td><td><tt>r=range(1,10,2)</tt></td><td>Generate number sequence</td></tr>\n",
        "  <tr><td><tt>str</tt></td><td><tt>str=str(x)</tt></td><td>String representation of value</td></tr>\n",
        "  <tr><td><tt>type</tt></td><td><tt>print(type(x))</tt></td><td>String representation of the type of an expression</td></tr>\n",
        "</table>\n",
        "\n",
        "Here is a [full list of the built-in functions](https://docs.python.org/3/library/functions.html).\n"
      ]
    },
    {
      "cell_type": "markdown",
      "metadata": {
        "id": "-AmTkINTVQ5h",
        "colab_type": "text"
      },
      "source": [
        "## Importing modules\n",
        "\n",
        "One of the great advantages of Python is the ease with which you can incorporate code written by others into your programs. These packages of code, called modules, can be readily downloaded from the internet and integrated into your programs.\n",
        "\n",
        "Python code written in Colab notebooks can exploit the most important modules without any additional installation steps.\n",
        "\n",
        "To access these modules, you need to explicitly import them at the start of your program.\n",
        "\n",
        "For example, to access the `random` module you would write\n",
        "```\n",
        "import random\n",
        "```\n",
        "Then you would be able to access functions within the random module by name, for example the function `random.randint(low,high)` returns a pseudo-random integer between low and high.\n"
      ]
    },
    {
      "cell_type": "code",
      "metadata": {
        "id": "G_aWmYRDxf5U",
        "colab_type": "code",
        "colab": {}
      },
      "source": [
        "import random\n",
        "\n",
        "for i in range(10):\n",
        "    print(random.randint(1, 6))"
      ],
      "execution_count": 0,
      "outputs": []
    },
    {
      "cell_type": "markdown",
      "metadata": {
        "id": "nI8CPko6zVXJ",
        "colab_type": "text"
      },
      "source": [
        "When you are importing modules you can optionally assign them a short name, this saves typing:\n",
        "```\n",
        "import numpy as np\n",
        "x=np.zeros((2,2))\n",
        "print(x)\n",
        "```\n",
        "\n",
        "You can choose to import only specifically named functions from within a module. This can prevent name clashes between your own functions and the functions in the module. For example:\n",
        "```\n",
        "from random import randint\n",
        "print(randint(1,6))\n",
        "```"
      ]
    },
    {
      "cell_type": "code",
      "metadata": {
        "id": "kX_tj75h0GEU",
        "colab_type": "code",
        "colab": {}
      },
      "source": [
        "import numpy as np\n",
        "from random import randint\n",
        "\n",
        "x=np.zeros((2,2))\n",
        "print(x)\n",
        "print(randint(1,6))"
      ],
      "execution_count": 0,
      "outputs": []
    },
    {
      "cell_type": "markdown",
      "metadata": {
        "id": "CPg2Va3C0f_a",
        "colab_type": "text"
      },
      "source": [
        "##Important modules\n",
        "\n",
        "###Python standard library\n",
        "<p>Some of the modules found in the standard library:\n",
        "<p><table><tr><th>Module Name</th><th>Description</th></tr>\n",
        "  <tr><td>os</td><td>Access operating system</td></tr>\n",
        "  <tr><td>sys</td><td>Access computer resources</td></tr>\n",
        "  <tr><td>math</td><td>Access standard mathematical functions</td></tr>\n",
        "  <tr><td>random</td><td>Access pseudo-random number generator</td></tr>\n",
        "  <tr><td>datetime</td><td>Functions for manipulating dates and times</td></tr>\n",
        "  <tr><td>urllib2</td><td>Functions for access files over the web</td></tr>\n",
        "  <tr><td>matplotlib</td><td>Simple plotting functions</td></tr>\n",
        " </table>\n",
        "\n",
        "###Machine learning\n",
        "<p>Some of the modules available in Colab for machine learning\n",
        "<p><table><tr><th>Module Name</th><th>Description</th><th>Documentation</th></tr>\n",
        "  <tr><td>numpy</td><td>Numeric computing library for Python</td><td><a href=\"https://docs.scipy.org/doc/numpy/\">Link</a></td></tr>\n",
        "  <tr><td>scipy</td><td>Scientific computing library for Python</td><td><a href=\"https://docs.scipy.org/doc/scipy/reference\">Link</a></td></tr>\n",
        "  <tr><td>tensorflow</td><td>Deep learning library</td><td><a href=\"https://www.tensorflow.org/api_docs/python/tf\">Link</a></td></tr>\n",
        " </table>\n",
        "  \n",
        "  You can print a list of the functions available in a module with the `dir()` command."
      ]
    },
    {
      "cell_type": "code",
      "metadata": {
        "id": "gD4eYnfO4_W_",
        "colab_type": "code",
        "colab": {}
      },
      "source": [
        "import random\n",
        "dir(random)"
      ],
      "execution_count": 0,
      "outputs": []
    },
    {
      "cell_type": "markdown",
      "metadata": {
        "id": "wz-fNvEI5UG-",
        "colab_type": "text"
      },
      "source": [
        "##Writing your own modules\n",
        "\n",
        "You can create your own library of modules and import them into your programs.\n",
        "\n",
        "SImply save your function definitions in a file with a \".py\" extension in the same folder as your program and import it by name:\n",
        "```\n",
        "import MyLibrary as lib    # loads in functions from MyLibrary.py in current folder\n",
        "```\n"
      ]
    }
  ]
}
