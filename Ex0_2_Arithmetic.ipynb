{
  "nbformat": 4,
  "nbformat_minor": 0,
  "metadata": {
    "colab": {
      "name": "Ex0.2_Arithmetic.ipynb",
      "provenance": [],
      "private_outputs": true,
      "include_colab_link": true
    },
    "kernelspec": {
      "name": "python3",
      "display_name": "Python 3"
    }
  },
  "cells": [
    {
      "cell_type": "markdown",
      "metadata": {
        "id": "view-in-github",
        "colab_type": "text"
      },
      "source": [
        "<a href=\"https://colab.research.google.com/github/mhuckvale/pals0039/blob/master/Ex0_2_Arithmetic.ipynb\" target=\"_parent\"><img src=\"https://colab.research.google.com/assets/colab-badge.svg\" alt=\"Open In Colab\"/></a>"
      ]
    },
    {
      "cell_type": "markdown",
      "metadata": {
        "id": "58hEWsYRTtrf",
        "colab_type": "text"
      },
      "source": [
        "# Ex0.2 Arithmetic Expressions\n",
        "\n",
        "Write a program to calculate values for the following expressions:\n",
        "<ul>\n",
        "<p>$$(3+4) \\over (5+6)$$ $$2\\pi^2$$ $$\\sqrt 2$$ $$(0.0000123 + 5.67×10^{-3}) × 0.4567×10^{-4}$$\n",
        "</ul>\n"
      ]
    },
    {
      "cell_type": "code",
      "metadata": {
        "id": "E8aclB9KToWD",
        "colab_type": "code",
        "colab": {}
      },
      "source": [
        ""
      ],
      "execution_count": 0,
      "outputs": []
    }
  ]
}