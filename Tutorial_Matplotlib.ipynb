{
  "nbformat": 4,
  "nbformat_minor": 0,
  "metadata": {
    "colab": {
      "name": "Tutorial_Matplotlib.ipynb",
      "provenance": [],
      "private_outputs": true,
      "collapsed_sections": [],
      "include_colab_link": true
    },
    "kernelspec": {
      "name": "python3",
      "display_name": "Python 3"
    }
  },
  "cells": [
    {
      "cell_type": "markdown",
      "metadata": {
        "id": "view-in-github",
        "colab_type": "text"
      },
      "source": [
        "<a href=\"https://colab.research.google.com/github/mhuckvale/pals0039/blob/master/Tutorial_Matplotlib.ipynb\" target=\"_parent\"><img src=\"https://colab.research.google.com/assets/colab-badge.svg\" alt=\"Open In Colab\"/></a>"
      ]
    },
    {
      "cell_type": "markdown",
      "metadata": {
        "id": "K3qsRdTMC139",
        "colab_type": "text"
      },
      "source": [
        "[![PALS0039 Logo](https://www.phon.ucl.ac.uk/courses/pals0039/images/pals0039logo.png)](https://www.phon.ucl.ac.uk/courses/pals0039/)\n",
        "\n",
        "# Tutorial Introduction to Matplotlib\n",
        "\n",
        "Tutorial adapted from https://towardsdatascience.com/matplotlib-tutorial-learn-basics-of-pythons-powerful-plotting-library-b5d1b8f67596\n",
        "\n",
        "##What is Matplotlib\n",
        "To make necessary statistical inferences, it becomes necessary to visualize your data and Matplotlib is one such solution for the Python users. It is a very powerful plotting library useful for those working with Python and NumPy. The most used module of Matplotib is Pyplot which provides an interface like MATLAB but instead, it uses Python and it is open source.\n",
        "##General Concepts\n",
        "A Matplotlib figure can be categorized into several parts as below:\n",
        "\n",
        "\n",
        "*   Figure: It is a whole figure which may contain one or more than one axes (plots). You can think of a Figure as a canvas which contains plots.\n",
        "* Axes: It is what we generally think of as a plot. A Figure can contain many Axes. It contains two or three (in the case of 3D) Axis objects. Each Axes has a title, an x-label and a y-label.\n",
        "* Axis: They are the number-line like objects and take care of generating the graph limits.\n",
        "* Artist: Everything which one can see on the figure is an artist like Text objects, Line2D objects, collection objects. Most Artists are tied to Axes.\n",
        "\n",
        "##Getting Started with Pyplot\n",
        "\n",
        "Pyplot is a module of Matplotlib which provides simple functions to add plot elements like lines, images, text, etc. to the current axes in the current figure.\n",
        "\n",
        "##Make a simple plot\n",
        "\n",
        "We first import the matplotlib and numpy modules. The numpy library is useful because most of the data that we will be working with will be in the form of arrays only.\n"
      ]
    },
    {
      "cell_type": "code",
      "metadata": {
        "id": "PSAFQalTC01t",
        "colab_type": "code",
        "colab": {}
      },
      "source": [
        "import matplotlib.pyplot as plt \n",
        "import numpy as np"
      ],
      "execution_count": 0,
      "outputs": []
    },
    {
      "cell_type": "markdown",
      "metadata": {
        "id": "fyTBWiv2q7gc",
        "colab_type": "text"
      },
      "source": [
        "If you want graphs to be saved in the notebook should also include this \"magic\" command:"
      ]
    },
    {
      "cell_type": "code",
      "metadata": {
        "id": "KT4FaWdOq6gJ",
        "colab_type": "code",
        "colab": {}
      },
      "source": [
        "%matplotlib inline"
      ],
      "execution_count": 0,
      "outputs": []
    },
    {
      "cell_type": "markdown",
      "metadata": {
        "id": "ph4CxVmbE590",
        "colab_type": "text"
      },
      "source": [
        "Now let's create an array of X and Y values and plot them."
      ]
    },
    {
      "cell_type": "code",
      "metadata": {
        "id": "j9ij4CwWE5lZ",
        "colab_type": "code",
        "colab": {}
      },
      "source": [
        "plt.plot([1,2,3,4],[1,4,9,16])\n",
        "plt.show()"
      ],
      "execution_count": 0,
      "outputs": []
    },
    {
      "cell_type": "markdown",
      "metadata": {
        "id": "zmgiptJbJojK",
        "colab_type": "text"
      },
      "source": [
        "We pass two arrays as our input arguments to Pyplot’s plot() method and use show() method to invoke the required plot. Here note that the first array appears on the x-axis and second array appears on the y-axis of the plot. Now that our first plot is ready, let us add the title, and name x-axis and y-axis using methods title(), xlabel() and ylabel() respectively."
      ]
    },
    {
      "cell_type": "code",
      "metadata": {
        "id": "jLwQ7nD1JsrJ",
        "colab_type": "code",
        "colab": {}
      },
      "source": [
        "plt.plot([1,2,3,4],[1,4,9,16])\n",
        "plt.title(\"First Plot\")\n",
        "plt.xlabel(\"X label\")\n",
        "plt.ylabel(\"Y label\")\n",
        "plt.show()"
      ],
      "execution_count": 0,
      "outputs": []
    },
    {
      "cell_type": "markdown",
      "metadata": {
        "id": "_VYyDNy0J80y",
        "colab_type": "text"
      },
      "source": [
        "We can also specify the size of the figure using method figure() and passing the values as a tuple of the length of rows and columns to the argument figsize"
      ]
    },
    {
      "cell_type": "code",
      "metadata": {
        "id": "BJkP3IhbKCsy",
        "colab_type": "code",
        "colab": {}
      },
      "source": [
        "plt.figure(figsize=(15,5))\n",
        "plt.plot([1,2,3,4],[1,4,9,16])\n",
        "plt.show()"
      ],
      "execution_count": 0,
      "outputs": []
    },
    {
      "cell_type": "markdown",
      "metadata": {
        "id": "USccfUqtKRDx",
        "colab_type": "text"
      },
      "source": [
        "With every X and Y argument, you can also pass an optional third argument in the form of a string which indicates the colour and line type of the plot. The default format is b- which means a solid blue line. In the figure below we use go which means green circles. Likewise, we can make many such combinations to format our plot."
      ]
    },
    {
      "cell_type": "code",
      "metadata": {
        "id": "qcJug8RLKRQo",
        "colab_type": "code",
        "colab": {}
      },
      "source": [
        "plt.plot([1,2,3,4],[1,4,9,16],\"go\")\n",
        "plt.title(\"First Plot\")\n",
        "plt.xlabel(\"X label\")\n",
        "plt.ylabel(\"Y label\")\n",
        "plt.show()"
      ],
      "execution_count": 0,
      "outputs": []
    },
    {
      "cell_type": "markdown",
      "metadata": {
        "id": "nALUSFVkKgAK",
        "colab_type": "text"
      },
      "source": [
        "We can also plot multiple sets of data by passing in multiple sets of arguments of X and Y axis in the plot() method as shown."
      ]
    },
    {
      "cell_type": "code",
      "metadata": {
        "id": "Saz5k1l0KgKK",
        "colab_type": "code",
        "colab": {}
      },
      "source": [
        "x=np.arange(1,5)\n",
        "y=x**3\n",
        "plt.plot([1,2,3,4],[1,4,9,16],\"go\",x,y,\"r^\")\n",
        "plt.title(\"First Plot\")\n",
        "plt.xlabel(\"X label\")\n",
        "plt.ylabel(\"Y label\")\n",
        "plt.show()"
      ],
      "execution_count": 0,
      "outputs": []
    },
    {
      "cell_type": "markdown",
      "metadata": {
        "id": "0zt1fK0DKzTp",
        "colab_type": "text"
      },
      "source": [
        "##Multiple plots in one figure\n",
        "\n",
        "We can use subplot() method to add more than one plots in one figure. In the image below, we used this method to separate two graphs which we plotted on the same axes in the previous example. The subplot() method takes three arguments: they are nrows, ncols and index. They indicate the number of rows, number of columns and the index number of the sub-plot. For instance, in our example, we want to create two sub-plots in one figure such that it comes in one row and in two columns and hence we pass arguments (1,2,1) and (1,2,2) in the subplot() method. Note that we have separately used title()method for both the subplots. We use suptitle() method to make a centralized title for the figure.\n",
        "\n"
      ]
    },
    {
      "cell_type": "code",
      "metadata": {
        "id": "yQ9LsSjLKzgJ",
        "colab_type": "code",
        "colab": {}
      },
      "source": [
        "plt.subplot(1,2,1)\n",
        "plt.plot([1,2,3,4],[1,4,9,16],\"go\")\n",
        "plt.title(\"First subplot\")\n",
        "\n",
        "plt.subplot(1,2,2)\n",
        "x=np.arange(1,5)\n",
        "y=x**3\n",
        "plt.plot(x,y,\"r^\")\n",
        "plt.title(\"Second subplot\")\n",
        "\n",
        "plt.suptitle(\"My sub-plots\")\n",
        "plt.show()"
      ],
      "execution_count": 0,
      "outputs": []
    },
    {
      "cell_type": "markdown",
      "metadata": {
        "id": "ynkbeKP0Lp6q",
        "colab_type": "text"
      },
      "source": [
        "If we want our sub-plots in two rows and single column, we can pass arguments (2,1,1) and (2,1,2)"
      ]
    },
    {
      "cell_type": "code",
      "metadata": {
        "id": "hUe_pGzULqO5",
        "colab_type": "code",
        "colab": {}
      },
      "source": [
        "plt.subplot(2,1,1)\n",
        "plt.plot([1,2,3,4],[1,4,9,16],\"go\")\n",
        "plt.title(\"First subplot\")\n",
        "\n",
        "plt.subplot(2,1,2)\n",
        "x=np.arange(1,5)\n",
        "y=x**3\n",
        "plt.plot(x,y,\"r^\")\n",
        "plt.title(\"Second subplot\")\n",
        "\n",
        "plt.suptitle(\"My sub-plots\")\n",
        "plt.show()"
      ],
      "execution_count": 0,
      "outputs": []
    },
    {
      "cell_type": "markdown",
      "metadata": {
        "id": "vow5FP0tL20Q",
        "colab_type": "text"
      },
      "source": [
        "The above way of creating subplots becomes a bit tedious when we want many subplots in our figure. A more convenient way is to use subplots() method. Notice the difference of ‘s’ in both the methods. This method takes two arguments nrows and ncols as number of rows and number of columns respectively. This method creates two objects:figure and axes which we store in variables fig and ax which can be used to change the figure and axes level attributes respectively. Note that these variable names are chosen arbitrarily.\n"
      ]
    },
    {
      "cell_type": "code",
      "metadata": {
        "id": "ZdiPKFPgL3Fy",
        "colab_type": "code",
        "colab": {}
      },
      "source": [
        "x=np.arange(1,5)\n",
        "y=x**3\n",
        "fig,ax=plt.subplots(nrows=2,ncols=2,figsize=(6,6))\n",
        "ax[0,1].plot([1,2,3,4],[1,4,9,16],\"go\")\n",
        "ax[1,0].plot(x,y,\"r^\");\n",
        "ax[0,1].set_title(\"Squares\")\n",
        "ax[1,0].set_title(\"Cubes\")\n",
        "plt.show()"
      ],
      "execution_count": 0,
      "outputs": []
    },
    {
      "cell_type": "markdown",
      "metadata": {
        "id": "ea71tXagMiaJ",
        "colab_type": "text"
      },
      "source": [
        "##Creating different types of graphs with Pyplot \n",
        "\n",
        "##1) Bar Graphs \n",
        "Bar graphs are one of the most common types of graphs and are used to show data associated with the categorical variables. Pyplot provides a method bar() to make bar graphs which take arguments: categorical variables, their values and color (if you want to specify any)."
      ]
    },
    {
      "cell_type": "code",
      "metadata": {
        "id": "f4izYGk5Mi6Z",
        "colab_type": "code",
        "colab": {}
      },
      "source": [
        "divisions=[\"Div-A\",\"Div-B\",\"Div-C\",\"Div-D\",\"Div-E\"]\n",
        "division_scores=[70,82,73,65,68]\n",
        "plt.bar(divisions,division_scores,color='green')\n",
        "plt.title(\"Bar Graph\")\n",
        "plt.xlabel(\"Divisions\")\n",
        "plt.ylabel(\"Scores\")\n",
        "plt.show()"
      ],
      "execution_count": 0,
      "outputs": []
    },
    {
      "cell_type": "markdown",
      "metadata": {
        "id": "RpvONxhPNdpp",
        "colab_type": "text"
      },
      "source": [
        "To make horizontal bar graphs use method barh() Also we can pass an argument (with its value)xerr or yerr (in case of the above vertical bar graphs) to depict the variance in our data as follows:"
      ]
    },
    {
      "cell_type": "code",
      "metadata": {
        "id": "Hcu-J4xBNd4q",
        "colab_type": "code",
        "colab": {}
      },
      "source": [
        "divisions=[\"Div-A\",\"Div-B\",\"Div-C\",\"Div-D\",\"Div-E\"]\n",
        "division_scores=[70,82,73,65,68]\n",
        "division_variance=[5,8,7,6,4]\n",
        "plt.barh(divisions,division_scores,xerr=division_variance,color='green')\n",
        "plt.title(\"Bar Graph\")\n",
        "plt.xlabel(\"Divisions\")\n",
        "plt.ylabel(\"Scores\")\n",
        "plt.show()"
      ],
      "execution_count": 0,
      "outputs": []
    },
    {
      "cell_type": "markdown",
      "metadata": {
        "id": "x6Hybd0XN9uY",
        "colab_type": "text"
      },
      "source": [
        "To create horizontally stacked bar graphs we use the bar() method twice and pass the arguments where we mention the index and width of our bar graphs in order to horizontally stack them together. Also, notice the use of two other methods legend() which is used to show the legend of the graph and xticks() to label our x-axis based on the position of our bars.\n"
      ]
    },
    {
      "cell_type": "code",
      "metadata": {
        "id": "ob1HR-4EN96Y",
        "colab_type": "code",
        "colab": {}
      },
      "source": [
        "divisions=[\"Div-A\",\"Div-B\",\"Div-C\",\"Div-D\",\"Div-E\"]\n",
        "division_scores=[70,82,73,65,68]\n",
        "team_scores=[68,67,77,61,70]\n",
        "index=np.arange(5)\n",
        "width=0.3\n",
        "plt.bar(index,division_scores,width,color='green',label=\"Division\")\n",
        "plt.bar(index+width,team_scores,width,color='blue',label=\"Team\")\n",
        "plt.title(\"Stacked Bar Graph\")\n",
        "plt.xlabel(\"Divisions\")\n",
        "plt.ylabel(\"Scores\")\n",
        "plt.xticks(index+width/2,divisions)\n",
        "plt.legend(loc=\"best\")\n",
        "plt.show()"
      ],
      "execution_count": 0,
      "outputs": []
    },
    {
      "cell_type": "markdown",
      "metadata": {
        "id": "HECPzdNiPB2R",
        "colab_type": "text"
      },
      "source": [
        "Similarly, to vertically stack the bar graphs together, we can use an argument bottom and mention the bar graph which we want to stack below as its value."
      ]
    },
    {
      "cell_type": "code",
      "metadata": {
        "id": "YH4f0sGXPCBA",
        "colab_type": "code",
        "colab": {}
      },
      "source": [
        "divisions=[\"Div-A\",\"Div-B\",\"Div-C\",\"Div-D\",\"Div-E\"]\n",
        "term1_scores=[70,82,73,65,68]\n",
        "term2_scores=[68,67,77,61,70]\n",
        "index=np.arange(5)\n",
        "width=0.5\n",
        "plt.bar(index,term1_scores,width,color='green',label=\"Term 1\")\n",
        "plt.bar(index,term2_scores,width,color='blue',label=\"Term 2\",bottom=term1_scores)\n",
        "plt.title(\"Vertically Stacked Bar Graph\")\n",
        "plt.xlabel(\"Divisions\")\n",
        "plt.ylabel(\"Scores\")\n",
        "plt.xticks(index,divisions)\n",
        "plt.legend(loc=\"best\")\n",
        "plt.show()"
      ],
      "execution_count": 0,
      "outputs": []
    },
    {
      "cell_type": "markdown",
      "metadata": {
        "id": "P1QQXgpJP-96",
        "colab_type": "text"
      },
      "source": [
        "##2) Pie Charts \n",
        "One more basic type of chart is a Pie chart which can be made using the method pie() We can also pass in arguments to customize our Pie chart to show shadow, explode a part of it, tilt it at an angle as follows:"
      ]
    },
    {
      "cell_type": "code",
      "metadata": {
        "id": "ng0D2ctaP_IH",
        "colab_type": "code",
        "colab": {}
      },
      "source": [
        "firms=[\"Firm A\",\"Firm B\",\"Firm C\",\"Firm D\",\"Firm E\"]\n",
        "market_share=[20,25,15,10,20]\n",
        "explode=[0,0.1,0,0,0]\n",
        "plt.pie(market_share,explode=explode,labels=firms,shadow=True,startangle=45)\n",
        "plt.axis(\"equal\")\n",
        "plt.legend(title=\"list of firms\")\n",
        "plt.show()"
      ],
      "execution_count": 0,
      "outputs": []
    },
    {
      "cell_type": "markdown",
      "metadata": {
        "id": "UGbd9o2PQsHi",
        "colab_type": "text"
      },
      "source": [
        "##3) Histogram \n",
        "\n",
        "Histograms are a very common type of plots when we are looking at data like height and weight, stock prices, waiting time for a customer, etc which are continuous in nature. Histogram’s data is plotted within a range against its frequency. Histograms are very commonly occurring graphs in probability and statistics and form the basis for various distributions like the normal -distribution, t-distribution, etc. In the following example, we generate a random continuous data of 1000 entries and plot it against its frequency with the data divided into 10 equal strata. We have used NumPy’s random.randn() method which generates data with the properties of a standard normal distribution i.e. mean = 0 and standard deviation = 1, and hence the histogram looks like a normal distribution curve.\n"
      ]
    },
    {
      "cell_type": "code",
      "metadata": {
        "id": "_I5t-VUuQsVv",
        "colab_type": "code",
        "colab": {}
      },
      "source": [
        "x=np.random.randn(1000)\n",
        "plt.title(\"Histogram\")\n",
        "plt.xlabel(\"Random Data\")\n",
        "plt.ylabel(\"Frequency\")\n",
        "plt.hist(x,20)\n",
        "plt.show()"
      ],
      "execution_count": 0,
      "outputs": []
    },
    {
      "cell_type": "markdown",
      "metadata": {
        "id": "JlVf1cgBRCj3",
        "colab_type": "text"
      },
      "source": [
        "##4)Scatter Plots and 3-D plotting \n",
        "Scatter plots are widely used graphs, especially they come in handy in visualizing a problem of regression. In the following example, we feed in arbitrarily created data of height and weight and plot them against each other. We used xlim() and ylim() methods to set the limits of X-axis and Y-axis respectively."
      ]
    },
    {
      "cell_type": "code",
      "metadata": {
        "id": "rlmXb0KMRCs_",
        "colab_type": "code",
        "colab": {}
      },
      "source": [
        "height=np.array([167,170,149,165,155,180,166,146,\n",
        "                 159,185,145,168,172,181,169])\n",
        "weight=np.array([86,74,66,78,68,79,90,73,\n",
        "                 70,88,66,84,67,84,77])\n",
        "plt.xlim(140,200)\n",
        "plt.ylim(60,100)\n",
        "plt.scatter(height,weight)\n",
        "plt.title(\"Scatter Plot\")\n",
        "plt.xlabel(\"Height\")\n",
        "plt.ylabel(\"Weight\")\n",
        "plt.show()"
      ],
      "execution_count": 0,
      "outputs": []
    },
    {
      "cell_type": "markdown",
      "metadata": {
        "id": "SeaYu1j2RzLA",
        "colab_type": "text"
      },
      "source": [
        "The above scatter can also be visualized in three dimensions. To use this functionality, we first import the module mplot3d as follows: "
      ]
    },
    {
      "cell_type": "code",
      "metadata": {
        "id": "tkHxeUxdRzVn",
        "colab_type": "code",
        "colab": {}
      },
      "source": [
        "from mpl_toolkits import mplot3d"
      ],
      "execution_count": 0,
      "outputs": []
    },
    {
      "cell_type": "markdown",
      "metadata": {
        "id": "f7jhxi8-R7jY",
        "colab_type": "text"
      },
      "source": [
        "Once the module is imported, a three-dimensional axes is created by passing the keyword projection='3d' to the axes() method of Pyplot module. Once the object instance is created, we pass our arguments height and weight to scatter3D() method.\n",
        "\n",
        "We can also create 3-D graphs of other types like line graph, surface, wireframes, contours, etc. The above example in the form of a simple line graph is as follows: Here instead of scatter3D() we use method plot3D()\n"
      ]
    },
    {
      "cell_type": "code",
      "metadata": {
        "id": "5eIZZNrWR7tX",
        "colab_type": "code",
        "colab": {}
      },
      "source": [
        "ax = plt.axes(projection='3d')\n",
        "\n",
        "# Data for a three-dimensional line\n",
        "zline = np.linspace(0, 15, 1000)\n",
        "xline = np.sin(zline)\n",
        "yline = np.cos(zline)\n",
        "ax.plot3D(xline, yline, zline, 'gray')\n",
        "\n",
        "# Data for three-dimensional scattered points\n",
        "zdata = 15 * np.random.random(100)\n",
        "xdata = np.sin(zdata) + 0.1 * np.random.randn(100)\n",
        "ydata = np.cos(zdata) + 0.1 * np.random.randn(100)\n",
        "ax.scatter3D(xdata, ydata, zdata);\n"
      ],
      "execution_count": 0,
      "outputs": []
    },
    {
      "cell_type": "markdown",
      "metadata": {
        "id": "cqnsf7oXEHW2",
        "colab_type": "text"
      },
      "source": [
        "##Summary \n",
        "Here is the list of all the methods as they appeared. \n",
        "* plot(x-axis values, y-axis values) — plots a simple line graph with x-axis values against y-axis values \n",
        "* show() — displays the graph title(“string”) — set the title of the plot as specified by the string \n",
        "* xlabel(“string”) — set the label for x-axis as specified by the string \n",
        "* ylabel(“string”) — set the label for y-axis as specified by the string \n",
        "* figure() — used to control a figure level attributes subplot(nrows, ncols, index) — Add a subplot to the current figure \n",
        "* suptitle(“string”) — It adds a common title to the figure specified by the string \n",
        "* subplots(nrows, ncols, figsize) — a convenient way to create subplots, in a single call. It returns a tuple of a figure and number of axes. \n",
        "* set_title(“string”) — an axes level method used to set the title of subplots in a figure \n",
        "* bar(categorical variables, values, color) — used to create vertical bar graphs \n",
        "* barh(categorical variables, values, color) — used to create horizontal bar graphs \n",
        "* legend(loc) — used to make legend of the graph \n",
        "* xticks(index, categorical variables) — Get or set the current tick locations and labels of the x-axis \n",
        "* pie(value, categorical variables) — used to create a pie chart \n",
        "* hist(values, number of bins) — used to create a histogram \n",
        "* xlim(start value, end value) — used to set the limit of values of the x-axis\n",
        "* ylim(start value, end value) — used to set the limit of values of the y-axis\n",
        "* scatter(x-axis values, y-axis values) — plots a scatter plot with x-axis values against y-axis values \n",
        "* axes() — adds an axes to the current figure \n",
        "* set_xlabel(“string”) — axes level method used to set the x-label of the plot specified as a string \n",
        "* set_ylabel(“string”) — axes level method used to set the y-label of the plot specified as a string \n",
        "* scatter3D(x-axis values, y-axis values) — plots a three-dimensional scatter plot with x-axis values against y-axis values \n",
        "* plot3D(x-axis values, y-axis values) — plots a three-dimensional line graph with x-axis values against y-axis values"
      ]
    }
  ]
}