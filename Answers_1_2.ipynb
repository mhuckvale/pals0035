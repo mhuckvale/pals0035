{
  "nbformat": 4,
  "nbformat_minor": 0,
  "metadata": {
    "colab": {
      "name": "Answers_1_2.ipynb",
      "provenance": [],
      "private_outputs": true,
      "collapsed_sections": [],
      "include_colab_link": true
    },
    "kernelspec": {
      "name": "python3",
      "display_name": "Python 3"
    }
  },
  "cells": [
    {
      "cell_type": "markdown",
      "metadata": {
        "id": "view-in-github",
        "colab_type": "text"
      },
      "source": [
        "<a href=\"https://colab.research.google.com/github/mhuckvale/pals0039/blob/master/Answers_1_2.ipynb\" target=\"_parent\"><img src=\"https://colab.research.google.com/assets/colab-badge.svg\" alt=\"Open In Colab\"/></a>"
      ]
    },
    {
      "cell_type": "markdown",
      "metadata": {
        "id": "jdmFw9SarIew",
        "colab_type": "text"
      },
      "source": [
        "[![PALS0039 Logo](https://www.phon.ucl.ac.uk/courses/pals0039/images/pals0039logo.png)](https://www.phon.ucl.ac.uk/courses/pals0039/)\n",
        "\n",
        "#Exercise 1.2 Answers"
      ]
    },
    {
      "cell_type": "markdown",
      "metadata": {
        "id": "SmVYuO9PrOsP",
        "colab_type": "text"
      },
      "source": [
        "(a) Use numpy to generate a list of the integers 1-100, then find the sum, mean and sum of squares of the list"
      ]
    },
    {
      "cell_type": "code",
      "metadata": {
        "id": "BNsDs20ErEIu",
        "colab_type": "code",
        "colab": {}
      },
      "source": [
        "import numpy as np\n",
        "x=np.array(range(1,101))\n",
        "print(x)\n",
        "print(x.sum())\n",
        "print(x.mean())\n",
        "print((x*x).sum())"
      ],
      "execution_count": 0,
      "outputs": []
    },
    {
      "cell_type": "markdown",
      "metadata": {
        "id": "pmiylYO1r4YI",
        "colab_type": "text"
      },
      "source": [
        "---\n",
        "(b) Use numpy to generate a list of 100 pseudo-random numbers from a uniform distribution between 0 and 1. Find the smallest value in the list. Find the largest value in the list. Report the 25th, 50th and 75th percentiles of the values in the list."
      ]
    },
    {
      "cell_type": "code",
      "metadata": {
        "id": "itfIQvtYsQT4",
        "colab_type": "code",
        "colab": {}
      },
      "source": [
        "x=np.random.random(100)\n",
        "print(x.min())\n",
        "print(x.max())\n",
        "print(np.percentile(x,25),np.percentile(x,50),np.percentile(x,75))\n",
        "# another way to find the percentiles\n",
        "x.sort()\n",
        "print((x[24]+3*x[25])/4,(x[49]+x[50])/2,(3*x[74]+x[75])/4)\n"
      ],
      "execution_count": 0,
      "outputs": []
    },
    {
      "cell_type": "markdown",
      "metadata": {
        "id": "FFjme_Viu1XB",
        "colab_type": "text"
      },
      "source": [
        "---\n",
        "(c) Create a numpy array of the integers 1-12. Reshape the array so that it forms a matrix with 3 rows and 4 columns. Now reshape the array so that the order of the numbers goes down the columns rather than across the rows. Finally use array indexing to extract the middle two numbers on the second row."
      ]
    },
    {
      "cell_type": "code",
      "metadata": {
        "id": "4HUDEJWbvG_2",
        "colab_type": "code",
        "colab": {}
      },
      "source": [
        "x=np.array(range(1,13))\n",
        "print(x)\n",
        "y=x.reshape((3,4))\n",
        "print(y)\n",
        "y=x.reshape((3,4),order='F')\n",
        "print(y)\n",
        "print(y[1,1:3])"
      ],
      "execution_count": 0,
      "outputs": []
    },
    {
      "cell_type": "markdown",
      "metadata": {
        "id": "-lXnP-frw2Cf",
        "colab_type": "text"
      },
      "source": [
        "---\n",
        "(d) Create a vector containing [1,2,3] and another containing [4,5,6]. Add the two vectors together. Multiply the two vectors element wise. Form the dot product of the two vectors."
      ]
    },
    {
      "cell_type": "code",
      "metadata": {
        "id": "AisQRSFQzt8u",
        "colab_type": "code",
        "colab": {}
      },
      "source": [
        "a=np.array((1,2,3))\n",
        "b=np.array((4,5,6))\n",
        "print(a,b)\n",
        "print(a+b)\n",
        "print(a*b)\n",
        "print(a.dot(b))"
      ],
      "execution_count": 0,
      "outputs": []
    }
  ]
}