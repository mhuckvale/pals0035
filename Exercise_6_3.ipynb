{
  "nbformat": 4,
  "nbformat_minor": 0,
  "metadata": {
    "colab": {
      "name": "Exercise_6_3.ipynb",
      "private_outputs": true,
      "provenance": [],
      "collapsed_sections": [],
      "include_colab_link": true
    },
    "kernelspec": {
      "name": "python3",
      "display_name": "Python 3"
    },
    "accelerator": "GPU"
  },
  "cells": [
    {
      "cell_type": "markdown",
      "metadata": {
        "id": "view-in-github",
        "colab_type": "text"
      },
      "source": [
        "<a href=\"https://colab.research.google.com/github/mhuckvale/pals0039/blob/master/Exercise_6_3.ipynb\" target=\"_parent\"><img src=\"https://colab.research.google.com/assets/colab-badge.svg\" alt=\"Open In Colab\"/></a>"
      ]
    },
    {
      "cell_type": "markdown",
      "metadata": {
        "id": "2EmK9NDDmMFU"
      },
      "source": [
        "[![PALS0039 Logo](https://www.phon.ucl.ac.uk/courses/pals0039/images/pals0039logo.png)](https://www.phon.ucl.ac.uk/courses/pals0039/)\n",
        "\n",
        "# Exercise 6.3\n",
        "\n",
        "In this exercise we build a phonetic recogniser that delivers for each 10ms frame of signal a probability distribution over phones.\n"
      ]
    },
    {
      "cell_type": "markdown",
      "metadata": {
        "id": "6qqZ55mQmQC7"
      },
      "source": [
        "---\n",
        "(a) Set up the standard modules. Run the code and add comments."
      ]
    },
    {
      "cell_type": "code",
      "metadata": {
        "id": "ToJ3IQy_mLgA"
      },
      "source": [
        "# \n",
        "import pandas as pd\n",
        "import numpy as np\n",
        "import matplotlib.pyplot as plt\n",
        "%matplotlib inline\n",
        "\n",
        "# \n",
        "%tensorflow_version 2.x\n",
        "from tensorflow.keras.models import Sequential, Model\n",
        "from tensorflow.keras.layers import Dense, Embedding, Flatten, SimpleRNN, LSTM, GRU, Bidirectional, Dropout, TimeDistributed\n",
        "from tensorflow.keras.preprocessing.sequence import pad_sequences"
      ],
      "execution_count": null,
      "outputs": []
    },
    {
      "cell_type": "markdown",
      "metadata": {
        "id": "VEIhjNOpmWCj"
      },
      "source": [
        "---\n",
        "(b) Read in the speech data and phone labels for training. Run the code and add comments."
      ]
    },
    {
      "cell_type": "code",
      "metadata": {
        "id": "r-f8xS9FmYkT"
      },
      "source": [
        "# \n",
        "PHONES={ \"sil\":0, \"b\":1, \"d\":2, \"g\":3, \"p\":4, \"t\":5, \"k\":6, \"dZ\":7, \"tS\":8, \n",
        "        \"m\":9, \"n\":10, \"N\":11, \"v\":12, \"D\":13, \"z\":14, \"Z\":15, \"f\":16, \"T\":17, \n",
        "        \"s\":18, \"S\":19, \"h\":20, \"r\":21, \"w\":22, \"l\":23, \"j\":24, \"i:\":25, \n",
        "        \"I\":26, \"e\":27, \"{\":28, \"V\":29, \"A:\":30, \"O:\":31, \"U\":32, \"u:\":33, \n",
        "        \"3:\":34, \"@\":35, \"aI\":36, \"eI\":37, \"OI\":38, \"aU\":39, \"@U\":40 }\n",
        "\n",
        "# \n",
        "def prepare_data_single(filename):\n",
        "  # \n",
        "  df=pd.read_csv(filename)\n",
        "  # \n",
        "  nvec=len(df)\n",
        "  # \n",
        "  feats=df.iloc[:,2:].to_numpy();\n",
        "  # \n",
        "  labels=np.array(list(map(PHONES.get, df.LABEL)))\n",
        "  # \n",
        "  p = np.random.permutation(nvec)\n",
        "  return feats[p,:],labels[p]\n",
        "\n",
        "# \n",
        "Xtrain, ytrain = prepare_data_single(\"https://www.phon.ucl.ac.uk/courses/pals0039/data/phone-train.csv\")\n",
        "Xval, yval = prepare_data_single(\"https://www.phon.ucl.ac.uk/courses/pals0039/data/phone-valid.csv\")\n",
        "Xtest, ytest = prepare_data_single(\"https://www.phon.ucl.ac.uk/courses/pals0039/data/phone-test.csv\")\n",
        "\n",
        "#\n",
        "print(Xtrain.shape,ytrain.shape)\n",
        "print(Xval.shape,yval.shape)\n",
        "print(Xtest.shape,ytest.shape)\n",
        "\n",
        "# \n",
        "print(Xtrain[:10,:])\n",
        "print(ytrain[:10])"
      ],
      "execution_count": null,
      "outputs": []
    },
    {
      "cell_type": "markdown",
      "metadata": {
        "id": "5VlJ6-65r6GX"
      },
      "source": [
        "---\n",
        "(c) Build a simple context-free model. Run the code and add comments."
      ]
    },
    {
      "cell_type": "code",
      "metadata": {
        "id": "4jizVSVdqaRJ"
      },
      "source": [
        "# \n",
        "isize=Xtrain.shape[1]\n",
        "osize=len(PHONES)\n",
        "\n",
        "# \n",
        "model = Sequential()\n",
        "model.add(Dense(40,activation='tanh',input_shape=(isize,)))\n",
        "model.add(Dense(40,activation='tanh'))\n",
        "model.add(Dense(osize, activation='softmax'));\n",
        "#\n",
        "# \n",
        "model.compile(loss='sparse_categorical_crossentropy', optimizer='rmsprop', metrics=['accuracy'])\n",
        "print(model.summary())"
      ],
      "execution_count": null,
      "outputs": []
    },
    {
      "cell_type": "markdown",
      "metadata": {
        "id": "kvfxMdXnsa8e"
      },
      "source": [
        "---\n",
        "(d) Train the simple model. Run the code and add comments."
      ]
    },
    {
      "cell_type": "code",
      "metadata": {
        "id": "TrOQnEKksdNW"
      },
      "source": [
        "#\n",
        "history=model.fit(Xtrain,ytrain, batch_size=256, validation_data=(Xval,yval), epochs=25)\n",
        "loss,accuracy=model.evaluate(Xtest,ytest)\n",
        "print(\"Loss=%.3f Accuracy=%.1f%%\" % (loss,100*accuracy))"
      ],
      "execution_count": null,
      "outputs": []
    },
    {
      "cell_type": "markdown",
      "metadata": {
        "id": "TIrUW9RquNKH"
      },
      "source": [
        "---\n",
        "(e) Read in the data again and prepare it for the sequence model. Run the code and add comments."
      ]
    },
    {
      "cell_type": "code",
      "metadata": {
        "id": "twPEuumNuSul"
      },
      "source": [
        "# \n",
        "def prepare_data_sequence(filename,seqlen):\n",
        "  # \n",
        "  df=pd.read_csv(filename)\n",
        "  # \n",
        "  nvec=len(df)\n",
        "  nseq=nvec//seqlen\n",
        "  # \n",
        "  nfeat=len(df.columns)-2\n",
        "  # \n",
        "  feats=df.iloc[:(nseq*seqlen),2:].to_numpy();\n",
        "  # \n",
        "  feats=np.reshape(feats,(nseq,seqlen,nfeat))\n",
        "  # \n",
        "  labels=np.array(list(map(PHONES.get, df.LABEL)))\n",
        "  # \n",
        "  labels=np.reshape(labels[:(nseq*seqlen)],(nseq,seqlen))\n",
        "  # \n",
        "  p = np.random.permutation(nseq)\n",
        "  return feats[p,:,:],labels[p,:]\n",
        "\n",
        "# \n",
        "Xtrain, ytrain = prepare_data_sequence(\"https://www.phon.ucl.ac.uk/courses/pals0039/data/phone-train.csv\",200)\n",
        "Xval, yval = prepare_data_sequence(\"https://www.phon.ucl.ac.uk/courses/pals0039/data/phone-valid.csv\",200)\n",
        "Xtest, ytest = prepare_data_sequence(\"https://www.phon.ucl.ac.uk/courses/pals0039/data/phone-test.csv\",200)\n",
        "\n",
        "# \n",
        "print(Xtrain.shape,ytrain.shape)\n",
        "print(Xval.shape,yval.shape)\n",
        "print(Xtest.shape,ytest.shape)\n"
      ],
      "execution_count": null,
      "outputs": []
    },
    {
      "cell_type": "markdown",
      "metadata": {
        "id": "LKaibQgCv2r1"
      },
      "source": [
        "---\n",
        "(f) Build a sequence model with LSTM nodes. Run the code and add comments."
      ]
    },
    {
      "cell_type": "code",
      "metadata": {
        "id": "73slTtUev4tD"
      },
      "source": [
        "# \n",
        "seqlen=Xtrain.shape[1]\n",
        "isize=Xtrain.shape[2]\n",
        "osize=len(PHONES)\n",
        "\n",
        "#\n",
        "model = Sequential()\n",
        "model.add(Bidirectional(LSTM(32,return_sequences=True),input_shape=(seqlen,isize),merge_mode='ave'))\n",
        "model.add(Bidirectional(LSTM(32,return_sequences=True),merge_mode='ave'))\n",
        "model.add(TimeDistributed(Dense(osize, activation='softmax')))\n",
        "#\n",
        "# \n",
        "model.compile(loss='sparse_categorical_crossentropy', optimizer='rmsprop', metrics=['accuracy'])\n",
        "print(model.summary())"
      ],
      "execution_count": null,
      "outputs": []
    },
    {
      "cell_type": "markdown",
      "metadata": {
        "id": "pVMGPDU-w3MM"
      },
      "source": [
        "---\n",
        "(g) Train sequence model. Run the code and add comments."
      ]
    },
    {
      "cell_type": "code",
      "metadata": {
        "id": "vWg2N_ARw5Ti"
      },
      "source": [
        "# \n",
        "history=model.fit(Xtrain,ytrain, batch_size=16, validation_data=(Xval,yval), epochs=25)\n",
        "loss,accuracy=model.evaluate(Xtest,ytest)\n",
        "print(\"Loss=%.3f Accuracy=%.1f%%\" % (loss,100*accuracy))"
      ],
      "execution_count": null,
      "outputs": []
    },
    {
      "cell_type": "markdown",
      "metadata": {
        "id": "wKpRICU-xm1R"
      },
      "source": [
        "---\n",
        "(h) Analyse network performance by phone. Run the code and add comments."
      ]
    },
    {
      "cell_type": "code",
      "metadata": {
        "id": "EgxqOf0jZo0F"
      },
      "source": [
        "# \n",
        "ypred=model.predict(Xtest)\n",
        "ypred=np.reshape(ypred,(ypred.shape[0]*ypred.shape[1],ypred.shape[2]))\n",
        "ypred=np.argmax(ypred,axis=1)\n",
        "ytrue=np.reshape(ytest,(ytest.shape[0]*ytest.shape[1],))\n",
        "\n",
        "# \n",
        "labellist=PHONES.keys()\n",
        "\n",
        "# \n",
        "y_actu = pd.Categorical.from_codes(ytrue, categories=labellist)\n",
        "y_pred = pd.Categorical.from_codes(ypred, categories=labellist)\n",
        "df_confusion = pd.crosstab(y_actu, y_pred, margins=False, normalize='index',dropna=False)\n",
        "df_confusion\n"
      ],
      "execution_count": null,
      "outputs": []
    },
    {
      "cell_type": "markdown",
      "metadata": {
        "id": "_5p4ZkZ34Q91"
      },
      "source": [
        "---\n",
        "(i) Plot some phone posteriors. Run the code and add comments."
      ]
    },
    {
      "cell_type": "code",
      "metadata": {
        "id": "WJbAqPvh4UYl"
      },
      "source": [
        "# \n",
        "id2phn={}\n",
        "for k,v in PHONES.items():\n",
        "  id2phn[v]=k\n",
        "\n",
        "# \n",
        "ypred=model.predict(Xtest)\n",
        "seq=ypred[0]\n",
        "lab=ytest[0]\n",
        "phn=[id2phn[lab[0]]]\n",
        "for l in lab:\n",
        "  if id2phn[l] != phn[-1]:\n",
        "    phn.append(id2phn[l])\n",
        "\n",
        "# \n",
        "plt.figure(figsize=(15,10))\n",
        "plt.imshow(seq.T,origin='lower',cmap='binary',aspect='auto')\n",
        "ax = plt.gca()\n",
        "ax.set_yticks(range(41))\n",
        "ax.set_yticklabels(labellist)\n",
        "ax.tick_params(axis='y', which='both', labelleft='on', labelright='on')\n",
        "plt.title(\" \".join(phn))\n",
        "plt.show()"
      ],
      "execution_count": null,
      "outputs": []
    },
    {
      "cell_type": "markdown",
      "metadata": {
        "id": "4iTKNWisj_AE"
      },
      "source": [
        "---\n",
        "(j) Plot the loss and accuracy curves after training the RNN. Plot the confusion matrix as a grey-scale image (see Exercise 5.3). Experiment with the network architecture and training to find the best performing network for this problem."
      ]
    }
  ]
}