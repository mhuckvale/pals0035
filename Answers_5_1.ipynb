{
  "nbformat": 4,
  "nbformat_minor": 0,
  "metadata": {
    "colab": {
      "name": "Answers_5_1.ipynb",
      "private_outputs": true,
      "provenance": [],
      "collapsed_sections": [],
      "include_colab_link": true
    },
    "kernelspec": {
      "name": "python3",
      "display_name": "Python 3"
    }
  },
  "cells": [
    {
      "cell_type": "markdown",
      "metadata": {
        "id": "view-in-github",
        "colab_type": "text"
      },
      "source": [
        "<a href=\"https://colab.research.google.com/github/mhuckvale/pals0039/blob/master/Answers_5_1.ipynb\" target=\"_parent\"><img src=\"https://colab.research.google.com/assets/colab-badge.svg\" alt=\"Open In Colab\"/></a>"
      ]
    },
    {
      "cell_type": "markdown",
      "metadata": {
        "id": "30escY0BvQ9Z"
      },
      "source": [
        "[![PALS0039 Logo](https://www.phon.ucl.ac.uk/courses/pals0039/images/pals0039logo.png)](https://www.phon.ucl.ac.uk/courses/pals0039/)\n",
        "\n",
        "#Exercise 5.1 Answers\n",
        "\n",
        "In this exercise, we investigate [WordNet](https://wordnet.princeton.edu/) to explore the meanings of words, their relationships and similarities.\n",
        "\n",
        "[Description of the WordNet functions in NLTK](https://www.nltk.org/howto/wordnet.html)."
      ]
    },
    {
      "cell_type": "markdown",
      "metadata": {
        "id": "u4jh1hfhAfoX"
      },
      "source": [
        "---\r\n",
        "(a) Import WordNet. Run the code and add comments"
      ]
    },
    {
      "cell_type": "code",
      "metadata": {
        "id": "lPXDz_8XvMTF"
      },
      "source": [
        "# import the NLTK toolkit\n",
        "import nltk\n",
        "# download the wordnet corpus\n",
        "nltk.download('wordnet')\n",
        "# import the wordnet object\n",
        "from nltk.corpus import wordnet as wn\n"
      ],
      "execution_count": null,
      "outputs": []
    },
    {
      "cell_type": "markdown",
      "metadata": {
        "id": "4D2looc6Aitf"
      },
      "source": [
        "---\n",
        "(b) Research some synsets. Run the code and add comments. Then try out the code with some different words."
      ]
    },
    {
      "cell_type": "code",
      "metadata": {
        "id": "c5F0X4VcvhD3"
      },
      "source": [
        "# select the word to investigate\n",
        "word='leg'\n",
        "#word=input(\"Enter word:\")\n",
        "\n",
        "# find all the synsets for the work\n",
        "syns=wn.synsets(word)\n",
        "\n",
        "# print out all the synsets\n",
        "for s in syns:\n",
        "  # print definition of synset\n",
        "  print(s,\":\",s.definition())\n",
        "  # print out related lemmas\n",
        "  lemmas=s.lemmas()\n",
        "  print(\"    Lemmas:\" ,lemmas)\n",
        "  # print out related words\n",
        "  print(\"    Hypernyms:\",[hyp.name() for hyp in s.hypernyms()])\n",
        "  print(\"    Hyponyms:\",[hyp.name() for hyp in s.hyponyms()])\n",
        "  print(\"    Holonyms:\",[hol.name() for hol in s.part_holonyms()])\n",
        "  print(\"    Meronyms:\",[mer.name() for mer in s.part_meronyms()])\n",
        "\n"
      ],
      "execution_count": null,
      "outputs": []
    },
    {
      "cell_type": "markdown",
      "metadata": {
        "id": "T1PcRbf8AnX3"
      },
      "source": [
        "---\n",
        "(c) Research some word similarities. Run the code and add comments. Then try out similarities between other words."
      ]
    },
    {
      "cell_type": "code",
      "metadata": {
        "id": "0uNZTF4ZyCW-"
      },
      "source": [
        "# select some synsets\n",
        "dog = wn.synset('dog.n.01')\n",
        "cat = wn.synset('cat.n.01')\n",
        "hit = wn.synset('hit.v.01')\n",
        "slap = wn.synset('slap.v.01')\n",
        "\n",
        "# print path similarity\n",
        "print(\"ps(dog:dog)\",dog.path_similarity(dog))\n",
        "print(\"ps(dog:cat)\",dog.path_similarity(cat))\n",
        "print(\"ps(hit:slap)\",hit.path_similarity(slap))\n",
        "\n",
        "# print Leacock-Chodorow Similarity\n",
        "print(\"lch(dog:cat)\",dog.lch_similarity(cat))\n",
        "print(\"lch(hit:slap)\",hit.lch_similarity(slap))\n",
        "\n",
        "# print Wu-Palmer Similarity\n",
        "print(\"wup(dog:cat)\",dog.wup_similarity(cat))\n",
        "print(\"wup(hit:slap)\",hit.wup_similarity(slap))\n"
      ],
      "execution_count": null,
      "outputs": []
    },
    {
      "cell_type": "markdown",
      "metadata": {
        "id": "y-pxaeA0rCe-"
      },
      "source": [
        "---\r\n",
        "(d) Load the SimLex-999 corpus and explore.\r\n",
        "\r\n",
        "[Details about the SimLex-999 data set](https://www.phon.ucl.ac.uk/courses/pals0039/data/simlex-readme.txt).\r\n"
      ]
    },
    {
      "cell_type": "code",
      "metadata": {
        "id": "jAvnQHyQrMb8"
      },
      "source": [
        "# import the pandas library\r\n",
        "import pandas as pd\r\n",
        "\r\n",
        "# load the simlex-999 dataset\r\n",
        "df=pd.read_csv('https://www.phon.ucl.ac.uk/courses/pals0039/data/simlex-999.csv')\r\n",
        "df.head()"
      ],
      "execution_count": null,
      "outputs": []
    },
    {
      "cell_type": "markdown",
      "metadata": {
        "id": "lW8BHMA7tYn0"
      },
      "source": [
        "---\r\n",
        "(e) Compare the similarities measured in SimLex-999 with some values estimated by WordNet. You will need to select a few word pairs from SimLex, find their SynSets in WordNet and use one of the similarity measures from (c). You might calculate some correlations or plot a scatter graph. "
      ]
    }
  ]
}