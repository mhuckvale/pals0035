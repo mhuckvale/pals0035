{
  "nbformat": 4,
  "nbformat_minor": 0,
  "metadata": {
    "colab": {
      "name": "Answers_5_1.ipynb",
      "provenance": [],
      "private_outputs": true,
      "collapsed_sections": [],
      "include_colab_link": true
    },
    "kernelspec": {
      "name": "python3",
      "display_name": "Python 3"
    }
  },
  "cells": [
    {
      "cell_type": "markdown",
      "metadata": {
        "id": "view-in-github",
        "colab_type": "text"
      },
      "source": [
        "<a href=\"https://colab.research.google.com/github/mhuckvale/pals0039/blob/master/Answers_5_1.ipynb\" target=\"_parent\"><img src=\"https://colab.research.google.com/assets/colab-badge.svg\" alt=\"Open In Colab\"/></a>"
      ]
    },
    {
      "cell_type": "markdown",
      "metadata": {
        "id": "30escY0BvQ9Z",
        "colab_type": "text"
      },
      "source": [
        "[![PALS0039 Logo](https://www.phon.ucl.ac.uk/courses/pals0039/images/pals0039logo.png)](https://www.phon.ucl.ac.uk/courses/pals0039/)\n",
        "\n",
        "#Exercise 5.1 Answers\n",
        "\n",
        "In this exercise, we explore the use WordNet to desribe th meanings of words, their relationships and similarities."
      ]
    },
    {
      "cell_type": "markdown",
      "metadata": {
        "id": "u4jh1hfhAfoX",
        "colab_type": "text"
      },
      "source": [
        "(a) Import WordNet. Run the code and add comments"
      ]
    },
    {
      "cell_type": "code",
      "metadata": {
        "id": "lPXDz_8XvMTF",
        "colab_type": "code",
        "colab": {}
      },
      "source": [
        "# import the NLTK toolkit\n",
        "import nltk\n",
        "# download the wordnet corpus\n",
        "nltk.download('wordnet')\n",
        "# import the wordnet object\n",
        "from nltk.corpus import wordnet as wn\n"
      ],
      "execution_count": 0,
      "outputs": []
    },
    {
      "cell_type": "markdown",
      "metadata": {
        "id": "4D2looc6Aitf",
        "colab_type": "text"
      },
      "source": [
        "---\n",
        "(b) Research some synsets. Run the code and add comments. Then try out the code with some different words."
      ]
    },
    {
      "cell_type": "code",
      "metadata": {
        "id": "c5F0X4VcvhD3",
        "colab_type": "code",
        "colab": {}
      },
      "source": [
        "# select the word to investgate\n",
        "word='car'\n",
        "\n",
        "# find all the synsets for the work\n",
        "syns=wn.synsets(word)\n",
        "\n",
        "# print out all the synsets\n",
        "for s in syns:\n",
        "  # print definition of synset\n",
        "  print(s,\":\",s.definition())\n",
        "  # print out related lemmas\n",
        "  lemmas=s.lemmas()\n",
        "  print(\"    Lemmas:\" ,lemmas)\n",
        "  # print out related words\n",
        "  print(\"    Hypernyms:\",[hyp.name() for hyp in s.hypernyms()])\n",
        "  print(\"    Hyponyms:\",[hyp.name() for hyp in s.hyponyms()])\n",
        "  print(\"    Holonyms:\",[hol.name() for hol in s.part_holonyms()])\n",
        "  print(\"    Meronyms:\",[mer.name() for mer in s.part_meronyms()])\n",
        "\n"
      ],
      "execution_count": 0,
      "outputs": []
    },
    {
      "cell_type": "markdown",
      "metadata": {
        "id": "T1PcRbf8AnX3",
        "colab_type": "text"
      },
      "source": [
        "---\n",
        "(c) Research some word similarities. Run the code and add comments. Then try out similarities between other words."
      ]
    },
    {
      "cell_type": "code",
      "metadata": {
        "id": "0uNZTF4ZyCW-",
        "colab_type": "code",
        "colab": {}
      },
      "source": [
        "# select some synsets\n",
        "dog = wn.synset('dog.n.01')\n",
        "cat = wn.synset('cat.n.01')\n",
        "hit = wn.synset('hit.v.01')\n",
        "slap = wn.synset('slap.v.01')\n",
        "\n",
        "# print path similarity\n",
        "print(\"ps(dog:dog)\",dog.path_similarity(dog))\n",
        "print(\"ps(dog:cat)\",dog.path_similarity(cat))\n",
        "print(\"ps(hit:slap)\",hit.path_similarity(slap))\n",
        "\n",
        "# print Leacock-Chodorow Similarity\n",
        "print(\"lch(dog:cat)\",dog.lch_similarity(cat))\n",
        "print(\"lch(hit:slap)\",hit.lch_similarity(slap))\n",
        "\n",
        "# print Wu-Palmer Similarity\n",
        "print(\"wup(dog:cat)\",dog.wup_similarity(cat))\n",
        "print(\"wup(hit:slap)\",hit.wup_similarity(slap))\n"
      ],
      "execution_count": 0,
      "outputs": []
    }
  ]
}