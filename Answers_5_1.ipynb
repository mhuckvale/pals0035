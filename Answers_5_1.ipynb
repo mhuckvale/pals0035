{
  "nbformat": 4,
  "nbformat_minor": 0,
  "metadata": {
    "colab": {
      "name": "Answers_5_1.ipynb",
      "provenance": [],
      "private_outputs": true,
      "collapsed_sections": [],
      "include_colab_link": true
    },
    "kernelspec": {
      "name": "python3",
      "display_name": "Python 3"
    }
  },
  "cells": [
    {
      "cell_type": "markdown",
      "metadata": {
        "id": "view-in-github",
        "colab_type": "text"
      },
      "source": [
        "<a href=\"https://colab.research.google.com/github/mhuckvale/pals0039/blob/master/Answers_5_1.ipynb\" target=\"_parent\"><img src=\"https://colab.research.google.com/assets/colab-badge.svg\" alt=\"Open In Colab\"/></a>"
      ]
    },
    {
      "cell_type": "markdown",
      "metadata": {
        "id": "30escY0BvQ9Z",
        "colab_type": "text"
      },
      "source": [
        "[![PALS0039 Logo](https://www.phon.ucl.ac.uk/courses/pals0039/images/pals0039logo.png)](https://www.phon.ucl.ac.uk/courses/pals0039/)\n",
        "\n",
        "#Exercise 5.1 Answers"
      ]
    },
    {
      "cell_type": "markdown",
      "metadata": {
        "id": "u4jh1hfhAfoX",
        "colab_type": "text"
      },
      "source": [
        "(a) import WordNet"
      ]
    },
    {
      "cell_type": "code",
      "metadata": {
        "id": "lPXDz_8XvMTF",
        "colab_type": "code",
        "colab": {}
      },
      "source": [
        "import nltk\n",
        "nltk.download('wordnet')\n",
        "from nltk.corpus import wordnet as wn\n"
      ],
      "execution_count": 0,
      "outputs": []
    },
    {
      "cell_type": "markdown",
      "metadata": {
        "id": "4D2looc6Aitf",
        "colab_type": "text"
      },
      "source": [
        "(b) research some synsets"
      ]
    },
    {
      "cell_type": "code",
      "metadata": {
        "id": "c5F0X4VcvhD3",
        "colab_type": "code",
        "colab": {}
      },
      "source": [
        "word='car'\n",
        "car_syns=wn.synsets(word)\n",
        "#print(car_syns)\n",
        "#syns_defs=[car_syns[i].definition() for i in range(len(car_syns))]\n",
        "#print(syns_defs)\n",
        "for s in car_syns:\n",
        "  print(s,s.definition())\n",
        "\n",
        "car_lemmas=car_syns[0].lemmas()\n",
        "print(car_lemmas)\n",
        "\n",
        "syn=car_syns[0]\n",
        "print(\"hyponyms:\",[hypo.name() for hypo in syn.hyponyms()])\n",
        "syn=car_syns[2]\n",
        "print(\"holonyms:\",[holo.name() for holo in syn.part_holonyms()])\n",
        "syn=car_syns[0]\n",
        "print(\"meronyms:\",[mero.name() for mero in syn.part_meronyms()])\n",
        "\n"
      ],
      "execution_count": 0,
      "outputs": []
    },
    {
      "cell_type": "markdown",
      "metadata": {
        "id": "T1PcRbf8AnX3",
        "colab_type": "text"
      },
      "source": [
        "(c) research some word similarities"
      ]
    },
    {
      "cell_type": "code",
      "metadata": {
        "id": "0uNZTF4ZyCW-",
        "colab_type": "code",
        "colab": {}
      },
      "source": [
        "dog = wn.synset('dog.n.01')\n",
        "cat = wn.synset('cat.n.01')\n",
        "hit = wn.synset('hit.v.01')\n",
        "slap = wn.synset('slap.v.01')\n",
        "\n",
        "print(\"ps(dog:cat)\",dog.path_similarity(cat))\n",
        "print(\"ps(hit:slap)\",hit.path_similarity(slap))\n",
        "print(\"lch(dog:cat)\",dog.lch_similarity(cat))\n",
        "print(\"lch(hit:slap)\",hit.lch_similarity(slap))\n",
        "print(\"wup(dog:cat)\",dog.wup_similarity(cat))\n",
        "print(\"wup(hit:slap)\",hit.wup_similarity(slap))\n"
      ],
      "execution_count": 0,
      "outputs": []
    },
    {
      "cell_type": "markdown",
      "metadata": {
        "id": "EKoaVzN5AsMu",
        "colab_type": "text"
      },
      "source": [
        "(d) research some morphological analysis"
      ]
    },
    {
      "cell_type": "code",
      "metadata": {
        "id": "PMjfePrEzfFM",
        "colab_type": "code",
        "colab": {}
      },
      "source": [
        "print(wn.morphy('denied', wn.NOUN))\n",
        "print(wn.morphy('denied', wn.VERB))\n",
        "print(wn.synsets('denied', wn.NOUN))\n",
        "print(wn.synsets('denied', wn.VERB))\n",
        "\n",
        "print(wn.morphy('dogs'))\n",
        "print(wn.morphy('churches'))\n",
        "print(wn.morphy('aardwolves'))\n",
        "print(wn.morphy('abaci'))\n",
        "print(wn.morphy('book', wn.NOUN))\n",
        "print(wn.morphy('hardrock', wn.ADV))\n",
        "print(wn.morphy('book', wn.ADJ))\n",
        "print(wn.morphy('his', wn.NOUN))\n"
      ],
      "execution_count": 0,
      "outputs": []
    }
  ]
}