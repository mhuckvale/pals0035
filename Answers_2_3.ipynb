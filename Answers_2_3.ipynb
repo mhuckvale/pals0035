{
  "nbformat": 4,
  "nbformat_minor": 0,
  "metadata": {
    "colab": {
      "name": "Answers_2_3.ipynb",
      "provenance": [],
      "private_outputs": true,
      "collapsed_sections": [],
      "include_colab_link": true
    },
    "kernelspec": {
      "name": "python3",
      "display_name": "Python 3"
    }
  },
  "cells": [
    {
      "cell_type": "markdown",
      "metadata": {
        "id": "view-in-github",
        "colab_type": "text"
      },
      "source": [
        "<a href=\"https://colab.research.google.com/github/mhuckvale/pals0039/blob/master/Answers_2_3.ipynb\" target=\"_parent\"><img src=\"https://colab.research.google.com/assets/colab-badge.svg\" alt=\"Open In Colab\"/></a>"
      ]
    },
    {
      "cell_type": "markdown",
      "metadata": {
        "id": "iVyGSWa50Jli",
        "colab_type": "text"
      },
      "source": [
        "[PALS0039 Introduction to Deep Learning for Speech and Language Processing](https://www.phon.ucl.ac.uk/courses/pals0039/)\n",
        "\n",
        "#Exercise 2.3 Answers"
      ]
    },
    {
      "cell_type": "markdown",
      "metadata": {
        "id": "mcxVFZU60ONa",
        "colab_type": "text"
      },
      "source": [
        "(a) The following code reads in and summarises a data set of vowel formant measurements. Run the code and add comments to describe what is happening in each step."
      ]
    },
    {
      "cell_type": "code",
      "metadata": {
        "id": "etXkZPRl0GTj",
        "colab_type": "code",
        "colab": {}
      },
      "source": [
        "import numpy as np\n",
        "import pandas as pd\n",
        "import matplotlib.pyplot as plt\n",
        "%matplotlib inline\n",
        "\n",
        "df=pd.read_csv(\"https://www.phon.ucl.ac.uk/courses/pals0039/data/vowels.csv\")\n",
        "df.head()"
      ],
      "execution_count": 0,
      "outputs": []
    },
    {
      "cell_type": "code",
      "metadata": {
        "id": "VYB5NPmY1m8i",
        "colab_type": "code",
        "colab": {}
      },
      "source": [
        "df.describe()"
      ],
      "execution_count": 0,
      "outputs": []
    },
    {
      "cell_type": "markdown",
      "metadata": {
        "id": "FrTV6PbR1x45",
        "colab_type": "text"
      },
      "source": [
        "---\n",
        "(b) Plot boxplots of F1, F2 and HEIGHT broken down by SEX."
      ]
    },
    {
      "cell_type": "code",
      "metadata": {
        "id": "UOsBYyfd2E3b",
        "colab_type": "code",
        "colab": {}
      },
      "source": [
        "male=df.loc[df.SEX==\"male\",]\n",
        "female=df.loc[df.SEX==\"female\"]\n",
        "plt.figure(figsize=(16,5))\n",
        "\n",
        "plt.subplot(1,3,1)\n",
        "f1=[male.F1,female.F1]\n",
        "plt.boxplot(f1,labels=(\"male\",\"female\"))\n",
        "plt.xlabel(\"Sex\")\n",
        "plt.ylabel(\"F1 (Hz)\")\n",
        "\n",
        "plt.subplot(1,3,2)\n",
        "f2=[male.F2,female.F2]\n",
        "plt.boxplot(f2,labels=(\"male\",\"female\"))\n",
        "plt.xlabel(\"Sex\")\n",
        "plt.ylabel(\"F2 (Hz)\")\n",
        "\n",
        "plt.subplot(1,3,3)\n",
        "ht=[male.HEIGHT,female.HEIGHT]\n",
        "plt.boxplot(ht,labels=(\"male\",\"female\"))\n",
        "plt.xlabel(\"Sex\")\n",
        "plt.ylabel(\"Height (cm)\")\n",
        "plt.show()\n"
      ],
      "execution_count": 0,
      "outputs": []
    },
    {
      "cell_type": "markdown",
      "metadata": {
        "id": "ntNyatxm5Szp",
        "colab_type": "text"
      },
      "source": [
        "---\n",
        "(c) Create a new column in which the vowels are represented as numbers. Use the vowel numbers to plot an F1-F2 scatter plot with different colours for the different vowels. "
      ]
    },
    {
      "cell_type": "code",
      "metadata": {
        "id": "u2N3kjul5-R1",
        "colab_type": "code",
        "colab": {}
      },
      "source": [
        "df[\"VOWEL\"]=df.VOWEL.astype(\"category\")\n",
        "df[\"VOWELIDX\"]=df.VOWEL.cat.codes\n",
        "print(df.VOWEL.cat.categories)\n",
        "print(df.VOWELIDX)\n",
        "plt.figure(figsize=(10,10))\n",
        "plt.scatter(df.F2,df.F1,c=df.VOWELIDX,cmap=\"tab10\")\n",
        "plt.axis([3000,500,1100,100])\n",
        "plt.xlabel(\"F2 (Hz)\")\n",
        "plt.ylabel(\"F1 (Hz)\")\n",
        "plt.grid()\n",
        "plt.show()"
      ],
      "execution_count": 0,
      "outputs": []
    },
    {
      "cell_type": "markdown",
      "metadata": {
        "id": "gnC34v3Xz_bw",
        "colab_type": "text"
      },
      "source": [
        "---\n",
        "(d) Build a simple vowel classifier based on formant frequencies. A simple approach would be to take each vowel in turn and find the 5 closest other vowels - selecting a label based on the most common.\n"
      ]
    },
    {
      "cell_type": "code",
      "metadata": {
        "id": "SiRORZ_mzvey",
        "colab_type": "code",
        "colab": {}
      },
      "source": [
        "from math import sqrt\n",
        "def distance(df,row1,row2):\n",
        "  return(sqrt((df.F1[row1]-df.F1[row2])**2+(df.F2[row1]-df.F2[row2])**2))\n",
        "def getneighbours(df,row,n=5):\n",
        "  distances = []\n",
        "  for i in range(len(df)):\n",
        "    distances.append(distance(df,row,i))\n",
        "  #print(distances)\n",
        "  index=np.argsort(distances)\n",
        "  #print(index)\n",
        "  neighbours = index[1:n+1]\n",
        "  return neighbours\n",
        "def vote(df,neighbours):\n",
        "  counts=df.iloc[neighbours,2].value_counts()\n",
        "  #print(counts)\n",
        "  return counts.index[0]\n",
        "\n",
        "df=pd.read_csv(\"https://www.phon.ucl.ac.uk/courses/pals0039/data/vowels.csv\")\n",
        "\n",
        "#df.F1 = (df.F1-df.F1.mean())/df.F1.std()\n",
        "#df.F2 = (df.F2-df.F2.mean())/df.F2.std()\n",
        "\n",
        "correct=0\n",
        "total=0\n",
        "for i in range(len(df)):\n",
        "  neighbours=getneighbours(df,i)\n",
        "  #print(df.iloc[neighbours])\n",
        "  vowel=vote(df,neighbours)\n",
        "  print(i,df.VOWEL[i],vowel)\n",
        "  if (df.VOWEL[i]==vowel):\n",
        "    correct += 1\n",
        "  total += 1\n",
        "print(\"Correct = %d/%d (%.1f%%)\" % (correct,total,100.0*correct/total))\n"
      ],
      "execution_count": 0,
      "outputs": []
    }
  ]
}