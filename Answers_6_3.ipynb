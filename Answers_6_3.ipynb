{
  "nbformat": 4,
  "nbformat_minor": 0,
  "metadata": {
    "colab": {
      "name": "Answers_6_3.ipynb",
      "provenance": [],
      "private_outputs": true,
      "collapsed_sections": [],
      "include_colab_link": true
    },
    "kernelspec": {
      "name": "python3",
      "display_name": "Python 3"
    },
    "accelerator": "GPU"
  },
  "cells": [
    {
      "cell_type": "markdown",
      "metadata": {
        "id": "view-in-github",
        "colab_type": "text"
      },
      "source": [
        "<a href=\"https://colab.research.google.com/github/mhuckvale/pals0039/blob/master/Answers_6_3.ipynb\" target=\"_parent\"><img src=\"https://colab.research.google.com/assets/colab-badge.svg\" alt=\"Open In Colab\"/></a>"
      ]
    },
    {
      "cell_type": "markdown",
      "metadata": {
        "id": "2EmK9NDDmMFU",
        "colab_type": "text"
      },
      "source": [
        "[![PALS0039 Logo](https://www.phon.ucl.ac.uk/courses/pals0039/images/pals0039logo.png)](https://www.phon.ucl.ac.uk/courses/pals0039/)\n",
        "\n",
        "# Exercise 6.3 Answers\n"
      ]
    },
    {
      "cell_type": "markdown",
      "metadata": {
        "id": "6qqZ55mQmQC7",
        "colab_type": "text"
      },
      "source": [
        "(a) Set up"
      ]
    },
    {
      "cell_type": "code",
      "metadata": {
        "id": "ToJ3IQy_mLgA",
        "colab_type": "code",
        "colab": {}
      },
      "source": [
        "import pandas as pd\n",
        "import numpy as np\n",
        "import matplotlib.pyplot as plt\n",
        "%matplotlib inline\n",
        "\n",
        "%tensorflow_version 2.x\n",
        "from tensorflow.keras.models import Sequential, Model\n",
        "from tensorflow.keras.layers import Dense, Embedding, Flatten, SimpleRNN, LSTM, GRU, Bidirectional, Dropout, TimeDistributed\n",
        "from tensorflow.keras.preprocessing.sequence import pad_sequences"
      ],
      "execution_count": 0,
      "outputs": []
    },
    {
      "cell_type": "markdown",
      "metadata": {
        "id": "VEIhjNOpmWCj",
        "colab_type": "text"
      },
      "source": [
        "(b) import phone data"
      ]
    },
    {
      "cell_type": "code",
      "metadata": {
        "id": "r-f8xS9FmYkT",
        "colab_type": "code",
        "colab": {}
      },
      "source": [
        "# coding\n",
        "PHONES={ \"sil\":0, \"b\":1, \"d\":2, \"g\":3, \"p\":4, \"t\":5, \"k\":6, \"dZ\":7, \"tS\":8, \"m\":9, \"n\":10, \"N\":11, \"v\":12, \"D\":13, \"z\":14, \"Z\":15, \"f\":16, \"T\":17, \"s\":18, \"S\":19, \"h\":20, \"r\":21, \"w\":22, \"l\":23, \"j\":24, \"i:\":25, \"I\":26, \"e\":27, \"{\":28, \"V\":29, \"A:\":30, \"O:\":31, \"U\":32, \"u:\":33, \"3:\":34, \"@\":35, \"aI\":36, \"eI\":37, \"OI\":38, \"aU\":39, \"@U\":40 }\n",
        "\n",
        "def prepare_data_single(filename):\n",
        "  df=pd.read_csv(filename)\n",
        "  nvec=len(df)\n",
        "  feats=df.iloc[:,2:].to_numpy();\n",
        "  labels=np.array(list(map(PHONES.get, df.LABEL)))\n",
        "  p = np.random.permutation(nvec)\n",
        "  return feats[p,:],labels[p]\n",
        "\n",
        "Xtest, ytest = prepare_data_single(\"https://www.phon.ucl.ac.uk/courses/pals0039/data/phone-test.csv\")\n",
        "Xtrain, ytrain = prepare_data_single(\"https://www.phon.ucl.ac.uk/courses/pals0039/data/phone-train.csv\")\n",
        "Xval, yval = prepare_data_single(\"https://www.phon.ucl.ac.uk/courses/pals0039/data/phone-valid.csv\")\n",
        "\n",
        "print(Xtrain.shape,ytrain.shape)\n",
        "print(Xval.shape,yval.shape)\n",
        "print(Xtest.shape,ytest.shape)\n",
        "\n",
        "print(Xtrain[:10,:])\n",
        "print(ytrain[:10])"
      ],
      "execution_count": 0,
      "outputs": []
    },
    {
      "cell_type": "markdown",
      "metadata": {
        "id": "5VlJ6-65r6GX",
        "colab_type": "text"
      },
      "source": [
        "(c) build a simple model"
      ]
    },
    {
      "cell_type": "code",
      "metadata": {
        "id": "4jizVSVdqaRJ",
        "colab_type": "code",
        "colab": {}
      },
      "source": [
        "isize=13\n",
        "osize=41\n",
        "\n",
        "model = Sequential()\n",
        "model.add(Dense(40,activation='tanh',input_shape=(isize,)))\n",
        "model.add(Dense(40,activation='tanh'))\n",
        "model.add(Dense(osize, activation='softmax'));\n",
        "#\n",
        "# compile the network\n",
        "model.compile(loss='sparse_categorical_crossentropy', optimizer='rmsprop', metrics=['accuracy'])\n",
        "print(model.summary())"
      ],
      "execution_count": 0,
      "outputs": []
    },
    {
      "cell_type": "markdown",
      "metadata": {
        "id": "kvfxMdXnsa8e",
        "colab_type": "text"
      },
      "source": [
        "(d) train simple model"
      ]
    },
    {
      "cell_type": "code",
      "metadata": {
        "id": "TrOQnEKksdNW",
        "colab_type": "code",
        "colab": {}
      },
      "source": [
        "# train the model\n",
        "history=model.fit(Xtrain,ytrain, batch_size=256, validation_data=(Xval,yval), epochs=25)\n",
        "print(history.history)"
      ],
      "execution_count": 0,
      "outputs": []
    },
    {
      "cell_type": "markdown",
      "metadata": {
        "id": "TIrUW9RquNKH",
        "colab_type": "text"
      },
      "source": [
        "(e) import data for sequence model"
      ]
    },
    {
      "cell_type": "code",
      "metadata": {
        "id": "twPEuumNuSul",
        "colab_type": "code",
        "colab": {}
      },
      "source": [
        "def prepare_data_sequence(filename,seqlen):\n",
        "  df=pd.read_csv(filename)\n",
        "  nvec=len(df)\n",
        "  nfeat=len(df.columns)-2\n",
        "  nseq=nvec//seqlen\n",
        "  feats=df.iloc[:(nseq*seqlen),2:].to_numpy();\n",
        "  feats=np.reshape(feats,(nseq,seqlen,nfeat))\n",
        "  labels=np.array(list(map(PHONES.get, df.LABEL)))\n",
        "  labels=np.reshape(labels[:(nseq*seqlen)],(nseq,seqlen))\n",
        "  p = np.random.permutation(nseq)\n",
        "  return feats[p,:,:],labels[p,:]\n",
        "\n",
        "Xtest, ytest = prepare_data_sequence(\"https://www.phon.ucl.ac.uk/courses/pals0039/data/phone-test.csv\",200)\n",
        "Xtrain, ytrain = prepare_data_sequence(\"https://www.phon.ucl.ac.uk/courses/pals0039/data/phone-train.csv\",200)\n",
        "Xval, yval = prepare_data_sequence(\"https://www.phon.ucl.ac.uk/courses/pals0039/data/phone-valid.csv\",200)\n",
        "\n",
        "print(Xtrain.shape,ytrain.shape)\n",
        "print(Xval.shape,yval.shape)\n",
        "print(Xtest.shape,ytest.shape)\n"
      ],
      "execution_count": 0,
      "outputs": []
    },
    {
      "cell_type": "markdown",
      "metadata": {
        "id": "LKaibQgCv2r1",
        "colab_type": "text"
      },
      "source": [
        "(f) build a sequence model"
      ]
    },
    {
      "cell_type": "code",
      "metadata": {
        "id": "73slTtUev4tD",
        "colab_type": "code",
        "colab": {}
      },
      "source": [
        "seqlen=200\n",
        "isize=13\n",
        "osize=41\n",
        "\n",
        "model = Sequential()\n",
        "model.add(Bidirectional(LSTM(32,return_sequences=True),input_shape=(seqlen,isize),merge_mode='ave'))\n",
        "model.add(Bidirectional(LSTM(32,return_sequences=True),merge_mode='ave'))\n",
        "model.add(TimeDistributed(Dense(osize, activation='softmax')))\n",
        "#\n",
        "# compile the network\n",
        "model.compile(loss='sparse_categorical_crossentropy', optimizer='rmsprop', metrics=['accuracy'])\n",
        "print(model.summary())"
      ],
      "execution_count": 0,
      "outputs": []
    },
    {
      "cell_type": "markdown",
      "metadata": {
        "id": "pVMGPDU-w3MM",
        "colab_type": "text"
      },
      "source": [
        "(g) train sequence model"
      ]
    },
    {
      "cell_type": "code",
      "metadata": {
        "id": "vWg2N_ARw5Ti",
        "colab_type": "code",
        "colab": {}
      },
      "source": [
        "# train the model\n",
        "history=model.fit(Xtrain,ytrain, batch_size=16, validation_data=(Xval,yval), epochs=25)\n",
        "print(history.history)"
      ],
      "execution_count": 0,
      "outputs": []
    },
    {
      "cell_type": "markdown",
      "metadata": {
        "id": "wKpRICU-xm1R",
        "colab_type": "text"
      },
      "source": [
        "(h) analyse performance by phone"
      ]
    },
    {
      "cell_type": "code",
      "metadata": {
        "id": "m63rMmpQxqvC",
        "colab_type": "code",
        "colab": {}
      },
      "source": [
        "ypred=model.predict(Xtest)\n",
        "print(ypred.shape)\n",
        "ypred=np.reshape(ypred,(ypred.shape[0]*ypred.shape[1],ypred.shape[2]))\n",
        "print(ypred.shape)\n",
        "ypred=np.argmax(ypred,axis=1)\n",
        "print(ypred.shape)\n",
        "ytrue=np.reshape(ytest,(ytest.shape[0]*ytest.shape[1],))\n",
        "print(ytrue.shape)\n",
        "\n",
        "def plot_confusion_matrix(df_confusion, title='Confusion matrix', cmap=plt.cm.gray_r):\n",
        "    plt.figure(figsize=(10,10))\n",
        "    plt.matshow(df_confusion, cmap=cmap,fignum=1) # imshow\n",
        "    #plt.title(title)\n",
        "    #plt.colorbar()\n",
        "    tick_marks = np.arange(len(df_confusion.columns))\n",
        "    plt.xticks(tick_marks, df_confusion.columns, rotation=45)\n",
        "    plt.yticks(tick_marks, df_confusion.index)\n",
        "    #plt.tight_layout()\n",
        "    plt.ylabel(df_confusion.index.name)\n",
        "    plt.xlabel(df_confusion.columns.name)\n",
        "    plt.show()\n",
        "\n",
        "df_confusion = pd.crosstab(ytrue, ypred,rownames=['True'],colnames=['Predicted'])\n",
        "plot_confusion_matrix(df_confusion)\n",
        "\n",
        "from nltk import ConfusionMatrix\n",
        "\n",
        "id2phn={}\n",
        "for k,v in PHONES.items():\n",
        "  id2phn[v]=k\n",
        "\n",
        "phone_true=[]\n",
        "phone_pred=[]\n",
        "for i in range(len(ytrue)):\n",
        "  phone_true.append(id2phn[ytrue[i]])\n",
        "  phone_pred.append(id2phn[ypred[i]])\n",
        "\n",
        "print(len(phone_true),len(phone_pred))\n",
        "\n",
        "print(ConfusionMatrix(phone_true,phone_pred))\n",
        "\n",
        "df_confusion = pd.crosstab(pd.Series(phone_true), pd.Series(phone_pred),rownames=['True'],colnames=['Predicted'])\n",
        "plot_confusion_matrix(df_confusion)\n",
        "\n",
        "from sklearn.metrics import classification_report, confusion_matrix\n",
        "\n",
        "labellist=PHONES.keys()\n",
        "print(labellist)\n",
        "print('Confusion Matrix')\n",
        "np.set_printoptions(threshold=np.inf)\n",
        "print(confusion_matrix(ytrue, ypred))\n",
        "print('Classification Report')\n",
        "print(classification_report(ytrue, ypred, labels=range(41), target_names=labellist))\t"
      ],
      "execution_count": 0,
      "outputs": []
    },
    {
      "cell_type": "markdown",
      "metadata": {
        "id": "_5p4ZkZ34Q91",
        "colab_type": "text"
      },
      "source": [
        "(i) plot phone posteriors"
      ]
    },
    {
      "cell_type": "code",
      "metadata": {
        "id": "WJbAqPvh4UYl",
        "colab_type": "code",
        "colab": {}
      },
      "source": [
        "ypred=model.predict(Xtest)\n",
        "seq=ypred[0]\n",
        "lab=ytest[0]\n",
        "phn=[id2phn[lab[0]]]\n",
        "for l in lab:\n",
        "  if id2phn[l] != phn[-1]:\n",
        "    phn.append(id2phn[l])\n",
        "#print(seq)\n",
        "#print(lab)\n",
        "#print(phn)\n",
        "\n",
        "plt.figure(figsize=(15,10))\n",
        "plt.imshow(seq.T,origin='lower',cmap='binary',aspect='auto')\n",
        "ax = plt.gca()\n",
        "ax.set_yticks(range(41))\n",
        "ax.set_yticklabels(labellist)\n",
        "plt.title(\" \".join(phn))\n",
        "plt.show()"
      ],
      "execution_count": 0,
      "outputs": []
    }
  ]
}