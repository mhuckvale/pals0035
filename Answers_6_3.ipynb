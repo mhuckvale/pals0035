{
  "nbformat": 4,
  "nbformat_minor": 0,
  "metadata": {
    "colab": {
      "name": "Answers_6_3.ipynb",
      "provenance": [],
      "private_outputs": true,
      "collapsed_sections": [],
      "include_colab_link": true
    },
    "kernelspec": {
      "name": "python3",
      "display_name": "Python 3"
    },
    "accelerator": "GPU"
  },
  "cells": [
    {
      "cell_type": "markdown",
      "metadata": {
        "id": "view-in-github",
        "colab_type": "text"
      },
      "source": [
        "<a href=\"https://colab.research.google.com/github/mhuckvale/pals0039/blob/master/Answers_6_3.ipynb\" target=\"_parent\"><img src=\"https://colab.research.google.com/assets/colab-badge.svg\" alt=\"Open In Colab\"/></a>"
      ]
    },
    {
      "cell_type": "markdown",
      "metadata": {
        "id": "2EmK9NDDmMFU",
        "colab_type": "text"
      },
      "source": [
        "[![PALS0039 Logo](https://www.phon.ucl.ac.uk/courses/pals0039/images/pals0039logo.png)](https://www.phon.ucl.ac.uk/courses/pals0039/)\n",
        "\n",
        "# Exercise 6.3 Answers\n",
        "\n",
        "In this exercise we build a phonetic recogniser that delivers for each 10ms frame of signal a probability distribution over phones.\n"
      ]
    },
    {
      "cell_type": "markdown",
      "metadata": {
        "id": "6qqZ55mQmQC7",
        "colab_type": "text"
      },
      "source": [
        "---\n",
        "(a) Set up the standard modules. Run the code and add comments."
      ]
    },
    {
      "cell_type": "code",
      "metadata": {
        "id": "ToJ3IQy_mLgA",
        "colab_type": "code",
        "colab": {}
      },
      "source": [
        "# import the standard modules\n",
        "import pandas as pd\n",
        "import numpy as np\n",
        "import matplotlib.pyplot as plt\n",
        "%matplotlib inline\n",
        "\n",
        "# import the keras library\n",
        "%tensorflow_version 2.x\n",
        "from tensorflow.keras.models import Sequential, Model\n",
        "from tensorflow.keras.layers import Dense, Embedding, Flatten, SimpleRNN, LSTM, GRU, Bidirectional, Dropout, TimeDistributed\n",
        "from tensorflow.keras.preprocessing.sequence import pad_sequences"
      ],
      "execution_count": 0,
      "outputs": []
    },
    {
      "cell_type": "markdown",
      "metadata": {
        "id": "VEIhjNOpmWCj",
        "colab_type": "text"
      },
      "source": [
        "---\n",
        "(b) Read in the speech data and phone labels for training. Run the code and add comments."
      ]
    },
    {
      "cell_type": "code",
      "metadata": {
        "id": "r-f8xS9FmYkT",
        "colab_type": "code",
        "colab": {}
      },
      "source": [
        "# coding system to identify the different phones as a dictionary\n",
        "PHONES={ \"sil\":0, \"b\":1, \"d\":2, \"g\":3, \"p\":4, \"t\":5, \"k\":6, \"dZ\":7, \"tS\":8, \n",
        "        \"m\":9, \"n\":10, \"N\":11, \"v\":12, \"D\":13, \"z\":14, \"Z\":15, \"f\":16, \"T\":17, \n",
        "        \"s\":18, \"S\":19, \"h\":20, \"r\":21, \"w\":22, \"l\":23, \"j\":24, \"i:\":25, \n",
        "        \"I\":26, \"e\":27, \"{\":28, \"V\":29, \"A:\":30, \"O:\":31, \"U\":32, \"u:\":33, \n",
        "        \"3:\":34, \"@\":35, \"aI\":36, \"eI\":37, \"OI\":38, \"aU\":39, \"@U\":40 }\n",
        "\n",
        "# read in a data file and prepare for processing\n",
        "def prepare_data_single(filename):\n",
        "  # read in the CSV file\n",
        "  df=pd.read_csv(filename)\n",
        "  # number of vectors\n",
        "  nvec=len(df)\n",
        "  # convert features to numpy array\n",
        "  feats=df.iloc[:,2:].to_numpy();\n",
        "  # convert phone labels to numeric codes (one code per frame)\n",
        "  labels=np.array(list(map(PHONES.get, df.LABEL)))\n",
        "  # return a random ordering of the frames \n",
        "  p = np.random.permutation(nvec)\n",
        "  return feats[p,:],labels[p]\n",
        "\n",
        "# load data for train, validation and test\n",
        "Xtrain, ytrain = prepare_data_single(\"https://www.phon.ucl.ac.uk/courses/pals0039/data/phone-train.csv\")\n",
        "Xval, yval = prepare_data_single(\"https://www.phon.ucl.ac.uk/courses/pals0039/data/phone-valid.csv\")\n",
        "Xtest, ytest = prepare_data_single(\"https://www.phon.ucl.ac.uk/courses/pals0039/data/phone-test.csv\")\n",
        "\n",
        "# report what we have\n",
        "print(Xtrain.shape,ytrain.shape)\n",
        "print(Xval.shape,yval.shape)\n",
        "print(Xtest.shape,ytest.shape)\n",
        "\n",
        "# report a small sample\n",
        "print(Xtrain[:10,:])\n",
        "print(ytrain[:10])"
      ],
      "execution_count": 0,
      "outputs": []
    },
    {
      "cell_type": "markdown",
      "metadata": {
        "id": "5VlJ6-65r6GX",
        "colab_type": "text"
      },
      "source": [
        "---\n",
        "(c) Build a simple context-free model. Run the code and add comments."
      ]
    },
    {
      "cell_type": "code",
      "metadata": {
        "id": "4jizVSVdqaRJ",
        "colab_type": "code",
        "colab": {}
      },
      "source": [
        "# basic parameters\n",
        "isize=Xtrain.shape[1]\n",
        "osize=len(PHONES)\n",
        "\n",
        "# build a simple network of dense layers\n",
        "model = Sequential()\n",
        "model.add(Dense(40,activation='tanh',input_shape=(isize,)))\n",
        "model.add(Dense(40,activation='tanh'))\n",
        "model.add(Dense(osize, activation='softmax'));\n",
        "#\n",
        "# compile the network\n",
        "model.compile(loss='sparse_categorical_crossentropy', optimizer='rmsprop', metrics=['accuracy'])\n",
        "print(model.summary())"
      ],
      "execution_count": 0,
      "outputs": []
    },
    {
      "cell_type": "markdown",
      "metadata": {
        "id": "kvfxMdXnsa8e",
        "colab_type": "text"
      },
      "source": [
        "---\n",
        "(d) Train the simple model. Run the code and add comments."
      ]
    },
    {
      "cell_type": "code",
      "metadata": {
        "id": "TrOQnEKksdNW",
        "colab_type": "code",
        "colab": {}
      },
      "source": [
        "# train the model\n",
        "history=model.fit(Xtrain,ytrain, batch_size=256, validation_data=(Xval,yval), epochs=25)\n",
        "loss,accuracy=model.evaluate(Xtest,ytest)\n",
        "print(\"Loss=%.3f Accuracy=%.1f%%\" % (loss,100*accuracy))"
      ],
      "execution_count": 0,
      "outputs": []
    },
    {
      "cell_type": "markdown",
      "metadata": {
        "id": "TIrUW9RquNKH",
        "colab_type": "text"
      },
      "source": [
        "---\n",
        "(e) Read in the data again and prepare it for the sequence model. Run the code and add comments."
      ]
    },
    {
      "cell_type": "code",
      "metadata": {
        "id": "twPEuumNuSul",
        "colab_type": "code",
        "colab": {}
      },
      "source": [
        "# prepare the data as sequences of a giveln length\n",
        "def prepare_data_sequence(filename,seqlen):\n",
        "  # read in the speech data and labels\n",
        "  df=pd.read_csv(filename)\n",
        "  # get number of frames and number of sequences\n",
        "  nvec=len(df)\n",
        "  nseq=nvec//seqlen\n",
        "  # get number of features\n",
        "  nfeat=len(df.columns)-2\n",
        "  # convert features to numpy array\n",
        "  feats=df.iloc[:(nseq*seqlen),2:].to_numpy();\n",
        "  # reshape the data into sequences\n",
        "  feats=np.reshape(feats,(nseq,seqlen,nfeat))\n",
        "  # get the phone labels as numeric codes\n",
        "  labels=np.array(list(map(PHONES.get, df.LABEL)))\n",
        "  # rehsape the labels to match the sequences\n",
        "  labels=np.reshape(labels[:(nseq*seqlen)],(nseq,seqlen))\n",
        "  # return a random ordering of the sequences\n",
        "  p = np.random.permutation(nseq)\n",
        "  return feats[p,:,:],labels[p,:]\n",
        "\n",
        "# read in the training, validation and test data\n",
        "Xtrain, ytrain = prepare_data_sequence(\"https://www.phon.ucl.ac.uk/courses/pals0039/data/phone-train.csv\",200)\n",
        "Xval, yval = prepare_data_sequence(\"https://www.phon.ucl.ac.uk/courses/pals0039/data/phone-valid.csv\",200)\n",
        "Xtest, ytest = prepare_data_sequence(\"https://www.phon.ucl.ac.uk/courses/pals0039/data/phone-test.csv\",200)\n",
        "\n",
        "# report the sizes of what we have\n",
        "print(Xtrain.shape,ytrain.shape)\n",
        "print(Xval.shape,yval.shape)\n",
        "print(Xtest.shape,ytest.shape)\n"
      ],
      "execution_count": 0,
      "outputs": []
    },
    {
      "cell_type": "markdown",
      "metadata": {
        "id": "LKaibQgCv2r1",
        "colab_type": "text"
      },
      "source": [
        "---\n",
        "(f) Build a sequence model with LSTM nodes. Run the code and add comments."
      ]
    },
    {
      "cell_type": "code",
      "metadata": {
        "id": "73slTtUev4tD",
        "colab_type": "code",
        "colab": {}
      },
      "source": [
        "# basic parameters of data\n",
        "seqlen=Xtrain.shape[1]\n",
        "isize=Xtrain.shape[2]\n",
        "osize=len(PHONES)\n",
        "\n",
        "# build the model\n",
        "model = Sequential()\n",
        "model.add(Bidirectional(LSTM(32,return_sequences=True),input_shape=(seqlen,isize),merge_mode='ave'))\n",
        "model.add(Bidirectional(LSTM(32,return_sequences=True),merge_mode='ave'))\n",
        "model.add(TimeDistributed(Dense(osize, activation='softmax')))\n",
        "#\n",
        "# compile the network\n",
        "model.compile(loss='sparse_categorical_crossentropy', optimizer='rmsprop', metrics=['accuracy'])\n",
        "print(model.summary())"
      ],
      "execution_count": 0,
      "outputs": []
    },
    {
      "cell_type": "markdown",
      "metadata": {
        "id": "pVMGPDU-w3MM",
        "colab_type": "text"
      },
      "source": [
        "---\n",
        "(g) Train sequence model. Run the code and add comments."
      ]
    },
    {
      "cell_type": "code",
      "metadata": {
        "id": "vWg2N_ARw5Ti",
        "colab_type": "code",
        "colab": {}
      },
      "source": [
        "# train the model\n",
        "history=model.fit(Xtrain,ytrain, batch_size=16, validation_data=(Xval,yval), epochs=25)\n",
        "loss,accuracy=model.evaluate(Xtest,ytest)\n",
        "print(\"Loss=%.3f Accuracy=%.1f%%\" % (loss,100*accuracy))"
      ],
      "execution_count": 0,
      "outputs": []
    },
    {
      "cell_type": "markdown",
      "metadata": {
        "id": "wKpRICU-xm1R",
        "colab_type": "text"
      },
      "source": [
        "---\n",
        "(h) Analyse network performance by phone. Run the code and add comments."
      ]
    },
    {
      "cell_type": "code",
      "metadata": {
        "id": "EgxqOf0jZo0F",
        "colab_type": "code",
        "colab": {}
      },
      "source": [
        "# get the phone predictions per frame\n",
        "ypred=model.predict(Xtest)\n",
        "ypred=np.reshape(ypred,(ypred.shape[0]*ypred.shape[1],ypred.shape[2]))\n",
        "ypred=np.argmax(ypred,axis=1)\n",
        "ytrue=np.reshape(ytest,(ytest.shape[0]*ytest.shape[1],))\n",
        "\n",
        "# get the list of phones\n",
        "labellist=PHONES.keys()\n",
        "\n",
        "# use the pandas crosstabs function to calculate and print confusion matrix\n",
        "y_actu = pd.Categorical.from_codes(ytrue, categories=labellist)\n",
        "y_pred = pd.Categorical.from_codes(ypred, categories=labellist)\n",
        "df_confusion = pd.crosstab(y_actu, y_pred, margins=False, normalize='index',dropna=False)\n",
        "df_confusion\n"
      ],
      "execution_count": 0,
      "outputs": []
    },
    {
      "cell_type": "markdown",
      "metadata": {
        "id": "_5p4ZkZ34Q91",
        "colab_type": "text"
      },
      "source": [
        "---\n",
        "(i) Plot some phone posteriors. Run the code and add comments."
      ]
    },
    {
      "cell_type": "code",
      "metadata": {
        "id": "WJbAqPvh4UYl",
        "colab_type": "code",
        "colab": {}
      },
      "source": [
        "# build a reverse dictionary for phones\n",
        "id2phn={}\n",
        "for k,v in PHONES.items():\n",
        "  id2phn[v]=k\n",
        "\n",
        "# pull out the first test sequence\n",
        "ypred=model.predict(Xtest)\n",
        "seq=ypred[0]\n",
        "lab=ytest[0]\n",
        "phn=[id2phn[lab[0]]]\n",
        "for l in lab:\n",
        "  if id2phn[l] != phn[-1]:\n",
        "    phn.append(id2phn[l])\n",
        "\n",
        "# plot a grey level picture of the phone posterior probabilities\n",
        "plt.figure(figsize=(15,10))\n",
        "plt.imshow(seq.T,origin='lower',cmap='binary',aspect='auto')\n",
        "ax = plt.gca()\n",
        "ax.set_yticks(range(41))\n",
        "ax.set_yticklabels(labellist)\n",
        "ax.tick_params(axis='y', which='both', labelleft='on', labelright='on')\n",
        "plt.title(\" \".join(phn))\n",
        "plt.show()"
      ],
      "execution_count": 0,
      "outputs": []
    },
    {
      "cell_type": "markdown",
      "metadata": {
        "id": "4iTKNWisj_AE",
        "colab_type": "text"
      },
      "source": [
        "---\n",
        "(j) Experiment with the network architecture and training to find the best performing network for this problem."
      ]
    }
  ]
}