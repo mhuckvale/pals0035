{
  "nbformat": 4,
  "nbformat_minor": 0,
  "metadata": {
    "colab": {
      "name": "Answers_0.ipynb",
      "provenance": [],
      "private_outputs": true,
      "collapsed_sections": [],
      "include_colab_link": true
    },
    "kernelspec": {
      "name": "python3",
      "display_name": "Python 3"
    }
  },
  "cells": [
    {
      "cell_type": "markdown",
      "metadata": {
        "id": "view-in-github",
        "colab_type": "text"
      },
      "source": [
        "<a href=\"https://colab.research.google.com/github/mhuckvale/pals0039/blob/master/Answers_0.ipynb\" target=\"_parent\"><img src=\"https://colab.research.google.com/assets/colab-badge.svg\" alt=\"Open In Colab\"/></a>"
      ]
    },
    {
      "cell_type": "markdown",
      "metadata": {
        "id": "NujlPF3Hjm9a",
        "colab_type": "text"
      },
      "source": [
        "[![PALS0039 Logo](https://www.phon.ucl.ac.uk/courses/pals0039/images/pals0039logo.png)](https://www.phon.ucl.ac.uk/courses/pals0039/)\n",
        "\n",
        "# Answers to Exercise 0\n"
      ]
    },
    {
      "cell_type": "markdown",
      "metadata": {
        "id": "2BVm-F9sRAGK",
        "colab_type": "text"
      },
      "source": [
        "(a) Draw a sunflower head"
      ]
    },
    {
      "cell_type": "code",
      "metadata": {
        "id": "3yDqAQVgjfoc",
        "colab_type": "code",
        "colab": {}
      },
      "source": [
        "# 1. Draw a sunflower head\n",
        "import numpy as np\n",
        "import matplotlib.pyplot as plt\n",
        "%matplotlib inline\n",
        "#\n",
        "n=np.array(range(500))\n",
        "r=np.sqrt(n)\n",
        "theta=137.51*np.pi*n/180\n",
        "#\n",
        "x=r*np.cos(theta)\n",
        "y=r*np.sin(theta)\n",
        "#\n",
        "plt.plot(x,y,'o')\n",
        "plt.axis('equal')\n",
        "plt.axis('off')\n"
      ],
      "execution_count": 0,
      "outputs": []
    },
    {
      "cell_type": "markdown",
      "metadata": {
        "id": "PRN-c087REDk",
        "colab_type": "text"
      },
      "source": [
        "(b) Print expressions"
      ]
    },
    {
      "cell_type": "code",
      "metadata": {
        "id": "MwLF-h5_REWy",
        "colab_type": "code",
        "colab": {}
      },
      "source": [
        "from math import pi, sqrt\n",
        "print((3+4)/(5+6))\n",
        "print(2*pi**2)\n",
        "print(sqrt(2))\n",
        "print((0.0000123+5.67E-3)*0.4567E-4)"
      ],
      "execution_count": 0,
      "outputs": []
    },
    {
      "cell_type": "markdown",
      "metadata": {
        "id": "R2GxDXTvRFUU",
        "colab_type": "text"
      },
      "source": [
        "(c) Temperature conversion table"
      ]
    },
    {
      "cell_type": "code",
      "metadata": {
        "id": "tfYQz9oeRFf4",
        "colab_type": "code",
        "colab": {}
      },
      "source": [
        "def FtoC(C):\n",
        "  return(32+9*C/5)\n",
        "for temp in range(-40,100,10):\n",
        "  print(temp,FtoC(temp))"
      ],
      "execution_count": 0,
      "outputs": []
    }
  ]
}