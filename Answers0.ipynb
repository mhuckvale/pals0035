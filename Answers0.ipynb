{
  "nbformat": 4,
  "nbformat_minor": 0,
  "metadata": {
    "colab": {
      "name": "Answers0.ipynb",
      "version": "0.3.2",
      "provenance": [],
      "private_outputs": true,
      "collapsed_sections": [],
      "include_colab_link": true
    },
    "kernelspec": {
      "name": "python3",
      "display_name": "Python 3"
    }
  },
  "cells": [
    {
      "cell_type": "markdown",
      "metadata": {
        "id": "view-in-github",
        "colab_type": "text"
      },
      "source": [
        "<a href=\"https://colab.research.google.com/github/mhuckvale/pals0039/blob/master/Answers0.ipynb\" target=\"_parent\"><img src=\"https://colab.research.google.com/assets/colab-badge.svg\" alt=\"Open In Colab\"/></a>"
      ]
    },
    {
      "cell_type": "markdown",
      "metadata": {
        "id": "NujlPF3Hjm9a",
        "colab_type": "text"
      },
      "source": [
        "#Answers to Exercises 0\n"
      ]
    },
    {
      "cell_type": "code",
      "metadata": {
        "id": "3yDqAQVgjfoc",
        "colab_type": "code",
        "colab": {}
      },
      "source": [
        "# 1. Draw a sunflower head\n",
        "import numpy as np\n",
        "import matplotlib.pyplot as plt\n",
        "%matplotlib inline\n",
        "#\n",
        "n=np.array(range(500))\n",
        "r=np.sqrt(n)\n",
        "theta=137.51*np.pi*n/180\n",
        "#\n",
        "x=r*np.cos(theta)\n",
        "y=r*np.sin(theta)\n",
        "#\n",
        "plt.plot(x,y,'o')\n",
        "plt.axis('equal')\n",
        "plt.axis('off')\n",
        "\n",
        "# 2. Write a program to calculate values for the following expressions:\n",
        "from math import pi, sqrt\n",
        "print((3+4)/(5+6))\n",
        "print(2*pi**2)\n",
        "print(sqrt(2))\n",
        "print((0.0000123+5.67E-3)*0.4567E-4)\n",
        "\n",
        "# 3. Temperature conversion\n",
        "def FtoC(C):\n",
        "  return(32+9*C/5)\n",
        "for temp in range(-40,100,10):\n",
        "  print(temp,FtoC(temp))\n"
      ],
      "execution_count": 0,
      "outputs": []
    }
  ]
}