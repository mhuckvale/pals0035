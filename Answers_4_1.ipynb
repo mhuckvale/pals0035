{
  "nbformat": 4,
  "nbformat_minor": 0,
  "metadata": {
    "colab": {
      "name": "Answers_4_1.ipynb",
      "provenance": [],
      "private_outputs": true,
      "collapsed_sections": [],
      "machine_shape": "hm",
      "include_colab_link": true
    },
    "kernelspec": {
      "name": "python3",
      "display_name": "Python 3"
    }
  },
  "cells": [
    {
      "cell_type": "markdown",
      "metadata": {
        "id": "view-in-github",
        "colab_type": "text"
      },
      "source": [
        "<a href=\"https://colab.research.google.com/github/mhuckvale/pals0039/blob/master/Answers_4_1.ipynb\" target=\"_parent\"><img src=\"https://colab.research.google.com/assets/colab-badge.svg\" alt=\"Open In Colab\"/></a>"
      ]
    },
    {
      "cell_type": "markdown",
      "metadata": {
        "id": "is1p5hg4EqlY",
        "colab_type": "text"
      },
      "source": [
        "[![PALS0039 Logo](https://www.phon.ucl.ac.uk/courses/pals0039/images/pals0039logo.png)](https://www.phon.ucl.ac.uk/courses/pals0039/)\n",
        "\n",
        "# Exercise 4.1 Answers\n"
      ]
    },
    {
      "cell_type": "markdown",
      "metadata": {
        "id": "1GSGA1ZvEwTp",
        "colab_type": "text"
      },
      "source": [
        "(a) Run the following code and then add comments to explain what is performed in each step."
      ]
    },
    {
      "cell_type": "code",
      "metadata": {
        "id": "TuC220KlEni4",
        "colab_type": "code",
        "colab": {}
      },
      "source": [
        "import numpy as np\n",
        "import matplotlib.pyplot as plt\n",
        "%matplotlib inline\n",
        "\n",
        "%tensorflow_version 2.x\n",
        "from tensorflow.keras.models import Sequential, Model\n",
        "from tensorflow.keras.layers import Dense\n",
        "from tensorflow.keras.optimizers import SGD\n",
        "from tensorflow.keras.utils import to_categorical\n",
        "from tensorflow.keras.datasets import imdb\n",
        "\n",
        "(Xtrain_seq,ytrain_seq),(Xtest_seq,ytest_seq)=imdb.load_data(num_words=10000)\n",
        "\n",
        "print(Xtrain_seq[:5])\n",
        "print(ytrain_seq[:5])\n",
        "\n"
      ],
      "execution_count": 0,
      "outputs": []
    },
    {
      "cell_type": "markdown",
      "metadata": {
        "id": "JYyhzqKZMPqa",
        "colab_type": "text"
      },
      "source": [
        "(b) some basic parameters"
      ]
    },
    {
      "cell_type": "code",
      "metadata": {
        "id": "NueQeJgtMP6y",
        "colab_type": "code",
        "colab": {}
      },
      "source": [
        "listlengths=[]\n",
        "for sequence in Xtrain_seq:\n",
        "  listlengths.append(len(sequence))\n",
        "print(\"Longest list\",max(listlengths))\n",
        "\n",
        "wordcodes=[]\n",
        "for sequence in Xtrain_seq:\n",
        "  wordcodes.append(max(sequence))\n",
        "print(\"Highest code\",max(wordcodes))\n",
        "\n",
        "dictionary=imdb.get_word_index();\n",
        "reverse_dictionary={0:\"padding\",1:\"BOS\",2:\"UNK\"}\n",
        "for (key,value) in dictionary.items():\n",
        "  reverse_dictionary[value+3]=key\n",
        "\n",
        "print(list(map(reverse_dictionary.get, range(10))))\n",
        "\n",
        "print(\"First review\")\n",
        "review=[]\n",
        "for i in range(len(Xtrain_seq[0])):\n",
        "  review.append(reverse_dictionary[Xtrain_seq[0][i]])\n",
        "print(\" \".join(review))\n",
        "  "
      ],
      "execution_count": 0,
      "outputs": []
    },
    {
      "cell_type": "markdown",
      "metadata": {
        "id": "mkf1xM0oNQ05",
        "colab_type": "text"
      },
      "source": [
        "(c) prepare for training"
      ]
    },
    {
      "cell_type": "code",
      "metadata": {
        "id": "xvkaEXUKNhFp",
        "colab_type": "code",
        "colab": {}
      },
      "source": [
        "def vectorise(sequences,numwords=10000):\n",
        "  table=np.zeros((len(sequences),numwords))\n",
        "  for i,seq in enumerate(sequences):\n",
        "    for idx in seq:\n",
        "      table[i,idx] = table[i,idx]+1\n",
        "  return(table)\n",
        "\n",
        "Xtrain=vectorise(Xtrain_seq)\n",
        "Xtest=vectorise(Xtest_seq)\n",
        "\n",
        "ytrain=np.asarray(ytrain_seq,dtype='float32')\n",
        "ytest=np.asarray(ytest_seq,dtype='float32')\n",
        "\n",
        "print(Xtrain.shape,ytrain.shape,Xtest.shape,ytest.shape)\n",
        "print(Xtrain[:10,:25])"
      ],
      "execution_count": 0,
      "outputs": []
    },
    {
      "cell_type": "markdown",
      "metadata": {
        "id": "ABgvXFckOnjB",
        "colab_type": "text"
      },
      "source": [
        "(d) build a model"
      ]
    },
    {
      "cell_type": "code",
      "metadata": {
        "id": "rvoA4IvbOpen",
        "colab_type": "code",
        "colab": {}
      },
      "source": [
        "model = Sequential()\n",
        "model.add(Dense(16,activation='sigmoid',input_shape=(10000,)))\n",
        "model.add(Dense(16,activation='sigmoid'))\n",
        "model.add(Dense(1,activation='sigmoid'))\n",
        "model.compile(loss='binary_crossentropy',optimzer=\"rmsprop\",metrics=['accuracy'])\n",
        "model.summary()"
      ],
      "execution_count": 0,
      "outputs": []
    },
    {
      "cell_type": "markdown",
      "metadata": {
        "id": "Q3qy9MgOPUhw",
        "colab_type": "text"
      },
      "source": [
        "(d) train the model"
      ]
    },
    {
      "cell_type": "code",
      "metadata": {
        "id": "GZoDCCTsPaz4",
        "colab_type": "code",
        "colab": {}
      },
      "source": [
        "Xval = Xtest[:1000]\n",
        "yval = ytest[:1000]\n",
        "history=model.fit(Xtrain,ytrain,epochs=20,batch_size=64,validation_data=(Xval,yval))\n",
        "print(history.history.keys())"
      ],
      "execution_count": 0,
      "outputs": []
    },
    {
      "cell_type": "markdown",
      "metadata": {
        "id": "ieqTwwWuQ6UX",
        "colab_type": "text"
      },
      "source": [
        "(e) Plot training graphs"
      ]
    },
    {
      "cell_type": "code",
      "metadata": {
        "id": "LlWg9PXNQ8_F",
        "colab_type": "code",
        "colab": {}
      },
      "source": [
        "hist=history.history\n",
        "epochs=range(1,len(hist['loss'])+1)\n",
        "\n",
        "plt.figure(figsize=(10,5))\n",
        "plt.subplot(1,2,1)\n",
        "plt.plot(epochs,hist['loss'],'bo',label=\"Training loss\")\n",
        "plt.plot(epochs,hist['val_loss'],'b-',label=\"Validation loss\")\n",
        "plt.title(\"Training and Validation loss\")\n",
        "plt.xlabel(\"Epochs\")\n",
        "plt.ylabel(\"Loss\")\n",
        "plt.legend()\n",
        "\n",
        "plt.subplot(1,2,2)\n",
        "plt.plot(epochs,hist['accuracy'],'bo',label=\"Training accuracy\")\n",
        "plt.plot(epochs,hist['val_accuracy'],'b-',label=\"Validation accuracy\")\n",
        "plt.title(\"Training and Validation accuracy\")\n",
        "plt.xlabel(\"Epochs\")\n",
        "plt.ylabel(\"Accuracy\")\n",
        "plt.legend()\n",
        "plt.show()"
      ],
      "execution_count": 0,
      "outputs": []
    },
    {
      "cell_type": "markdown",
      "metadata": {
        "id": "sMmYJkNaTSHN",
        "colab_type": "text"
      },
      "source": [
        "(f) Get test performance"
      ]
    },
    {
      "cell_type": "code",
      "metadata": {
        "id": "Oiddz_GTTVKD",
        "colab_type": "code",
        "colab": {}
      },
      "source": [
        "score, acc = model.evaluate(Xtest, ytest,verbose=0)\n",
        "print('Test loss:', score)\n",
        "print('Test accuracy:', acc)\n",
        "\n",
        "ypred=model.predict(Xtest)\n",
        "print(ypred.shape)\n",
        "ypred=ypred.flatten()\n",
        "print(ypred.shape)\n",
        "print(list(zip(ytest[:10],ypred[:10])))\n"
      ],
      "execution_count": 0,
      "outputs": []
    }
  ]
}