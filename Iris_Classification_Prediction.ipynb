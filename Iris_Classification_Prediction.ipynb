{
  "nbformat": 4,
  "nbformat_minor": 0,
  "metadata": {
    "colab": {
      "name": "Iris Classification Prediction.ipynb",
      "version": "0.3.2",
      "provenance": [],
      "collapsed_sections": [],
      "include_colab_link": true
    },
    "language_info": {
      "codemirror_mode": {
        "name": "ipython",
        "version": 3
      },
      "file_extension": ".py",
      "mimetype": "text/x-python",
      "name": "python",
      "nbconvert_exporter": "python",
      "pygments_lexer": "ipython3",
      "version": "3.6.8"
    },
    "kernelspec": {
      "name": "python3",
      "display_name": "Python 3"
    },
    "accelerator": "GPU"
  },
  "cells": [
    {
      "cell_type": "markdown",
      "metadata": {
        "id": "view-in-github",
        "colab_type": "text"
      },
      "source": [
        "<a href=\"https://colab.research.google.com/github/mhuckvale/pals0035/blob/master/Iris_Classification_Prediction.ipynb\" target=\"_parent\"><img src=\"https://colab.research.google.com/assets/colab-badge.svg\" alt=\"Open In Colab\"/></a>"
      ]
    },
    {
      "metadata": {
        "id": "qZRIWKirfvf7",
        "colab_type": "text"
      },
      "cell_type": "markdown",
      "source": [
        "# Importing necessary libraries"
      ]
    },
    {
      "metadata": {
        "id": "bA53TBn4gFMJ",
        "colab_type": "code",
        "colab": {
          "base_uri": "https://localhost:8080/",
          "height": 85
        },
        "outputId": "9869e5c3-13a4-4b29-88f0-ca1b8b999205"
      },
      "cell_type": "code",
      "source": [
        "!pip install -q tensorflow==2.0.0-alpha0 "
      ],
      "execution_count": 1,
      "outputs": [
        {
          "output_type": "stream",
          "text": [
            "\u001b[K    100% |████████████████████████████████| 79.9MB 422kB/s \n",
            "\u001b[K    100% |████████████████████████████████| 3.0MB 12.7MB/s \n",
            "\u001b[K    100% |████████████████████████████████| 419kB 19.3MB/s \n",
            "\u001b[K    100% |████████████████████████████████| 61kB 22.5MB/s \n",
            "\u001b[?25h"
          ],
          "name": "stdout"
        }
      ]
    },
    {
      "metadata": {
        "id": "zZYo5-tvfvf-",
        "colab_type": "code",
        "colab": {}
      },
      "cell_type": "code",
      "source": [
        "from tensorflow.keras.models import Sequential\n",
        "from tensorflow.keras.layers import Dense\n",
        "from tensorflow.python.keras import utils\n",
        "import numpy as np\n",
        "import pandas as pd\n",
        "import seaborn as sn\n",
        "import missingno as msno\n",
        "import matplotlib.pyplot as plt\n",
        "from sklearn.model_selection import train_test_split"
      ],
      "execution_count": 0,
      "outputs": []
    },
    {
      "metadata": {
        "id": "pH9iJalVfvgD",
        "colab_type": "text"
      },
      "cell_type": "markdown",
      "source": [
        "# Import Data"
      ]
    },
    {
      "metadata": {
        "scrolled": false,
        "id": "BK0jUmFwfvgF",
        "colab_type": "code",
        "colab": {
          "base_uri": "https://localhost:8080/",
          "height": 204
        },
        "outputId": "dfe5094c-e6ad-4e68-ddc3-c1af09684606"
      },
      "cell_type": "code",
      "source": [
        "from sklearn import datasets\n",
        "\n",
        "COLUMN_NAMES = [\n",
        "        'SepalLength', \n",
        "        'SepalWidth',\n",
        "        'PetalLength', \n",
        "        'PetalWidth'\n",
        "        ]\n",
        "\n",
        "irisdata = datasets.load_iris()\n",
        "data = pd.DataFrame(irisdata.data, columns=COLUMN_NAMES)\n",
        "data['Species'] = pd.Series(irisdata.target)\n",
        "\n",
        "data.head()"
      ],
      "execution_count": 3,
      "outputs": [
        {
          "output_type": "execute_result",
          "data": {
            "text/html": [
              "<div>\n",
              "<style scoped>\n",
              "    .dataframe tbody tr th:only-of-type {\n",
              "        vertical-align: middle;\n",
              "    }\n",
              "\n",
              "    .dataframe tbody tr th {\n",
              "        vertical-align: top;\n",
              "    }\n",
              "\n",
              "    .dataframe thead th {\n",
              "        text-align: right;\n",
              "    }\n",
              "</style>\n",
              "<table border=\"1\" class=\"dataframe\">\n",
              "  <thead>\n",
              "    <tr style=\"text-align: right;\">\n",
              "      <th></th>\n",
              "      <th>SepalLength</th>\n",
              "      <th>SepalWidth</th>\n",
              "      <th>PetalLength</th>\n",
              "      <th>PetalWidth</th>\n",
              "      <th>Species</th>\n",
              "    </tr>\n",
              "  </thead>\n",
              "  <tbody>\n",
              "    <tr>\n",
              "      <th>0</th>\n",
              "      <td>5.1</td>\n",
              "      <td>3.5</td>\n",
              "      <td>1.4</td>\n",
              "      <td>0.2</td>\n",
              "      <td>0</td>\n",
              "    </tr>\n",
              "    <tr>\n",
              "      <th>1</th>\n",
              "      <td>4.9</td>\n",
              "      <td>3.0</td>\n",
              "      <td>1.4</td>\n",
              "      <td>0.2</td>\n",
              "      <td>0</td>\n",
              "    </tr>\n",
              "    <tr>\n",
              "      <th>2</th>\n",
              "      <td>4.7</td>\n",
              "      <td>3.2</td>\n",
              "      <td>1.3</td>\n",
              "      <td>0.2</td>\n",
              "      <td>0</td>\n",
              "    </tr>\n",
              "    <tr>\n",
              "      <th>3</th>\n",
              "      <td>4.6</td>\n",
              "      <td>3.1</td>\n",
              "      <td>1.5</td>\n",
              "      <td>0.2</td>\n",
              "      <td>0</td>\n",
              "    </tr>\n",
              "    <tr>\n",
              "      <th>4</th>\n",
              "      <td>5.0</td>\n",
              "      <td>3.6</td>\n",
              "      <td>1.4</td>\n",
              "      <td>0.2</td>\n",
              "      <td>0</td>\n",
              "    </tr>\n",
              "  </tbody>\n",
              "</table>\n",
              "</div>"
            ],
            "text/plain": [
              "   SepalLength  SepalWidth  PetalLength  PetalWidth  Species\n",
              "0          5.1         3.5          1.4         0.2        0\n",
              "1          4.9         3.0          1.4         0.2        0\n",
              "2          4.7         3.2          1.3         0.2        0\n",
              "3          4.6         3.1          1.5         0.2        0\n",
              "4          5.0         3.6          1.4         0.2        0"
            ]
          },
          "metadata": {
            "tags": []
          },
          "execution_count": 3
        }
      ]
    },
    {
      "metadata": {
        "id": "MmZI4p4LfvgL",
        "colab_type": "text"
      },
      "cell_type": "markdown",
      "source": [
        "# Data Analysis "
      ]
    },
    {
      "metadata": {
        "id": "y8uKQstffvgM",
        "colab_type": "text"
      },
      "cell_type": "markdown",
      "source": [
        "## Data Types Analysis"
      ]
    },
    {
      "metadata": {
        "id": "WkSEE1i_fvgN",
        "colab_type": "code",
        "colab": {
          "base_uri": "https://localhost:8080/",
          "height": 119
        },
        "outputId": "ff315ce1-b9fb-4ceb-e76d-531b87a2c649"
      },
      "cell_type": "code",
      "source": [
        "data.dtypes"
      ],
      "execution_count": 4,
      "outputs": [
        {
          "output_type": "execute_result",
          "data": {
            "text/plain": [
              "SepalLength    float64\n",
              "SepalWidth     float64\n",
              "PetalLength    float64\n",
              "PetalWidth     float64\n",
              "Species          int64\n",
              "dtype: object"
            ]
          },
          "metadata": {
            "tags": []
          },
          "execution_count": 4
        }
      ]
    },
    {
      "metadata": {
        "id": "TzvjCYrKfvgQ",
        "colab_type": "text"
      },
      "cell_type": "markdown",
      "source": [
        "## Handle Categorical Variables"
      ]
    },
    {
      "metadata": {
        "scrolled": false,
        "id": "5JJsFCOyfvgR",
        "colab_type": "code",
        "colab": {
          "base_uri": "https://localhost:8080/",
          "height": 119
        },
        "outputId": "d9b76305-a69f-4f6b-8eb3-9f37df37d0f7"
      },
      "cell_type": "code",
      "source": [
        "data['Species'] = data['Species'].astype(\"category\")\n",
        "data.dtypes"
      ],
      "execution_count": 5,
      "outputs": [
        {
          "output_type": "execute_result",
          "data": {
            "text/plain": [
              "SepalLength     float64\n",
              "SepalWidth      float64\n",
              "PetalLength     float64\n",
              "PetalWidth      float64\n",
              "Species        category\n",
              "dtype: object"
            ]
          },
          "metadata": {
            "tags": []
          },
          "execution_count": 5
        }
      ]
    },
    {
      "metadata": {
        "id": "v5a7m9CxfvgU",
        "colab_type": "code",
        "colab": {
          "base_uri": "https://localhost:8080/",
          "height": 283
        },
        "outputId": "caf39dc5-eb35-4db8-be5f-f0c08cf06303"
      },
      "cell_type": "code",
      "source": [
        "distribution = sn.countplot(x=\"Species\", data=data)\n",
        "plt.show(distribution)"
      ],
      "execution_count": 6,
      "outputs": [
        {
          "output_type": "display_data",
          "data": {
            "image/png": "[encoded data removed]",
            "text/plain": [
              "<Figure size 432x288 with 1 Axes>"
            ]
          },
          "metadata": {
            "tags": []
          }
        }
      ]
    },
    {
      "metadata": {
        "id": "zlgiuHZHfvgX",
        "colab_type": "text"
      },
      "cell_type": "markdown",
      "source": [
        "## Missing Information"
      ]
    },
    {
      "metadata": {
        "id": "l41egdeRfvgY",
        "colab_type": "code",
        "colab": {
          "base_uri": "https://localhost:8080/",
          "height": 119
        },
        "outputId": "7cca7672-dad0-4551-fb43-4db532603a52"
      },
      "cell_type": "code",
      "source": [
        "print(data.isnull().sum())"
      ],
      "execution_count": 7,
      "outputs": [
        {
          "output_type": "stream",
          "text": [
            "SepalLength    0\n",
            "SepalWidth     0\n",
            "PetalLength    0\n",
            "PetalWidth     0\n",
            "Species        0\n",
            "dtype: int64\n"
          ],
          "name": "stdout"
        }
      ]
    },
    {
      "metadata": {
        "id": "mnvUdOWbfvga",
        "colab_type": "text"
      },
      "cell_type": "markdown",
      "source": [
        "## Correlation Analysis"
      ]
    },
    {
      "metadata": {
        "scrolled": false,
        "id": "Ko5xnSJAfvgb",
        "colab_type": "code",
        "colab": {
          "base_uri": "https://localhost:8080/",
          "height": 612
        },
        "outputId": "9948b40b-b04a-4dbd-eb25-8efdf8f8b623"
      },
      "cell_type": "code",
      "source": [
        "corrMatt = data[[\"SepalLength\",\"SepalWidth\",\"PetalLength\",\"PetalWidth\",\"Species\"]].corr()\n",
        "mask = np.array(corrMatt)\n",
        "mask[np.tril_indices_from(mask)] = False\n",
        "fig,ax= plt.subplots()\n",
        "fig.set_size_inches(20,10)\n",
        "sn.heatmap(corrMatt, mask=mask,vmax=.8, square=True,annot=True)"
      ],
      "execution_count": 8,
      "outputs": [
        {
          "output_type": "execute_result",
          "data": {
            "text/plain": [
              "<matplotlib.axes._subplots.AxesSubplot at 0x7ffb95946d68>"
            ]
          },
          "metadata": {
            "tags": []
          },
          "execution_count": 8
        },
        {
          "output_type": "display_data",
          "data": {
            "image/png": "[encoded data removed]",
            "text/plain": [
              "<Figure size 1440x720 with 2 Axes>"
            ]
          },
          "metadata": {
            "tags": []
          }
        }
      ]
    },
    {
      "metadata": {
        "id": "JZnABHATfvgf",
        "colab_type": "text"
      },
      "cell_type": "markdown",
      "source": [
        "# Implementation"
      ]
    },
    {
      "metadata": {
        "id": "2fOhe02Mfvgf",
        "colab_type": "text"
      },
      "cell_type": "markdown",
      "source": [
        "## Split Data to Test and Train"
      ]
    },
    {
      "metadata": {
        "id": "2U5ZWb6hfvgg",
        "colab_type": "code",
        "colab": {
          "base_uri": "https://localhost:8080/",
          "height": 85
        },
        "outputId": "4f539f52-d5a1-4152-f3c4-8528b8db28f5"
      },
      "cell_type": "code",
      "source": [
        "output_data = data[\"Species\"]\n",
        "input_data = data.drop(\"Species\",axis=1)\n",
        "X_train, X_test, y_train, y_test = train_test_split(input_data, output_data, test_size=0.3, random_state=42)\n",
        "\n",
        "y_train = utils.to_categorical(y_train) \n",
        "y_test = utils.to_categorical(y_test)\n",
        "\n",
        "print(\"Input training size: \", X_train.shape[0])\n",
        "print(\"Output training size: \", y_train.shape[0])\n",
        "print(\"Input testing size: \", X_test.shape[0])\n",
        "print(\"Output testing size: \", y_test.shape[0])"
      ],
      "execution_count": 9,
      "outputs": [
        {
          "output_type": "stream",
          "text": [
            "Input training size:  105\n",
            "Output training size:  105\n",
            "Input testing size:  45\n",
            "Output testing size:  45\n"
          ],
          "name": "stdout"
        }
      ]
    },
    {
      "metadata": {
        "scrolled": true,
        "id": "rfA-G0yDfvgj",
        "colab_type": "code",
        "colab": {
          "base_uri": "https://localhost:8080/",
          "height": 204
        },
        "outputId": "e2990626-8389-4b5a-ced5-efd126f24442"
      },
      "cell_type": "code",
      "source": [
        "X_train.head()"
      ],
      "execution_count": 10,
      "outputs": [
        {
          "output_type": "execute_result",
          "data": {
            "text/html": [
              "<div>\n",
              "<style scoped>\n",
              "    .dataframe tbody tr th:only-of-type {\n",
              "        vertical-align: middle;\n",
              "    }\n",
              "\n",
              "    .dataframe tbody tr th {\n",
              "        vertical-align: top;\n",
              "    }\n",
              "\n",
              "    .dataframe thead th {\n",
              "        text-align: right;\n",
              "    }\n",
              "</style>\n",
              "<table border=\"1\" class=\"dataframe\">\n",
              "  <thead>\n",
              "    <tr style=\"text-align: right;\">\n",
              "      <th></th>\n",
              "      <th>SepalLength</th>\n",
              "      <th>SepalWidth</th>\n",
              "      <th>PetalLength</th>\n",
              "      <th>PetalWidth</th>\n",
              "    </tr>\n",
              "  </thead>\n",
              "  <tbody>\n",
              "    <tr>\n",
              "      <th>81</th>\n",
              "      <td>5.5</td>\n",
              "      <td>2.4</td>\n",
              "      <td>3.7</td>\n",
              "      <td>1.0</td>\n",
              "    </tr>\n",
              "    <tr>\n",
              "      <th>133</th>\n",
              "      <td>6.3</td>\n",
              "      <td>2.8</td>\n",
              "      <td>5.1</td>\n",
              "      <td>1.5</td>\n",
              "    </tr>\n",
              "    <tr>\n",
              "      <th>137</th>\n",
              "      <td>6.4</td>\n",
              "      <td>3.1</td>\n",
              "      <td>5.5</td>\n",
              "      <td>1.8</td>\n",
              "    </tr>\n",
              "    <tr>\n",
              "      <th>75</th>\n",
              "      <td>6.6</td>\n",
              "      <td>3.0</td>\n",
              "      <td>4.4</td>\n",
              "      <td>1.4</td>\n",
              "    </tr>\n",
              "    <tr>\n",
              "      <th>109</th>\n",
              "      <td>7.2</td>\n",
              "      <td>3.6</td>\n",
              "      <td>6.1</td>\n",
              "      <td>2.5</td>\n",
              "    </tr>\n",
              "  </tbody>\n",
              "</table>\n",
              "</div>"
            ],
            "text/plain": [
              "     SepalLength  SepalWidth  PetalLength  PetalWidth\n",
              "81           5.5         2.4          3.7         1.0\n",
              "133          6.3         2.8          5.1         1.5\n",
              "137          6.4         3.1          5.5         1.8\n",
              "75           6.6         3.0          4.4         1.4\n",
              "109          7.2         3.6          6.1         2.5"
            ]
          },
          "metadata": {
            "tags": []
          },
          "execution_count": 10
        }
      ]
    },
    {
      "metadata": {
        "id": "0Rrolzs_fvgm",
        "colab_type": "text"
      },
      "cell_type": "markdown",
      "source": [
        "## Creating & compiling a model"
      ]
    },
    {
      "metadata": {
        "id": "W23mzo-afvgn",
        "colab_type": "code",
        "colab": {}
      },
      "cell_type": "code",
      "source": [
        "model = Sequential()\n",
        "model.add(Dense(10, input_dim=4, activation='relu'))\n",
        "model.add(Dense(10, activation='relu'))\n",
        "model.add(Dense(3, activation='softmax'))\n",
        "model.compile(loss='categorical_crossentropy', optimizer='adam', metrics=['accuracy'])"
      ],
      "execution_count": 0,
      "outputs": []
    },
    {
      "metadata": {
        "id": "VuiZaVsxfvgp",
        "colab_type": "text"
      },
      "cell_type": "markdown",
      "source": [
        "## Training a model"
      ]
    },
    {
      "metadata": {
        "scrolled": true,
        "id": "Ik9s3y9sfvgq",
        "colab_type": "code",
        "colab": {
          "base_uri": "https://localhost:8080/",
          "height": 3434
        },
        "outputId": "1fe7a2be-57ad-4d5a-cfe6-c25c43ce093c"
      },
      "cell_type": "code",
      "source": [
        "model.fit(X_train, y_train, epochs=100, batch_size=10)"
      ],
      "execution_count": 18,
      "outputs": [
        {
          "output_type": "stream",
          "text": [
            "Epoch 1/100\n",
            "105/105 [==============================] - 0s 872us/sample - loss: 1.0018 - accuracy: 0.3714\n",
            "Epoch 2/100\n",
            "105/105 [==============================] - 0s 156us/sample - loss: 0.9439 - accuracy: 0.7048\n",
            "Epoch 3/100\n",
            "105/105 [==============================] - 0s 164us/sample - loss: 0.9226 - accuracy: 0.6476\n",
            "Epoch 4/100\n",
            "105/105 [==============================] - 0s 161us/sample - loss: 0.9086 - accuracy: 0.6476\n",
            "Epoch 5/100\n",
            "105/105 [==============================] - 0s 228us/sample - loss: 0.8905 - accuracy: 0.6476\n",
            "Epoch 6/100\n",
            "105/105 [==============================] - 0s 161us/sample - loss: 0.8727 - accuracy: 0.6476\n",
            "Epoch 7/100\n",
            "105/105 [==============================] - 0s 227us/sample - loss: 0.8541 - accuracy: 0.6476\n",
            "Epoch 8/100\n",
            "105/105 [==============================] - 0s 159us/sample - loss: 0.8361 - accuracy: 0.6476\n",
            "Epoch 9/100\n",
            "105/105 [==============================] - 0s 173us/sample - loss: 0.8179 - accuracy: 0.6476\n",
            "Epoch 10/100\n",
            "105/105 [==============================] - 0s 195us/sample - loss: 0.7976 - accuracy: 0.6571\n",
            "Epoch 11/100\n",
            "105/105 [==============================] - 0s 165us/sample - loss: 0.7789 - accuracy: 0.6476\n",
            "Epoch 12/100\n",
            "105/105 [==============================] - 0s 166us/sample - loss: 0.7566 - accuracy: 0.6667\n",
            "Epoch 13/100\n",
            "105/105 [==============================] - 0s 153us/sample - loss: 0.7367 - accuracy: 0.7429\n",
            "Epoch 14/100\n",
            "105/105 [==============================] - 0s 199us/sample - loss: 0.7157 - accuracy: 0.7143\n",
            "Epoch 15/100\n",
            "105/105 [==============================] - 0s 184us/sample - loss: 0.6954 - accuracy: 0.7143\n",
            "Epoch 16/100\n",
            "105/105 [==============================] - 0s 181us/sample - loss: 0.6756 - accuracy: 0.7810\n",
            "Epoch 17/100\n",
            "105/105 [==============================] - 0s 161us/sample - loss: 0.6558 - accuracy: 0.8000\n",
            "Epoch 18/100\n",
            "105/105 [==============================] - 0s 161us/sample - loss: 0.6342 - accuracy: 0.8381\n",
            "Epoch 19/100\n",
            "105/105 [==============================] - 0s 199us/sample - loss: 0.6169 - accuracy: 0.7238\n",
            "Epoch 20/100\n",
            "105/105 [==============================] - 0s 160us/sample - loss: 0.5983 - accuracy: 0.8000\n",
            "Epoch 21/100\n",
            "105/105 [==============================] - 0s 195us/sample - loss: 0.5805 - accuracy: 0.8571\n",
            "Epoch 22/100\n",
            "105/105 [==============================] - 0s 193us/sample - loss: 0.5645 - accuracy: 0.9048\n",
            "Epoch 23/100\n",
            "105/105 [==============================] - 0s 172us/sample - loss: 0.5488 - accuracy: 0.8952\n",
            "Epoch 24/100\n",
            "105/105 [==============================] - 0s 185us/sample - loss: 0.5342 - accuracy: 0.8381\n",
            "Epoch 25/100\n",
            "105/105 [==============================] - 0s 148us/sample - loss: 0.5184 - accuracy: 0.9143\n",
            "Epoch 26/100\n",
            "105/105 [==============================] - 0s 130us/sample - loss: 0.5085 - accuracy: 0.9429\n",
            "Epoch 27/100\n",
            "105/105 [==============================] - 0s 160us/sample - loss: 0.4942 - accuracy: 0.9524\n",
            "Epoch 28/100\n",
            "105/105 [==============================] - 0s 191us/sample - loss: 0.4810 - accuracy: 0.9524\n",
            "Epoch 29/100\n",
            "105/105 [==============================] - 0s 164us/sample - loss: 0.4698 - accuracy: 0.9048\n",
            "Epoch 30/100\n",
            "105/105 [==============================] - 0s 168us/sample - loss: 0.4603 - accuracy: 0.8667\n",
            "Epoch 31/100\n",
            "105/105 [==============================] - 0s 200us/sample - loss: 0.4479 - accuracy: 0.9143\n",
            "Epoch 32/100\n",
            "105/105 [==============================] - 0s 178us/sample - loss: 0.4403 - accuracy: 0.9524\n",
            "Epoch 33/100\n",
            "105/105 [==============================] - 0s 146us/sample - loss: 0.4300 - accuracy: 0.9714\n",
            "Epoch 34/100\n",
            "105/105 [==============================] - 0s 163us/sample - loss: 0.4200 - accuracy: 0.9429\n",
            "Epoch 35/100\n",
            "105/105 [==============================] - 0s 169us/sample - loss: 0.4117 - accuracy: 0.9429\n",
            "Epoch 36/100\n",
            "105/105 [==============================] - 0s 163us/sample - loss: 0.4039 - accuracy: 0.9524\n",
            "Epoch 37/100\n",
            "105/105 [==============================] - 0s 146us/sample - loss: 0.3955 - accuracy: 0.9524\n",
            "Epoch 38/100\n",
            "105/105 [==============================] - 0s 145us/sample - loss: 0.3876 - accuracy: 0.9619\n",
            "Epoch 39/100\n",
            "105/105 [==============================] - 0s 156us/sample - loss: 0.3785 - accuracy: 0.9619\n",
            "Epoch 40/100\n",
            "105/105 [==============================] - 0s 210us/sample - loss: 0.3724 - accuracy: 0.9619\n",
            "Epoch 41/100\n",
            "105/105 [==============================] - 0s 154us/sample - loss: 0.3655 - accuracy: 0.9524\n",
            "Epoch 42/100\n",
            "105/105 [==============================] - 0s 144us/sample - loss: 0.3591 - accuracy: 0.9524\n",
            "Epoch 43/100\n",
            "105/105 [==============================] - 0s 143us/sample - loss: 0.3541 - accuracy: 0.9619\n",
            "Epoch 44/100\n",
            "105/105 [==============================] - 0s 143us/sample - loss: 0.3476 - accuracy: 0.9714\n",
            "Epoch 45/100\n",
            "105/105 [==============================] - 0s 153us/sample - loss: 0.3391 - accuracy: 0.9524\n",
            "Epoch 46/100\n",
            "105/105 [==============================] - 0s 142us/sample - loss: 0.3327 - accuracy: 0.9714\n",
            "Epoch 47/100\n",
            "105/105 [==============================] - 0s 144us/sample - loss: 0.3297 - accuracy: 0.9524\n",
            "Epoch 48/100\n",
            "105/105 [==============================] - 0s 151us/sample - loss: 0.3198 - accuracy: 0.9714\n",
            "Epoch 49/100\n",
            "105/105 [==============================] - 0s 147us/sample - loss: 0.3154 - accuracy: 0.9619\n",
            "Epoch 50/100\n",
            "105/105 [==============================] - 0s 140us/sample - loss: 0.3088 - accuracy: 0.9619\n",
            "Epoch 51/100\n",
            "105/105 [==============================] - 0s 147us/sample - loss: 0.3035 - accuracy: 0.9714\n",
            "Epoch 52/100\n",
            "105/105 [==============================] - 0s 166us/sample - loss: 0.2983 - accuracy: 0.9714\n",
            "Epoch 53/100\n",
            "105/105 [==============================] - 0s 180us/sample - loss: 0.2932 - accuracy: 0.9714\n",
            "Epoch 54/100\n",
            "105/105 [==============================] - 0s 188us/sample - loss: 0.2869 - accuracy: 0.9714\n",
            "Epoch 55/100\n",
            "105/105 [==============================] - 0s 160us/sample - loss: 0.2854 - accuracy: 0.9619\n",
            "Epoch 56/100\n",
            "105/105 [==============================] - 0s 160us/sample - loss: 0.2776 - accuracy: 0.9619\n",
            "Epoch 57/100\n",
            "105/105 [==============================] - 0s 157us/sample - loss: 0.2739 - accuracy: 0.9619\n",
            "Epoch 58/100\n",
            "105/105 [==============================] - 0s 216us/sample - loss: 0.2681 - accuracy: 0.9619\n",
            "Epoch 59/100\n",
            "105/105 [==============================] - 0s 213us/sample - loss: 0.2651 - accuracy: 0.9524\n",
            "Epoch 60/100\n",
            "105/105 [==============================] - 0s 220us/sample - loss: 0.2660 - accuracy: 0.9524\n",
            "Epoch 61/100\n",
            "105/105 [==============================] - 0s 186us/sample - loss: 0.2541 - accuracy: 0.9619\n",
            "Epoch 62/100\n",
            "105/105 [==============================] - 0s 247us/sample - loss: 0.2527 - accuracy: 0.9619\n",
            "Epoch 63/100\n",
            "105/105 [==============================] - 0s 178us/sample - loss: 0.2456 - accuracy: 0.9714\n",
            "Epoch 64/100\n",
            "105/105 [==============================] - 0s 195us/sample - loss: 0.2435 - accuracy: 0.9619\n",
            "Epoch 65/100\n",
            "105/105 [==============================] - 0s 168us/sample - loss: 0.2394 - accuracy: 0.9619\n",
            "Epoch 66/100\n",
            "105/105 [==============================] - 0s 194us/sample - loss: 0.2326 - accuracy: 0.9619\n",
            "Epoch 67/100\n",
            "105/105 [==============================] - 0s 166us/sample - loss: 0.2323 - accuracy: 0.9619\n",
            "Epoch 68/100\n",
            "105/105 [==============================] - 0s 154us/sample - loss: 0.2260 - accuracy: 0.9714\n",
            "Epoch 69/100\n",
            "105/105 [==============================] - 0s 182us/sample - loss: 0.2226 - accuracy: 0.9619\n",
            "Epoch 70/100\n",
            "105/105 [==============================] - 0s 197us/sample - loss: 0.2188 - accuracy: 0.9524\n",
            "Epoch 71/100\n",
            "105/105 [==============================] - 0s 215us/sample - loss: 0.2154 - accuracy: 0.9524\n",
            "Epoch 72/100\n",
            "105/105 [==============================] - 0s 207us/sample - loss: 0.2138 - accuracy: 0.9619\n",
            "Epoch 73/100\n",
            "105/105 [==============================] - 0s 211us/sample - loss: 0.2083 - accuracy: 0.9619\n",
            "Epoch 74/100\n",
            "105/105 [==============================] - 0s 190us/sample - loss: 0.2046 - accuracy: 0.9619\n",
            "Epoch 75/100\n",
            "105/105 [==============================] - 0s 217us/sample - loss: 0.2031 - accuracy: 0.9524\n",
            "Epoch 76/100\n",
            "105/105 [==============================] - 0s 174us/sample - loss: 0.1991 - accuracy: 0.9619\n",
            "Epoch 77/100\n",
            "105/105 [==============================] - 0s 190us/sample - loss: 0.1962 - accuracy: 0.9619\n",
            "Epoch 78/100\n",
            "105/105 [==============================] - 0s 192us/sample - loss: 0.1929 - accuracy: 0.9619\n",
            "Epoch 79/100\n",
            "105/105 [==============================] - 0s 185us/sample - loss: 0.1911 - accuracy: 0.9524\n",
            "Epoch 80/100\n",
            "105/105 [==============================] - 0s 187us/sample - loss: 0.1865 - accuracy: 0.9524\n",
            "Epoch 81/100\n",
            "105/105 [==============================] - 0s 210us/sample - loss: 0.1852 - accuracy: 0.9714\n",
            "Epoch 82/100\n",
            "105/105 [==============================] - 0s 208us/sample - loss: 0.1848 - accuracy: 0.9524\n",
            "Epoch 83/100\n",
            "105/105 [==============================] - 0s 165us/sample - loss: 0.1804 - accuracy: 0.9619\n",
            "Epoch 84/100\n",
            "105/105 [==============================] - 0s 174us/sample - loss: 0.1773 - accuracy: 0.9619\n",
            "Epoch 85/100\n",
            "105/105 [==============================] - 0s 202us/sample - loss: 0.1744 - accuracy: 0.9619\n",
            "Epoch 86/100\n",
            "105/105 [==============================] - 0s 187us/sample - loss: 0.1730 - accuracy: 0.9524\n",
            "Epoch 87/100\n",
            "105/105 [==============================] - 0s 188us/sample - loss: 0.1712 - accuracy: 0.9619\n",
            "Epoch 88/100\n",
            "105/105 [==============================] - 0s 190us/sample - loss: 0.1712 - accuracy: 0.9619\n",
            "Epoch 89/100\n",
            "105/105 [==============================] - 0s 199us/sample - loss: 0.1761 - accuracy: 0.9619\n",
            "Epoch 90/100\n",
            "105/105 [==============================] - 0s 189us/sample - loss: 0.1647 - accuracy: 0.9619\n",
            "Epoch 91/100\n",
            "105/105 [==============================] - 0s 180us/sample - loss: 0.1644 - accuracy: 0.9619\n",
            "Epoch 92/100\n",
            "105/105 [==============================] - 0s 228us/sample - loss: 0.1595 - accuracy: 0.9619\n",
            "Epoch 93/100\n",
            "105/105 [==============================] - 0s 186us/sample - loss: 0.1583 - accuracy: 0.9524\n",
            "Epoch 94/100\n",
            "105/105 [==============================] - 0s 222us/sample - loss: 0.1563 - accuracy: 0.9619\n",
            "Epoch 95/100\n",
            "105/105 [==============================] - 0s 171us/sample - loss: 0.1546 - accuracy: 0.9619\n",
            "Epoch 96/100\n",
            "105/105 [==============================] - 0s 176us/sample - loss: 0.1533 - accuracy: 0.9524\n",
            "Epoch 97/100\n",
            "105/105 [==============================] - 0s 186us/sample - loss: 0.1510 - accuracy: 0.9619\n",
            "Epoch 98/100\n",
            "105/105 [==============================] - 0s 194us/sample - loss: 0.1507 - accuracy: 0.9619\n",
            "Epoch 99/100\n",
            "105/105 [==============================] - 0s 174us/sample - loss: 0.1481 - accuracy: 0.9619\n",
            "Epoch 100/100\n",
            "105/105 [==============================] - 0s 212us/sample - loss: 0.1468 - accuracy: 0.9619\n"
          ],
          "name": "stdout"
        },
        {
          "output_type": "execute_result",
          "data": {
            "text/plain": [
              "<tensorflow.python.keras.callbacks.History at 0x7ffb86d4d128>"
            ]
          },
          "metadata": {
            "tags": []
          },
          "execution_count": 18
        }
      ]
    },
    {
      "metadata": {
        "id": "7BpkxRNBfvgu",
        "colab_type": "text"
      },
      "cell_type": "markdown",
      "source": [
        "## Evaluate the model"
      ]
    },
    {
      "metadata": {
        "id": "z8HkZsHOfvgv",
        "colab_type": "code",
        "colab": {
          "base_uri": "https://localhost:8080/",
          "height": 68
        },
        "outputId": "60e9caef-e1bd-4653-fcd0-a8f4b63c7e82"
      },
      "cell_type": "code",
      "source": [
        "scores = model.evaluate(X_test, y_test)\n",
        "print(\"\\nAccuracy: %.2f%%\" % (scores[1]*100))"
      ],
      "execution_count": 19,
      "outputs": [
        {
          "output_type": "stream",
          "text": [
            "45/45 [==============================] - 0s 992us/sample - loss: 0.1002 - accuracy: 0.9778\n",
            "\n",
            "Accuracy: 97.78%\n"
          ],
          "name": "stdout"
        }
      ]
    },
    {
      "metadata": {
        "id": "GYYnQSWyfvg0",
        "colab_type": "text"
      },
      "cell_type": "markdown",
      "source": [
        "## Predict"
      ]
    },
    {
      "metadata": {
        "scrolled": true,
        "id": "pFfvGt-mfvg0",
        "colab_type": "code",
        "colab": {
          "base_uri": "https://localhost:8080/",
          "height": 204
        },
        "outputId": "5d975467-144c-4acc-f06e-1d412c0823ac"
      },
      "cell_type": "code",
      "source": [
        "prediction = model.predict(X_test)\n",
        "prediction1 = pd.DataFrame({'IRIS1':prediction[:,0],'IRIS2':prediction[:,1], 'IRIS3':prediction[:,2]})\n",
        "prediction1.round(decimals=4).head()"
      ],
      "execution_count": 20,
      "outputs": [
        {
          "output_type": "execute_result",
          "data": {
            "text/html": [
              "<div>\n",
              "<style scoped>\n",
              "    .dataframe tbody tr th:only-of-type {\n",
              "        vertical-align: middle;\n",
              "    }\n",
              "\n",
              "    .dataframe tbody tr th {\n",
              "        vertical-align: top;\n",
              "    }\n",
              "\n",
              "    .dataframe thead th {\n",
              "        text-align: right;\n",
              "    }\n",
              "</style>\n",
              "<table border=\"1\" class=\"dataframe\">\n",
              "  <thead>\n",
              "    <tr style=\"text-align: right;\">\n",
              "      <th></th>\n",
              "      <th>IRIS1</th>\n",
              "      <th>IRIS2</th>\n",
              "      <th>IRIS3</th>\n",
              "    </tr>\n",
              "  </thead>\n",
              "  <tbody>\n",
              "    <tr>\n",
              "      <th>0</th>\n",
              "      <td>0.0043</td>\n",
              "      <td>0.8683</td>\n",
              "      <td>0.1275</td>\n",
              "    </tr>\n",
              "    <tr>\n",
              "      <th>1</th>\n",
              "      <td>0.9940</td>\n",
              "      <td>0.0060</td>\n",
              "      <td>0.0000</td>\n",
              "    </tr>\n",
              "    <tr>\n",
              "      <th>2</th>\n",
              "      <td>0.0000</td>\n",
              "      <td>0.0088</td>\n",
              "      <td>0.9912</td>\n",
              "    </tr>\n",
              "    <tr>\n",
              "      <th>3</th>\n",
              "      <td>0.0029</td>\n",
              "      <td>0.7310</td>\n",
              "      <td>0.2661</td>\n",
              "    </tr>\n",
              "    <tr>\n",
              "      <th>4</th>\n",
              "      <td>0.0022</td>\n",
              "      <td>0.8503</td>\n",
              "      <td>0.1475</td>\n",
              "    </tr>\n",
              "  </tbody>\n",
              "</table>\n",
              "</div>"
            ],
            "text/plain": [
              "    IRIS1   IRIS2   IRIS3\n",
              "0  0.0043  0.8683  0.1275\n",
              "1  0.9940  0.0060  0.0000\n",
              "2  0.0000  0.0088  0.9912\n",
              "3  0.0029  0.7310  0.2661\n",
              "4  0.0022  0.8503  0.1475"
            ]
          },
          "metadata": {
            "tags": []
          },
          "execution_count": 20
        }
      ]
    },
    {
      "metadata": {
        "id": "pJupN9YMfvg5",
        "colab_type": "code",
        "colab": {
          "base_uri": "https://localhost:8080/",
          "height": 204
        },
        "outputId": "a4df22fa-6d64-4616-cb07-95de8486a14f"
      },
      "cell_type": "code",
      "source": [
        "real_values = pd.DataFrame(y_test)\n",
        "real_values.head()"
      ],
      "execution_count": 15,
      "outputs": [
        {
          "output_type": "execute_result",
          "data": {
            "text/html": [
              "<div>\n",
              "<style scoped>\n",
              "    .dataframe tbody tr th:only-of-type {\n",
              "        vertical-align: middle;\n",
              "    }\n",
              "\n",
              "    .dataframe tbody tr th {\n",
              "        vertical-align: top;\n",
              "    }\n",
              "\n",
              "    .dataframe thead th {\n",
              "        text-align: right;\n",
              "    }\n",
              "</style>\n",
              "<table border=\"1\" class=\"dataframe\">\n",
              "  <thead>\n",
              "    <tr style=\"text-align: right;\">\n",
              "      <th></th>\n",
              "      <th>0</th>\n",
              "      <th>1</th>\n",
              "      <th>2</th>\n",
              "    </tr>\n",
              "  </thead>\n",
              "  <tbody>\n",
              "    <tr>\n",
              "      <th>0</th>\n",
              "      <td>0.0</td>\n",
              "      <td>1.0</td>\n",
              "      <td>0.0</td>\n",
              "    </tr>\n",
              "    <tr>\n",
              "      <th>1</th>\n",
              "      <td>1.0</td>\n",
              "      <td>0.0</td>\n",
              "      <td>0.0</td>\n",
              "    </tr>\n",
              "    <tr>\n",
              "      <th>2</th>\n",
              "      <td>0.0</td>\n",
              "      <td>0.0</td>\n",
              "      <td>1.0</td>\n",
              "    </tr>\n",
              "    <tr>\n",
              "      <th>3</th>\n",
              "      <td>0.0</td>\n",
              "      <td>1.0</td>\n",
              "      <td>0.0</td>\n",
              "    </tr>\n",
              "    <tr>\n",
              "      <th>4</th>\n",
              "      <td>0.0</td>\n",
              "      <td>1.0</td>\n",
              "      <td>0.0</td>\n",
              "    </tr>\n",
              "  </tbody>\n",
              "</table>\n",
              "</div>"
            ],
            "text/plain": [
              "     0    1    2\n",
              "0  0.0  1.0  0.0\n",
              "1  1.0  0.0  0.0\n",
              "2  0.0  0.0  1.0\n",
              "3  0.0  1.0  0.0\n",
              "4  0.0  1.0  0.0"
            ]
          },
          "metadata": {
            "tags": []
          },
          "execution_count": 15
        }
      ]
    }
  ]
}