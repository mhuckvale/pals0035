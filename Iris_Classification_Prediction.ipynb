{
  "nbformat": 4,
  "nbformat_minor": 0,
  "metadata": {
    "colab": {
      "name": "Iris Classification Prediction.ipynb",
      "version": "0.3.2",
      "provenance": [],
      "collapsed_sections": [],
      "include_colab_link": true
    },
    "language_info": {
      "codemirror_mode": {
        "name": "ipython",
        "version": 3
      },
      "file_extension": ".py",
      "mimetype": "text/x-python",
      "name": "python",
      "nbconvert_exporter": "python",
      "pygments_lexer": "ipython3",
      "version": "3.6.8"
    },
    "kernelspec": {
      "display_name": "Python 3",
      "language": "python",
      "name": "python3"
    }
  },
  "cells": [
    {
      "cell_type": "markdown",
      "metadata": {
        "id": "view-in-github",
        "colab_type": "text"
      },
      "source": [
        "<a href=\"https://colab.research.google.com/github/mhuckvale/pals0035/blob/master/Iris_Classification_Prediction.ipynb\" target=\"_parent\"><img src=\"https://colab.research.google.com/assets/colab-badge.svg\" alt=\"Open In Colab\"/></a>"
      ]
    },
    {
      "metadata": {
        "id": "qZRIWKirfvf7",
        "colab_type": "text"
      },
      "cell_type": "markdown",
      "source": [
        "# Importing necessary libraries"
      ]
    },
    {
      "metadata": {
        "id": "bA53TBn4gFMJ",
        "colab_type": "code",
        "colab": {}
      },
      "cell_type": "code",
      "source": [
        "!pip install -q tensorflow==2.0.0-alpha0 "
      ],
      "execution_count": 0,
      "outputs": []
    },
    {
      "metadata": {
        "id": "zZYo5-tvfvf-",
        "colab_type": "code",
        "colab": {}
      },
      "cell_type": "code",
      "source": [
        "from tensorflow.keras.models import Sequential\n",
        "from tensorflow.keras.layers import Dense\n",
        "from tensorflow.python.keras import utils\n",
        "import numpy as np\n",
        "import pandas as pd\n",
        "import seaborn as sn\n",
        "import missingno as msno\n",
        "import matplotlib.pyplot as plt\n",
        "from sklearn.model_selection import train_test_split"
      ],
      "execution_count": 0,
      "outputs": []
    },
    {
      "metadata": {
        "id": "pH9iJalVfvgD",
        "colab_type": "text"
      },
      "cell_type": "markdown",
      "source": [
        "# Import Data"
      ]
    },
    {
      "metadata": {
        "scrolled": false,
        "id": "BK0jUmFwfvgF",
        "colab_type": "code",
        "colab": {}
      },
      "cell_type": "code",
      "source": [
        "from sklearn import datasets\n",
        "\n",
        "COLUMN_NAMES = [\n",
        "        'SepalLength', \n",
        "        'SepalWidth',\n",
        "        'PetalLength', \n",
        "        'PetalWidth'\n",
        "        ]\n",
        "\n",
        "irisdata = datasets.load_iris()\n",
        "data = pd.DataFrame(irisdata.data, columns=COLUMN_NAMES)\n",
        "data['Species'] = pd.Series(irisdata.target)\n",
        "\n",
        "data.head()"
      ],
      "execution_count": 0,
      "outputs": []
    },
    {
      "metadata": {
        "id": "MmZI4p4LfvgL",
        "colab_type": "text"
      },
      "cell_type": "markdown",
      "source": [
        "# Data Analysis "
      ]
    },
    {
      "metadata": {
        "id": "y8uKQstffvgM",
        "colab_type": "text"
      },
      "cell_type": "markdown",
      "source": [
        "## Data Types Analysis"
      ]
    },
    {
      "metadata": {
        "id": "WkSEE1i_fvgN",
        "colab_type": "code",
        "colab": {}
      },
      "cell_type": "code",
      "source": [
        "data.dtypes"
      ],
      "execution_count": 0,
      "outputs": []
    },
    {
      "metadata": {
        "id": "TzvjCYrKfvgQ",
        "colab_type": "text"
      },
      "cell_type": "markdown",
      "source": [
        "## Handle Categorical Variables"
      ]
    },
    {
      "metadata": {
        "scrolled": false,
        "id": "5JJsFCOyfvgR",
        "colab_type": "code",
        "colab": {}
      },
      "cell_type": "code",
      "source": [
        "data['Species'] = data['Species'].astype(\"category\")\n",
        "data.dtypes"
      ],
      "execution_count": 0,
      "outputs": []
    },
    {
      "metadata": {
        "id": "v5a7m9CxfvgU",
        "colab_type": "code",
        "colab": {}
      },
      "cell_type": "code",
      "source": [
        "distribution = sn.countplot(x=\"Species\", data=data)\n",
        "plt.show(distribution)"
      ],
      "execution_count": 0,
      "outputs": []
    },
    {
      "metadata": {
        "id": "zlgiuHZHfvgX",
        "colab_type": "text"
      },
      "cell_type": "markdown",
      "source": [
        "## Missing Information"
      ]
    },
    {
      "metadata": {
        "id": "l41egdeRfvgY",
        "colab_type": "code",
        "colab": {}
      },
      "cell_type": "code",
      "source": [
        "print(data.isnull().sum())"
      ],
      "execution_count": 0,
      "outputs": []
    },
    {
      "metadata": {
        "id": "mnvUdOWbfvga",
        "colab_type": "text"
      },
      "cell_type": "markdown",
      "source": [
        "## Correlation Analysis"
      ]
    },
    {
      "metadata": {
        "scrolled": false,
        "id": "Ko5xnSJAfvgb",
        "colab_type": "code",
        "colab": {}
      },
      "cell_type": "code",
      "source": [
        "corrMatt = data[[\"SepalLength\",\"SepalWidth\",\"PetalLength\",\"PetalWidth\",\"Species\"]].corr()\n",
        "mask = np.array(corrMatt)\n",
        "mask[np.tril_indices_from(mask)] = False\n",
        "fig,ax= plt.subplots()\n",
        "fig.set_size_inches(20,10)\n",
        "sn.heatmap(corrMatt, mask=mask,vmax=.8, square=True,annot=True)"
      ],
      "execution_count": 0,
      "outputs": []
    },
    {
      "metadata": {
        "id": "JZnABHATfvgf",
        "colab_type": "text"
      },
      "cell_type": "markdown",
      "source": [
        "# Implementation"
      ]
    },
    {
      "metadata": {
        "id": "2fOhe02Mfvgf",
        "colab_type": "text"
      },
      "cell_type": "markdown",
      "source": [
        "## Split Data to Test and Train"
      ]
    },
    {
      "metadata": {
        "id": "2U5ZWb6hfvgg",
        "colab_type": "code",
        "colab": {}
      },
      "cell_type": "code",
      "source": [
        "output_data = data[\"Species\"]\n",
        "input_data = data.drop(\"Species\",axis=1)\n",
        "X_train, X_test, y_train, y_test = train_test_split(input_data, output_data, test_size=0.3, random_state=42)\n",
        "\n",
        "y_train = utils.to_categorical(y_train) \n",
        "y_test = utils.to_categorical(y_test)\n",
        "\n",
        "print(\"Input training size: \", X_train.shape[0])\n",
        "print(\"Output training size: \", y_train.shape[0])\n",
        "print(\"Input testing size: \", X_test.shape[0])\n",
        "print(\"Output testing size: \", y_test.shape[0])"
      ],
      "execution_count": 0,
      "outputs": []
    },
    {
      "metadata": {
        "scrolled": true,
        "id": "rfA-G0yDfvgj",
        "colab_type": "code",
        "colab": {}
      },
      "cell_type": "code",
      "source": [
        "X_train.head()"
      ],
      "execution_count": 0,
      "outputs": []
    },
    {
      "metadata": {
        "id": "0Rrolzs_fvgm",
        "colab_type": "text"
      },
      "cell_type": "markdown",
      "source": [
        "## Creating & compiling a model"
      ]
    },
    {
      "metadata": {
        "id": "W23mzo-afvgn",
        "colab_type": "code",
        "colab": {}
      },
      "cell_type": "code",
      "source": [
        "model = Sequential()\n",
        "model.add(Dense(10, input_dim=4, activation='relu'))\n",
        "model.add(Dense(10, activation='relu'))\n",
        "model.add(Dense(3, activation='softmax'))\n",
        "model.compile(loss='categorical_crossentropy', optimizer='adam', metrics=['accuracy'])"
      ],
      "execution_count": 0,
      "outputs": []
    },
    {
      "metadata": {
        "id": "VuiZaVsxfvgp",
        "colab_type": "text"
      },
      "cell_type": "markdown",
      "source": [
        "## Training a model"
      ]
    },
    {
      "metadata": {
        "scrolled": true,
        "id": "Ik9s3y9sfvgq",
        "colab_type": "code",
        "colab": {}
      },
      "cell_type": "code",
      "source": [
        "model.fit(X_train, y_train, epochs=300, batch_size=10)"
      ],
      "execution_count": 0,
      "outputs": []
    },
    {
      "metadata": {
        "id": "7BpkxRNBfvgu",
        "colab_type": "text"
      },
      "cell_type": "markdown",
      "source": [
        "## Evaluate the model"
      ]
    },
    {
      "metadata": {
        "id": "z8HkZsHOfvgv",
        "colab_type": "code",
        "colab": {}
      },
      "cell_type": "code",
      "source": [
        "scores = model.evaluate(X_test, y_test)\n",
        "print(\"\\nAccuracy: %.2f%%\" % (scores[1]*100))"
      ],
      "execution_count": 0,
      "outputs": []
    },
    {
      "metadata": {
        "id": "GYYnQSWyfvg0",
        "colab_type": "text"
      },
      "cell_type": "markdown",
      "source": [
        "## Predict"
      ]
    },
    {
      "metadata": {
        "scrolled": true,
        "id": "pFfvGt-mfvg0",
        "colab_type": "code",
        "colab": {}
      },
      "cell_type": "code",
      "source": [
        "prediction = model.predict(X_test)\n",
        "prediction1 = pd.DataFrame({'IRIS1':prediction[:,0],'IRIS2':prediction[:,1], 'IRIS3':prediction[:,2]})\n",
        "prediction1.round(decimals=4).head()"
      ],
      "execution_count": 0,
      "outputs": []
    },
    {
      "metadata": {
        "id": "pJupN9YMfvg5",
        "colab_type": "code",
        "colab": {}
      },
      "cell_type": "code",
      "source": [
        "real_values = pd.DataFrame(y_test)\n",
        "real_values.head()"
      ],
      "execution_count": 0,
      "outputs": []
    }
  ]
}