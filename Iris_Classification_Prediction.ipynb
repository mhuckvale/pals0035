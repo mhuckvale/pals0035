{
  "nbformat": 4,
  "nbformat_minor": 0,
  "metadata": {
    "colab": {
      "name": "Iris Classification Prediction.ipynb",
      "version": "0.3.2",
      "provenance": [],
      "collapsed_sections": [],
      "include_colab_link": true
    },
    "language_info": {
      "codemirror_mode": {
        "name": "ipython",
        "version": 3
      },
      "file_extension": ".py",
      "mimetype": "text/x-python",
      "name": "python",
      "nbconvert_exporter": "python",
      "pygments_lexer": "ipython3",
      "version": "3.6.8"
    },
    "kernelspec": {
      "display_name": "Python 3",
      "language": "python",
      "name": "python3"
    }
  },
  "cells": [
    {
      "cell_type": "markdown",
      "metadata": {
        "id": "view-in-github",
        "colab_type": "text"
      },
      "source": [
        "<a href=\"https://colab.research.google.com/github/mhuckvale/pals0035/blob/master/Iris_Classification_Prediction.ipynb\" target=\"_parent\"><img src=\"https://colab.research.google.com/assets/colab-badge.svg\" alt=\"Open In Colab\"/></a>"
      ]
    },
    {
      "metadata": {
        "id": "qZRIWKirfvf7",
        "colab_type": "text"
      },
      "cell_type": "markdown",
      "source": [
        "# Tensorflow 2 Example using Iris data set\n",
        "## Importing necessary libraries"
      ]
    },
    {
      "metadata": {
        "id": "bA53TBn4gFMJ",
        "colab_type": "code",
        "colab": {
          "base_uri": "https://localhost:8080/",
          "height": 85
        },
        "outputId": "a1b7d9bc-9109-4e4f-d708-6b6aae4c3940"
      },
      "cell_type": "code",
      "source": [
        "!pip install -q tensorflow==2.0.0-alpha0 "
      ],
      "execution_count": 1,
      "outputs": [
        {
          "output_type": "stream",
          "text": [
            "\u001b[K    100% |████████████████████████████████| 79.9MB 416kB/s \n",
            "\u001b[K    100% |████████████████████████████████| 61kB 18.1MB/s \n",
            "\u001b[K    100% |████████████████████████████████| 419kB 17.6MB/s \n",
            "\u001b[K    100% |████████████████████████████████| 3.0MB 11.4MB/s \n",
            "\u001b[?25h"
          ],
          "name": "stdout"
        }
      ]
    },
    {
      "metadata": {
        "id": "zZYo5-tvfvf-",
        "colab_type": "code",
        "colab": {}
      },
      "cell_type": "code",
      "source": [
        "from tensorflow.keras.models import Sequential\n",
        "from tensorflow.keras.layers import Dense\n",
        "from tensorflow.python.keras import utils\n",
        "import numpy as np\n",
        "import pandas as pd\n",
        "import seaborn as sn\n",
        "import missingno as msno\n",
        "import matplotlib.pyplot as plt\n",
        "from sklearn.model_selection import train_test_split"
      ],
      "execution_count": 0,
      "outputs": []
    },
    {
      "metadata": {
        "id": "pH9iJalVfvgD",
        "colab_type": "text"
      },
      "cell_type": "markdown",
      "source": [
        "## Import Data"
      ]
    },
    {
      "metadata": {
        "scrolled": false,
        "id": "BK0jUmFwfvgF",
        "colab_type": "code",
        "colab": {
          "base_uri": "https://localhost:8080/",
          "height": 204
        },
        "outputId": "3dac903f-7193-4945-fb80-a1e82c685afc"
      },
      "cell_type": "code",
      "source": [
        "from sklearn import datasets\n",
        "\n",
        "COLUMN_NAMES = [\n",
        "        'SepalLength', \n",
        "        'SepalWidth',\n",
        "        'PetalLength', \n",
        "        'PetalWidth'\n",
        "        ]\n",
        "\n",
        "irisdata = datasets.load_iris()\n",
        "data = pd.DataFrame(irisdata.data, columns=COLUMN_NAMES)\n",
        "data['Species'] = pd.Series(irisdata.target)\n",
        "\n",
        "data.head()"
      ],
      "execution_count": 3,
      "outputs": [
        {
          "output_type": "execute_result",
          "data": {
            "text/html": [
              "<div>\n",
              "<style scoped>\n",
              "    .dataframe tbody tr th:only-of-type {\n",
              "        vertical-align: middle;\n",
              "    }\n",
              "\n",
              "    .dataframe tbody tr th {\n",
              "        vertical-align: top;\n",
              "    }\n",
              "\n",
              "    .dataframe thead th {\n",
              "        text-align: right;\n",
              "    }\n",
              "</style>\n",
              "<table border=\"1\" class=\"dataframe\">\n",
              "  <thead>\n",
              "    <tr style=\"text-align: right;\">\n",
              "      <th></th>\n",
              "      <th>SepalLength</th>\n",
              "      <th>SepalWidth</th>\n",
              "      <th>PetalLength</th>\n",
              "      <th>PetalWidth</th>\n",
              "      <th>Species</th>\n",
              "    </tr>\n",
              "  </thead>\n",
              "  <tbody>\n",
              "    <tr>\n",
              "      <th>0</th>\n",
              "      <td>5.1</td>\n",
              "      <td>3.5</td>\n",
              "      <td>1.4</td>\n",
              "      <td>0.2</td>\n",
              "      <td>0</td>\n",
              "    </tr>\n",
              "    <tr>\n",
              "      <th>1</th>\n",
              "      <td>4.9</td>\n",
              "      <td>3.0</td>\n",
              "      <td>1.4</td>\n",
              "      <td>0.2</td>\n",
              "      <td>0</td>\n",
              "    </tr>\n",
              "    <tr>\n",
              "      <th>2</th>\n",
              "      <td>4.7</td>\n",
              "      <td>3.2</td>\n",
              "      <td>1.3</td>\n",
              "      <td>0.2</td>\n",
              "      <td>0</td>\n",
              "    </tr>\n",
              "    <tr>\n",
              "      <th>3</th>\n",
              "      <td>4.6</td>\n",
              "      <td>3.1</td>\n",
              "      <td>1.5</td>\n",
              "      <td>0.2</td>\n",
              "      <td>0</td>\n",
              "    </tr>\n",
              "    <tr>\n",
              "      <th>4</th>\n",
              "      <td>5.0</td>\n",
              "      <td>3.6</td>\n",
              "      <td>1.4</td>\n",
              "      <td>0.2</td>\n",
              "      <td>0</td>\n",
              "    </tr>\n",
              "  </tbody>\n",
              "</table>\n",
              "</div>"
            ],
            "text/plain": [
              "   SepalLength  SepalWidth  PetalLength  PetalWidth  Species\n",
              "0          5.1         3.5          1.4         0.2        0\n",
              "1          4.9         3.0          1.4         0.2        0\n",
              "2          4.7         3.2          1.3         0.2        0\n",
              "3          4.6         3.1          1.5         0.2        0\n",
              "4          5.0         3.6          1.4         0.2        0"
            ]
          },
          "metadata": {
            "tags": []
          },
          "execution_count": 3
        }
      ]
    },
    {
      "metadata": {
        "id": "y8uKQstffvgM",
        "colab_type": "text"
      },
      "cell_type": "markdown",
      "source": [
        "## Data Types Analysis"
      ]
    },
    {
      "metadata": {
        "id": "WkSEE1i_fvgN",
        "colab_type": "code",
        "colab": {
          "base_uri": "https://localhost:8080/",
          "height": 119
        },
        "outputId": "2634e662-0d07-496a-8af2-8697b8c12b65"
      },
      "cell_type": "code",
      "source": [
        "data.dtypes"
      ],
      "execution_count": 4,
      "outputs": [
        {
          "output_type": "execute_result",
          "data": {
            "text/plain": [
              "SepalLength    float64\n",
              "SepalWidth     float64\n",
              "PetalLength    float64\n",
              "PetalWidth     float64\n",
              "Species          int64\n",
              "dtype: object"
            ]
          },
          "metadata": {
            "tags": []
          },
          "execution_count": 4
        }
      ]
    },
    {
      "metadata": {
        "id": "TzvjCYrKfvgQ",
        "colab_type": "text"
      },
      "cell_type": "markdown",
      "source": [
        "## Handle Categorical Variables"
      ]
    },
    {
      "metadata": {
        "scrolled": false,
        "id": "5JJsFCOyfvgR",
        "colab_type": "code",
        "colab": {
          "base_uri": "https://localhost:8080/",
          "height": 119
        },
        "outputId": "6cb29849-28b3-4a6f-fff5-299e56115e4b"
      },
      "cell_type": "code",
      "source": [
        "data['Species'] = data['Species'].astype(\"category\")\n",
        "data.dtypes"
      ],
      "execution_count": 5,
      "outputs": [
        {
          "output_type": "execute_result",
          "data": {
            "text/plain": [
              "SepalLength     float64\n",
              "SepalWidth      float64\n",
              "PetalLength     float64\n",
              "PetalWidth      float64\n",
              "Species        category\n",
              "dtype: object"
            ]
          },
          "metadata": {
            "tags": []
          },
          "execution_count": 5
        }
      ]
    },
    {
      "metadata": {
        "id": "v5a7m9CxfvgU",
        "colab_type": "code",
        "colab": {
          "base_uri": "https://localhost:8080/",
          "height": 283
        },
        "outputId": "878340a5-f37b-40a4-8f74-e548aca825b8"
      },
      "cell_type": "code",
      "source": [
        "distribution = sn.countplot(x=\"Species\", data=data)\n",
        "plt.show(distribution)"
      ],
      "execution_count": 6,
      "outputs": [
        {
          "output_type": "display_data",
          "data": {
            "image/png": "[encoded data removed]",
            "text/plain": [
              "<Figure size 432x288 with 1 Axes>"
            ]
          },
          "metadata": {
            "tags": []
          }
        }
      ]
    },
    {
      "metadata": {
        "id": "zlgiuHZHfvgX",
        "colab_type": "text"
      },
      "cell_type": "markdown",
      "source": [
        "## Missing Information"
      ]
    },
    {
      "metadata": {
        "id": "l41egdeRfvgY",
        "colab_type": "code",
        "colab": {
          "base_uri": "https://localhost:8080/",
          "height": 119
        },
        "outputId": "32ac51a6-64c3-4ed9-888b-200705eefe2b"
      },
      "cell_type": "code",
      "source": [
        "print(data.isnull().sum())"
      ],
      "execution_count": 7,
      "outputs": [
        {
          "output_type": "stream",
          "text": [
            "SepalLength    0\n",
            "SepalWidth     0\n",
            "PetalLength    0\n",
            "PetalWidth     0\n",
            "Species        0\n",
            "dtype: int64\n"
          ],
          "name": "stdout"
        }
      ]
    },
    {
      "metadata": {
        "id": "mnvUdOWbfvga",
        "colab_type": "text"
      },
      "cell_type": "markdown",
      "source": [
        "## Correlation Analysis"
      ]
    },
    {
      "metadata": {
        "scrolled": false,
        "id": "Ko5xnSJAfvgb",
        "colab_type": "code",
        "colab": {
          "base_uri": "https://localhost:8080/",
          "height": 612
        },
        "outputId": "469e46d5-d987-432c-ff0f-aed579a733cf"
      },
      "cell_type": "code",
      "source": [
        "corrMatt = data[[\"SepalLength\",\"SepalWidth\",\"PetalLength\",\"PetalWidth\",\"Species\"]].corr()\n",
        "mask = np.array(corrMatt)\n",
        "mask[np.tril_indices_from(mask)] = False\n",
        "fig,ax= plt.subplots()\n",
        "fig.set_size_inches(20,10)\n",
        "sn.heatmap(corrMatt, mask=mask,vmax=.8, square=True,annot=True)"
      ],
      "execution_count": 8,
      "outputs": [
        {
          "output_type": "execute_result",
          "data": {
            "text/plain": [
              "<matplotlib.axes._subplots.AxesSubplot at 0x7fc52ba67780>"
            ]
          },
          "metadata": {
            "tags": []
          },
          "execution_count": 8
        },
        {
          "output_type": "display_data",
          "data": {
            "image/png": "[encoded data removed]",
            "text/plain": [
              "<Figure size 1440x720 with 2 Axes>"
            ]
          },
          "metadata": {
            "tags": []
          }
        }
      ]
    },
    {
      "metadata": {
        "id": "2fOhe02Mfvgf",
        "colab_type": "text"
      },
      "cell_type": "markdown",
      "source": [
        "## Split Data to Test and Train"
      ]
    },
    {
      "metadata": {
        "id": "2U5ZWb6hfvgg",
        "colab_type": "code",
        "colab": {
          "base_uri": "https://localhost:8080/",
          "height": 85
        },
        "outputId": "a9515a57-9b43-43ae-9afc-c7c40e938123"
      },
      "cell_type": "code",
      "source": [
        "output_data = data[\"Species\"]\n",
        "input_data = data.drop(\"Species\",axis=1)\n",
        "X_train, X_test, y_train, y_test = train_test_split(input_data, output_data, test_size=0.3, random_state=42)\n",
        "\n",
        "y_train = utils.to_categorical(y_train) \n",
        "y_test = utils.to_categorical(y_test)\n",
        "\n",
        "print(\"Input training size: \", X_train.shape[0])\n",
        "print(\"Output training size: \", y_train.shape[0])\n",
        "print(\"Input testing size: \", X_test.shape[0])\n",
        "print(\"Output testing size: \", y_test.shape[0])"
      ],
      "execution_count": 9,
      "outputs": [
        {
          "output_type": "stream",
          "text": [
            "Input training size:  105\n",
            "Output training size:  105\n",
            "Input testing size:  45\n",
            "Output testing size:  45\n"
          ],
          "name": "stdout"
        }
      ]
    },
    {
      "metadata": {
        "scrolled": true,
        "id": "rfA-G0yDfvgj",
        "colab_type": "code",
        "colab": {
          "base_uri": "https://localhost:8080/",
          "height": 204
        },
        "outputId": "af29ab8d-adb9-4d5b-96c9-3bf2c1c7337b"
      },
      "cell_type": "code",
      "source": [
        "X_train.head()"
      ],
      "execution_count": 10,
      "outputs": [
        {
          "output_type": "execute_result",
          "data": {
            "text/html": [
              "<div>\n",
              "<style scoped>\n",
              "    .dataframe tbody tr th:only-of-type {\n",
              "        vertical-align: middle;\n",
              "    }\n",
              "\n",
              "    .dataframe tbody tr th {\n",
              "        vertical-align: top;\n",
              "    }\n",
              "\n",
              "    .dataframe thead th {\n",
              "        text-align: right;\n",
              "    }\n",
              "</style>\n",
              "<table border=\"1\" class=\"dataframe\">\n",
              "  <thead>\n",
              "    <tr style=\"text-align: right;\">\n",
              "      <th></th>\n",
              "      <th>SepalLength</th>\n",
              "      <th>SepalWidth</th>\n",
              "      <th>PetalLength</th>\n",
              "      <th>PetalWidth</th>\n",
              "    </tr>\n",
              "  </thead>\n",
              "  <tbody>\n",
              "    <tr>\n",
              "      <th>81</th>\n",
              "      <td>5.5</td>\n",
              "      <td>2.4</td>\n",
              "      <td>3.7</td>\n",
              "      <td>1.0</td>\n",
              "    </tr>\n",
              "    <tr>\n",
              "      <th>133</th>\n",
              "      <td>6.3</td>\n",
              "      <td>2.8</td>\n",
              "      <td>5.1</td>\n",
              "      <td>1.5</td>\n",
              "    </tr>\n",
              "    <tr>\n",
              "      <th>137</th>\n",
              "      <td>6.4</td>\n",
              "      <td>3.1</td>\n",
              "      <td>5.5</td>\n",
              "      <td>1.8</td>\n",
              "    </tr>\n",
              "    <tr>\n",
              "      <th>75</th>\n",
              "      <td>6.6</td>\n",
              "      <td>3.0</td>\n",
              "      <td>4.4</td>\n",
              "      <td>1.4</td>\n",
              "    </tr>\n",
              "    <tr>\n",
              "      <th>109</th>\n",
              "      <td>7.2</td>\n",
              "      <td>3.6</td>\n",
              "      <td>6.1</td>\n",
              "      <td>2.5</td>\n",
              "    </tr>\n",
              "  </tbody>\n",
              "</table>\n",
              "</div>"
            ],
            "text/plain": [
              "     SepalLength  SepalWidth  PetalLength  PetalWidth\n",
              "81           5.5         2.4          3.7         1.0\n",
              "133          6.3         2.8          5.1         1.5\n",
              "137          6.4         3.1          5.5         1.8\n",
              "75           6.6         3.0          4.4         1.4\n",
              "109          7.2         3.6          6.1         2.5"
            ]
          },
          "metadata": {
            "tags": []
          },
          "execution_count": 10
        }
      ]
    },
    {
      "metadata": {
        "id": "0Rrolzs_fvgm",
        "colab_type": "text"
      },
      "cell_type": "markdown",
      "source": [
        "## Creating & compiling a model"
      ]
    },
    {
      "metadata": {
        "id": "W23mzo-afvgn",
        "colab_type": "code",
        "colab": {}
      },
      "cell_type": "code",
      "source": [
        "model = Sequential()\n",
        "model.add(Dense(10, input_dim=4, activation='relu'))\n",
        "model.add(Dense(10, activation='relu'))\n",
        "model.add(Dense(3, activation='softmax'))\n",
        "model.compile(loss='categorical_crossentropy', optimizer='adam', metrics=['accuracy'])"
      ],
      "execution_count": 0,
      "outputs": []
    },
    {
      "metadata": {
        "id": "VuiZaVsxfvgp",
        "colab_type": "text"
      },
      "cell_type": "markdown",
      "source": [
        "## Training a model"
      ]
    },
    {
      "metadata": {
        "scrolled": true,
        "id": "Ik9s3y9sfvgq",
        "colab_type": "code",
        "colab": {
          "base_uri": "https://localhost:8080/",
          "height": 1734
        },
        "outputId": "1e4a0df9-2fa4-4a53-eea6-bf18d8c27808"
      },
      "cell_type": "code",
      "source": [
        "model.fit(X_train, y_train, epochs=50, batch_size=10)"
      ],
      "execution_count": 17,
      "outputs": [
        {
          "output_type": "stream",
          "text": [
            "Epoch 1/50\n",
            "105/105 [==============================] - 0s 918us/sample - loss: 1.5410 - accuracy: 0.3524\n",
            "Epoch 2/50\n",
            "105/105 [==============================] - 0s 189us/sample - loss: 1.3181 - accuracy: 0.3524\n",
            "Epoch 3/50\n",
            "105/105 [==============================] - 0s 189us/sample - loss: 1.1585 - accuracy: 0.3524\n",
            "Epoch 4/50\n",
            "105/105 [==============================] - 0s 174us/sample - loss: 1.0546 - accuracy: 0.3524\n",
            "Epoch 5/50\n",
            "105/105 [==============================] - 0s 188us/sample - loss: 0.9588 - accuracy: 0.5048\n",
            "Epoch 6/50\n",
            "105/105 [==============================] - 0s 193us/sample - loss: 0.9032 - accuracy: 0.6000\n",
            "Epoch 7/50\n",
            "105/105 [==============================] - 0s 171us/sample - loss: 0.8644 - accuracy: 0.6381\n",
            "Epoch 8/50\n",
            "105/105 [==============================] - 0s 176us/sample - loss: 0.8221 - accuracy: 0.8762\n",
            "Epoch 9/50\n",
            "105/105 [==============================] - 0s 173us/sample - loss: 0.7901 - accuracy: 0.8476\n",
            "Epoch 10/50\n",
            "105/105 [==============================] - 0s 168us/sample - loss: 0.7620 - accuracy: 0.7714\n",
            "Epoch 11/50\n",
            "105/105 [==============================] - 0s 211us/sample - loss: 0.7303 - accuracy: 0.8857\n",
            "Epoch 12/50\n",
            "105/105 [==============================] - 0s 204us/sample - loss: 0.7022 - accuracy: 0.9143\n",
            "Epoch 13/50\n",
            "105/105 [==============================] - 0s 241us/sample - loss: 0.6770 - accuracy: 0.8952\n",
            "Epoch 14/50\n",
            "105/105 [==============================] - 0s 250us/sample - loss: 0.6586 - accuracy: 0.8857\n",
            "Epoch 15/50\n",
            "105/105 [==============================] - 0s 196us/sample - loss: 0.6408 - accuracy: 0.9238\n",
            "Epoch 16/50\n",
            "105/105 [==============================] - 0s 191us/sample - loss: 0.6233 - accuracy: 0.9333\n",
            "Epoch 17/50\n",
            "105/105 [==============================] - 0s 212us/sample - loss: 0.6051 - accuracy: 0.9143\n",
            "Epoch 18/50\n",
            "105/105 [==============================] - 0s 190us/sample - loss: 0.5870 - accuracy: 0.9143\n",
            "Epoch 19/50\n",
            "105/105 [==============================] - 0s 179us/sample - loss: 0.5722 - accuracy: 0.9238\n",
            "Epoch 20/50\n",
            "105/105 [==============================] - 0s 168us/sample - loss: 0.5611 - accuracy: 0.9143\n",
            "Epoch 21/50\n",
            "105/105 [==============================] - 0s 179us/sample - loss: 0.5426 - accuracy: 0.9143\n",
            "Epoch 22/50\n",
            "105/105 [==============================] - 0s 173us/sample - loss: 0.5309 - accuracy: 0.9238\n",
            "Epoch 23/50\n",
            "105/105 [==============================] - 0s 169us/sample - loss: 0.5151 - accuracy: 0.9333\n",
            "Epoch 24/50\n",
            "105/105 [==============================] - 0s 172us/sample - loss: 0.5056 - accuracy: 0.9238\n",
            "Epoch 25/50\n",
            "105/105 [==============================] - 0s 161us/sample - loss: 0.4900 - accuracy: 0.9238\n",
            "Epoch 26/50\n",
            "105/105 [==============================] - 0s 187us/sample - loss: 0.4790 - accuracy: 0.9238\n",
            "Epoch 27/50\n",
            "105/105 [==============================] - 0s 206us/sample - loss: 0.4678 - accuracy: 0.9238\n",
            "Epoch 28/50\n",
            "105/105 [==============================] - 0s 182us/sample - loss: 0.4596 - accuracy: 0.9429\n",
            "Epoch 29/50\n",
            "105/105 [==============================] - 0s 153us/sample - loss: 0.4526 - accuracy: 0.9429\n",
            "Epoch 30/50\n",
            "105/105 [==============================] - 0s 148us/sample - loss: 0.4386 - accuracy: 0.9333\n",
            "Epoch 31/50\n",
            "105/105 [==============================] - 0s 168us/sample - loss: 0.4297 - accuracy: 0.9429\n",
            "Epoch 32/50\n",
            "105/105 [==============================] - 0s 156us/sample - loss: 0.4207 - accuracy: 0.9429\n",
            "Epoch 33/50\n",
            "105/105 [==============================] - 0s 157us/sample - loss: 0.4126 - accuracy: 0.9524\n",
            "Epoch 34/50\n",
            "105/105 [==============================] - 0s 177us/sample - loss: 0.4041 - accuracy: 0.9429\n",
            "Epoch 35/50\n",
            "105/105 [==============================] - 0s 163us/sample - loss: 0.3971 - accuracy: 0.9524\n",
            "Epoch 36/50\n",
            "105/105 [==============================] - 0s 181us/sample - loss: 0.3893 - accuracy: 0.9333\n",
            "Epoch 37/50\n",
            "105/105 [==============================] - 0s 178us/sample - loss: 0.3820 - accuracy: 0.9238\n",
            "Epoch 38/50\n",
            "105/105 [==============================] - 0s 157us/sample - loss: 0.3739 - accuracy: 0.9429\n",
            "Epoch 39/50\n",
            "105/105 [==============================] - 0s 155us/sample - loss: 0.3682 - accuracy: 0.9429\n",
            "Epoch 40/50\n",
            "105/105 [==============================] - 0s 190us/sample - loss: 0.3618 - accuracy: 0.9429\n",
            "Epoch 41/50\n",
            "105/105 [==============================] - 0s 206us/sample - loss: 0.3544 - accuracy: 0.9524\n",
            "Epoch 42/50\n",
            "105/105 [==============================] - 0s 159us/sample - loss: 0.3522 - accuracy: 0.9333\n",
            "Epoch 43/50\n",
            "105/105 [==============================] - 0s 189us/sample - loss: 0.3415 - accuracy: 0.9429\n",
            "Epoch 44/50\n",
            "105/105 [==============================] - 0s 179us/sample - loss: 0.3358 - accuracy: 0.9524\n",
            "Epoch 45/50\n",
            "105/105 [==============================] - 0s 166us/sample - loss: 0.3286 - accuracy: 0.9524\n",
            "Epoch 46/50\n",
            "105/105 [==============================] - 0s 152us/sample - loss: 0.3255 - accuracy: 0.9524\n",
            "Epoch 47/50\n",
            "105/105 [==============================] - 0s 167us/sample - loss: 0.3162 - accuracy: 0.9524\n",
            "Epoch 48/50\n",
            "105/105 [==============================] - 0s 162us/sample - loss: 0.3115 - accuracy: 0.9524\n",
            "Epoch 49/50\n",
            "105/105 [==============================] - 0s 161us/sample - loss: 0.3075 - accuracy: 0.9429\n",
            "Epoch 50/50\n",
            "105/105 [==============================] - 0s 164us/sample - loss: 0.3117 - accuracy: 0.9238\n"
          ],
          "name": "stdout"
        },
        {
          "output_type": "execute_result",
          "data": {
            "text/plain": [
              "<tensorflow.python.keras.callbacks.History at 0x7fc54c5747b8>"
            ]
          },
          "metadata": {
            "tags": []
          },
          "execution_count": 17
        }
      ]
    },
    {
      "metadata": {
        "id": "7BpkxRNBfvgu",
        "colab_type": "text"
      },
      "cell_type": "markdown",
      "source": [
        "## Evaluate the model"
      ]
    },
    {
      "metadata": {
        "id": "z8HkZsHOfvgv",
        "colab_type": "code",
        "colab": {
          "base_uri": "https://localhost:8080/",
          "height": 68
        },
        "outputId": "af91498d-c175-4797-cba6-ae42933cd37d"
      },
      "cell_type": "code",
      "source": [
        "scores = model.evaluate(X_test, y_test)\n",
        "print(\"\\nAccuracy: %.2f%%\" % (scores[1]*100))"
      ],
      "execution_count": 18,
      "outputs": [
        {
          "output_type": "stream",
          "text": [
            "45/45 [==============================] - 0s 1ms/sample - loss: 0.2339 - accuracy: 1.0000\n",
            "\n",
            "Accuracy: 100.00%\n"
          ],
          "name": "stdout"
        }
      ]
    },
    {
      "metadata": {
        "id": "GYYnQSWyfvg0",
        "colab_type": "text"
      },
      "cell_type": "markdown",
      "source": [
        "## Predict"
      ]
    },
    {
      "metadata": {
        "scrolled": true,
        "id": "pFfvGt-mfvg0",
        "colab_type": "code",
        "colab": {
          "base_uri": "https://localhost:8080/",
          "height": 204
        },
        "outputId": "ad2a3194-9502-4009-9afa-365bbe417152"
      },
      "cell_type": "code",
      "source": [
        "prediction = model.predict(X_test)\n",
        "prediction1 = pd.DataFrame({'IRIS1':prediction[:,0],'IRIS2':prediction[:,1], 'IRIS3':prediction[:,2]})\n",
        "prediction1.round(decimals=4).head()"
      ],
      "execution_count": 19,
      "outputs": [
        {
          "output_type": "execute_result",
          "data": {
            "text/html": [
              "<div>\n",
              "<style scoped>\n",
              "    .dataframe tbody tr th:only-of-type {\n",
              "        vertical-align: middle;\n",
              "    }\n",
              "\n",
              "    .dataframe tbody tr th {\n",
              "        vertical-align: top;\n",
              "    }\n",
              "\n",
              "    .dataframe thead th {\n",
              "        text-align: right;\n",
              "    }\n",
              "</style>\n",
              "<table border=\"1\" class=\"dataframe\">\n",
              "  <thead>\n",
              "    <tr style=\"text-align: right;\">\n",
              "      <th></th>\n",
              "      <th>IRIS1</th>\n",
              "      <th>IRIS2</th>\n",
              "      <th>IRIS3</th>\n",
              "    </tr>\n",
              "  </thead>\n",
              "  <tbody>\n",
              "    <tr>\n",
              "      <th>0</th>\n",
              "      <td>0.0138</td>\n",
              "      <td>0.6664</td>\n",
              "      <td>0.3198</td>\n",
              "    </tr>\n",
              "    <tr>\n",
              "      <th>1</th>\n",
              "      <td>0.9706</td>\n",
              "      <td>0.0151</td>\n",
              "      <td>0.0143</td>\n",
              "    </tr>\n",
              "    <tr>\n",
              "      <th>2</th>\n",
              "      <td>0.0009</td>\n",
              "      <td>0.1287</td>\n",
              "      <td>0.8705</td>\n",
              "    </tr>\n",
              "    <tr>\n",
              "      <th>3</th>\n",
              "      <td>0.0165</td>\n",
              "      <td>0.5402</td>\n",
              "      <td>0.4433</td>\n",
              "    </tr>\n",
              "    <tr>\n",
              "      <th>4</th>\n",
              "      <td>0.0071</td>\n",
              "      <td>0.6841</td>\n",
              "      <td>0.3088</td>\n",
              "    </tr>\n",
              "  </tbody>\n",
              "</table>\n",
              "</div>"
            ],
            "text/plain": [
              "    IRIS1   IRIS2   IRIS3\n",
              "0  0.0138  0.6664  0.3198\n",
              "1  0.9706  0.0151  0.0143\n",
              "2  0.0009  0.1287  0.8705\n",
              "3  0.0165  0.5402  0.4433\n",
              "4  0.0071  0.6841  0.3088"
            ]
          },
          "metadata": {
            "tags": []
          },
          "execution_count": 19
        }
      ]
    },
    {
      "metadata": {
        "id": "pJupN9YMfvg5",
        "colab_type": "code",
        "colab": {
          "base_uri": "https://localhost:8080/",
          "height": 204
        },
        "outputId": "633e251c-9d1a-4e98-bde7-ec7deec9fc28"
      },
      "cell_type": "code",
      "source": [
        "real_values = pd.DataFrame(y_test)\n",
        "real_values.head()"
      ],
      "execution_count": 20,
      "outputs": [
        {
          "output_type": "execute_result",
          "data": {
            "text/html": [
              "<div>\n",
              "<style scoped>\n",
              "    .dataframe tbody tr th:only-of-type {\n",
              "        vertical-align: middle;\n",
              "    }\n",
              "\n",
              "    .dataframe tbody tr th {\n",
              "        vertical-align: top;\n",
              "    }\n",
              "\n",
              "    .dataframe thead th {\n",
              "        text-align: right;\n",
              "    }\n",
              "</style>\n",
              "<table border=\"1\" class=\"dataframe\">\n",
              "  <thead>\n",
              "    <tr style=\"text-align: right;\">\n",
              "      <th></th>\n",
              "      <th>0</th>\n",
              "      <th>1</th>\n",
              "      <th>2</th>\n",
              "    </tr>\n",
              "  </thead>\n",
              "  <tbody>\n",
              "    <tr>\n",
              "      <th>0</th>\n",
              "      <td>0.0</td>\n",
              "      <td>1.0</td>\n",
              "      <td>0.0</td>\n",
              "    </tr>\n",
              "    <tr>\n",
              "      <th>1</th>\n",
              "      <td>1.0</td>\n",
              "      <td>0.0</td>\n",
              "      <td>0.0</td>\n",
              "    </tr>\n",
              "    <tr>\n",
              "      <th>2</th>\n",
              "      <td>0.0</td>\n",
              "      <td>0.0</td>\n",
              "      <td>1.0</td>\n",
              "    </tr>\n",
              "    <tr>\n",
              "      <th>3</th>\n",
              "      <td>0.0</td>\n",
              "      <td>1.0</td>\n",
              "      <td>0.0</td>\n",
              "    </tr>\n",
              "    <tr>\n",
              "      <th>4</th>\n",
              "      <td>0.0</td>\n",
              "      <td>1.0</td>\n",
              "      <td>0.0</td>\n",
              "    </tr>\n",
              "  </tbody>\n",
              "</table>\n",
              "</div>"
            ],
            "text/plain": [
              "     0    1    2\n",
              "0  0.0  1.0  0.0\n",
              "1  1.0  0.0  0.0\n",
              "2  0.0  0.0  1.0\n",
              "3  0.0  1.0  0.0\n",
              "4  0.0  1.0  0.0"
            ]
          },
          "metadata": {
            "tags": []
          },
          "execution_count": 20
        }
      ]
    }
  ]
}