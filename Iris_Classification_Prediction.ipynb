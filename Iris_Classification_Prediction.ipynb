{
  "nbformat": 4,
  "nbformat_minor": 0,
  "metadata": {
    "colab": {
      "name": "Copy of Iris Classification Prediction.ipynb",
      "version": "0.3.2",
      "provenance": [],
      "include_colab_link": true
    },
    "language_info": {
      "codemirror_mode": {
        "name": "ipython",
        "version": 3
      },
      "file_extension": ".py",
      "mimetype": "text/x-python",
      "name": "python",
      "nbconvert_exporter": "python",
      "pygments_lexer": "ipython3",
      "version": "3.6.8"
    },
    "kernelspec": {
      "display_name": "Python 3",
      "language": "python",
      "name": "python3"
    }
  },
  "cells": [
    {
      "cell_type": "markdown",
      "metadata": {
        "id": "view-in-github",
        "colab_type": "text"
      },
      "source": [
        "<a href=\"https://colab.research.google.com/github/mhuckvale/pals0035/blob/master/Iris_Classification_Prediction.ipynb\" target=\"_parent\"><img src=\"https://colab.research.google.com/assets/colab-badge.svg\" alt=\"Open In Colab\"/></a>"
      ]
    },
    {
      "metadata": {
        "id": "qZRIWKirfvf7",
        "colab_type": "text"
      },
      "cell_type": "markdown",
      "source": [
        "# Importing necessary libraries"
      ]
    },
    {
      "metadata": {
        "id": "bA53TBn4gFMJ",
        "colab_type": "code",
        "outputId": "88d4820f-2e91-42dd-e79b-4152aba58941",
        "colab": {
          "base_uri": "https://localhost:8080/",
          "height": 85
        }
      },
      "cell_type": "code",
      "source": [
        "!pip install -q tensorflow==2.0.0-alpha0 "
      ],
      "execution_count": 0,
      "outputs": [
        {
          "output_type": "stream",
          "text": [
            "\u001b[K    100% |████████████████████████████████| 79.9MB 317kB/s \n",
            "\u001b[K    100% |████████████████████████████████| 3.0MB 12.2MB/s \n",
            "\u001b[K    100% |████████████████████████████████| 419kB 20.6MB/s \n",
            "\u001b[K    100% |████████████████████████████████| 61kB 18.0MB/s \n",
            "\u001b[?25h"
          ],
          "name": "stdout"
        }
      ]
    },
    {
      "metadata": {
        "id": "zZYo5-tvfvf-",
        "colab_type": "code",
        "colab": {}
      },
      "cell_type": "code",
      "source": [
        "from tensorflow.keras.models import Sequential\n",
        "from tensorflow.keras.layers import Dense\n",
        "from tensorflow.python.keras import utils\n",
        "import numpy as np\n",
        "import pandas as pd\n",
        "import seaborn as sn\n",
        "import missingno as msno\n",
        "import matplotlib.pyplot as plt\n",
        "from sklearn.model_selection import train_test_split"
      ],
      "execution_count": 0,
      "outputs": []
    },
    {
      "metadata": {
        "id": "pH9iJalVfvgD",
        "colab_type": "text"
      },
      "cell_type": "markdown",
      "source": [
        "# Import Data"
      ]
    },
    {
      "metadata": {
        "scrolled": false,
        "id": "BK0jUmFwfvgF",
        "colab_type": "code",
        "outputId": "99fccf50-79cf-4641-a0b0-e4e302387f58",
        "colab": {
          "base_uri": "https://localhost:8080/",
          "height": 204
        }
      },
      "cell_type": "code",
      "source": [
        "from sklearn import datasets\n",
        "\n",
        "COLUMN_NAMES = [\n",
        "        'SepalLength', \n",
        "        'SepalWidth',\n",
        "        'PetalLength', \n",
        "        'PetalWidth'\n",
        "        ]\n",
        "\n",
        "irisdata = datasets.load_iris()\n",
        "data = pd.DataFrame(irisdata.data, columns=COLUMN_NAMES)\n",
        "data['Species'] = pd.Series(irisdata.target)\n",
        "\n",
        "data.head()"
      ],
      "execution_count": 0,
      "outputs": [
        {
          "output_type": "execute_result",
          "data": {
            "text/html": [
              "<div>\n",
              "<style scoped>\n",
              "    .dataframe tbody tr th:only-of-type {\n",
              "        vertical-align: middle;\n",
              "    }\n",
              "\n",
              "    .dataframe tbody tr th {\n",
              "        vertical-align: top;\n",
              "    }\n",
              "\n",
              "    .dataframe thead th {\n",
              "        text-align: right;\n",
              "    }\n",
              "</style>\n",
              "<table border=\"1\" class=\"dataframe\">\n",
              "  <thead>\n",
              "    <tr style=\"text-align: right;\">\n",
              "      <th></th>\n",
              "      <th>SepalLength</th>\n",
              "      <th>SepalWidth</th>\n",
              "      <th>PetalLength</th>\n",
              "      <th>PetalWidth</th>\n",
              "      <th>Species</th>\n",
              "    </tr>\n",
              "  </thead>\n",
              "  <tbody>\n",
              "    <tr>\n",
              "      <th>0</th>\n",
              "      <td>5.1</td>\n",
              "      <td>3.5</td>\n",
              "      <td>1.4</td>\n",
              "      <td>0.2</td>\n",
              "      <td>0</td>\n",
              "    </tr>\n",
              "    <tr>\n",
              "      <th>1</th>\n",
              "      <td>4.9</td>\n",
              "      <td>3.0</td>\n",
              "      <td>1.4</td>\n",
              "      <td>0.2</td>\n",
              "      <td>0</td>\n",
              "    </tr>\n",
              "    <tr>\n",
              "      <th>2</th>\n",
              "      <td>4.7</td>\n",
              "      <td>3.2</td>\n",
              "      <td>1.3</td>\n",
              "      <td>0.2</td>\n",
              "      <td>0</td>\n",
              "    </tr>\n",
              "    <tr>\n",
              "      <th>3</th>\n",
              "      <td>4.6</td>\n",
              "      <td>3.1</td>\n",
              "      <td>1.5</td>\n",
              "      <td>0.2</td>\n",
              "      <td>0</td>\n",
              "    </tr>\n",
              "    <tr>\n",
              "      <th>4</th>\n",
              "      <td>5.0</td>\n",
              "      <td>3.6</td>\n",
              "      <td>1.4</td>\n",
              "      <td>0.2</td>\n",
              "      <td>0</td>\n",
              "    </tr>\n",
              "  </tbody>\n",
              "</table>\n",
              "</div>"
            ],
            "text/plain": [
              "   SepalLength  SepalWidth  PetalLength  PetalWidth  Species\n",
              "0          5.1         3.5          1.4         0.2        0\n",
              "1          4.9         3.0          1.4         0.2        0\n",
              "2          4.7         3.2          1.3         0.2        0\n",
              "3          4.6         3.1          1.5         0.2        0\n",
              "4          5.0         3.6          1.4         0.2        0"
            ]
          },
          "metadata": {
            "tags": []
          },
          "execution_count": 30
        }
      ]
    },
    {
      "metadata": {
        "id": "MmZI4p4LfvgL",
        "colab_type": "text"
      },
      "cell_type": "markdown",
      "source": [
        "# Data Analysis "
      ]
    },
    {
      "metadata": {
        "id": "y8uKQstffvgM",
        "colab_type": "text"
      },
      "cell_type": "markdown",
      "source": [
        "## Data Types Analysis"
      ]
    },
    {
      "metadata": {
        "id": "WkSEE1i_fvgN",
        "colab_type": "code",
        "outputId": "612cc4fd-a402-4fff-9370-a73bd686bc7c",
        "colab": {
          "base_uri": "https://localhost:8080/",
          "height": 119
        }
      },
      "cell_type": "code",
      "source": [
        "data.dtypes"
      ],
      "execution_count": 0,
      "outputs": [
        {
          "output_type": "execute_result",
          "data": {
            "text/plain": [
              "SepalLength    float64\n",
              "SepalWidth     float64\n",
              "PetalLength    float64\n",
              "PetalWidth     float64\n",
              "Species          int64\n",
              "dtype: object"
            ]
          },
          "metadata": {
            "tags": []
          },
          "execution_count": 31
        }
      ]
    },
    {
      "metadata": {
        "id": "TzvjCYrKfvgQ",
        "colab_type": "text"
      },
      "cell_type": "markdown",
      "source": [
        "## Handle Categorical Variables"
      ]
    },
    {
      "metadata": {
        "scrolled": false,
        "id": "5JJsFCOyfvgR",
        "colab_type": "code",
        "outputId": "6d825a64-864a-4718-c804-5561ab10edfa",
        "colab": {
          "base_uri": "https://localhost:8080/",
          "height": 119
        }
      },
      "cell_type": "code",
      "source": [
        "data['Species'] = data['Species'].astype(\"category\")\n",
        "data.dtypes"
      ],
      "execution_count": 0,
      "outputs": [
        {
          "output_type": "execute_result",
          "data": {
            "text/plain": [
              "SepalLength     float64\n",
              "SepalWidth      float64\n",
              "PetalLength     float64\n",
              "PetalWidth      float64\n",
              "Species        category\n",
              "dtype: object"
            ]
          },
          "metadata": {
            "tags": []
          },
          "execution_count": 32
        }
      ]
    },
    {
      "metadata": {
        "id": "v5a7m9CxfvgU",
        "colab_type": "code",
        "outputId": "6c1c23bb-481b-4c7c-f06c-8507242850d0",
        "colab": {
          "base_uri": "https://localhost:8080/",
          "height": 283
        }
      },
      "cell_type": "code",
      "source": [
        "distribution = sn.countplot(x=\"Species\", data=data)\n",
        "plt.show(distribution)"
      ],
      "execution_count": 0,
      "outputs": [
        {
          "output_type": "display_data",
          "data": {
            "image/png": "[encoded data removed]",
            "text/plain": [
              "<Figure size 432x288 with 1 Axes>"
            ]
          },
          "metadata": {
            "tags": []
          }
        }
      ]
    },
    {
      "metadata": {
        "id": "zlgiuHZHfvgX",
        "colab_type": "text"
      },
      "cell_type": "markdown",
      "source": [
        "## Missing Information"
      ]
    },
    {
      "metadata": {
        "id": "l41egdeRfvgY",
        "colab_type": "code",
        "outputId": "2c02b5e8-c500-4efa-e554-ca69330b3bb5",
        "colab": {
          "base_uri": "https://localhost:8080/",
          "height": 119
        }
      },
      "cell_type": "code",
      "source": [
        "print(data.isnull().sum())"
      ],
      "execution_count": 0,
      "outputs": [
        {
          "output_type": "stream",
          "text": [
            "SepalLength    0\n",
            "SepalWidth     0\n",
            "PetalLength    0\n",
            "PetalWidth     0\n",
            "Species        0\n",
            "dtype: int64\n"
          ],
          "name": "stdout"
        }
      ]
    },
    {
      "metadata": {
        "id": "mnvUdOWbfvga",
        "colab_type": "text"
      },
      "cell_type": "markdown",
      "source": [
        "## Correlation Analysis"
      ]
    },
    {
      "metadata": {
        "scrolled": false,
        "id": "Ko5xnSJAfvgb",
        "colab_type": "code",
        "outputId": "9efa1c29-d956-44f0-8c8f-7a08302f4f39",
        "colab": {
          "base_uri": "https://localhost:8080/",
          "height": 612
        }
      },
      "cell_type": "code",
      "source": [
        "corrMatt = data[[\"SepalLength\",\"SepalWidth\",\"PetalLength\",\"PetalWidth\",\"Species\"]].corr()\n",
        "mask = np.array(corrMatt)\n",
        "mask[np.tril_indices_from(mask)] = False\n",
        "fig,ax= plt.subplots()\n",
        "fig.set_size_inches(20,10)\n",
        "sn.heatmap(corrMatt, mask=mask,vmax=.8, square=True,annot=True)"
      ],
      "execution_count": 0,
      "outputs": [
        {
          "output_type": "execute_result",
          "data": {
            "text/plain": [
              "<matplotlib.axes._subplots.AxesSubplot at 0x7ff71e5682e8>"
            ]
          },
          "metadata": {
            "tags": []
          },
          "execution_count": 35
        },
        {
          "output_type": "display_data",
          "data": {
            "image/png": "[encoded data removed]",
            "text/plain": [
              "<Figure size 1440x720 with 2 Axes>"
            ]
          },
          "metadata": {
            "tags": []
          }
        }
      ]
    },
    {
      "metadata": {
        "id": "JZnABHATfvgf",
        "colab_type": "text"
      },
      "cell_type": "markdown",
      "source": [
        "# Implementation"
      ]
    },
    {
      "metadata": {
        "id": "2fOhe02Mfvgf",
        "colab_type": "text"
      },
      "cell_type": "markdown",
      "source": [
        "## Split Data to Test and Train"
      ]
    },
    {
      "metadata": {
        "id": "2U5ZWb6hfvgg",
        "colab_type": "code",
        "outputId": "261e85de-7404-4620-c3c9-98d7d4ede32f",
        "colab": {
          "base_uri": "https://localhost:8080/",
          "height": 85
        }
      },
      "cell_type": "code",
      "source": [
        "output_data = data[\"Species\"]\n",
        "input_data = data.drop(\"Species\",axis=1)\n",
        "X_train, X_test, y_train, y_test = train_test_split(input_data, output_data, test_size=0.3, random_state=42)\n",
        "\n",
        "y_train = utils.to_categorical(y_train) \n",
        "y_test = utils.to_categorical(y_test)\n",
        "\n",
        "print(\"Input training size: \", X_train.shape[0])\n",
        "print(\"Output training size: \", y_train.shape[0])\n",
        "print(\"Input testing size: \", X_test.shape[0])\n",
        "print(\"Output testing size: \", y_test.shape[0])"
      ],
      "execution_count": 0,
      "outputs": [
        {
          "output_type": "stream",
          "text": [
            "Input training size:  105\n",
            "Output training size:  105\n",
            "Input testing size:  45\n",
            "Output testing size:  45\n"
          ],
          "name": "stdout"
        }
      ]
    },
    {
      "metadata": {
        "scrolled": true,
        "id": "rfA-G0yDfvgj",
        "colab_type": "code",
        "outputId": "b4f372e1-3a50-48f6-ba8c-4439a3709f40",
        "colab": {
          "base_uri": "https://localhost:8080/",
          "height": 204
        }
      },
      "cell_type": "code",
      "source": [
        "X_train.head()"
      ],
      "execution_count": 0,
      "outputs": [
        {
          "output_type": "execute_result",
          "data": {
            "text/html": [
              "<div>\n",
              "<style scoped>\n",
              "    .dataframe tbody tr th:only-of-type {\n",
              "        vertical-align: middle;\n",
              "    }\n",
              "\n",
              "    .dataframe tbody tr th {\n",
              "        vertical-align: top;\n",
              "    }\n",
              "\n",
              "    .dataframe thead th {\n",
              "        text-align: right;\n",
              "    }\n",
              "</style>\n",
              "<table border=\"1\" class=\"dataframe\">\n",
              "  <thead>\n",
              "    <tr style=\"text-align: right;\">\n",
              "      <th></th>\n",
              "      <th>SepalLength</th>\n",
              "      <th>SepalWidth</th>\n",
              "      <th>PetalLength</th>\n",
              "      <th>PetalWidth</th>\n",
              "    </tr>\n",
              "  </thead>\n",
              "  <tbody>\n",
              "    <tr>\n",
              "      <th>81</th>\n",
              "      <td>5.5</td>\n",
              "      <td>2.4</td>\n",
              "      <td>3.7</td>\n",
              "      <td>1.0</td>\n",
              "    </tr>\n",
              "    <tr>\n",
              "      <th>133</th>\n",
              "      <td>6.3</td>\n",
              "      <td>2.8</td>\n",
              "      <td>5.1</td>\n",
              "      <td>1.5</td>\n",
              "    </tr>\n",
              "    <tr>\n",
              "      <th>137</th>\n",
              "      <td>6.4</td>\n",
              "      <td>3.1</td>\n",
              "      <td>5.5</td>\n",
              "      <td>1.8</td>\n",
              "    </tr>\n",
              "    <tr>\n",
              "      <th>75</th>\n",
              "      <td>6.6</td>\n",
              "      <td>3.0</td>\n",
              "      <td>4.4</td>\n",
              "      <td>1.4</td>\n",
              "    </tr>\n",
              "    <tr>\n",
              "      <th>109</th>\n",
              "      <td>7.2</td>\n",
              "      <td>3.6</td>\n",
              "      <td>6.1</td>\n",
              "      <td>2.5</td>\n",
              "    </tr>\n",
              "  </tbody>\n",
              "</table>\n",
              "</div>"
            ],
            "text/plain": [
              "     SepalLength  SepalWidth  PetalLength  PetalWidth\n",
              "81           5.5         2.4          3.7         1.0\n",
              "133          6.3         2.8          5.1         1.5\n",
              "137          6.4         3.1          5.5         1.8\n",
              "75           6.6         3.0          4.4         1.4\n",
              "109          7.2         3.6          6.1         2.5"
            ]
          },
          "metadata": {
            "tags": []
          },
          "execution_count": 37
        }
      ]
    },
    {
      "metadata": {
        "id": "0Rrolzs_fvgm",
        "colab_type": "text"
      },
      "cell_type": "markdown",
      "source": [
        "## Creating & compiling a model"
      ]
    },
    {
      "metadata": {
        "id": "W23mzo-afvgn",
        "colab_type": "code",
        "outputId": "9e5a0317-3042-4e23-9aa3-35a4b14fc7f4",
        "colab": {
          "base_uri": "https://localhost:8080/",
          "height": 68
        }
      },
      "cell_type": "code",
      "source": [
        "model = Sequential()\n",
        "model.add(Dense(10, input_dim=4, activation='relu'))\n",
        "model.add(Dense(10, activation='relu'))\n",
        "model.add(Dense(3, activation='softmax'))\n",
        "model.compile(loss='categorical_crossentropy', optimizer='adam', metrics=['accuracy'])"
      ],
      "execution_count": 0,
      "outputs": [
        {
          "output_type": "stream",
          "text": [
            "WARNING:tensorflow:From /usr/local/lib/python3.6/dist-packages/tensorflow/python/ops/resource_variable_ops.py:435: colocate_with (from tensorflow.python.framework.ops) is deprecated and will be removed in a future version.\n",
            "Instructions for updating:\n",
            "Colocations handled automatically by placer.\n"
          ],
          "name": "stdout"
        }
      ]
    },
    {
      "metadata": {
        "id": "VuiZaVsxfvgp",
        "colab_type": "text"
      },
      "cell_type": "markdown",
      "source": [
        "## Training a model"
      ]
    },
    {
      "metadata": {
        "scrolled": true,
        "id": "Ik9s3y9sfvgq",
        "colab_type": "code",
        "outputId": "61fd5ab6-c731-49be-e045-38ea651c3430",
        "colab": {
          "base_uri": "https://localhost:8080/",
          "height": 10285
        }
      },
      "cell_type": "code",
      "source": [
        "model.fit(X_train, y_train, epochs=300, batch_size=10)"
      ],
      "execution_count": 0,
      "outputs": [
        {
          "output_type": "stream",
          "text": [
            "WARNING:tensorflow:From /usr/local/lib/python3.6/dist-packages/tensorflow/python/ops/math_ops.py:3066: to_int32 (from tensorflow.python.ops.math_ops) is deprecated and will be removed in a future version.\n",
            "Instructions for updating:\n",
            "Use tf.cast instead.\n",
            "Epoch 1/300\n",
            "105/105 [==============================] - 0s 1ms/sample - loss: 1.3232 - acc: 0.3524\n",
            "Epoch 2/300\n",
            "105/105 [==============================] - 0s 163us/sample - loss: 1.2750 - acc: 0.3524\n",
            "Epoch 3/300\n",
            "105/105 [==============================] - 0s 155us/sample - loss: 1.2362 - acc: 0.3524\n",
            "Epoch 4/300\n",
            "105/105 [==============================] - 0s 152us/sample - loss: 1.1995 - acc: 0.3524\n",
            "Epoch 5/300\n",
            "105/105 [==============================] - 0s 163us/sample - loss: 1.1691 - acc: 0.3524\n",
            "Epoch 6/300\n",
            "105/105 [==============================] - 0s 156us/sample - loss: 1.1376 - acc: 0.3524\n",
            "Epoch 7/300\n",
            "105/105 [==============================] - 0s 153us/sample - loss: 1.1109 - acc: 0.3524\n",
            "Epoch 8/300\n",
            "105/105 [==============================] - 0s 139us/sample - loss: 1.0794 - acc: 0.3524\n",
            "Epoch 9/300\n",
            "105/105 [==============================] - 0s 157us/sample - loss: 1.0499 - acc: 0.3524\n",
            "Epoch 10/300\n",
            "105/105 [==============================] - 0s 161us/sample - loss: 1.0196 - acc: 0.3524\n",
            "Epoch 11/300\n",
            "105/105 [==============================] - 0s 156us/sample - loss: 0.9931 - acc: 0.3524\n",
            "Epoch 12/300\n",
            "105/105 [==============================] - 0s 171us/sample - loss: 0.9640 - acc: 0.3524\n",
            "Epoch 13/300\n",
            "105/105 [==============================] - 0s 171us/sample - loss: 0.9353 - acc: 0.3524\n",
            "Epoch 14/300\n",
            "105/105 [==============================] - 0s 146us/sample - loss: 0.9062 - acc: 0.5619\n",
            "Epoch 15/300\n",
            "105/105 [==============================] - 0s 159us/sample - loss: 0.8785 - acc: 0.6571\n",
            "Epoch 16/300\n",
            "105/105 [==============================] - 0s 156us/sample - loss: 0.8494 - acc: 0.7905\n",
            "Epoch 17/300\n",
            "105/105 [==============================] - 0s 152us/sample - loss: 0.8202 - acc: 0.8571\n",
            "Epoch 18/300\n",
            "105/105 [==============================] - 0s 170us/sample - loss: 0.7931 - acc: 0.9429\n",
            "Epoch 19/300\n",
            "105/105 [==============================] - 0s 159us/sample - loss: 0.7636 - acc: 0.9714\n",
            "Epoch 20/300\n",
            "105/105 [==============================] - 0s 161us/sample - loss: 0.7371 - acc: 0.9429\n",
            "Epoch 21/300\n",
            "105/105 [==============================] - 0s 153us/sample - loss: 0.7090 - acc: 0.9048\n",
            "Epoch 22/300\n",
            "105/105 [==============================] - 0s 152us/sample - loss: 0.6837 - acc: 0.8286\n",
            "Epoch 23/300\n",
            "105/105 [==============================] - 0s 155us/sample - loss: 0.6603 - acc: 0.7714\n",
            "Epoch 24/300\n",
            "105/105 [==============================] - 0s 225us/sample - loss: 0.6372 - acc: 0.7524\n",
            "Epoch 25/300\n",
            "105/105 [==============================] - 0s 175us/sample - loss: 0.6159 - acc: 0.7429\n",
            "Epoch 26/300\n",
            "105/105 [==============================] - 0s 165us/sample - loss: 0.5967 - acc: 0.7714\n",
            "Epoch 27/300\n",
            "105/105 [==============================] - 0s 179us/sample - loss: 0.5786 - acc: 0.8190\n",
            "Epoch 28/300\n",
            "105/105 [==============================] - 0s 143us/sample - loss: 0.5610 - acc: 0.8286\n",
            "Epoch 29/300\n",
            "105/105 [==============================] - 0s 167us/sample - loss: 0.5463 - acc: 0.8476\n",
            "Epoch 30/300\n",
            "105/105 [==============================] - 0s 154us/sample - loss: 0.5310 - acc: 0.8381\n",
            "Epoch 31/300\n",
            "105/105 [==============================] - 0s 151us/sample - loss: 0.5166 - acc: 0.8476\n",
            "Epoch 32/300\n",
            "105/105 [==============================] - 0s 165us/sample - loss: 0.5036 - acc: 0.8381\n",
            "Epoch 33/300\n",
            "105/105 [==============================] - 0s 164us/sample - loss: 0.4914 - acc: 0.8762\n",
            "Epoch 34/300\n",
            "105/105 [==============================] - 0s 154us/sample - loss: 0.4796 - acc: 0.8857\n",
            "Epoch 35/300\n",
            "105/105 [==============================] - 0s 150us/sample - loss: 0.4683 - acc: 0.8857\n",
            "Epoch 36/300\n",
            "105/105 [==============================] - 0s 175us/sample - loss: 0.4576 - acc: 0.9143\n",
            "Epoch 37/300\n",
            "105/105 [==============================] - 0s 192us/sample - loss: 0.4478 - acc: 0.9048\n",
            "Epoch 38/300\n",
            "105/105 [==============================] - 0s 154us/sample - loss: 0.4383 - acc: 0.9143\n",
            "Epoch 39/300\n",
            "105/105 [==============================] - 0s 149us/sample - loss: 0.4271 - acc: 0.9619\n",
            "Epoch 40/300\n",
            "105/105 [==============================] - 0s 169us/sample - loss: 0.4172 - acc: 0.9524\n",
            "Epoch 41/300\n",
            "105/105 [==============================] - 0s 139us/sample - loss: 0.4080 - acc: 0.9619\n",
            "Epoch 42/300\n",
            "105/105 [==============================] - 0s 159us/sample - loss: 0.3987 - acc: 0.9619\n",
            "Epoch 43/300\n",
            "105/105 [==============================] - 0s 157us/sample - loss: 0.3899 - acc: 0.9714\n",
            "Epoch 44/300\n",
            "105/105 [==============================] - 0s 146us/sample - loss: 0.3808 - acc: 0.9619\n",
            "Epoch 45/300\n",
            "105/105 [==============================] - 0s 159us/sample - loss: 0.3719 - acc: 0.9619\n",
            "Epoch 46/300\n",
            "105/105 [==============================] - 0s 186us/sample - loss: 0.3640 - acc: 0.9619\n",
            "Epoch 47/300\n",
            "105/105 [==============================] - 0s 177us/sample - loss: 0.3580 - acc: 0.9810\n",
            "Epoch 48/300\n",
            "105/105 [==============================] - 0s 148us/sample - loss: 0.3469 - acc: 0.9714\n",
            "Epoch 49/300\n",
            "105/105 [==============================] - 0s 168us/sample - loss: 0.3389 - acc: 0.9619\n",
            "Epoch 50/300\n",
            "105/105 [==============================] - 0s 174us/sample - loss: 0.3306 - acc: 0.9714\n",
            "Epoch 51/300\n",
            "105/105 [==============================] - 0s 179us/sample - loss: 0.3225 - acc: 0.9714\n",
            "Epoch 52/300\n",
            "105/105 [==============================] - 0s 172us/sample - loss: 0.3141 - acc: 0.9714\n",
            "Epoch 53/300\n",
            "105/105 [==============================] - 0s 190us/sample - loss: 0.3065 - acc: 0.9714\n",
            "Epoch 54/300\n",
            "105/105 [==============================] - 0s 183us/sample - loss: 0.2987 - acc: 0.9714\n",
            "Epoch 55/300\n",
            "105/105 [==============================] - 0s 146us/sample - loss: 0.2921 - acc: 0.9810\n",
            "Epoch 56/300\n",
            "105/105 [==============================] - 0s 158us/sample - loss: 0.2846 - acc: 0.9810\n",
            "Epoch 57/300\n",
            "105/105 [==============================] - 0s 192us/sample - loss: 0.2771 - acc: 0.9810\n",
            "Epoch 58/300\n",
            "105/105 [==============================] - 0s 191us/sample - loss: 0.2706 - acc: 0.9714\n",
            "Epoch 59/300\n",
            "105/105 [==============================] - 0s 152us/sample - loss: 0.2673 - acc: 0.9810\n",
            "Epoch 60/300\n",
            "105/105 [==============================] - 0s 146us/sample - loss: 0.2570 - acc: 0.9714\n",
            "Epoch 61/300\n",
            "105/105 [==============================] - 0s 175us/sample - loss: 0.2537 - acc: 0.9714\n",
            "Epoch 62/300\n",
            "105/105 [==============================] - 0s 180us/sample - loss: 0.2457 - acc: 0.9714\n",
            "Epoch 63/300\n",
            "105/105 [==============================] - 0s 150us/sample - loss: 0.2392 - acc: 0.9714\n",
            "Epoch 64/300\n",
            "105/105 [==============================] - 0s 148us/sample - loss: 0.2346 - acc: 0.9714\n",
            "Epoch 65/300\n",
            "105/105 [==============================] - 0s 189us/sample - loss: 0.2328 - acc: 0.9714\n",
            "Epoch 66/300\n",
            "105/105 [==============================] - 0s 141us/sample - loss: 0.2271 - acc: 0.9714\n",
            "Epoch 67/300\n",
            "105/105 [==============================] - 0s 176us/sample - loss: 0.2163 - acc: 0.9714\n",
            "Epoch 68/300\n",
            "105/105 [==============================] - 0s 165us/sample - loss: 0.2129 - acc: 0.9810\n",
            "Epoch 69/300\n",
            "105/105 [==============================] - 0s 170us/sample - loss: 0.2103 - acc: 0.9810\n",
            "Epoch 70/300\n",
            "105/105 [==============================] - 0s 170us/sample - loss: 0.2036 - acc: 0.9810\n",
            "Epoch 71/300\n",
            "105/105 [==============================] - 0s 161us/sample - loss: 0.2019 - acc: 0.9810\n",
            "Epoch 72/300\n",
            "105/105 [==============================] - 0s 183us/sample - loss: 0.1954 - acc: 0.9810\n",
            "Epoch 73/300\n",
            "105/105 [==============================] - 0s 169us/sample - loss: 0.1927 - acc: 0.9714\n",
            "Epoch 74/300\n",
            "105/105 [==============================] - 0s 154us/sample - loss: 0.1864 - acc: 0.9810\n",
            "Epoch 75/300\n",
            "105/105 [==============================] - 0s 157us/sample - loss: 0.1833 - acc: 0.9810\n",
            "Epoch 76/300\n",
            "105/105 [==============================] - 0s 163us/sample - loss: 0.1795 - acc: 0.9810\n",
            "Epoch 77/300\n",
            "105/105 [==============================] - 0s 166us/sample - loss: 0.1755 - acc: 0.9810\n",
            "Epoch 78/300\n",
            "105/105 [==============================] - 0s 147us/sample - loss: 0.1737 - acc: 0.9810\n",
            "Epoch 79/300\n",
            "105/105 [==============================] - 0s 151us/sample - loss: 0.1686 - acc: 0.9810\n",
            "Epoch 80/300\n",
            "105/105 [==============================] - 0s 166us/sample - loss: 0.1657 - acc: 0.9810\n",
            "Epoch 81/300\n",
            "105/105 [==============================] - 0s 141us/sample - loss: 0.1667 - acc: 0.9714\n",
            "Epoch 82/300\n",
            "105/105 [==============================] - 0s 157us/sample - loss: 0.1724 - acc: 0.9524\n",
            "Epoch 83/300\n",
            "105/105 [==============================] - 0s 159us/sample - loss: 0.1571 - acc: 0.9714\n",
            "Epoch 84/300\n",
            "105/105 [==============================] - 0s 144us/sample - loss: 0.1562 - acc: 0.9810\n",
            "Epoch 85/300\n",
            "105/105 [==============================] - 0s 163us/sample - loss: 0.1527 - acc: 0.9810\n",
            "Epoch 86/300\n",
            "105/105 [==============================] - 0s 195us/sample - loss: 0.1533 - acc: 0.9714\n",
            "Epoch 87/300\n",
            "105/105 [==============================] - 0s 148us/sample - loss: 0.1480 - acc: 0.9810\n",
            "Epoch 88/300\n",
            "105/105 [==============================] - 0s 163us/sample - loss: 0.1459 - acc: 0.9810\n",
            "Epoch 89/300\n",
            "105/105 [==============================] - 0s 159us/sample - loss: 0.1432 - acc: 0.9810\n",
            "Epoch 90/300\n",
            "105/105 [==============================] - 0s 160us/sample - loss: 0.1446 - acc: 0.9619\n",
            "Epoch 91/300\n",
            "105/105 [==============================] - 0s 164us/sample - loss: 0.1412 - acc: 0.9810\n",
            "Epoch 92/300\n",
            "105/105 [==============================] - 0s 140us/sample - loss: 0.1369 - acc: 0.9810\n",
            "Epoch 93/300\n",
            "105/105 [==============================] - 0s 160us/sample - loss: 0.1416 - acc: 0.9619\n",
            "Epoch 94/300\n",
            "105/105 [==============================] - 0s 163us/sample - loss: 0.1343 - acc: 0.9810\n",
            "Epoch 95/300\n",
            "105/105 [==============================] - 0s 174us/sample - loss: 0.1323 - acc: 0.9810\n",
            "Epoch 96/300\n",
            "105/105 [==============================] - 0s 150us/sample - loss: 0.1302 - acc: 0.9810\n",
            "Epoch 97/300\n",
            "105/105 [==============================] - 0s 160us/sample - loss: 0.1290 - acc: 0.9810\n",
            "Epoch 98/300\n",
            "105/105 [==============================] - 0s 141us/sample - loss: 0.1275 - acc: 0.9810\n",
            "Epoch 99/300\n",
            "105/105 [==============================] - 0s 149us/sample - loss: 0.1260 - acc: 0.9810\n",
            "Epoch 100/300\n",
            "105/105 [==============================] - 0s 154us/sample - loss: 0.1231 - acc: 0.9810\n",
            "Epoch 101/300\n",
            "105/105 [==============================] - 0s 143us/sample - loss: 0.1252 - acc: 0.9714\n",
            "Epoch 102/300\n",
            "105/105 [==============================] - 0s 142us/sample - loss: 0.1225 - acc: 0.9714\n",
            "Epoch 103/300\n",
            "105/105 [==============================] - 0s 143us/sample - loss: 0.1202 - acc: 0.9810\n",
            "Epoch 104/300\n",
            "105/105 [==============================] - 0s 170us/sample - loss: 0.1190 - acc: 0.9810\n",
            "Epoch 105/300\n",
            "105/105 [==============================] - 0s 172us/sample - loss: 0.1178 - acc: 0.9810\n",
            "Epoch 106/300\n",
            "105/105 [==============================] - 0s 159us/sample - loss: 0.1198 - acc: 0.9714\n",
            "Epoch 107/300\n",
            "105/105 [==============================] - 0s 160us/sample - loss: 0.1146 - acc: 0.9810\n",
            "Epoch 108/300\n",
            "105/105 [==============================] - 0s 162us/sample - loss: 0.1144 - acc: 0.9810\n",
            "Epoch 109/300\n",
            "105/105 [==============================] - 0s 153us/sample - loss: 0.1126 - acc: 0.9810\n",
            "Epoch 110/300\n",
            "105/105 [==============================] - 0s 147us/sample - loss: 0.1149 - acc: 0.9714\n",
            "Epoch 111/300\n",
            "105/105 [==============================] - 0s 173us/sample - loss: 0.1145 - acc: 0.9810\n",
            "Epoch 112/300\n",
            "105/105 [==============================] - 0s 150us/sample - loss: 0.1117 - acc: 0.9810\n",
            "Epoch 113/300\n",
            "105/105 [==============================] - 0s 141us/sample - loss: 0.1096 - acc: 0.9714\n",
            "Epoch 114/300\n",
            "105/105 [==============================] - 0s 145us/sample - loss: 0.1091 - acc: 0.9714\n",
            "Epoch 115/300\n",
            "105/105 [==============================] - 0s 157us/sample - loss: 0.1090 - acc: 0.9810\n",
            "Epoch 116/300\n",
            "105/105 [==============================] - 0s 149us/sample - loss: 0.1066 - acc: 0.9810\n",
            "Epoch 117/300\n",
            "105/105 [==============================] - 0s 148us/sample - loss: 0.1079 - acc: 0.9714\n",
            "Epoch 118/300\n",
            "105/105 [==============================] - 0s 153us/sample - loss: 0.1080 - acc: 0.9714\n",
            "Epoch 119/300\n",
            "105/105 [==============================] - 0s 140us/sample - loss: 0.1038 - acc: 0.9810\n",
            "Epoch 120/300\n",
            "105/105 [==============================] - 0s 144us/sample - loss: 0.1026 - acc: 0.9714\n",
            "Epoch 121/300\n",
            "105/105 [==============================] - 0s 145us/sample - loss: 0.1024 - acc: 0.9810\n",
            "Epoch 122/300\n",
            "105/105 [==============================] - 0s 161us/sample - loss: 0.1080 - acc: 0.9714\n",
            "Epoch 123/300\n",
            "105/105 [==============================] - 0s 185us/sample - loss: 0.0994 - acc: 0.9810\n",
            "Epoch 124/300\n",
            "105/105 [==============================] - 0s 153us/sample - loss: 0.1011 - acc: 0.9714\n",
            "Epoch 125/300\n",
            "105/105 [==============================] - 0s 183us/sample - loss: 0.0986 - acc: 0.9810\n",
            "Epoch 126/300\n",
            "105/105 [==============================] - 0s 163us/sample - loss: 0.0992 - acc: 0.9810\n",
            "Epoch 127/300\n",
            "105/105 [==============================] - 0s 157us/sample - loss: 0.0997 - acc: 0.9714\n",
            "Epoch 128/300\n",
            "105/105 [==============================] - 0s 158us/sample - loss: 0.0984 - acc: 0.9714\n",
            "Epoch 129/300\n",
            "105/105 [==============================] - 0s 145us/sample - loss: 0.0978 - acc: 0.9810\n",
            "Epoch 130/300\n",
            "105/105 [==============================] - 0s 177us/sample - loss: 0.0974 - acc: 0.9714\n",
            "Epoch 131/300\n",
            "105/105 [==============================] - 0s 200us/sample - loss: 0.0965 - acc: 0.9714\n",
            "Epoch 132/300\n",
            "105/105 [==============================] - 0s 155us/sample - loss: 0.0982 - acc: 0.9714\n",
            "Epoch 133/300\n",
            "105/105 [==============================] - 0s 156us/sample - loss: 0.0947 - acc: 0.9810\n",
            "Epoch 134/300\n",
            "105/105 [==============================] - 0s 169us/sample - loss: 0.0947 - acc: 0.9810\n",
            "Epoch 135/300\n",
            "105/105 [==============================] - 0s 150us/sample - loss: 0.0939 - acc: 0.9810\n",
            "Epoch 136/300\n",
            "105/105 [==============================] - 0s 146us/sample - loss: 0.0930 - acc: 0.9810\n",
            "Epoch 137/300\n",
            "105/105 [==============================] - 0s 146us/sample - loss: 0.0947 - acc: 0.9714\n",
            "Epoch 138/300\n",
            "105/105 [==============================] - 0s 156us/sample - loss: 0.0916 - acc: 0.9714\n",
            "Epoch 139/300\n",
            "105/105 [==============================] - 0s 149us/sample - loss: 0.0941 - acc: 0.9714\n",
            "Epoch 140/300\n",
            "105/105 [==============================] - 0s 166us/sample - loss: 0.0918 - acc: 0.9714\n",
            "Epoch 141/300\n",
            "105/105 [==============================] - 0s 151us/sample - loss: 0.0905 - acc: 0.9810\n",
            "Epoch 142/300\n",
            "105/105 [==============================] - 0s 159us/sample - loss: 0.0941 - acc: 0.9810\n",
            "Epoch 143/300\n",
            "105/105 [==============================] - 0s 188us/sample - loss: 0.0957 - acc: 0.9714\n",
            "Epoch 144/300\n",
            "105/105 [==============================] - 0s 157us/sample - loss: 0.0891 - acc: 0.9714\n",
            "Epoch 145/300\n",
            "105/105 [==============================] - 0s 148us/sample - loss: 0.0896 - acc: 0.9810\n",
            "Epoch 146/300\n",
            "105/105 [==============================] - 0s 167us/sample - loss: 0.0903 - acc: 0.9810\n",
            "Epoch 147/300\n",
            "105/105 [==============================] - 0s 159us/sample - loss: 0.0976 - acc: 0.9619\n",
            "Epoch 148/300\n",
            "105/105 [==============================] - 0s 176us/sample - loss: 0.0884 - acc: 0.9714\n",
            "Epoch 149/300\n",
            "105/105 [==============================] - 0s 152us/sample - loss: 0.0874 - acc: 0.9714\n",
            "Epoch 150/300\n",
            "105/105 [==============================] - 0s 142us/sample - loss: 0.0891 - acc: 0.9810\n",
            "Epoch 151/300\n",
            "105/105 [==============================] - 0s 152us/sample - loss: 0.0881 - acc: 0.9714\n",
            "Epoch 152/300\n",
            "105/105 [==============================] - 0s 134us/sample - loss: 0.0858 - acc: 0.9810\n",
            "Epoch 153/300\n",
            "105/105 [==============================] - 0s 143us/sample - loss: 0.0857 - acc: 0.9714\n",
            "Epoch 154/300\n",
            "105/105 [==============================] - 0s 156us/sample - loss: 0.0856 - acc: 0.9714\n",
            "Epoch 155/300\n",
            "105/105 [==============================] - 0s 145us/sample - loss: 0.0856 - acc: 0.9714\n",
            "Epoch 156/300\n",
            "105/105 [==============================] - 0s 157us/sample - loss: 0.0863 - acc: 0.9810\n",
            "Epoch 157/300\n",
            "105/105 [==============================] - 0s 150us/sample - loss: 0.0871 - acc: 0.9714\n",
            "Epoch 158/300\n",
            "105/105 [==============================] - 0s 157us/sample - loss: 0.0849 - acc: 0.9714\n",
            "Epoch 159/300\n",
            "105/105 [==============================] - 0s 168us/sample - loss: 0.0839 - acc: 0.9810\n",
            "Epoch 160/300\n",
            "105/105 [==============================] - 0s 160us/sample - loss: 0.0854 - acc: 0.9714\n",
            "Epoch 161/300\n",
            "105/105 [==============================] - 0s 136us/sample - loss: 0.0836 - acc: 0.9714\n",
            "Epoch 162/300\n",
            "105/105 [==============================] - 0s 142us/sample - loss: 0.0846 - acc: 0.9714\n",
            "Epoch 163/300\n",
            "105/105 [==============================] - 0s 144us/sample - loss: 0.0829 - acc: 0.9714\n",
            "Epoch 164/300\n",
            "105/105 [==============================] - 0s 148us/sample - loss: 0.0832 - acc: 0.9810\n",
            "Epoch 165/300\n",
            "105/105 [==============================] - 0s 170us/sample - loss: 0.0824 - acc: 0.9714\n",
            "Epoch 166/300\n",
            "105/105 [==============================] - 0s 158us/sample - loss: 0.0837 - acc: 0.9714\n",
            "Epoch 167/300\n",
            "105/105 [==============================] - 0s 134us/sample - loss: 0.0819 - acc: 0.9714\n",
            "Epoch 168/300\n",
            "105/105 [==============================] - 0s 157us/sample - loss: 0.0814 - acc: 0.9810\n",
            "Epoch 169/300\n",
            "105/105 [==============================] - 0s 169us/sample - loss: 0.0826 - acc: 0.9810\n",
            "Epoch 170/300\n",
            "105/105 [==============================] - 0s 152us/sample - loss: 0.0817 - acc: 0.9810\n",
            "Epoch 171/300\n",
            "105/105 [==============================] - 0s 150us/sample - loss: 0.0828 - acc: 0.9714\n",
            "Epoch 172/300\n",
            "105/105 [==============================] - 0s 154us/sample - loss: 0.0866 - acc: 0.9714\n",
            "Epoch 173/300\n",
            "105/105 [==============================] - 0s 158us/sample - loss: 0.0807 - acc: 0.9810\n",
            "Epoch 174/300\n",
            "105/105 [==============================] - 0s 148us/sample - loss: 0.0821 - acc: 0.9714\n",
            "Epoch 175/300\n",
            "105/105 [==============================] - 0s 151us/sample - loss: 0.0805 - acc: 0.9714\n",
            "Epoch 176/300\n",
            "105/105 [==============================] - 0s 138us/sample - loss: 0.0801 - acc: 0.9714\n",
            "Epoch 177/300\n",
            "105/105 [==============================] - 0s 175us/sample - loss: 0.0802 - acc: 0.9714\n",
            "Epoch 178/300\n",
            "105/105 [==============================] - 0s 145us/sample - loss: 0.0796 - acc: 0.9714\n",
            "Epoch 179/300\n",
            "105/105 [==============================] - 0s 156us/sample - loss: 0.0793 - acc: 0.9714\n",
            "Epoch 180/300\n",
            "105/105 [==============================] - 0s 211us/sample - loss: 0.0800 - acc: 0.9714\n",
            "Epoch 181/300\n",
            "105/105 [==============================] - 0s 155us/sample - loss: 0.0792 - acc: 0.9810\n",
            "Epoch 182/300\n",
            "105/105 [==============================] - 0s 161us/sample - loss: 0.0785 - acc: 0.9714\n",
            "Epoch 183/300\n",
            "105/105 [==============================] - 0s 170us/sample - loss: 0.0795 - acc: 0.9714\n",
            "Epoch 184/300\n",
            "105/105 [==============================] - 0s 139us/sample - loss: 0.0790 - acc: 0.9714\n",
            "Epoch 185/300\n",
            "105/105 [==============================] - 0s 164us/sample - loss: 0.0784 - acc: 0.9714\n",
            "Epoch 186/300\n",
            "105/105 [==============================] - 0s 159us/sample - loss: 0.0790 - acc: 0.9714\n",
            "Epoch 187/300\n",
            "105/105 [==============================] - 0s 149us/sample - loss: 0.0788 - acc: 0.9810\n",
            "Epoch 188/300\n",
            "105/105 [==============================] - 0s 163us/sample - loss: 0.0762 - acc: 0.9714\n",
            "Epoch 189/300\n",
            "105/105 [==============================] - 0s 134us/sample - loss: 0.0794 - acc: 0.9714\n",
            "Epoch 190/300\n",
            "105/105 [==============================] - 0s 147us/sample - loss: 0.0764 - acc: 0.9714\n",
            "Epoch 191/300\n",
            "105/105 [==============================] - 0s 224us/sample - loss: 0.0778 - acc: 0.9714\n",
            "Epoch 192/300\n",
            "105/105 [==============================] - 0s 157us/sample - loss: 0.0790 - acc: 0.9810\n",
            "Epoch 193/300\n",
            "105/105 [==============================] - 0s 162us/sample - loss: 0.0792 - acc: 0.9714\n",
            "Epoch 194/300\n",
            "105/105 [==============================] - 0s 153us/sample - loss: 0.0760 - acc: 0.9714\n",
            "Epoch 195/300\n",
            "105/105 [==============================] - 0s 151us/sample - loss: 0.0773 - acc: 0.9714\n",
            "Epoch 196/300\n",
            "105/105 [==============================] - 0s 150us/sample - loss: 0.0776 - acc: 0.9714\n",
            "Epoch 197/300\n",
            "105/105 [==============================] - 0s 152us/sample - loss: 0.0762 - acc: 0.9714\n",
            "Epoch 198/300\n",
            "105/105 [==============================] - 0s 159us/sample - loss: 0.0764 - acc: 0.9714\n",
            "Epoch 199/300\n",
            "105/105 [==============================] - 0s 149us/sample - loss: 0.0772 - acc: 0.9714\n",
            "Epoch 200/300\n",
            "105/105 [==============================] - 0s 155us/sample - loss: 0.0752 - acc: 0.9714\n",
            "Epoch 201/300\n",
            "105/105 [==============================] - 0s 163us/sample - loss: 0.0757 - acc: 0.9714\n",
            "Epoch 202/300\n",
            "105/105 [==============================] - 0s 156us/sample - loss: 0.0762 - acc: 0.9714\n",
            "Epoch 203/300\n",
            "105/105 [==============================] - 0s 147us/sample - loss: 0.0754 - acc: 0.9714\n",
            "Epoch 204/300\n",
            "105/105 [==============================] - 0s 175us/sample - loss: 0.0763 - acc: 0.9714\n",
            "Epoch 205/300\n",
            "105/105 [==============================] - 0s 138us/sample - loss: 0.0763 - acc: 0.9810\n",
            "Epoch 206/300\n",
            "105/105 [==============================] - 0s 141us/sample - loss: 0.0777 - acc: 0.9714\n",
            "Epoch 207/300\n",
            "105/105 [==============================] - 0s 148us/sample - loss: 0.0772 - acc: 0.9714\n",
            "Epoch 208/300\n",
            "105/105 [==============================] - 0s 146us/sample - loss: 0.0834 - acc: 0.9619\n",
            "Epoch 209/300\n",
            "105/105 [==============================] - 0s 146us/sample - loss: 0.0752 - acc: 0.9714\n",
            "Epoch 210/300\n",
            "105/105 [==============================] - 0s 145us/sample - loss: 0.0751 - acc: 0.9810\n",
            "Epoch 211/300\n",
            "105/105 [==============================] - 0s 140us/sample - loss: 0.0738 - acc: 0.9810\n",
            "Epoch 212/300\n",
            "105/105 [==============================] - 0s 147us/sample - loss: 0.0755 - acc: 0.9714\n",
            "Epoch 213/300\n",
            "105/105 [==============================] - 0s 145us/sample - loss: 0.0752 - acc: 0.9714\n",
            "Epoch 214/300\n",
            "105/105 [==============================] - 0s 166us/sample - loss: 0.0765 - acc: 0.9810\n",
            "Epoch 215/300\n",
            "105/105 [==============================] - 0s 167us/sample - loss: 0.0738 - acc: 0.9714\n",
            "Epoch 216/300\n",
            "105/105 [==============================] - 0s 147us/sample - loss: 0.0779 - acc: 0.9619\n",
            "Epoch 217/300\n",
            "105/105 [==============================] - 0s 149us/sample - loss: 0.0760 - acc: 0.9619\n",
            "Epoch 218/300\n",
            "105/105 [==============================] - 0s 170us/sample - loss: 0.0770 - acc: 0.9810\n",
            "Epoch 219/300\n",
            "105/105 [==============================] - 0s 160us/sample - loss: 0.0761 - acc: 0.9810\n",
            "Epoch 220/300\n",
            "105/105 [==============================] - 0s 160us/sample - loss: 0.0732 - acc: 0.9714\n",
            "Epoch 221/300\n",
            "105/105 [==============================] - 0s 151us/sample - loss: 0.0799 - acc: 0.9810\n",
            "Epoch 222/300\n",
            "105/105 [==============================] - 0s 141us/sample - loss: 0.0784 - acc: 0.9714\n",
            "Epoch 223/300\n",
            "105/105 [==============================] - 0s 138us/sample - loss: 0.0744 - acc: 0.9714\n",
            "Epoch 224/300\n",
            "105/105 [==============================] - 0s 157us/sample - loss: 0.0745 - acc: 0.9810\n",
            "Epoch 225/300\n",
            "105/105 [==============================] - 0s 164us/sample - loss: 0.0749 - acc: 0.9714\n",
            "Epoch 226/300\n",
            "105/105 [==============================] - 0s 150us/sample - loss: 0.0736 - acc: 0.9714\n",
            "Epoch 227/300\n",
            "105/105 [==============================] - 0s 152us/sample - loss: 0.0729 - acc: 0.9714\n",
            "Epoch 228/300\n",
            "105/105 [==============================] - 0s 184us/sample - loss: 0.0737 - acc: 0.9714\n",
            "Epoch 229/300\n",
            "105/105 [==============================] - 0s 155us/sample - loss: 0.0758 - acc: 0.9810\n",
            "Epoch 230/300\n",
            "105/105 [==============================] - 0s 142us/sample - loss: 0.0735 - acc: 0.9714\n",
            "Epoch 231/300\n",
            "105/105 [==============================] - 0s 183us/sample - loss: 0.0735 - acc: 0.9714\n",
            "Epoch 232/300\n",
            "105/105 [==============================] - 0s 166us/sample - loss: 0.0734 - acc: 0.9714\n",
            "Epoch 233/300\n",
            "105/105 [==============================] - 0s 157us/sample - loss: 0.0730 - acc: 0.9714\n",
            "Epoch 234/300\n",
            "105/105 [==============================] - 0s 156us/sample - loss: 0.0728 - acc: 0.9714\n",
            "Epoch 235/300\n",
            "105/105 [==============================] - 0s 189us/sample - loss: 0.0722 - acc: 0.9714\n",
            "Epoch 236/300\n",
            "105/105 [==============================] - 0s 143us/sample - loss: 0.0730 - acc: 0.9714\n",
            "Epoch 237/300\n",
            "105/105 [==============================] - 0s 154us/sample - loss: 0.0742 - acc: 0.9714\n",
            "Epoch 238/300\n",
            "105/105 [==============================] - 0s 144us/sample - loss: 0.0746 - acc: 0.9714\n",
            "Epoch 239/300\n",
            "105/105 [==============================] - 0s 173us/sample - loss: 0.0718 - acc: 0.9810\n",
            "Epoch 240/300\n",
            "105/105 [==============================] - 0s 157us/sample - loss: 0.0739 - acc: 0.9714\n",
            "Epoch 241/300\n",
            "105/105 [==============================] - 0s 163us/sample - loss: 0.0722 - acc: 0.9714\n",
            "Epoch 242/300\n",
            "105/105 [==============================] - 0s 155us/sample - loss: 0.0745 - acc: 0.9714\n",
            "Epoch 243/300\n",
            "105/105 [==============================] - 0s 150us/sample - loss: 0.0722 - acc: 0.9810\n",
            "Epoch 244/300\n",
            "105/105 [==============================] - 0s 151us/sample - loss: 0.0765 - acc: 0.9619\n",
            "Epoch 245/300\n",
            "105/105 [==============================] - 0s 142us/sample - loss: 0.0716 - acc: 0.9714\n",
            "Epoch 246/300\n",
            "105/105 [==============================] - 0s 173us/sample - loss: 0.0747 - acc: 0.9810\n",
            "Epoch 247/300\n",
            "105/105 [==============================] - 0s 180us/sample - loss: 0.0721 - acc: 0.9714\n",
            "Epoch 248/300\n",
            "105/105 [==============================] - 0s 168us/sample - loss: 0.0727 - acc: 0.9810\n",
            "Epoch 249/300\n",
            "105/105 [==============================] - 0s 144us/sample - loss: 0.0745 - acc: 0.9810\n",
            "Epoch 250/300\n",
            "105/105 [==============================] - 0s 204us/sample - loss: 0.0760 - acc: 0.9714\n",
            "Epoch 251/300\n",
            "105/105 [==============================] - 0s 155us/sample - loss: 0.0719 - acc: 0.9810\n",
            "Epoch 252/300\n",
            "105/105 [==============================] - 0s 180us/sample - loss: 0.0787 - acc: 0.9714\n",
            "Epoch 253/300\n",
            "105/105 [==============================] - 0s 150us/sample - loss: 0.0700 - acc: 0.9714\n",
            "Epoch 254/300\n",
            "105/105 [==============================] - 0s 159us/sample - loss: 0.0719 - acc: 0.9810\n",
            "Epoch 255/300\n",
            "105/105 [==============================] - 0s 148us/sample - loss: 0.0706 - acc: 0.9714\n",
            "Epoch 256/300\n",
            "105/105 [==============================] - 0s 157us/sample - loss: 0.0743 - acc: 0.9810\n",
            "Epoch 257/300\n",
            "105/105 [==============================] - 0s 157us/sample - loss: 0.0714 - acc: 0.9714\n",
            "Epoch 258/300\n",
            "105/105 [==============================] - 0s 178us/sample - loss: 0.0725 - acc: 0.9810\n",
            "Epoch 259/300\n",
            "105/105 [==============================] - 0s 149us/sample - loss: 0.0733 - acc: 0.9714\n",
            "Epoch 260/300\n",
            "105/105 [==============================] - 0s 145us/sample - loss: 0.0750 - acc: 0.9714\n",
            "Epoch 261/300\n",
            "105/105 [==============================] - 0s 163us/sample - loss: 0.0717 - acc: 0.9619\n",
            "Epoch 262/300\n",
            "105/105 [==============================] - 0s 185us/sample - loss: 0.0726 - acc: 0.9714\n",
            "Epoch 263/300\n",
            "105/105 [==============================] - 0s 147us/sample - loss: 0.0695 - acc: 0.9714\n",
            "Epoch 264/300\n",
            "105/105 [==============================] - 0s 144us/sample - loss: 0.0731 - acc: 0.9810\n",
            "Epoch 265/300\n",
            "105/105 [==============================] - 0s 146us/sample - loss: 0.0713 - acc: 0.9714\n",
            "Epoch 266/300\n",
            "105/105 [==============================] - 0s 162us/sample - loss: 0.0718 - acc: 0.9714\n",
            "Epoch 267/300\n",
            "105/105 [==============================] - 0s 155us/sample - loss: 0.0727 - acc: 0.9714\n",
            "Epoch 268/300\n",
            "105/105 [==============================] - 0s 146us/sample - loss: 0.0714 - acc: 0.9714\n",
            "Epoch 269/300\n",
            "105/105 [==============================] - 0s 149us/sample - loss: 0.0760 - acc: 0.9619\n",
            "Epoch 270/300\n",
            "105/105 [==============================] - 0s 148us/sample - loss: 0.0699 - acc: 0.9714\n",
            "Epoch 271/300\n",
            "105/105 [==============================] - 0s 146us/sample - loss: 0.0709 - acc: 0.9714\n",
            "Epoch 272/300\n",
            "105/105 [==============================] - 0s 186us/sample - loss: 0.0709 - acc: 0.9714\n",
            "Epoch 273/300\n",
            "105/105 [==============================] - 0s 179us/sample - loss: 0.0697 - acc: 0.9714\n",
            "Epoch 274/300\n",
            "105/105 [==============================] - 0s 183us/sample - loss: 0.0716 - acc: 0.9810\n",
            "Epoch 275/300\n",
            "105/105 [==============================] - 0s 176us/sample - loss: 0.0737 - acc: 0.9714\n",
            "Epoch 276/300\n",
            "105/105 [==============================] - 0s 160us/sample - loss: 0.0703 - acc: 0.9714\n",
            "Epoch 277/300\n",
            "105/105 [==============================] - 0s 160us/sample - loss: 0.0699 - acc: 0.9714\n",
            "Epoch 278/300\n",
            "105/105 [==============================] - 0s 167us/sample - loss: 0.0698 - acc: 0.9714\n",
            "Epoch 279/300\n",
            "105/105 [==============================] - 0s 153us/sample - loss: 0.0717 - acc: 0.9714\n",
            "Epoch 280/300\n",
            "105/105 [==============================] - 0s 159us/sample - loss: 0.0718 - acc: 0.9810\n",
            "Epoch 281/300\n",
            "105/105 [==============================] - 0s 160us/sample - loss: 0.0708 - acc: 0.9714\n",
            "Epoch 282/300\n",
            "105/105 [==============================] - 0s 154us/sample - loss: 0.0727 - acc: 0.9714\n",
            "Epoch 283/300\n",
            "105/105 [==============================] - 0s 149us/sample - loss: 0.0719 - acc: 0.9714\n",
            "Epoch 284/300\n",
            "105/105 [==============================] - 0s 156us/sample - loss: 0.0714 - acc: 0.9714\n",
            "Epoch 285/300\n",
            "105/105 [==============================] - 0s 147us/sample - loss: 0.0717 - acc: 0.9714\n",
            "Epoch 286/300\n",
            "105/105 [==============================] - 0s 148us/sample - loss: 0.0712 - acc: 0.9714\n",
            "Epoch 287/300\n",
            "105/105 [==============================] - 0s 142us/sample - loss: 0.0705 - acc: 0.9810\n",
            "Epoch 288/300\n",
            "105/105 [==============================] - 0s 144us/sample - loss: 0.0686 - acc: 0.9714\n",
            "Epoch 289/300\n",
            "105/105 [==============================] - 0s 144us/sample - loss: 0.0720 - acc: 0.9714\n",
            "Epoch 290/300\n",
            "105/105 [==============================] - 0s 140us/sample - loss: 0.0720 - acc: 0.9714\n",
            "Epoch 291/300\n",
            "105/105 [==============================] - 0s 148us/sample - loss: 0.0728 - acc: 0.9810\n",
            "Epoch 292/300\n",
            "105/105 [==============================] - 0s 159us/sample - loss: 0.0740 - acc: 0.9714\n",
            "Epoch 293/300\n",
            "105/105 [==============================] - 0s 151us/sample - loss: 0.0700 - acc: 0.9714\n",
            "Epoch 294/300\n",
            "105/105 [==============================] - 0s 160us/sample - loss: 0.0686 - acc: 0.9714\n",
            "Epoch 295/300\n",
            "105/105 [==============================] - 0s 150us/sample - loss: 0.0705 - acc: 0.9810\n",
            "Epoch 296/300\n",
            "105/105 [==============================] - 0s 152us/sample - loss: 0.0696 - acc: 0.9714\n",
            "Epoch 297/300\n",
            "105/105 [==============================] - 0s 158us/sample - loss: 0.0693 - acc: 0.9714\n",
            "Epoch 298/300\n",
            "105/105 [==============================] - 0s 148us/sample - loss: 0.0691 - acc: 0.9714\n",
            "Epoch 299/300\n",
            "105/105 [==============================] - 0s 191us/sample - loss: 0.0709 - acc: 0.9810\n",
            "Epoch 300/300\n",
            "105/105 [==============================] - 0s 160us/sample - loss: 0.0705 - acc: 0.9810\n"
          ],
          "name": "stdout"
        },
        {
          "output_type": "execute_result",
          "data": {
            "text/plain": [
              "<tensorflow.python.keras.callbacks.History at 0x7ff719cb7f60>"
            ]
          },
          "metadata": {
            "tags": []
          },
          "execution_count": 39
        }
      ]
    },
    {
      "metadata": {
        "id": "7BpkxRNBfvgu",
        "colab_type": "text"
      },
      "cell_type": "markdown",
      "source": [
        "## Evaluate the model"
      ]
    },
    {
      "metadata": {
        "id": "z8HkZsHOfvgv",
        "colab_type": "code",
        "outputId": "23718e4b-3caf-4239-e247-78f017767f29",
        "colab": {
          "base_uri": "https://localhost:8080/",
          "height": 68
        }
      },
      "cell_type": "code",
      "source": [
        "scores = model.evaluate(X_test, y_test)\n",
        "print(\"\\nAccuracy: %.2f%%\" % (scores[1]*100))"
      ],
      "execution_count": 0,
      "outputs": [
        {
          "output_type": "stream",
          "text": [
            "45/45 [==============================] - 0s 833us/sample - loss: 0.0419 - acc: 0.9778\n",
            "\n",
            "Accuracy: 97.78%\n"
          ],
          "name": "stdout"
        }
      ]
    },
    {
      "metadata": {
        "id": "GYYnQSWyfvg0",
        "colab_type": "text"
      },
      "cell_type": "markdown",
      "source": [
        "## Predict"
      ]
    },
    {
      "metadata": {
        "scrolled": true,
        "id": "pFfvGt-mfvg0",
        "colab_type": "code",
        "outputId": "23c815e7-641c-48b7-9270-95683a9e65b8",
        "colab": {
          "base_uri": "https://localhost:8080/",
          "height": 204
        }
      },
      "cell_type": "code",
      "source": [
        "prediction = model.predict(X_test)\n",
        "prediction1 = pd.DataFrame({'IRIS1':prediction[:,0],'IRIS2':prediction[:,1], 'IRIS3':prediction[:,2]})\n",
        "prediction1.round(decimals=4).head()"
      ],
      "execution_count": 0,
      "outputs": [
        {
          "output_type": "execute_result",
          "data": {
            "text/html": [
              "<div>\n",
              "<style scoped>\n",
              "    .dataframe tbody tr th:only-of-type {\n",
              "        vertical-align: middle;\n",
              "    }\n",
              "\n",
              "    .dataframe tbody tr th {\n",
              "        vertical-align: top;\n",
              "    }\n",
              "\n",
              "    .dataframe thead th {\n",
              "        text-align: right;\n",
              "    }\n",
              "</style>\n",
              "<table border=\"1\" class=\"dataframe\">\n",
              "  <thead>\n",
              "    <tr style=\"text-align: right;\">\n",
              "      <th></th>\n",
              "      <th>IRIS1</th>\n",
              "      <th>IRIS2</th>\n",
              "      <th>IRIS3</th>\n",
              "    </tr>\n",
              "  </thead>\n",
              "  <tbody>\n",
              "    <tr>\n",
              "      <th>0</th>\n",
              "      <td>0.0001</td>\n",
              "      <td>0.9878</td>\n",
              "      <td>0.0121</td>\n",
              "    </tr>\n",
              "    <tr>\n",
              "      <th>1</th>\n",
              "      <td>0.9996</td>\n",
              "      <td>0.0004</td>\n",
              "      <td>0.0000</td>\n",
              "    </tr>\n",
              "    <tr>\n",
              "      <th>2</th>\n",
              "      <td>0.0000</td>\n",
              "      <td>0.0003</td>\n",
              "      <td>0.9997</td>\n",
              "    </tr>\n",
              "    <tr>\n",
              "      <th>3</th>\n",
              "      <td>0.0000</td>\n",
              "      <td>0.9665</td>\n",
              "      <td>0.0335</td>\n",
              "    </tr>\n",
              "    <tr>\n",
              "      <th>4</th>\n",
              "      <td>0.0000</td>\n",
              "      <td>0.9887</td>\n",
              "      <td>0.0113</td>\n",
              "    </tr>\n",
              "  </tbody>\n",
              "</table>\n",
              "</div>"
            ],
            "text/plain": [
              "    IRIS1   IRIS2   IRIS3\n",
              "0  0.0001  0.9878  0.0121\n",
              "1  0.9996  0.0004  0.0000\n",
              "2  0.0000  0.0003  0.9997\n",
              "3  0.0000  0.9665  0.0335\n",
              "4  0.0000  0.9887  0.0113"
            ]
          },
          "metadata": {
            "tags": []
          },
          "execution_count": 41
        }
      ]
    },
    {
      "metadata": {
        "id": "pJupN9YMfvg5",
        "colab_type": "code",
        "outputId": "8102353c-9e3d-4988-9e62-f4794fc13b97",
        "colab": {
          "base_uri": "https://localhost:8080/",
          "height": 204
        }
      },
      "cell_type": "code",
      "source": [
        "real_values = pd.DataFrame(y_test)\n",
        "real_values.head()"
      ],
      "execution_count": 0,
      "outputs": [
        {
          "output_type": "execute_result",
          "data": {
            "text/html": [
              "<div>\n",
              "<style scoped>\n",
              "    .dataframe tbody tr th:only-of-type {\n",
              "        vertical-align: middle;\n",
              "    }\n",
              "\n",
              "    .dataframe tbody tr th {\n",
              "        vertical-align: top;\n",
              "    }\n",
              "\n",
              "    .dataframe thead th {\n",
              "        text-align: right;\n",
              "    }\n",
              "</style>\n",
              "<table border=\"1\" class=\"dataframe\">\n",
              "  <thead>\n",
              "    <tr style=\"text-align: right;\">\n",
              "      <th></th>\n",
              "      <th>0</th>\n",
              "      <th>1</th>\n",
              "      <th>2</th>\n",
              "    </tr>\n",
              "  </thead>\n",
              "  <tbody>\n",
              "    <tr>\n",
              "      <th>0</th>\n",
              "      <td>0.0</td>\n",
              "      <td>1.0</td>\n",
              "      <td>0.0</td>\n",
              "    </tr>\n",
              "    <tr>\n",
              "      <th>1</th>\n",
              "      <td>1.0</td>\n",
              "      <td>0.0</td>\n",
              "      <td>0.0</td>\n",
              "    </tr>\n",
              "    <tr>\n",
              "      <th>2</th>\n",
              "      <td>0.0</td>\n",
              "      <td>0.0</td>\n",
              "      <td>1.0</td>\n",
              "    </tr>\n",
              "    <tr>\n",
              "      <th>3</th>\n",
              "      <td>0.0</td>\n",
              "      <td>1.0</td>\n",
              "      <td>0.0</td>\n",
              "    </tr>\n",
              "    <tr>\n",
              "      <th>4</th>\n",
              "      <td>0.0</td>\n",
              "      <td>1.0</td>\n",
              "      <td>0.0</td>\n",
              "    </tr>\n",
              "  </tbody>\n",
              "</table>\n",
              "</div>"
            ],
            "text/plain": [
              "     0    1    2\n",
              "0  0.0  1.0  0.0\n",
              "1  1.0  0.0  0.0\n",
              "2  0.0  0.0  1.0\n",
              "3  0.0  1.0  0.0\n",
              "4  0.0  1.0  0.0"
            ]
          },
          "metadata": {
            "tags": []
          },
          "execution_count": 42
        }
      ]
    }
  ]
}