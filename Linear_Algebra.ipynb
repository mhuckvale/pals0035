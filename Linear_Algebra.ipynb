{
  "nbformat": 4,
  "nbformat_minor": 0,
  "metadata": {
    "colab": {
      "name": "Linear Algebra.ipynb",
      "version": "0.3.2",
      "provenance": [],
      "collapsed_sections": [],
      "include_colab_link": true
    },
    "kernelspec": {
      "name": "python3",
      "display_name": "Python 3"
    }
  },
  "cells": [
    {
      "cell_type": "markdown",
      "metadata": {
        "id": "view-in-github",
        "colab_type": "text"
      },
      "source": [
        "<a href=\"https://colab.research.google.com/github/mhuckvale/pals0039/blob/master/Linear_Algebra.ipynb\" target=\"_parent\"><img src=\"https://colab.research.google.com/assets/colab-badge.svg\" alt=\"Open In Colab\"/></a>"
      ]
    },
    {
      "cell_type": "markdown",
      "metadata": {
        "id": "v0hYCZXNpSgF",
        "colab_type": "text"
      },
      "source": [
        "# Linear algebra in TensorFlow 2 \n",
        "## Install tensorflow 2"
      ]
    },
    {
      "cell_type": "code",
      "metadata": {
        "id": "j3rXCWxgpeeD",
        "colab_type": "code",
        "colab": {}
      },
      "source": [
        "!pip install -q tensorflow==2.0.0-alpha0 "
      ],
      "execution_count": 0,
      "outputs": []
    },
    {
      "cell_type": "markdown",
      "metadata": {
        "id": "dtst26t8pjnb",
        "colab_type": "text"
      },
      "source": [
        "## Import tensorflow"
      ]
    },
    {
      "cell_type": "code",
      "metadata": {
        "id": "jWCSzAqGpo5L",
        "colab_type": "code",
        "outputId": "8db074bb-598d-41fd-d278-5aa69e137971",
        "colab": {
          "base_uri": "https://localhost:8080/",
          "height": 68
        }
      },
      "source": [
        "import tensorflow as tf\n",
        "print('tensorflow',tf.__version__)\n",
        "import numpy as np\n",
        "print('numpy',np.__version__)\n",
        "import pandas as pd\n",
        "print('pandas',pd.__version__)\n"
      ],
      "execution_count": 0,
      "outputs": [
        {
          "output_type": "stream",
          "text": [
            "tensorflow 2.0.0-alpha0\n",
            "numpy 1.16.2\n",
            "pandas 0.24.2\n"
          ],
          "name": "stdout"
        }
      ]
    },
    {
      "cell_type": "markdown",
      "metadata": {
        "id": "joVpVvjD_-49",
        "colab_type": "text"
      },
      "source": [
        "## Utility functions"
      ]
    },
    {
      "cell_type": "code",
      "metadata": {
        "id": "aQsp6maVABuF",
        "colab_type": "code",
        "colab": {}
      },
      "source": [
        "# create a matrix and store in form of tensor\n",
        "def matcreate(lst):\n",
        "  a=np.matrix(lst)\n",
        "  return(tf.constant(lst,shape=a.shape,dtype='float64'))\n",
        "\n",
        "# pretty print a matrix, converting tensors and scalars as required\n",
        "def matprint(name,a):\n",
        "  if (isinstance(a, tf.Tensor)):\n",
        "    a=a.numpy();\n",
        "  a=np.matrix(a)\n",
        "  print(name+\"(\"+(\"%d\" %a.shape[0])+\",\"+(\"%d\" %a.shape[1])+\"):\")\n",
        "  for i in range(a.shape[0]):\n",
        "    for j in range(a.shape[1]):\n",
        "      print(\"%6g\" % a[i,j],end=' ');\n",
        "    print()"
      ],
      "execution_count": 0,
      "outputs": []
    },
    {
      "cell_type": "markdown",
      "metadata": {
        "id": "5UlRmWTUprwb",
        "colab_type": "text"
      },
      "source": [
        "## Create some sample matrices"
      ]
    },
    {
      "cell_type": "code",
      "metadata": {
        "id": "Iq7jnHg6pv7j",
        "colab_type": "code",
        "outputId": "697bee81-dd73-4dac-d197-57dd8a49ddcd",
        "colab": {
          "base_uri": "https://localhost:8080/",
          "height": 255
        }
      },
      "source": [
        "v=matcreate([1,2,3])\n",
        "matprint(\"v\",v)\n",
        "w=tf.transpose(v)\n",
        "matprint(\"w\",w)\n",
        "A=tf.matmul(v,w)\n",
        "matprint('A',A)\n",
        "B=tf.matmul(w,v)\n",
        "matprint('B',B)\n",
        "d=tf.linalg.det(B)\n",
        "matprint('det(B)',d)"
      ],
      "execution_count": 0,
      "outputs": [
        {
          "output_type": "stream",
          "text": [
            "v(1,3):\n",
            "     1      2      3 \n",
            "w(3,1):\n",
            "     1 \n",
            "     2 \n",
            "     3 \n",
            "A(1,1):\n",
            "    14 \n",
            "B(3,3):\n",
            "     1      2      3 \n",
            "     2      4      6 \n",
            "     3      6      9 \n",
            "det(B)(1,1):\n",
            "     0 \n"
          ],
          "name": "stdout"
        }
      ]
    },
    {
      "cell_type": "markdown",
      "metadata": {
        "id": "YzTmNV34u9Vl",
        "colab_type": "text"
      },
      "source": [
        "## Matrix algebra"
      ]
    },
    {
      "cell_type": "code",
      "metadata": {
        "id": "5tfolsJVvAST",
        "colab_type": "code",
        "outputId": "f406b89e-8f1e-4107-c1ac-fe18c16fa6c9",
        "colab": {
          "base_uri": "https://localhost:8080/",
          "height": 272
        }
      },
      "source": [
        "# create a 2x2 matrix\n",
        "B=matcreate([[2,1],[3,4]])\n",
        "matprint('B',B)\n",
        "# find inverse\n",
        "C=tf.linalg.inv(B)\n",
        "matprint('C',C)\n",
        "# multiply original by inverse\n",
        "D=tf.matmul(B,C)\n",
        "matprint('D',D)\n",
        "# transpose and add\n",
        "E=B+tf.transpose(B)\n",
        "matprint('E',E)\n",
        "# dot multiply\n",
        "F=B*B\n",
        "matprint('F',F)\n",
        "\n"
      ],
      "execution_count": 0,
      "outputs": [
        {
          "output_type": "stream",
          "text": [
            "B(2,2):\n",
            "     2      1 \n",
            "     3      4 \n",
            "C(2,2):\n",
            "   0.8   -0.2 \n",
            "  -0.6    0.4 \n",
            "D(2,2):\n",
            "     1      0 \n",
            "     0      1 \n",
            "E(2,2):\n",
            "     4      4 \n",
            "     4      8 \n",
            "F(2,2):\n",
            "     4      1 \n",
            "     9     16 \n"
          ],
          "name": "stdout"
        }
      ]
    },
    {
      "cell_type": "markdown",
      "metadata": {
        "id": "EU8eQtzV05Vc",
        "colab_type": "text"
      },
      "source": [
        "## Solve system of linear equations\n",
        "Consider the following system of linear equations.\n",
        "\n",
        "<pre>\n",
        "3x<sub>1</sub> + x<sub>2</sub> = 3\n",
        "9x<sub>1</sub> + 4x<sub>2</sub> = 6\n",
        "</pre>\n",
        "\n",
        "<p>We treat this as a matrix equation A.x = B\n",
        "\n",
        "<p>Solution is: x<sub>1</sub> = 2 and x<sub>2</sub> = -3."
      ]
    },
    {
      "cell_type": "code",
      "metadata": {
        "id": "Jms6tkm00-Xj",
        "colab_type": "code",
        "outputId": "ed3017d2-7649-4257-a5ff-c03f1c27229e",
        "colab": {
          "base_uri": "https://localhost:8080/",
          "height": 170
        }
      },
      "source": [
        "A=matcreate([[3,1],[9,4]]);\n",
        "B=matcreate([[3],[6]]);\n",
        "x=tf.linalg.solve(A,B)\n",
        "matprint('A',A)\n",
        "matprint('B',B)\n",
        "matprint('x',x)\n"
      ],
      "execution_count": 0,
      "outputs": [
        {
          "output_type": "stream",
          "text": [
            "A(2,2):\n",
            "     3      1 \n",
            "     9      4 \n",
            "B(2,1):\n",
            "     3 \n",
            "     6 \n",
            "x(2,1):\n",
            "     2 \n",
            "    -3 \n"
          ],
          "name": "stdout"
        }
      ]
    },
    {
      "cell_type": "markdown",
      "metadata": {
        "id": "q-3afIOi2Kb1",
        "colab_type": "text"
      },
      "source": [
        "## Fit regression line using method of least squares\n",
        "\n",
        "We generate some random data that approximates a straight line:\n",
        "<pre>\n",
        "y = B0 + B1 * x + random\n",
        "</pre>\n",
        "Then we fit a straight line to the data using the method of least squares to retrieve B0 and B1.\n",
        "\n"
      ]
    },
    {
      "cell_type": "code",
      "metadata": {
        "id": "CqXugIoS2De-",
        "colab_type": "code",
        "outputId": "b110399f-258e-4eae-e26d-541335bd2263",
        "colab": {
          "base_uri": "https://localhost:8080/",
          "height": 596
        }
      },
      "source": [
        "nobs=250\n",
        "B0=4\n",
        "B1=2\n",
        "x=np.random.normal(size=(nobs,))\n",
        "y=B0 + B1*x + np.random.normal(0.0,0.5,size=(nobs,))\n",
        "%matplotlib inline\n",
        "import matplotlib.pyplot as plt\n",
        "plt.plot(x, y,'.')\n",
        "plt.title('raw data')\n",
        "plt.show()\n",
        "A=np.ones((nobs,2))\n",
        "A[:,1]=x\n",
        "A=matcreate(A)\n",
        "Y=matcreate(y)\n",
        "#B=tf.matmul(tf.matmul(tf.linalg.inv(tf.matmul(tf.transpose(A),A)),tf.transpose(A)),tf.transpose(Y))\n",
        "B=tf.linalg.lstsq(A,tf.transpose(Y))\n",
        "matprint('B',B)\n",
        "pB0=B.numpy()[0]\n",
        "pB1=B.numpy()[1]\n",
        "py=pB0+pB1*x\n",
        "plt.plot(x,y,'.',x, py,'-')\n",
        "plt.title('fit data')\n",
        "plt.show()\n"
      ],
      "execution_count": 0,
      "outputs": [
        {
          "output_type": "display_data",
          "data": {
            "image/png": "[encoded data removed]",
            "text/plain": [
              "<Figure size 432x288 with 1 Axes>"
            ]
          },
          "metadata": {
            "tags": []
          }
        },
        {
          "output_type": "stream",
          "text": [
            "B(2,1):\n",
            "3.97188 \n",
            "1.93645 \n"
          ],
          "name": "stdout"
        },
        {
          "output_type": "display_data",
          "data": {
            "image/png": "[encoded data removed]",
            "text/plain": [
              "<Figure size 432x288 with 1 Axes>"
            ]
          },
          "metadata": {
            "tags": []
          }
        }
      ]
    }
  ]
}