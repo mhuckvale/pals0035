{
  "nbformat": 4,
  "nbformat_minor": 0,
  "metadata": {
    "colab": {
      "name": "Linear Algebra.ipynb",
      "version": "0.3.2",
      "provenance": [],
      "collapsed_sections": [],
      "include_colab_link": true
    },
    "kernelspec": {
      "name": "python3",
      "display_name": "Python 3"
    }
  },
  "cells": [
    {
      "cell_type": "markdown",
      "metadata": {
        "id": "view-in-github",
        "colab_type": "text"
      },
      "source": [
        "<a href=\"https://colab.research.google.com/github/mhuckvale/pals0035/blob/master/Linear_Algebra.ipynb\" target=\"_parent\"><img src=\"https://colab.research.google.com/assets/colab-badge.svg\" alt=\"Open In Colab\"/></a>"
      ]
    },
    {
      "metadata": {
        "id": "v0hYCZXNpSgF",
        "colab_type": "text"
      },
      "cell_type": "markdown",
      "source": [
        "# Linear algebra in TensorFlow 2 \n",
        "## Install tensorflow 2"
      ]
    },
    {
      "metadata": {
        "id": "j3rXCWxgpeeD",
        "colab_type": "code",
        "colab": {
          "base_uri": "https://localhost:8080/",
          "height": 85
        },
        "outputId": "4faea918-6b0f-4cec-a120-5fa4c5400dbb"
      },
      "cell_type": "code",
      "source": [
        "!pip install -q tensorflow==2.0.0-alpha0 "
      ],
      "execution_count": 2,
      "outputs": [
        {
          "output_type": "stream",
          "text": [
            "\u001b[K    100% |████████████████████████████████| 79.9MB 374kB/s \n",
            "\u001b[K    100% |████████████████████████████████| 419kB 19.6MB/s \n",
            "\u001b[K    100% |████████████████████████████████| 3.0MB 11.4MB/s \n",
            "\u001b[K    100% |████████████████████████████████| 61kB 22.0MB/s \n",
            "\u001b[?25h"
          ],
          "name": "stdout"
        }
      ]
    },
    {
      "metadata": {
        "id": "dtst26t8pjnb",
        "colab_type": "text"
      },
      "cell_type": "markdown",
      "source": [
        "## Import tensorflow"
      ]
    },
    {
      "metadata": {
        "id": "jWCSzAqGpo5L",
        "colab_type": "code",
        "colab": {
          "base_uri": "https://localhost:8080/",
          "height": 51
        },
        "outputId": "96d7fc6f-de70-4dcd-bd36-8326a3e4f272"
      },
      "cell_type": "code",
      "source": [
        "import tensorflow as tf\n",
        "print('tensorflow',tf.__version__)\n",
        "import numpy as np\n",
        "print('numpy',np.__version__)\n"
      ],
      "execution_count": 5,
      "outputs": [
        {
          "output_type": "stream",
          "text": [
            "tensorflow 2.0.0-alpha0\n",
            "numpy 1.16.2\n"
          ],
          "name": "stdout"
        }
      ]
    },
    {
      "metadata": {
        "id": "5UlRmWTUprwb",
        "colab_type": "text"
      },
      "cell_type": "markdown",
      "source": [
        "## Create some sample matrices"
      ]
    },
    {
      "metadata": {
        "id": "Iq7jnHg6pv7j",
        "colab_type": "code",
        "colab": {
          "base_uri": "https://localhost:8080/",
          "height": 153
        },
        "outputId": "1a1f6adf-2274-48f7-f9ea-b089a1c9bb34"
      },
      "cell_type": "code",
      "source": [
        "v=tf.constant([1,2,3],shape=(1,3))\n",
        "print('v=',v.numpy())\n",
        "w=tf.transpose(v)\n",
        "print('w=',w.numpy())\n",
        "A=tf.matmul(v,w)\n",
        "print('A=',A.numpy())\n",
        "B=tf.matmul(w,v)\n",
        "print('B=',B.numpy())"
      ],
      "execution_count": 14,
      "outputs": [
        {
          "output_type": "stream",
          "text": [
            "v= [[1 2 3]]\n",
            "w= [[1]\n",
            " [2]\n",
            " [3]]\n",
            "A= [[14]]\n",
            "B= [[1 2 3]\n",
            " [2 4 6]\n",
            " [3 6 9]]\n"
          ],
          "name": "stdout"
        }
      ]
    }
  ]
}