{
  "nbformat": 4,
  "nbformat_minor": 0,
  "metadata": {
    "colab": {
      "name": "Linear Algebra.ipynb",
      "version": "0.3.2",
      "provenance": [],
      "collapsed_sections": [],
      "include_colab_link": true
    },
    "kernelspec": {
      "name": "python3",
      "display_name": "Python 3"
    }
  },
  "cells": [
    {
      "cell_type": "markdown",
      "metadata": {
        "id": "view-in-github",
        "colab_type": "text"
      },
      "source": [
        "<a href=\"https://colab.research.google.com/github/mhuckvale/pals0035/blob/master/Linear_Algebra.ipynb\" target=\"_parent\"><img src=\"https://colab.research.google.com/assets/colab-badge.svg\" alt=\"Open In Colab\"/></a>"
      ]
    },
    {
      "metadata": {
        "id": "v0hYCZXNpSgF",
        "colab_type": "text"
      },
      "cell_type": "markdown",
      "source": [
        "# Linear algebra in TensorFlow 2 \n",
        "## Install tensorflow 2"
      ]
    },
    {
      "metadata": {
        "id": "j3rXCWxgpeeD",
        "colab_type": "code",
        "colab": {}
      },
      "cell_type": "code",
      "source": [
        "!pip install -q tensorflow==2.0.0-alpha0 "
      ],
      "execution_count": 0,
      "outputs": []
    },
    {
      "metadata": {
        "id": "dtst26t8pjnb",
        "colab_type": "text"
      },
      "cell_type": "markdown",
      "source": [
        "## Import tensorflow"
      ]
    },
    {
      "metadata": {
        "id": "jWCSzAqGpo5L",
        "colab_type": "code",
        "colab": {
          "base_uri": "https://localhost:8080/",
          "height": 68
        },
        "outputId": "ea0cad55-0ae1-4601-ef07-91cee8701138"
      },
      "cell_type": "code",
      "source": [
        "import tensorflow as tf\n",
        "print('tensorflow',tf.__version__)\n",
        "import numpy as np\n",
        "print('numpy',np.__version__)\n",
        "import pandas as pd\n",
        "print('pandas',pd.__version__)\n"
      ],
      "execution_count": 9,
      "outputs": [
        {
          "output_type": "stream",
          "text": [
            "tensorflow 2.0.0-alpha0\n",
            "numpy 1.16.2\n",
            "pandas 0.24.2\n"
          ],
          "name": "stdout"
        }
      ]
    },
    {
      "metadata": {
        "id": "joVpVvjD_-49",
        "colab_type": "text"
      },
      "cell_type": "markdown",
      "source": [
        "## Utility functions"
      ]
    },
    {
      "metadata": {
        "id": "aQsp6maVABuF",
        "colab_type": "code",
        "colab": {}
      },
      "cell_type": "code",
      "source": [
        "# create a matrix and store in form of tensor\n",
        "def matcreate(lst):\n",
        "  a=np.matrix(lst)\n",
        "  return(tf.constant(lst,shape=a.shape,dtype='float64'))\n",
        "\n",
        "# pretty print a matrix, converting tensors and scalars as required\n",
        "def matprint(name,a):\n",
        "  if (isinstance(a, tf.Tensor)):\n",
        "    a=a.numpy();\n",
        "  a=np.matrix(a)\n",
        "  print(name+\"(\"+(\"%d\" %a.shape[0])+\",\"+(\"%d\" %a.shape[1])+\"):\")\n",
        "  for i in range(a.shape[0]):\n",
        "    for j in range(a.shape[1]):\n",
        "      print(\"%6g\" % a[i,j],end=' ');\n",
        "    print()"
      ],
      "execution_count": 0,
      "outputs": []
    },
    {
      "metadata": {
        "id": "5UlRmWTUprwb",
        "colab_type": "text"
      },
      "cell_type": "markdown",
      "source": [
        "## Create some sample matrices"
      ]
    },
    {
      "metadata": {
        "id": "Iq7jnHg6pv7j",
        "colab_type": "code",
        "colab": {
          "base_uri": "https://localhost:8080/",
          "height": 255
        },
        "outputId": "6d04c6bf-f2eb-4c47-bcdf-47678edc4a82"
      },
      "cell_type": "code",
      "source": [
        "v=matcreate([1,2,3])\n",
        "matprint(\"v\",v)\n",
        "w=tf.transpose(v)\n",
        "matprint(\"w\",w)\n",
        "A=tf.matmul(v,w)\n",
        "matprint('A',A)\n",
        "B=tf.matmul(w,v)\n",
        "matprint('B',B)\n",
        "d=tf.linalg.det(B)\n",
        "matprint('det(B)',d)"
      ],
      "execution_count": 31,
      "outputs": [
        {
          "output_type": "stream",
          "text": [
            "v(1,3):\n",
            "     1      2      3 \n",
            "w(3,1):\n",
            "     1 \n",
            "     2 \n",
            "     3 \n",
            "A(1,1):\n",
            "    14 \n",
            "B(3,3):\n",
            "     1      2      3 \n",
            "     2      4      6 \n",
            "     3      6      9 \n",
            "det(B)(1,1):\n",
            "     0 \n"
          ],
          "name": "stdout"
        }
      ]
    },
    {
      "metadata": {
        "id": "YzTmNV34u9Vl",
        "colab_type": "text"
      },
      "cell_type": "markdown",
      "source": [
        "## Matrix algebra"
      ]
    },
    {
      "metadata": {
        "id": "5tfolsJVvAST",
        "colab_type": "code",
        "colab": {
          "base_uri": "https://localhost:8080/",
          "height": 272
        },
        "outputId": "86858cfb-975b-46d0-c0b7-00501506b344"
      },
      "cell_type": "code",
      "source": [
        "# create a 2x2 matrix\n",
        "B=matcreate([[2,1],[3,4]])\n",
        "matprint('B',B)\n",
        "# find inverse\n",
        "C=tf.linalg.inv(B)\n",
        "matprint('C',C)\n",
        "# multiply original by inverse\n",
        "D=tf.matmul(B,C)\n",
        "matprint('D',D)\n",
        "# transpose and add\n",
        "E=B+tf.transpose(B)\n",
        "matprint('E',E)\n",
        "# dot multiply\n",
        "F=B*B\n",
        "matprint('F',F)\n",
        "\n"
      ],
      "execution_count": 36,
      "outputs": [
        {
          "output_type": "stream",
          "text": [
            "B(2,2):\n",
            "     2      1 \n",
            "     3      4 \n",
            "C(2,2):\n",
            "   0.8   -0.2 \n",
            "  -0.6    0.4 \n",
            "D(2,2):\n",
            "     1      0 \n",
            "     0      1 \n",
            "E(2,2):\n",
            "     4      4 \n",
            "     4      8 \n",
            "F(2,2):\n",
            "     4      1 \n",
            "     9     16 \n"
          ],
          "name": "stdout"
        }
      ]
    },
    {
      "metadata": {
        "id": "EU8eQtzV05Vc",
        "colab_type": "text"
      },
      "cell_type": "markdown",
      "source": [
        "## Solve system of linear equations\n",
        "Consider the following system of linear equations.\n",
        "\n",
        "<pre>\n",
        "3x<sub>1</sub> + x<sub>2</sub> = 3\n",
        "9x<sub>1</sub> + 4x<sub>2</sub> = 6\n",
        "</pre>\n",
        "\n",
        "<p>We treat this as a matrix equation A.x = B\n",
        "\n",
        "<p>Solution is: x<sub>1</sub> = 2 and x<sub>2</sub> = -3."
      ]
    },
    {
      "metadata": {
        "id": "Jms6tkm00-Xj",
        "colab_type": "code",
        "colab": {
          "base_uri": "https://localhost:8080/",
          "height": 170
        },
        "outputId": "11f7f87c-045c-4993-ce2e-895f7cdaab24"
      },
      "cell_type": "code",
      "source": [
        "A=matcreate([[3,1],[9,4]]);\n",
        "B=matcreate([[3],[6]]);\n",
        "C=tf.linalg.solve(A,B)\n",
        "matprint('A',A)\n",
        "matprint('B',B)\n",
        "matprint('C',C)\n"
      ],
      "execution_count": 35,
      "outputs": [
        {
          "output_type": "stream",
          "text": [
            "A(2,2):\n",
            "     3      1 \n",
            "     9      4 \n",
            "B(2,1):\n",
            "     3 \n",
            "     6 \n",
            "C(2,1):\n",
            "     2 \n",
            "    -3 \n"
          ],
          "name": "stdout"
        }
      ]
    }
  ]
}