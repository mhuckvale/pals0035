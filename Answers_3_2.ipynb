{
  "nbformat": 4,
  "nbformat_minor": 0,
  "metadata": {
    "colab": {
      "name": "Answers_3_2.ipynb",
      "provenance": [],
      "private_outputs": true,
      "collapsed_sections": [],
      "include_colab_link": true
    },
    "kernelspec": {
      "name": "python3",
      "display_name": "Python 3"
    }
  },
  "cells": [
    {
      "cell_type": "markdown",
      "metadata": {
        "id": "view-in-github",
        "colab_type": "text"
      },
      "source": [
        "<a href=\"https://colab.research.google.com/github/mhuckvale/pals0039/blob/master/Answers_3_2.ipynb\" target=\"_parent\"><img src=\"https://colab.research.google.com/assets/colab-badge.svg\" alt=\"Open In Colab\"/></a>"
      ]
    },
    {
      "cell_type": "markdown",
      "metadata": {
        "id": "cIFXp68GRrpz",
        "colab_type": "text"
      },
      "source": [
        "[PALS0039 Introduction to Deep Learning for Speech and Language Processing](https://www.phon.ucl.ac.uk/courses/pals0039/)\n",
        "\n",
        "#Exercise 3.2 Answers"
      ]
    },
    {
      "cell_type": "markdown",
      "metadata": {
        "id": "vJSnFLaaR0BS",
        "colab_type": "text"
      },
      "source": [
        "(a) Implement simple 4-2-4 autoencoder"
      ]
    },
    {
      "cell_type": "code",
      "metadata": {
        "id": "nBwByTZaRq7m",
        "colab_type": "code",
        "colab": {}
      },
      "source": [
        "%tensorflow_version 2.x\n",
        "import numpy as np\n",
        "from tensorflow.keras.models import Sequential, Model\n",
        "from tensorflow.keras.layers import Dense\n",
        "from tensorflow.keras.optimizers import SGD\n",
        "\n",
        "def build_model():\n",
        "  model=Sequential()\n",
        "  model.add(Dense(2,activation='sigmoid',input_shape=(4,),name=\"hidden_layer\"))\n",
        "  model.add(Dense(4,activation='sigmoid'))\n",
        "  sgd=SGD(learning_rate=0.1, momentum=0.9)\n",
        "  model.compile(loss='mse',optimizer=sgd)\n",
        "  return model\n",
        "\n",
        "X=np.array([[1,0,0,0],[0,1,0,0],[0,0,1,0],[0,0,0,1]],dtype='float32')\n",
        "y=np.array([[1,0,0,0],[0,1,0,0],[0,0,1,0],[0,0,0,1]],dtype='float32')\n",
        "print(\"input\\n\",X)\n",
        "print(\"output\\n\",y)\n",
        "\n",
        "model=build_model();\n",
        "model.fit(X,y,epochs=1000,batch_size=1,verbose=0)\n",
        "print(\"predicted\\n\",np.around(model.predict(X),decimals=3))\n"
      ],
      "execution_count": 0,
      "outputs": []
    },
    {
      "cell_type": "code",
      "metadata": {
        "id": "dk83yfrqbfd3",
        "colab_type": "code",
        "colab": {}
      },
      "source": [
        "model.summary()\n",
        "\n",
        "weights=model.get_weights()\n",
        "print(\"hidden-to-input\\n\",weights[0])\n",
        "print(\"hidden-bias\\n\",weights[1])\n",
        "print(\"output-to-hidden\\n\",weights[2])\n",
        "print(\"output-bias\\n\",weights[3])\n",
        "\n",
        "hidden_layer_model = Model(inputs=model.input,outputs=model.get_layer(\"hidden_layer\").output)\n",
        "hidden_output = hidden_layer_model.predict(X)\n",
        "print(\"hidden outputs\\n\",hidden_output)\n"
      ],
      "execution_count": 0,
      "outputs": []
    }
  ]
}