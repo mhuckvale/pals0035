{
  "nbformat": 4,
  "nbformat_minor": 0,
  "metadata": {
    "colab": {
      "name": "Answers_3_2.ipynb",
      "provenance": [],
      "private_outputs": true,
      "collapsed_sections": [],
      "include_colab_link": true
    },
    "kernelspec": {
      "name": "python3",
      "display_name": "Python 3"
    }
  },
  "cells": [
    {
      "cell_type": "markdown",
      "metadata": {
        "id": "view-in-github",
        "colab_type": "text"
      },
      "source": [
        "<a href=\"https://colab.research.google.com/github/mhuckvale/pals0039/blob/master/Answers_3_2.ipynb\" target=\"_parent\"><img src=\"https://colab.research.google.com/assets/colab-badge.svg\" alt=\"Open In Colab\"/></a>"
      ]
    },
    {
      "cell_type": "markdown",
      "metadata": {
        "id": "cIFXp68GRrpz",
        "colab_type": "text"
      },
      "source": [
        "[![PALS0039 Logo](https://www.phon.ucl.ac.uk/courses/pals0039/images/pals0039logo.png)](https://www.phon.ucl.ac.uk/courses/pals0039/)\n",
        "\n",
        "#Exercise 3.2 Answers"
      ]
    },
    {
      "cell_type": "markdown",
      "metadata": {
        "id": "vJSnFLaaR0BS",
        "colab_type": "text"
      },
      "source": [
        "(a) Implement simple 4-2-4 autoencoder"
      ]
    },
    {
      "cell_type": "code",
      "metadata": {
        "id": "nBwByTZaRq7m",
        "colab_type": "code",
        "colab": {}
      },
      "source": [
        "%tensorflow_version 2.x\n",
        "import numpy as np\n",
        "import matplotlib.pyplot as plt\n",
        "%matplotlib inline\n",
        "from tensorflow.keras.models import Sequential, Model\n",
        "from tensorflow.keras.layers import Dense\n",
        "from tensorflow.keras.optimizers import SGD\n",
        "\n",
        "def build_model():\n",
        "  model=Sequential()\n",
        "  model.add(Dense(2,activation='sigmoid',input_shape=(4,),name=\"hidden_layer\"))\n",
        "  model.add(Dense(4,activation='sigmoid',name=\"output_layer\"))\n",
        "  sgd=SGD(learning_rate=0.1, momentum=0.9)\n",
        "  model.compile(loss='mse',optimizer=sgd)\n",
        "  return model\n",
        "\n",
        "X=np.array([[1,0,0,0],[0,1,0,0],[0,0,1,0],[0,0,0,1]])\n",
        "y=np.array([[1,0,0,0],[0,1,0,0],[0,0,1,0],[0,0,0,1]])\n",
        "print(\"input\\n\",X)\n",
        "print(\"output\\n\",y)\n",
        "\n"
      ],
      "execution_count": 0,
      "outputs": []
    },
    {
      "cell_type": "markdown",
      "metadata": {
        "id": "x5b20_6ArIlz",
        "colab_type": "text"
      },
      "source": [
        "(b) train the model"
      ]
    },
    {
      "cell_type": "code",
      "metadata": {
        "id": "XepltgxvrK74",
        "colab_type": "code",
        "colab": {}
      },
      "source": [
        "model=build_model();\n",
        "hist=model.fit(X,y,epochs=1000,batch_size=1,verbose=0)\n",
        "print(\"predicted\\n\",np.around(model.predict(X),decimals=3))\n"
      ],
      "execution_count": 0,
      "outputs": []
    },
    {
      "cell_type": "markdown",
      "metadata": {
        "id": "1T18ijLFrXaw",
        "colab_type": "text"
      },
      "source": [
        "(c) display the loss over training"
      ]
    },
    {
      "cell_type": "code",
      "metadata": {
        "id": "bfOI5Sr8rcxo",
        "colab_type": "code",
        "colab": {}
      },
      "source": [
        "plt.plot(hist.history['loss'])\n",
        "plt.xlabel(\"Epoch\")\n",
        "plt.ylabel(\"Loss\")\n",
        "plt.show()"
      ],
      "execution_count": 0,
      "outputs": []
    },
    {
      "cell_type": "markdown",
      "metadata": {
        "id": "8bgSeOqZsVbY",
        "colab_type": "text"
      },
      "source": [
        "(d) show the output of the hidden layer"
      ]
    },
    {
      "cell_type": "code",
      "metadata": {
        "id": "IwmmSi7hsZvh",
        "colab_type": "code",
        "colab": {}
      },
      "source": [
        "hidden_layer_model = Model(inputs=model.input,outputs=model.get_layer(\"hidden_layer\").output)\n",
        "hidden_output = hidden_layer_model.predict(X)\n",
        "print(\"hidden outputs\\n\",hidden_output)"
      ],
      "execution_count": 0,
      "outputs": []
    },
    {
      "cell_type": "markdown",
      "metadata": {
        "id": "ayV_VSD1sIAu",
        "colab_type": "text"
      },
      "source": [
        "(e) show the trained weights"
      ]
    },
    {
      "cell_type": "code",
      "metadata": {
        "id": "dk83yfrqbfd3",
        "colab_type": "code",
        "colab": {}
      },
      "source": [
        "model.summary()\n",
        "\n",
        "weights=model.get_weights()\n",
        "print(\"hidden-to-input\\n\",weights[0])\n",
        "print(\"hidden-bias\\n\",weights[1])\n",
        "print(\"output-to-hidden\\n\",weights[2])\n",
        "print(\"output-bias\\n\",weights[3])\n"
      ],
      "execution_count": 0,
      "outputs": []
    },
    {
      "cell_type": "markdown",
      "metadata": {
        "id": "HPI2e5SnkDbM",
        "colab_type": "text"
      },
      "source": [
        "(f) Perform the weight calculation in the network by hand"
      ]
    },
    {
      "cell_type": "code",
      "metadata": {
        "id": "-1rCOKjtkH5H",
        "colab_type": "code",
        "colab": {}
      },
      "source": [
        "def sigmoid(x):\n",
        "  return 1 / (1 + np.exp(-x))\n",
        "  \n",
        "for i in range(4):\n",
        "  input=X[i]\n",
        "  hidden=sigmoid(np.dot(input,weights[0])+weights[1])\n",
        "  output=sigmoid(np.dot(hidden,weights[2])+weights[3])\n",
        "  print(input,hidden,output)\n"
      ],
      "execution_count": 0,
      "outputs": []
    }
  ]
}