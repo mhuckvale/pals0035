{
  "nbformat": 4,
  "nbformat_minor": 0,
  "metadata": {
    "colab": {
      "name": "Answers_3_2.ipynb",
      "private_outputs": true,
      "provenance": [],
      "collapsed_sections": [],
      "include_colab_link": true
    },
    "kernelspec": {
      "name": "python3",
      "display_name": "Python 3"
    }
  },
  "cells": [
    {
      "cell_type": "markdown",
      "metadata": {
        "id": "view-in-github",
        "colab_type": "text"
      },
      "source": [
        "<a href=\"https://colab.research.google.com/github/mhuckvale/pals0039/blob/master/Answers_3_2.ipynb\" target=\"_parent\"><img src=\"https://colab.research.google.com/assets/colab-badge.svg\" alt=\"Open In Colab\"/></a>"
      ]
    },
    {
      "cell_type": "markdown",
      "metadata": {
        "id": "cIFXp68GRrpz"
      },
      "source": [
        "[![PALS0039 Logo](https://www.phon.ucl.ac.uk/courses/pals0039/images/pals0039logo.png)](https://www.phon.ucl.ac.uk/courses/pals0039/)\n",
        "\n",
        "#Exercise 3.2 Answers\n",
        "\n",
        "In this exercise we use Keras to build and train a small 4-2-4 autoencoder."
      ]
    },
    {
      "cell_type": "markdown",
      "metadata": {
        "id": "vJSnFLaaR0BS"
      },
      "source": [
        "(a) Implement the 4-2-4 autoencoder. Run the code and add comments to explain how it works."
      ]
    },
    {
      "cell_type": "code",
      "metadata": {
        "id": "nBwByTZaRq7m"
      },
      "source": [
        "# import libraries\n",
        "%tensorflow_version 2.x\n",
        "import numpy as np\n",
        "import matplotlib.pyplot as plt\n",
        "%matplotlib inline\n",
        "from tensorflow.keras.models import Sequential, Model\n",
        "from tensorflow.keras.layers import Dense\n",
        "from tensorflow.keras.optimizers import SGD\n",
        "\n",
        "# build the Keras model\n",
        "def build_model():\n",
        "  model=Sequential()\n",
        "  # add 2 hidden units with the four inputs\n",
        "  model.add(Dense(2,activation='sigmoid',input_shape=(4,),name=\"hidden_layer\"))\n",
        "  # add the 4 output units\n",
        "  model.add(Dense(4,activation='sigmoid',name=\"output_layer\"))\n",
        "  # configure an optimizer for stochastic gradient descent\n",
        "  sgd=SGD(learning_rate=0.1, momentum=0.9)\n",
        "  # compile the network\n",
        "  model.compile(loss='mse',optimizer=sgd)\n",
        "  return model\n",
        "\n",
        "# input data\n",
        "X=np.array([[1,0,0,0],[0,1,0,0],[0,0,1,0],[0,0,0,1]])\n",
        "# output data\n",
        "y=np.array([[1,0,0,0],[0,1,0,0],[0,0,1,0],[0,0,0,1]])\n",
        "\n",
        "print(\"input\\n\",X)\n",
        "print(\"output\\n\",y)\n",
        "\n"
      ],
      "execution_count": null,
      "outputs": []
    },
    {
      "cell_type": "markdown",
      "metadata": {
        "id": "x5b20_6ArIlz"
      },
      "source": [
        "---\n",
        "(b) Train the model. Run the code and add comments to explain how it works."
      ]
    },
    {
      "cell_type": "code",
      "metadata": {
        "id": "XepltgxvrK74"
      },
      "source": [
        "# build the model using the earlier function\n",
        "model=build_model();\n",
        "# fit the model to the training data, returning history\n",
        "hist=model.fit(X,y,epochs=1000,batch_size=1,verbose=0)\n",
        "# print the predicted output values for the training data\n",
        "print(\"predicted\\n\",np.around(model.predict(X),decimals=3))\n"
      ],
      "execution_count": null,
      "outputs": []
    },
    {
      "cell_type": "markdown",
      "metadata": {
        "id": "1T18ijLFrXaw"
      },
      "source": [
        "---\n",
        "(c) Run the code and add comments to explain how it works."
      ]
    },
    {
      "cell_type": "code",
      "metadata": {
        "id": "bfOI5Sr8rcxo"
      },
      "source": [
        "# plot the value of the loss function over training\n",
        "plt.plot(hist.history['loss'])\n",
        "plt.xlabel(\"Epoch\")\n",
        "plt.ylabel(\"Loss\")\n",
        "plt.show()"
      ],
      "execution_count": null,
      "outputs": []
    },
    {
      "cell_type": "markdown",
      "metadata": {
        "id": "8bgSeOqZsVbY"
      },
      "source": [
        "---\n",
        "(d) Display the activations of the hidden layer. Run the code and add comments to explain how it works."
      ]
    },
    {
      "cell_type": "code",
      "metadata": {
        "id": "IwmmSi7hsZvh"
      },
      "source": [
        "# build a new model from the trained one, in which the output is just the hidden layer\n",
        "hidden_layer_model = Model(inputs=model.input,outputs=model.get_layer(\"hidden_layer\").output)\n",
        "# predict the training data, capturing the hidden outputs\n",
        "hidden_output = hidden_layer_model.predict(X)\n",
        "print(\"hidden outputs\\n\",hidden_output)"
      ],
      "execution_count": null,
      "outputs": []
    },
    {
      "cell_type": "markdown",
      "metadata": {
        "id": "ayV_VSD1sIAu"
      },
      "source": [
        "---\n",
        "(e) Display the trained weights. Run the code and add comments to explain how it works."
      ]
    },
    {
      "cell_type": "code",
      "metadata": {
        "id": "dk83yfrqbfd3"
      },
      "source": [
        "# print a summary of the structure of the model\n",
        "model.summary()\n",
        "\n",
        "# get the weights as a numpy array\n",
        "weights=model.get_weights()\n",
        "\n",
        "# print the weights for the different layers\n",
        "print(\"hidden-to-input\\n\",weights[0])\n",
        "print(\"hidden-bias\\n\",weights[1])\n",
        "print(\"output-to-hidden\\n\",weights[2])\n",
        "print(\"output-bias\\n\",weights[3])\n"
      ],
      "execution_count": null,
      "outputs": []
    },
    {
      "cell_type": "markdown",
      "metadata": {
        "id": "HPI2e5SnkDbM"
      },
      "source": [
        "---\n",
        "(f) Perform the weight calculation in the network by hand. Run the code and add comments to explain how it works.\n",
        "\n",
        "Check that the calculated hidden and output activations match that generated by the Keras code above."
      ]
    },
    {
      "cell_type": "code",
      "metadata": {
        "id": "-1rCOKjtkH5H"
      },
      "source": [
        "# definition of the signoid activation function\n",
        "def sigmoid(x):\n",
        "  return 1 / (1 + np.exp(-x))\n",
        "  \n",
        "# for each training sample\n",
        "for i in range(4):\n",
        "  # get the input\n",
        "  input=X[i]\n",
        "  # calculate the hidden unit activations\n",
        "  hidden=sigmoid(np.dot(input,weights[0])+weights[1])\n",
        "  # get the output unit activations\n",
        "  output=sigmoid(np.dot(hidden,weights[2])+weights[3])\n",
        "  # print the input, hidden and output values for this sample\n",
        "  print(input,hidden,output)\n"
      ],
      "execution_count": null,
      "outputs": []
    }
  ]
}