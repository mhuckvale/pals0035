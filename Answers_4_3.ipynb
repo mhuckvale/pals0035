{
  "nbformat": 4,
  "nbformat_minor": 0,
  "metadata": {
    "colab": {
      "name": "Answers_4_3.ipynb",
      "private_outputs": true,
      "provenance": [],
      "collapsed_sections": [],
      "include_colab_link": true
    },
    "kernelspec": {
      "name": "python3",
      "display_name": "Python 3"
    }
  },
  "cells": [
    {
      "cell_type": "markdown",
      "metadata": {
        "id": "view-in-github",
        "colab_type": "text"
      },
      "source": [
        "<a href=\"https://colab.research.google.com/github/mhuckvale/pals0039/blob/master/Answers_4_3.ipynb\" target=\"_parent\"><img src=\"https://colab.research.google.com/assets/colab-badge.svg\" alt=\"Open In Colab\"/></a>"
      ]
    },
    {
      "cell_type": "markdown",
      "metadata": {
        "id": "tykdB_X1ZvbX"
      },
      "source": [
        "[![PALS0039 Logo](https://www.phon.ucl.ac.uk/courses/pals0039/images/pals0039logo.png)](https://www.phon.ucl.ac.uk/courses/pals0039/)\n",
        "\n",
        "#Exercise 4.3 Answers\n",
        "\n",
        "In this exercise we implement a DNN for predicting age of the speaker from speech.\n",
        "\n",
        "The data comes from the [Accents of the British Isles](http://www.thespeechark.com/abi-2-page.html) corpus. Each speaker read the same short passage, and the audio was processed using the [OpenSMILE](https://www.audeering.com/opensmile/) toolkit into fixed-length vectors of 6373 features. We normalise the features across all speakers using z-scores. We add GENDER as an additional input feature. We convert the speaker AGE into a value between 0-1 and build a network with a linear output to predict age. We plot the predictions as a scatter plot, and calculate correlation and mean absolute error."
      ]
    },
    {
      "cell_type": "markdown",
      "metadata": {
        "id": "XV2lCpMOy0Lb"
      },
      "source": [
        "---\r\n",
        "(a) Set up for learning. Run the code and add comments."
      ]
    },
    {
      "cell_type": "code",
      "metadata": {
        "id": "rv0rXZ39y41h"
      },
      "source": [
        "# import standard libraries\n",
        "import numpy as np\n",
        "import pandas as pd\n",
        "import matplotlib.pyplot as plt\n",
        "\n",
        "# import keras libraries\n",
        "%tensorflow_version 2.x\n",
        "from tensorflow.keras.models import Sequential\n",
        "from tensorflow.keras.layers import Dense, Dropout"
      ],
      "execution_count": null,
      "outputs": []
    },
    {
      "cell_type": "markdown",
      "metadata": {
        "id": "InXTZQF1y_Fh"
      },
      "source": [
        "---\n",
        "(b) Load in the data as two spreadsheets. Run the code and add comments."
      ]
    },
    {
      "cell_type": "code",
      "metadata": {
        "id": "oLOHXd0czI2K"
      },
      "source": [
        "# load a CSV file and divide into feats and labels\n",
        "def LoadCSV(filename,labelname,featcolstart):\n",
        "  # read CSV file\n",
        "  df=pd.read_csv(filename,sep=',')\n",
        "  # convert GENDER column to codes\n",
        "  gender=pd.Categorical(df['GENDER'])\n",
        "  # append gender code to audio features\n",
        "  feats=np.append(np.array(df.iloc[:,featcolstart:]),np.reshape(gender.codes,(len(df),1)),axis=1)\n",
        "  # convert age to numpy array\n",
        "  labels=df[labelname].to_numpy()\n",
        "  # randomise order\n",
        "  p = np.random.permutation(feats.shape[0])\n",
        "  return labels[p],feats[p]\n",
        "\n",
        "# download train and test data\n",
        "ytrain,Xtrain=LoadCSV(\"https://www.phon.ucl.ac.uk/courses/pals0039/data/age-train.csv\",\"AGE\",4);\n",
        "ytest,Xtest=LoadCSV(\"https://www.phon.ucl.ac.uk/courses/pals0039/data/age-test.csv\",\"AGE\",4);\n",
        "\n",
        "# get basic parameters\n",
        "ntrain=Xtrain.shape[0]\n",
        "ntest=Xtest.shape[0]\n",
        "isize=Xtrain.shape[1]\n",
        "osize=1\n",
        "print(\"ntrain\",ntrain,\"ntest\",ntest,\"isize\",isize,\"osize\",osize)"
      ],
      "execution_count": null,
      "outputs": []
    },
    {
      "cell_type": "markdown",
      "metadata": {
        "id": "ujMyNesX0if0"
      },
      "source": [
        "---\n",
        "(c) Normalise the features. Run the code and add comments"
      ]
    },
    {
      "cell_type": "code",
      "metadata": {
        "id": "4nMKrRGK0nwc"
      },
      "source": [
        "# get statistics of all features\n",
        "mn=np.mean(Xtrain,axis=0)\n",
        "sd=np.std(Xtrain,axis=0)\n",
        "sd[(sd<0.001)]=1\n",
        "\n",
        "# z-score features\n",
        "Xtrain=(Xtrain-mn)/sd;\n",
        "Xtest=(Xtest-mn)/sd;\n",
        "\n",
        "# convert ages to a small number\n",
        "ytrain=ytrain/100\n",
        "ytest=ytest/100"
      ],
      "execution_count": null,
      "outputs": []
    },
    {
      "cell_type": "markdown",
      "metadata": {
        "id": "i9h4Lhok1HP3"
      },
      "source": [
        "---\n",
        "(d) Build a model. Run the code and add comments."
      ]
    },
    {
      "cell_type": "code",
      "metadata": {
        "id": "O0tZdB1I1LUL"
      },
      "source": [
        "# use Keras sequential model\n",
        "model = Sequential()\n",
        "# add input layer of 64 units\n",
        "model.add(Dense(64,activation='tanh',input_shape=(isize,)))\n",
        "# add dropout layer (to encourage generalisation)\n",
        "model.add(Dropout(0.5))\n",
        "# add hidden layer\n",
        "model.add(Dense(32,activation='tanh'))\n",
        "# add output layer with linear activation\n",
        "model.add(Dense(osize, activation='linear'))\n",
        "# compile the model with MSE loss and MAE accuracy\n",
        "model.compile(loss='mean_squared_error', optimizer='rmsprop', metrics=['mae'])\n",
        "print(model.summary())"
      ],
      "execution_count": null,
      "outputs": []
    },
    {
      "cell_type": "markdown",
      "metadata": {
        "id": "iorxYg2G1sa2"
      },
      "source": [
        "---\r\n",
        "(e) Fit model. Run code and add comments."
      ]
    },
    {
      "cell_type": "code",
      "metadata": {
        "id": "Oli7VTJz1v3X"
      },
      "source": [
        "# train model - use 10% for validation\n",
        "hist=model.fit(Xtrain,ytrain, epochs=100, batch_size=32, validation_split=0.1)"
      ],
      "execution_count": null,
      "outputs": []
    },
    {
      "cell_type": "markdown",
      "metadata": {
        "id": "eLPqNdjg2E--"
      },
      "source": [
        "---\r\n",
        "(f) Evaluate the model on test data. Run the code and add comments"
      ]
    },
    {
      "cell_type": "code",
      "metadata": {
        "id": "fHFtRufW2LM8"
      },
      "source": [
        "# get MSE loss and MAE loss on test data\n",
        "mseloss,maeloss=model.evaluate(Xtest,ytest)\n",
        "print(\"mseloss\",mseloss,\"maeloss\",maeloss*100,\"years\")"
      ],
      "execution_count": null,
      "outputs": []
    },
    {
      "cell_type": "markdown",
      "metadata": {
        "id": "F0ZXTM6_2cH9"
      },
      "source": [
        "---\r\n",
        "(g) Plot predictions. Run the code and add comments"
      ]
    },
    {
      "cell_type": "code",
      "metadata": {
        "id": "uTFiBmOT2n1-"
      },
      "source": [
        "# get predictions of model\n",
        "ypred=model.predict(Xtest)\n",
        "\n",
        "# convert back to years\n",
        "ytest=ytest*100\n",
        "ypred=ypred.flatten()*100\n",
        "\n",
        "# calculate some statistics\n",
        "rmse=np.sqrt(np.mean((ytest-ypred)*(ytest-ypred)))\n",
        "mae=np.mean(np.abs(ytest-ypred))\n",
        "corr=np.corrcoef(ytest,ypred);\n",
        "\n",
        "# plot male and female in different colours\n",
        "colours=['red','blue']\n",
        "cols=list(colours[int(i)] for i in Xtest[:,isize-1])\n",
        "# plot a scatter plot\n",
        "plt.scatter(x=ytest,y=ypred,c=cols,s=20,alpha=0.5);\n",
        "# calculate a line of best fit\n",
        "poly = np.polyfit(ytest, ypred, 1)\n",
        "x=np.array((np.min(ytest),np.max(ytest)))\n",
        "y=poly[1]+poly[0]*x\n",
        "plt.plot(x,y,':g')\n",
        "plt.xlabel(\"Actual Age (yr)\");\n",
        "plt.ylabel(\"Predicted Age (yr)\");\n",
        "plt.grid()\n",
        "plt.title(\"RMSE=%.3f MAE=%.3f r=%.3f\" % (rmse,mae,corr[0,1]));\n",
        "plt.show()\n"
      ],
      "execution_count": null,
      "outputs": []
    },
    {
      "cell_type": "markdown",
      "metadata": {
        "id": "QxVrl_vtio3f"
      },
      "source": [
        "---\r\n",
        "(h) Experiment with the network to try and improve performance. Some ideas:\r\n",
        "<ol>\r\n",
        "<li>Remove the feature normalisation step - is it useful?\r\n",
        "<li>Change the structure of the network or training regime\r\n",
        "<li>(advanced) Select a subset of the 6373 features depending on whether the feature has a useful correlation with speaker AGE. Remove features from the training and test sets which do not correlate with age to any useful degree.\r\n",
        "</ol>\r\n"
      ]
    }
  ]
}