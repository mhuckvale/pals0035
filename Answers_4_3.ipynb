{
  "nbformat": 4,
  "nbformat_minor": 0,
  "metadata": {
    "colab": {
      "name": "Answers_4_3.ipynb",
      "provenance": [],
      "private_outputs": true,
      "collapsed_sections": [],
      "include_colab_link": true
    },
    "kernelspec": {
      "name": "python3",
      "display_name": "Python 3"
    }
  },
  "cells": [
    {
      "cell_type": "markdown",
      "metadata": {
        "id": "view-in-github",
        "colab_type": "text"
      },
      "source": [
        "<a href=\"https://colab.research.google.com/github/mhuckvale/pals0039/blob/master/Answers_4_3.ipynb\" target=\"_parent\"><img src=\"https://colab.research.google.com/assets/colab-badge.svg\" alt=\"Open In Colab\"/></a>"
      ]
    },
    {
      "cell_type": "markdown",
      "metadata": {
        "id": "tykdB_X1ZvbX",
        "colab_type": "text"
      },
      "source": [
        "[![PALS0039 Logo](https://www.phon.ucl.ac.uk/courses/pals0039/images/pals0039logo.png)](https://www.phon.ucl.ac.uk/courses/pals0039/)\n",
        "\n",
        "#Exercise 4.3 Answers"
      ]
    },
    {
      "cell_type": "markdown",
      "metadata": {
        "id": "Nu1EyEenZvnm",
        "colab_type": "text"
      },
      "source": [
        "(a) Implement age prediction"
      ]
    },
    {
      "cell_type": "code",
      "metadata": {
        "id": "owmp0GbgZs-J",
        "colab_type": "code",
        "colab": {}
      },
      "source": [
        "# test DNN for age prediction\n",
        "#\n",
        "import numpy as np\n",
        "import pandas as pd\n",
        "import matplotlib.pyplot as plt\n",
        "%tensorflow_version 2.x\n",
        "from tensorflow.keras.models import Sequential, Model\n",
        "from tensorflow.keras.layers import Dense, Dropout\n",
        "#\n",
        "# load a CSV file and divide into feats and labels\n",
        "def LoadCSV(filename,labelname,featcolstart):\n",
        "\tdf=pd.read_csv(filename,sep=',')\n",
        "\tgender=pd.Categorical(df['GENDER'])\n",
        "\tfeats=np.append(np.array(df.iloc[:,featcolstart:]),np.reshape(gender.codes,(len(df),1)),axis=1)\n",
        "\tlabels=df[labelname].to_numpy()\n",
        "\tp = np.random.permutation(feats.shape[0])\n",
        "\treturn labels[p],feats[p]\n",
        "#\n",
        "trainLabels,trainFeats=LoadCSV(\"https://www.phon.ucl.ac.uk/courses/pals0039/data/age-train.csv\",\"AGE\",4);\n",
        "print(trainLabels.shape)\n",
        "print(trainFeats.shape)\n",
        "print(trainLabels[1:10])\n",
        "testLabels,testFeats=LoadCSV(\"https://www.phon.ucl.ac.uk/courses/pals0039/data/age-test.csv\",\"AGE\",4);\n",
        "#\n",
        "isize=trainFeats.shape[1];\n",
        "osize=1\n",
        "print(isize,osize)\n",
        "#\n",
        "# normalise\n",
        "mn=np.mean(trainFeats,axis=0)\n",
        "sd=np.std(trainFeats,axis=0)\n",
        "print(\"sd min\",np.min(sd),\"max\",np.max(sd));\n",
        "sd[(sd<0.001)]=1\n",
        "trainFeats=(trainFeats-mn)/sd;\n",
        "testFeats=(testFeats-mn)/sd;\n",
        "trainLabels=trainLabels/100\n",
        "testLabels=testLabels/100\n",
        "#\n",
        "model = Sequential()\n",
        "model.add(Dense(128,activation='tanh',input_shape=(isize,)))\n",
        "model.add(Dropout(0.5))\n",
        "model.add(Dense(64,activation='tanh'))\n",
        "model.add(Dense(osize, activation='linear'))\n",
        "model.compile(loss='mean_absolute_error', optimizer='adam', metrics=['mae'])\n",
        "print(model.summary())\n",
        "#\n",
        "model.fit(trainFeats,trainLabels, epochs=100, batch_size=32, validation_data=(testFeats,testLabels))\n",
        "#\n",
        "testPred=model.predict(testFeats)\n",
        "#\n",
        "x=testLabels*100\n",
        "y=testPred*100\n",
        "colours=['red','blue']\n",
        "cols=list(colours[int(i)] for i in testFeats[:,isize-1])\n",
        "plt.scatter(x=x,y=y,c=cols,s=20,alpha=0.5);\n",
        "poly = np.polyfit(x, y, 1)\n",
        "x=np.array((np.min(x),np.max(x)))\n",
        "y=poly[1]+poly[0]*x\n",
        "plt.plot(x,y,':r')\n",
        "plt.xlabel(\"Actual Age (yr)\");\n",
        "plt.ylabel(\"Predicted Age (yr)\");\n",
        "plt.grid()\n",
        "plt.title(\"Age prediction\");\n",
        "plt.show()\n"
      ],
      "execution_count": 0,
      "outputs": []
    }
  ]
}