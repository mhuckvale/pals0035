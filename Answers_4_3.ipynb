{
  "nbformat": 4,
  "nbformat_minor": 0,
  "metadata": {
    "colab": {
      "name": "Answers_4_3.ipynb",
      "provenance": [],
      "private_outputs": true,
      "collapsed_sections": [],
      "include_colab_link": true
    },
    "kernelspec": {
      "name": "python3",
      "display_name": "Python 3"
    }
  },
  "cells": [
    {
      "cell_type": "markdown",
      "metadata": {
        "id": "view-in-github",
        "colab_type": "text"
      },
      "source": [
        "<a href=\"https://colab.research.google.com/github/mhuckvale/pals0039/blob/master/Answers_4_3.ipynb\" target=\"_parent\"><img src=\"https://colab.research.google.com/assets/colab-badge.svg\" alt=\"Open In Colab\"/></a>"
      ]
    },
    {
      "cell_type": "markdown",
      "metadata": {
        "id": "tykdB_X1ZvbX",
        "colab_type": "text"
      },
      "source": [
        "[![PALS0039 Logo](https://www.phon.ucl.ac.uk/courses/pals0039/images/pals0039logo.png)](https://www.phon.ucl.ac.uk/courses/pals0039/)\n",
        "\n",
        "#Exercise 4.3 Answers\n",
        "\n",
        "In this exercise we implement a DNN for predicting age of the speaker from speech.\n",
        "\n",
        "The data comes from the [Accents of the British Isles](http://www.thespeechark.com/abi-2-page.html) corpus."
      ]
    },
    {
      "cell_type": "markdown",
      "metadata": {
        "id": "XV2lCpMOy0Lb",
        "colab_type": "text"
      },
      "source": [
        "(a) Set up for learning. Runn the code and add comments."
      ]
    },
    {
      "cell_type": "code",
      "metadata": {
        "id": "rv0rXZ39y41h",
        "colab_type": "code",
        "colab": {}
      },
      "source": [
        "# import standard libraries\n",
        "import numpy as np\n",
        "import pandas as pd\n",
        "import matplotlib.pyplot as plt\n",
        "\n",
        "# import keras libraries\n",
        "%tensorflow_version 2.x\n",
        "from tensorflow.keras.models import Sequential\n",
        "from tensorflow.keras.layers import Dense, Dropout"
      ],
      "execution_count": 0,
      "outputs": []
    },
    {
      "cell_type": "markdown",
      "metadata": {
        "id": "InXTZQF1y_Fh",
        "colab_type": "text"
      },
      "source": [
        "---\n",
        "(b) Load in the data as two spreadsheets. Run the code and add comments."
      ]
    },
    {
      "cell_type": "code",
      "metadata": {
        "id": "oLOHXd0czI2K",
        "colab_type": "code",
        "colab": {}
      },
      "source": [
        "# load a CSV file and divide into feats and labels\n",
        "def LoadCSV(filename,labelname,featcolstart):\n",
        "  # read CSV file\n",
        "  df=pd.read_csv(filename,sep=',')\n",
        "  # convert GENDER column to codes\n",
        "  gender=pd.Categorical(df['GENDER'])\n",
        "  # append gender code to audio features\n",
        "  feats=np.append(np.array(df.iloc[:,featcolstart:]),np.reshape(gender.codes,(len(df),1)),axis=1)\n",
        "  # convert age to numpy array\n",
        "  labels=df[labelname].to_numpy()\n",
        "  # randomise order\n",
        "  p = np.random.permutation(feats.shape[0])\n",
        "  return labels[p],feats[p]\n",
        "\n",
        "# download train and test data\n",
        "ytrain,Xtrain=LoadCSV(\"https://www.phon.ucl.ac.uk/courses/pals0039/data/age-train.csv\",\"AGE\",4);\n",
        "ytest,Xtest=LoadCSV(\"https://www.phon.ucl.ac.uk/courses/pals0039/data/age-test.csv\",\"AGE\",4);\n",
        "\n",
        "# get basic parameters\n",
        "ntrain=Xtrain.shape[0]\n",
        "ntest=Xtest.shape[0]\n",
        "isize=Xtrain.shape[1]\n",
        "osize=1\n",
        "print(\"ntrain\",ntrain,\"ntest\",ntest,\"isize\",isize,\"osize\",osize)"
      ],
      "execution_count": 0,
      "outputs": []
    },
    {
      "cell_type": "markdown",
      "metadata": {
        "id": "ujMyNesX0if0",
        "colab_type": "text"
      },
      "source": [
        "---\n",
        "(c) Normalise the features. Run the code and add comments"
      ]
    },
    {
      "cell_type": "code",
      "metadata": {
        "id": "4nMKrRGK0nwc",
        "colab_type": "code",
        "colab": {}
      },
      "source": [
        "# get statistics of all features\n",
        "mn=np.mean(Xtrain,axis=0)\n",
        "sd=np.std(Xtrain,axis=0)\n",
        "sd[(sd<0.001)]=1\n",
        "\n",
        "# z-score features\n",
        "Xtrain=(Xtrain-mn)/sd;\n",
        "Xtest=(Xtest-mn)/sd;\n",
        "\n",
        "# convert ages to a small number\n",
        "ytrain=ytrain/100\n",
        "ytest=ytest/100"
      ],
      "execution_count": 0,
      "outputs": []
    },
    {
      "cell_type": "markdown",
      "metadata": {
        "id": "i9h4Lhok1HP3",
        "colab_type": "text"
      },
      "source": [
        "---\n",
        "(d) Build a model. Run the code and add comments."
      ]
    },
    {
      "cell_type": "code",
      "metadata": {
        "id": "O0tZdB1I1LUL",
        "colab_type": "code",
        "colab": {}
      },
      "source": [
        "# use Keras sequential model\n",
        "model = Sequential()\n",
        "# add input layer of 64 units\n",
        "model.add(Dense(64,activation='tanh',input_shape=(isize,)))\n",
        "# add dropout layer (to encourage generalisation)\n",
        "model.add(Dropout(0.5))\n",
        "# add hidden layer\n",
        "model.add(Dense(32,activation='tanh'))\n",
        "# add output layer with linear activation\n",
        "model.add(Dense(osize, activation='linear'))\n",
        "# compile the model with MSE loss and MAE accuracy\n",
        "model.compile(loss='mean_squared_error', optimizer='adam', metrics=['mae'])\n",
        "print(model.summary())"
      ],
      "execution_count": 0,
      "outputs": []
    },
    {
      "cell_type": "markdown",
      "metadata": {
        "id": "iorxYg2G1sa2",
        "colab_type": "text"
      },
      "source": [
        "(e) Fit model. Run code and add comments."
      ]
    },
    {
      "cell_type": "code",
      "metadata": {
        "id": "Oli7VTJz1v3X",
        "colab_type": "code",
        "colab": {}
      },
      "source": [
        "# train model - use test data for validation (for demo purposes)\n",
        "hist=model.fit(Xtrain,ytrain, epochs=100, batch_size=32, validation_data=(Xtest,ytest))"
      ],
      "execution_count": 0,
      "outputs": []
    },
    {
      "cell_type": "markdown",
      "metadata": {
        "id": "eLPqNdjg2E--",
        "colab_type": "text"
      },
      "source": [
        "(f) Evaluate the model on test data. Run the code and add comments"
      ]
    },
    {
      "cell_type": "code",
      "metadata": {
        "id": "fHFtRufW2LM8",
        "colab_type": "code",
        "colab": {}
      },
      "source": [
        "# get MSE loss and MAE loss on test data\n",
        "mseloss,maeloss=model.evaluate(Xtest,ytest)\n",
        "print(\"mseloss\",mseloss,\"maeloss\",maeloss*100,\"years\")"
      ],
      "execution_count": 0,
      "outputs": []
    },
    {
      "cell_type": "markdown",
      "metadata": {
        "id": "F0ZXTM6_2cH9",
        "colab_type": "text"
      },
      "source": [
        "(g) Plot predictions. Run the code and add comments"
      ]
    },
    {
      "cell_type": "code",
      "metadata": {
        "id": "uTFiBmOT2n1-",
        "colab_type": "code",
        "colab": {}
      },
      "source": [
        "# get predictions of model\n",
        "ypred=model.predict(Xtest)\n",
        "\n",
        "# convert back to years\n",
        "x=ytest*100\n",
        "y=ypred*100\n",
        "\n",
        "# plot male and female in different colours\n",
        "colours=['red','blue']\n",
        "cols=list(colours[int(i)] for i in Xtest[:,isize-1])\n",
        "# plot a scatter plot\n",
        "plt.scatter(x=x,y=y,c=cols,s=20,alpha=0.5);\n",
        "# calculate a line of best fit\n",
        "poly = np.polyfit(x, y, 1)\n",
        "x=np.array((np.min(x),np.max(x)))\n",
        "y=poly[1]+poly[0]*x\n",
        "plt.plot(x,y,':r')\n",
        "plt.xlabel(\"Actual Age (yr)\");\n",
        "plt.ylabel(\"Predicted Age (yr)\");\n",
        "plt.grid()\n",
        "plt.title(\"Age prediction\");\n",
        "plt.show()\n"
      ],
      "execution_count": 0,
      "outputs": []
    }
  ]
}