{
  "nbformat": 4,
  "nbformat_minor": 0,
  "metadata": {
    "colab": {
      "name": "Answers_3_3.ipynb",
      "provenance": [],
      "private_outputs": true,
      "collapsed_sections": [],
      "include_colab_link": true
    },
    "kernelspec": {
      "name": "python3",
      "display_name": "Python 3"
    }
  },
  "cells": [
    {
      "cell_type": "markdown",
      "metadata": {
        "id": "view-in-github",
        "colab_type": "text"
      },
      "source": [
        "<a href=\"https://colab.research.google.com/github/mhuckvale/pals0039/blob/master/Answers_3_3.ipynb\" target=\"_parent\"><img src=\"https://colab.research.google.com/assets/colab-badge.svg\" alt=\"Open In Colab\"/></a>"
      ]
    },
    {
      "cell_type": "markdown",
      "metadata": {
        "id": "K9iIFPb3tljn",
        "colab_type": "text"
      },
      "source": [
        "<p align=\"center\"><a href=\"https://www.phon.ucl.ac.uk/courses/pals0039/\"><img align='center' src=\"https://www.phon.ucl.ac.uk/courses/pals0039/images/pals0039logo.png\" title=\"PALS0039 Logo\"></a></p>\n",
        "\n",
        "#Exercise 3.3 Answers"
      ]
    },
    {
      "cell_type": "markdown",
      "metadata": {
        "id": "DVukh7MYtnbO",
        "colab_type": "text"
      },
      "source": [
        "(a) Load in vowels data set and prepare for learning"
      ]
    },
    {
      "cell_type": "code",
      "metadata": {
        "id": "YbGbZU26taor",
        "colab_type": "code",
        "colab": {}
      },
      "source": [
        "import numpy as np\n",
        "import pandas as pd\n",
        "import matplotlib.pyplot as plt\n",
        "%matplotlib inline\n",
        "%tensorflow_version 2.x\n",
        "from tensorflow.keras.models import Sequential, Model\n",
        "from tensorflow.keras.layers import Dense\n",
        "from tensorflow.keras.optimizers import SGD\n",
        "from tensorflow.keras.utils import to_categorical\n",
        "\n",
        "from IPython.display import display, HTML\n",
        "df=pd.read_csv(\"https://www.phon.ucl.ac.uk/courses/pals0039/data/vowels.csv\")\n",
        "#df.head()\n",
        "display(df.head())\n",
        "display(HTML(df.head().to_html()))"
      ],
      "execution_count": 0,
      "outputs": []
    },
    {
      "cell_type": "markdown",
      "metadata": {
        "id": "pK-hRoznuFLQ",
        "colab_type": "text"
      },
      "source": [
        "(b) Convert SEX column to a number"
      ]
    },
    {
      "cell_type": "code",
      "metadata": {
        "id": "uCscBUwRuLCH",
        "colab_type": "code",
        "colab": {}
      },
      "source": [
        "df[\"SEX\"]=df.SEX.astype('category')\n",
        "df[\"SEX\"]=df.SEX.cat.codes"
      ],
      "execution_count": 0,
      "outputs": []
    },
    {
      "cell_type": "markdown",
      "metadata": {
        "id": "zn3ciETyucIm",
        "colab_type": "text"
      },
      "source": [
        "(c) copy all numbers into numpy array and standardise"
      ]
    },
    {
      "cell_type": "code",
      "metadata": {
        "id": "W5nRPtCnumjm",
        "colab_type": "code",
        "colab": {}
      },
      "source": [
        "X=np.array(df.iloc[:,3:7])\n",
        "print(X)\n",
        "for i in range(X.shape[1]):\n",
        "  X[:,i]=(X[:,i]-np.mean(X[:,i]))/np.std(X[:,i])\n",
        "print(X)\n"
      ],
      "execution_count": 0,
      "outputs": []
    },
    {
      "cell_type": "markdown",
      "metadata": {
        "id": "rjl_gZo1v04n",
        "colab_type": "text"
      },
      "source": [
        "(d) convert vowels to one hot coding"
      ]
    },
    {
      "cell_type": "code",
      "metadata": {
        "id": "f9sIC-Kwv5AO",
        "colab_type": "code",
        "colab": {}
      },
      "source": [
        "df[\"VOWEL\"]=df.VOWEL.astype('category')\n",
        "vowels=df.VOWEL.cat.codes\n",
        "print(vowels[:10])\n",
        "vowelcode = to_categorical(vowels)\n",
        "print(vowelcode[:10])\n",
        "nvowel=vowelcode.shape[1]"
      ],
      "execution_count": 0,
      "outputs": []
    },
    {
      "cell_type": "markdown",
      "metadata": {
        "id": "XaactudHypBN",
        "colab_type": "text"
      },
      "source": [
        "(e) Divide the data into train and test"
      ]
    },
    {
      "cell_type": "code",
      "metadata": {
        "id": "-p67qMATxlnW",
        "colab_type": "code",
        "colab": {}
      },
      "source": [
        "ntrain=int(0.8*X.shape[0])\n",
        "indices = np.random.permutation(X.shape[0])\n",
        "Xtrain,Xtest = X[indices[:ntrain],:], X[indices[ntrain:],:]\n",
        "ytrain,ytest = vowelcode[indices[:ntrain],:], vowelcode[indices[ntrain:],:]\n"
      ],
      "execution_count": 0,
      "outputs": []
    },
    {
      "cell_type": "markdown",
      "metadata": {
        "id": "4A5F1Ttcw1nP",
        "colab_type": "text"
      },
      "source": [
        "(f) build a classifier network with configurable number of inputs and outputs"
      ]
    },
    {
      "cell_type": "code",
      "metadata": {
        "id": "5ZaFcKI4xAM2",
        "colab_type": "code",
        "colab": {}
      },
      "source": [
        "def build_model(numinput,numhidden,numoutput):\n",
        "  model=Sequential()\n",
        "  model.add(Dense(numhidden,activation='sigmoid',input_shape=(numinput,),name=\"hidden_layer\"))\n",
        "  model.add(Dense(numoutput,activation='softmax',name=\"output_layer\"))\n",
        "  sgd=SGD(learning_rate=0.1, momentum=0.9)\n",
        "  model.compile(loss='categorical_crossentropy',optimizer=sgd,metrics=[\"accuracy\"])\n",
        "  return model"
      ],
      "execution_count": 0,
      "outputs": []
    },
    {
      "cell_type": "markdown",
      "metadata": {
        "id": "4Hr9M4IvysFU",
        "colab_type": "text"
      },
      "source": [
        "(g) Train the network"
      ]
    },
    {
      "cell_type": "code",
      "metadata": {
        "id": "YONJ4Z-jy3ll",
        "colab_type": "code",
        "colab": {}
      },
      "source": [
        "model=build_model(Xtrain.shape[1],32,nvowel);\n",
        "hist=model.fit(Xtrain,ytrain,validation_data=(Xtest,ytest),epochs=100,batch_size=16,verbose=0)\n",
        "#print(hist.history)\n",
        "print(model.evaluate(Xtrain,ytrain,verbose=0))"
      ],
      "execution_count": 0,
      "outputs": []
    },
    {
      "cell_type": "markdown",
      "metadata": {
        "id": "bYZMVEXy23Nt",
        "colab_type": "text"
      },
      "source": [
        "(h) Plot training curves"
      ]
    },
    {
      "cell_type": "code",
      "metadata": {
        "id": "aR-xDcd7283U",
        "colab_type": "code",
        "colab": {}
      },
      "source": [
        "plt.figure(figsize=(10,4))\n",
        "plt.subplot(1,2,1)\n",
        "plt.plot(hist.history['loss'])\n",
        "plt.plot(hist.history['val_loss'])\n",
        "plt.xlabel(\"Epoch\")\n",
        "plt.ylabel(\"Loss\")\n",
        "plt.subplot(1,2,2)\n",
        "plt.plot(hist.history['accuracy'])\n",
        "plt.plot(hist.history['val_accuracy'])\n",
        "plt.xlabel(\"Epoch\")\n",
        "plt.ylabel(\"Accuracy\")\n",
        "plt.legend([\"accuracy\",\"val_accuracy\"])\n",
        "plt.show()"
      ],
      "execution_count": 0,
      "outputs": []
    },
    {
      "cell_type": "markdown",
      "metadata": {
        "id": "dP6fRtoY0ABe",
        "colab_type": "text"
      },
      "source": [
        "(i) Calculate performance on test data"
      ]
    },
    {
      "cell_type": "code",
      "metadata": {
        "id": "xNhtTzuE0DXl",
        "colab_type": "code",
        "colab": {}
      },
      "source": [
        "vowelcodepred=model.predict(Xtest)\n",
        "print(vowelcodepred)\n",
        "voweltrue=np.argmax(ytest,axis=1)\n",
        "print(voweltrue)\n",
        "vowelpred=np.argmax(vowelcodepred,axis=1)\n",
        "print(vowelpred)\n",
        "total=ytest.shape[0]\n",
        "correct=np.sum(voweltrue==vowelpred)\n",
        "print(\"Correct %d/%d (%.1f%%)\" % (correct,total,100.0*correct/total))"
      ],
      "execution_count": 0,
      "outputs": []
    }
  ]
}