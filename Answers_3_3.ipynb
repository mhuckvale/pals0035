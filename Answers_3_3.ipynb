{
  "nbformat": 4,
  "nbformat_minor": 0,
  "metadata": {
    "colab": {
      "name": "Answers_3_3.ipynb",
      "private_outputs": true,
      "provenance": [],
      "collapsed_sections": [],
      "include_colab_link": true
    },
    "kernelspec": {
      "name": "python3",
      "display_name": "Python 3"
    }
  },
  "cells": [
    {
      "cell_type": "markdown",
      "metadata": {
        "id": "view-in-github",
        "colab_type": "text"
      },
      "source": [
        "<a href=\"https://colab.research.google.com/github/mhuckvale/pals0039/blob/master/Answers_3_3.ipynb\" target=\"_parent\"><img src=\"https://colab.research.google.com/assets/colab-badge.svg\" alt=\"Open In Colab\"/></a>"
      ]
    },
    {
      "cell_type": "markdown",
      "metadata": {
        "id": "K9iIFPb3tljn"
      },
      "source": [
        "[![PALS0039 Logo](https://www.phon.ucl.ac.uk/courses/pals0039/images/pals0039logo.png)](https://www.phon.ucl.ac.uk/courses/pals0039/)\n",
        "\n",
        "#Exercise 3.3 Answers\n",
        "\n",
        "In this exercise we train a network to classify vowels from formant data."
      ]
    },
    {
      "cell_type": "markdown",
      "metadata": {
        "id": "DVukh7MYtnbO"
      },
      "source": [
        "(a) Load in vowels data set and prepare for learning. Run the code then add comments to explain how it works."
      ]
    },
    {
      "cell_type": "code",
      "metadata": {
        "id": "YbGbZU26taor"
      },
      "source": [
        "# import libraries\n",
        "import numpy as np\n",
        "import pandas as pd\n",
        "import matplotlib.pyplot as plt\n",
        "%matplotlib inline\n",
        "%tensorflow_version 2.x\n",
        "from tensorflow.keras.models import Sequential, Model\n",
        "from tensorflow.keras.layers import Dense\n",
        "from tensorflow.keras.optimizers import SGD\n",
        "from tensorflow.keras.utils import to_categorical\n",
        "\n",
        "# use pandas to read the data set\n",
        "df=pd.read_csv(\"https://www.phon.ucl.ac.uk/courses/pals0039/data/vowels.csv\")\n",
        "\n",
        "# display the start of the data set\n",
        "df.head()"
      ],
      "execution_count": null,
      "outputs": []
    },
    {
      "cell_type": "markdown",
      "metadata": {
        "id": "pK-hRoznuFLQ"
      },
      "source": [
        "---\n",
        "(b) Convert SEX column to a number. Run the code then add comments to explain how it works."
      ]
    },
    {
      "cell_type": "code",
      "metadata": {
        "id": "uCscBUwRuLCH"
      },
      "source": [
        "# convert SEX column from string to categories\n",
        "df[\"SEX\"]=df.SEX.astype('category')\n",
        "# convert categories to numerical codes\n",
        "df[\"SEX\"]=df.SEX.cat.codes"
      ],
      "execution_count": null,
      "outputs": []
    },
    {
      "cell_type": "markdown",
      "metadata": {
        "id": "zn3ciETyucIm"
      },
      "source": [
        "---\n",
        "(c) Copy all numbers into numpy array and standardise. Run the code then add comments to explain how it works."
      ]
    },
    {
      "cell_type": "code",
      "metadata": {
        "id": "W5nRPtCnumjm"
      },
      "source": [
        "# select columns F1, F2, SEX and HEIGHT for all rows\n",
        "X=np.array(df.iloc[:,3:7])\n",
        "print(X)\n",
        "\n",
        "# standardise by subtracting mean and dividing by standard deviation\n",
        "for i in range(X.shape[1]):\n",
        "  X[:,i]=(X[:,i]-np.mean(X[:,i]))/np.std(X[:,i])\n",
        "print(X)\n"
      ],
      "execution_count": null,
      "outputs": []
    },
    {
      "cell_type": "markdown",
      "metadata": {
        "id": "rjl_gZo1v04n"
      },
      "source": [
        "---\n",
        "(d) Convert vowels to one hot coding. Run the code then add comments to explain how it works."
      ]
    },
    {
      "cell_type": "code",
      "metadata": {
        "id": "f9sIC-Kwv5AO"
      },
      "source": [
        "# convert vowel column to categories\n",
        "df[\"VOWEL\"]=df.VOWEL.astype('category')\n",
        "# convert vowel categories to numerical codes\n",
        "vowels=df.VOWEL.cat.codes\n",
        "print(vowels[:10])\n",
        "# convert numerical codes to one-hot coding\n",
        "vowelcode = to_categorical(vowels)\n",
        "print(vowelcode[:10])\n",
        "# record number of vowels in data set\n",
        "nvowel=vowelcode.shape[1]"
      ],
      "execution_count": null,
      "outputs": []
    },
    {
      "cell_type": "markdown",
      "metadata": {
        "id": "XaactudHypBN"
      },
      "source": [
        "---\n",
        "(e) Divide the data into train and test. Run the code then add comments to explain how it works."
      ]
    },
    {
      "cell_type": "code",
      "metadata": {
        "id": "-p67qMATxlnW"
      },
      "source": [
        "# select 80% of data for training, 20% for testing\n",
        "ntrain=int(0.8*X.shape[0])\n",
        "# get a random permutation of the samples\n",
        "indices = np.random.permutation(X.shape[0])\n",
        "# select those samples to use for training\n",
        "Xtrain,Xtest = X[indices[:ntrain],:], X[indices[ntrain:],:]\n",
        "# select those sampels to use for testing\n",
        "ytrain,ytest = vowelcode[indices[:ntrain],:], vowelcode[indices[ntrain:],:]\n"
      ],
      "execution_count": null,
      "outputs": []
    },
    {
      "cell_type": "markdown",
      "metadata": {
        "id": "4A5F1Ttcw1nP"
      },
      "source": [
        "---\n",
        "(f) Build a classifier network with configurable number of inputs and outputs. Run the code then add comments to explain how it works."
      ]
    },
    {
      "cell_type": "code",
      "metadata": {
        "id": "5ZaFcKI4xAM2"
      },
      "source": [
        "# function to build a network\n",
        "def build_model(numinput,numhidden,numoutput):\n",
        "  # new model\n",
        "  model=Sequential()\n",
        "  # add layer with numhidden units and numinput inputs\n",
        "  model.add(Dense(numhidden,activation='sigmoid',input_shape=(numinput,),name=\"hidden_layer\"))\n",
        "  # add layer with numoutput outputs - build as softmax output\n",
        "  model.add(Dense(numoutput,activation='softmax',name=\"output_layer\"))\n",
        "  # build a suitable optimizer\n",
        "  sgd=SGD(learning_rate=0.1, momentum=0.9)\n",
        "  # compile network with cross-entropy loss\n",
        "  model.compile(loss='categorical_crossentropy',optimizer=sgd,metrics=[\"accuracy\"])\n",
        "  return model"
      ],
      "execution_count": null,
      "outputs": []
    },
    {
      "cell_type": "markdown",
      "metadata": {
        "id": "4Hr9M4IvysFU"
      },
      "source": [
        "---\n",
        "(g) Train the network. Run the code then add comments to explain how it works."
      ]
    },
    {
      "cell_type": "code",
      "metadata": {
        "id": "YONJ4Z-jy3ll"
      },
      "source": [
        "# build the network with given parameters\n",
        "model=build_model(Xtrain.shape[1],32,nvowel);\n",
        "# fit the model, returning history\n",
        "hist=model.fit(Xtrain,ytrain,validation_data=(Xtest,ytest),epochs=100,batch_size=16,verbose=0)\n",
        "# evauate the performance of the model on the training data\n",
        "print(model.evaluate(Xtrain,ytrain,verbose=0))"
      ],
      "execution_count": null,
      "outputs": []
    },
    {
      "cell_type": "markdown",
      "metadata": {
        "id": "bYZMVEXy23Nt"
      },
      "source": [
        "---\n",
        "(h) Plot training curves. Run the code then add comments to explain how it works."
      ]
    },
    {
      "cell_type": "code",
      "metadata": {
        "id": "aR-xDcd7283U"
      },
      "source": [
        "# create a large figure\n",
        "plt.figure(figsize=(10,4))\n",
        "# divide figure into two parts\n",
        "plt.subplot(1,2,1)\n",
        "# plot the training loss and validation loss\n",
        "plt.plot(hist.history['loss'])\n",
        "plt.plot(hist.history['val_loss'])\n",
        "plt.xlabel(\"Epoch\")\n",
        "plt.ylabel(\"Loss\")\n",
        "plt.legend([\"loss\",\"val_loss\"])\n",
        "# second plot\n",
        "plt.subplot(1,2,2)\n",
        "# plot the training accuracy and the validation accuracy\n",
        "plt.plot(hist.history['accuracy'])\n",
        "plt.plot(hist.history['val_accuracy'])\n",
        "plt.xlabel(\"Epoch\")\n",
        "plt.ylabel(\"Accuracy\")\n",
        "plt.legend([\"accuracy\",\"val_accuracy\"])\n",
        "plt.show()"
      ],
      "execution_count": null,
      "outputs": []
    },
    {
      "cell_type": "markdown",
      "metadata": {
        "id": "dP6fRtoY0ABe"
      },
      "source": [
        "---\n",
        "(i) Calculate performance on test data. Run the code then add comments to explain how it works."
      ]
    },
    {
      "cell_type": "code",
      "metadata": {
        "id": "xNhtTzuE0DXl"
      },
      "source": [
        "# predict the vowel codes\n",
        "vowelcodepred=model.predict(Xtest)\n",
        "print(vowelcodepred)\n",
        "# get the true vowels from the test labels\n",
        "voweltrue=np.argmax(ytest,axis=1)\n",
        "print(voweltrue)\n",
        "# get the most probably vowels in each row\n",
        "vowelpred=np.argmax(vowelcodepred,axis=1)\n",
        "print(vowelpred)\n",
        "# get the total number of vowels in the test data\n",
        "total=ytest.shape[0]\n",
        "# count the number of correct predictions\n",
        "correct=np.sum(voweltrue==vowelpred)\n",
        "print(\"Correct %d/%d (%.1f%%)\" % (correct,total,100.0*correct/total))"
      ],
      "execution_count": null,
      "outputs": []
    },
    {
      "cell_type": "markdown",
      "metadata": {
        "id": "l7QmdT1GISfh"
      },
      "source": [
        "---\n",
        "(j) Experiment with changing the number of hidden units, the number of training epochs and the optimizer parameters to see their effect on test set performance."
      ]
    }
  ]
}