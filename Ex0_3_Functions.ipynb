{
  "nbformat": 4,
  "nbformat_minor": 0,
  "metadata": {
    "colab": {
      "name": "Ex0.3_Functions.ipynb",
      "provenance": [],
      "private_outputs": true,
      "include_colab_link": true
    },
    "kernelspec": {
      "name": "python3",
      "display_name": "Python 3"
    }
  },
  "cells": [
    {
      "cell_type": "markdown",
      "metadata": {
        "id": "view-in-github",
        "colab_type": "text"
      },
      "source": [
        "<a href=\"https://colab.research.google.com/github/mhuckvale/pals0039/blob/master/Ex0_3_Functions.ipynb\" target=\"_parent\"><img src=\"https://colab.research.google.com/assets/colab-badge.svg\" alt=\"Open In Colab\"/></a>"
      ]
    },
    {
      "cell_type": "markdown",
      "metadata": {
        "id": "2sjLc10uUxMB",
        "colab_type": "text"
      },
      "source": [
        "# Ex0.3 Defining functions\n",
        "\n",
        "Celsius temperatures can be converted to Fahrenheit by multiplying by 9, dividing by 5, and adding 32.\n",
        "\n",
        "Define a function called CtoF that takes a value C representing a temperature in Celsius and returns the equivalent temperature in Fahrenheit.\n",
        "\n",
        "Test your function by printing a Celsius to Fahrenheit conversion table for temperatures -40,-30,..,0,10,..100 Celsius."
      ]
    },
    {
      "cell_type": "code",
      "metadata": {
        "id": "In0gRolOUwtC",
        "colab_type": "code",
        "colab": {}
      },
      "source": [
        ""
      ],
      "execution_count": 0,
      "outputs": []
    }
  ]
}