{
  "nbformat": 4,
  "nbformat_minor": 0,
  "metadata": {
    "colab": {
      "name": "Answers_2_2.ipynb",
      "provenance": [],
      "private_outputs": true,
      "collapsed_sections": [],
      "include_colab_link": true
    },
    "kernelspec": {
      "name": "python3",
      "display_name": "Python 3"
    }
  },
  "cells": [
    {
      "cell_type": "markdown",
      "metadata": {
        "id": "view-in-github",
        "colab_type": "text"
      },
      "source": [
        "<a href=\"https://colab.research.google.com/github/mhuckvale/pals0039/blob/master/Answers_2_2.ipynb\" target=\"_parent\"><img src=\"https://colab.research.google.com/assets/colab-badge.svg\" alt=\"Open In Colab\"/></a>"
      ]
    },
    {
      "cell_type": "markdown",
      "metadata": {
        "id": "TCvRvja7Yv9m",
        "colab_type": "text"
      },
      "source": [
        "[PALS0039 Introduction to Deep Learning for Speech and Language Processing](https://www.phon.ucl.ac.uk/courses/pals0039/)\n",
        "\n",
        "#Exercise 2.2 Answers"
      ]
    },
    {
      "cell_type": "markdown",
      "metadata": {
        "id": "olG5JLfUY26F",
        "colab_type": "text"
      },
      "source": [
        "(a) The following code builds some data for testing a regression problem. Run the code, then add comments to explain the different steps"
      ]
    },
    {
      "cell_type": "code",
      "metadata": {
        "id": "BfaQZe_7Yu6x",
        "colab_type": "code",
        "colab": {}
      },
      "source": [
        "#\n",
        "import numpy as np\n",
        "import matplotlib.pyplot as plt\n",
        "%matplotlib inline\n",
        "\n",
        "#\n",
        "trueslope=4\n",
        "trueintercept=2\n",
        "N=100\n",
        "\n",
        "#\n",
        "x=np.linspace(0,1,N)\n",
        "y=trueintercept+trueslope*x+np.random.normal(size=N)\n",
        "\n",
        "#\n",
        "plt.plot(x,y,'bo')\n",
        "plt.show()"
      ],
      "execution_count": 0,
      "outputs": []
    },
    {
      "cell_type": "markdown",
      "metadata": {
        "id": "FqJhR7pyZUiU",
        "colab_type": "text"
      },
      "source": [
        "---\n",
        "(b) The following code measures the quality of fit of some predicted values. Run the code and then add comments to explain the different steps."
      ]
    },
    {
      "cell_type": "code",
      "metadata": {
        "id": "bZ9SAPXbZixM",
        "colab_type": "code",
        "colab": {}
      },
      "source": [
        "# \n",
        "def loss(ytrue,ypred):\n",
        "  return np.sqrt(np.mean(np.square(np.subtract(ypred,ytrue))))\n",
        "\n",
        "#\n",
        "nullslope=0;\n",
        "nullintercept=np.mean(y)\n",
        "\n",
        "#\n",
        "ynull=nullintercept+nullslope*x\n",
        "\n",
        "#\n",
        "plt.plot(x,y,'bo')\n",
        "plt.plot(x,ynull,'r')\n",
        "plt.title(\"intercept=%.3f slope=%.3f loss=%.3f\" % (nullintercept,nullslope,loss(y,ynull)))\n",
        "plt.show()"
      ],
      "execution_count": 0,
      "outputs": []
    },
    {
      "cell_type": "markdown",
      "metadata": {
        "id": "ethtgn0PcCHc",
        "colab_type": "text"
      },
      "source": [
        "---\n",
        "(c) The following code fits the best regression line to the data points using the method of least squares.\n",
        "Run the code and then add comments to explain the different steps."
      ]
    },
    {
      "cell_type": "code",
      "metadata": {
        "id": "FQaqD2ilamFE",
        "colab_type": "code",
        "colab": {}
      },
      "source": [
        "#\n",
        "bestslope,bestintercept=np.polyfit(x,y,1)\n",
        "\n",
        "#\n",
        "ybest=bestintercept+bestslope*x\n",
        "\n",
        "#\n",
        "plt.plot(x,y,'bo')\n",
        "plt.plot(x,ybest,'r')\n",
        "plt.title(\"intercept=%.3f slope=%.3f loss=%.3f\" % (bestintercept,bestslope,loss(y,ybest)))\n",
        "plt.show()"
      ],
      "execution_count": 0,
      "outputs": []
    },
    {
      "cell_type": "markdown",
      "metadata": {
        "id": "SJa72HZ4bkgU",
        "colab_type": "text"
      },
      "source": [
        "---\n",
        "(d) Plot the \"true\" regression line and calculate the loss associated with the \"true\" intercept and slope."
      ]
    },
    {
      "cell_type": "code",
      "metadata": {
        "id": "FfZa5eYBbFLU",
        "colab_type": "code",
        "colab": {}
      },
      "source": [
        "#\n",
        "ytrue=trueintercept+trueslope*x\n",
        "\n",
        "#\n",
        "plt.plot(x,y,'bo')\n",
        "plt.plot(x,ytrue,'r')\n",
        "plt.title(\"intercept=%.3f slope=%.3f loss=%.3f\" % (trueintercept,trueslope,loss(y,ytrue)))\n",
        "plt.show()"
      ],
      "execution_count": 0,
      "outputs": []
    },
    {
      "cell_type": "markdown",
      "metadata": {
        "id": "Xp-IMj-kbGBE",
        "colab_type": "text"
      },
      "source": [
        "---\n",
        "(e) Fit a quadratic curve to the data and plot the best fitted curve and the loss.\n",
        "\n",
        "Hint: The numpy function <tt>polyfit(x,y,order)</tt> returns the coefficients for a polynomial of size <tt>order</tt>. The numpy function <tt>np.polyval(poly,x)</tt> evaluates the polynomial coefficients at the point <tt>x</tt>."
      ]
    },
    {
      "cell_type": "code",
      "metadata": {
        "id": "Bg_OMk8XeQoE",
        "colab_type": "code",
        "colab": {}
      },
      "source": [
        "poly=np.polyfit(x,y,2)\n",
        "\n",
        "ypoly=np.polyval(poly,x)\n",
        "\n",
        "plt.plot(x,y,'bo')\n",
        "plt.plot(x,ypoly,'r')\n",
        "plt.title(\"int=%.3f slope=%.3f acc=%.3f loss=%.3f\" % (poly[2],poly[1],poly[0],loss(y,ypoly)))\n",
        "plt.show()"
      ],
      "execution_count": 0,
      "outputs": []
    },
    {
      "cell_type": "markdown",
      "metadata": {
        "id": "EQ0-qt5NwhHO",
        "colab_type": "text"
      },
      "source": [
        "(f) Plot a table of quality of fit for polynomials of order between 1 and 20.\n",
        "For a polynomial of order 20, plot the curve on top of the original data points."
      ]
    },
    {
      "cell_type": "code",
      "metadata": {
        "id": "Ii2vCzZ6jYXp",
        "colab_type": "code",
        "colab": {}
      },
      "source": [
        "for p in range(1,21):\n",
        "  poly=np.polyfit(x,y,p)\n",
        "  ypoly=np.polyval(poly,x)\n",
        "  print(p,loss(y,ypoly))\n",
        "\n",
        "poly=np.polyfit(x,y,20)\n",
        "ypoly=np.polyval(poly,x)\n",
        "plt.plot(x,y,'bo')\n",
        "plt.plot(x,ypoly,'r')\n",
        "plt.title(\"loss=%.3f\" % (loss(y,ypoly)))\n",
        "plt.show()"
      ],
      "execution_count": 0,
      "outputs": []
    }
  ]
}