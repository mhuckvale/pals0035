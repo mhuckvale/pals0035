{
  "nbformat": 4,
  "nbformat_minor": 0,
  "metadata": {
    "filename": "pandas.rst",
    "kernelspec": {
      "display_name": "Python",
      "language": "python3",
      "name": "python3"
    },
    "title": "Pandas",
    "colab": {
      "name": "Tutorial_Pandas.ipynb",
      "provenance": [],
      "collapsed_sections": [],
      "include_colab_link": true
    }
  },
  "cells": [
    {
      "cell_type": "markdown",
      "metadata": {
        "id": "view-in-github",
        "colab_type": "text"
      },
      "source": [
        "<a href=\"https://colab.research.google.com/github/mhuckvale/pals0039/blob/master/Tutorial_Pandas.ipynb\" target=\"_parent\"><img src=\"https://colab.research.google.com/assets/colab-badge.svg\" alt=\"Open In Colab\"/></a>"
      ]
    },
    {
      "cell_type": "markdown",
      "metadata": {
        "id": "Z5_aj5J4nkH1",
        "colab_type": "text"
      },
      "source": [
        "\n",
        "<a id='pd'></a>\n",
        "<div id=\"qe-notebook-header\" align=\"right\" style=\"text-align:right;\">\n",
        "        <a href=\"https://quantecon.org/\" title=\"quantecon.org\">\n",
        "                <img style=\"width:250px;display:inline;\" width=\"250px\" src=\"https://assets.quantecon.org/img/qe-menubar-logo.svg\" alt=\"QuantEcon\">\n",
        "        </a>\n",
        "</div>"
      ]
    },
    {
      "cell_type": "markdown",
      "metadata": {
        "id": "KfpMUwdjnkH5",
        "colab_type": "text"
      },
      "source": [
        "[PALS0039 Introduction to Deep Learning for Speech and Language Processing](https://www.phon.ucl.ac.uk/courses/pals0039/)\n",
        "\n",
        "# Tutorial Introduction to Pandas\n",
        "A brief introduction to the essentials of programming with the pandas module.\n",
        "\n",
        "This tutorial adapted from [https://github.com/QuantEcon/quantecon-notebooks-python](https://github.com/QuantEcon/quantecon-notebooks-python)\n",
        "\n",
        "\n"
      ]
    },
    {
      "cell_type": "markdown",
      "metadata": {
        "id": "gSiu7agHnkH8",
        "colab_type": "text"
      },
      "source": [
        "## Overview\n",
        "\n",
        "[Pandas](http://pandas.pydata.org/) is a package of fast, efficient data analysis tools for Python.\n",
        "\n",
        "Its popularity has surged in recent years, coincident with the rise\n",
        "of fields such as data science and machine learning.\n",
        "\n",
        "Here’s a popularity comparison over time against STATA and SAS, courtesy of Stack Overflow Trends\n",
        "\n",
        "<img src=\"https://s3-ap-southeast-2.amazonaws.com/lectures.quantecon.org/py/_static/lecture_specific/pandas/pandas_vs_rest.png\" style=\"\">\n",
        "\n",
        "  \n",
        "Just as [NumPy](http://www.numpy.org/) provides the basic array data type plus core array operations, pandas\n",
        "\n",
        "1. defines fundamental structures for working with data and  \n",
        "1. endows them with methods that facilitate operations such as  \n",
        "  \n",
        "  - reading in data  \n",
        "  - adjusting indices  \n",
        "  - working with dates and time series  \n",
        "  - sorting, grouping, re-ordering and general data munging <sup><a href=#mung id=mung-link>[1]</a></sup>  \n",
        "  - dealing with missing values, etc., etc.  \n",
        "  \n",
        "\n",
        "\n",
        "More sophisticated statistical functionality is left to other packages, such\n",
        "as [statsmodels](http://www.statsmodels.org/) and [scikit-learn](http://scikit-learn.org/), which are built on top of pandas.\n",
        "\n",
        "This lecture will provide a basic introduction to pandas.\n",
        "\n",
        "Throughout the lecture, we will assume that the following imports have taken\n",
        "place"
      ]
    },
    {
      "cell_type": "code",
      "metadata": {
        "hide-output": false,
        "id": "mpTEx_4nnkH9",
        "colab_type": "code",
        "colab": {}
      },
      "source": [
        "import pandas as pd\n",
        "import numpy as np\n",
        "import matplotlib.pyplot as plt\n",
        "%matplotlib inline\n",
        "import requests"
      ],
      "execution_count": 0,
      "outputs": []
    },
    {
      "cell_type": "markdown",
      "metadata": {
        "id": "ajg_kzHenkIC",
        "colab_type": "text"
      },
      "source": [
        "## Series\n",
        "\n",
        "\n",
        "<a id='index-2'></a>\n",
        "Two important data types defined by pandas are  `Series` and `DataFrame`.\n",
        "\n",
        "You can think of a `Series` as a “column” of data, such as a collection of observations on a single variable.\n",
        "\n",
        "A `DataFrame` is an object for storing related columns of data.\n",
        "\n",
        "Let’s start with Series"
      ]
    },
    {
      "cell_type": "code",
      "metadata": {
        "hide-output": false,
        "id": "7Q121IU0nkID",
        "colab_type": "code",
        "colab": {}
      },
      "source": [
        "s = pd.Series(np.random.randn(4), name='daily returns')\n",
        "s"
      ],
      "execution_count": 0,
      "outputs": []
    },
    {
      "cell_type": "markdown",
      "metadata": {
        "id": "Ehtv3a62nkIH",
        "colab_type": "text"
      },
      "source": [
        "Here you can imagine the indices `0, 1, 2, 3` as indexing four listed\n",
        "companies, and the values being daily returns on their shares.\n",
        "\n",
        "Pandas `Series` are built on top of NumPy arrays and support many similar\n",
        "operations"
      ]
    },
    {
      "cell_type": "code",
      "metadata": {
        "hide-output": false,
        "id": "9IWmEsI7nkII",
        "colab_type": "code",
        "colab": {}
      },
      "source": [
        "s * 100"
      ],
      "execution_count": 0,
      "outputs": []
    },
    {
      "cell_type": "code",
      "metadata": {
        "hide-output": false,
        "id": "uFg6ZG4xnkIK",
        "colab_type": "code",
        "colab": {}
      },
      "source": [
        "np.abs(s)"
      ],
      "execution_count": 0,
      "outputs": []
    },
    {
      "cell_type": "markdown",
      "metadata": {
        "id": "qS-86pI3nkIL",
        "colab_type": "text"
      },
      "source": [
        "But `Series` provide more than NumPy arrays.\n",
        "\n",
        "Not only do they have some additional (statistically oriented) methods"
      ]
    },
    {
      "cell_type": "code",
      "metadata": {
        "hide-output": false,
        "id": "u6qL_XX6nkIM",
        "colab_type": "code",
        "colab": {}
      },
      "source": [
        "s.describe()"
      ],
      "execution_count": 0,
      "outputs": []
    },
    {
      "cell_type": "markdown",
      "metadata": {
        "id": "SCNE2ux6nkIP",
        "colab_type": "text"
      },
      "source": [
        "But their indices are more flexible"
      ]
    },
    {
      "cell_type": "code",
      "metadata": {
        "hide-output": false,
        "id": "WnlFTcmsnkIP",
        "colab_type": "code",
        "colab": {}
      },
      "source": [
        "s.index = ['AMZN', 'AAPL', 'MSFT', 'GOOG']\n",
        "s"
      ],
      "execution_count": 0,
      "outputs": []
    },
    {
      "cell_type": "markdown",
      "metadata": {
        "id": "ZWB1H32vnkIR",
        "colab_type": "text"
      },
      "source": [
        "Viewed in this way, `Series` are like fast, efficient Python dictionaries\n",
        "(with the restriction that the items in the dictionary all have the same\n",
        "type—in this case, floats).\n",
        "\n",
        "In fact, you can use much of the same syntax as Python dictionaries"
      ]
    },
    {
      "cell_type": "code",
      "metadata": {
        "hide-output": false,
        "id": "KmKrm958nkIS",
        "colab_type": "code",
        "colab": {}
      },
      "source": [
        "s['AMZN']"
      ],
      "execution_count": 0,
      "outputs": []
    },
    {
      "cell_type": "code",
      "metadata": {
        "hide-output": false,
        "id": "QWsV1SRXnkIU",
        "colab_type": "code",
        "colab": {}
      },
      "source": [
        "s['AMZN'] = 0\n",
        "s"
      ],
      "execution_count": 0,
      "outputs": []
    },
    {
      "cell_type": "code",
      "metadata": {
        "hide-output": false,
        "id": "yucLx-fSnkIV",
        "colab_type": "code",
        "colab": {}
      },
      "source": [
        "'AAPL' in s"
      ],
      "execution_count": 0,
      "outputs": []
    },
    {
      "cell_type": "markdown",
      "metadata": {
        "id": "mMuZ8jaZnkIX",
        "colab_type": "text"
      },
      "source": [
        "## DataFrames\n",
        "\n",
        "\n",
        "<a id='index-3'></a>\n",
        "While a `Series` is a single column of data, a `DataFrame` is several columns, one for each variable.\n",
        "\n",
        "In essence, a `DataFrame` in pandas is analogous to a (highly optimized) Excel spreadsheet.\n",
        "\n",
        "Thus, it is a powerful tool for representing and analyzing data that are naturally organized  into rows and columns, often with  descriptive indexes for individual rows and individual columns.\n",
        "\n",
        "Let’s look at an example that reads data from the CSV file `pandas/data/test_pwt.csv` that can be downloaded\n",
        "<a href=_static/lecture_specific/pandas/data/test_pwt.csv download>here</a>.\n",
        "\n",
        "Here’s the content of `test_pwt.csv`"
      ]
    },
    {
      "cell_type": "markdown",
      "metadata": {
        "hide-output": false,
        "id": "nTRlN_UhnkIZ",
        "colab_type": "text"
      },
      "source": [
        "```text\n",
        "\"country\",\"country isocode\",\"year\",\"POP\",\"XRAT\",\"tcgdp\",\"cc\",\"cg\"\n",
        "\"Argentina\",\"ARG\",\"2000\",\"37335.653\",\"0.9995\",\"295072.21869\",\"75.716805379\",\"5.5788042896\"\n",
        "\"Australia\",\"AUS\",\"2000\",\"19053.186\",\"1.72483\",\"541804.6521\",\"67.759025993\",\"6.7200975332\"\n",
        "\"India\",\"IND\",\"2000\",\"1006300.297\",\"44.9416\",\"1728144.3748\",\"64.575551328\",\"14.072205773\"\n",
        "\"Israel\",\"ISR\",\"2000\",\"6114.57\",\"4.07733\",\"129253.89423\",\"64.436450847\",\"10.266688415\"\n",
        "\"Malawi\",\"MWI\",\"2000\",\"11801.505\",\"59.543808333\",\"5026.2217836\",\"74.707624181\",\"11.658954494\"\n",
        "\"South Africa\",\"ZAF\",\"2000\",\"45064.098\",\"6.93983\",\"227242.36949\",\"72.718710427\",\"5.7265463933\"\n",
        "\"United States\",\"USA\",\"2000\",\"282171.957\",\"1\",\"9898700\",\"72.347054303\",\"6.0324539789\"\n",
        "\"Uruguay\",\"URY\",\"2000\",\"3219.793\",\"12.099591667\",\"25255.961693\",\"78.978740282\",\"5.108067988\"\n",
        "```\n"
      ]
    },
    {
      "cell_type": "markdown",
      "metadata": {
        "id": "CF5Px6lankIa",
        "colab_type": "text"
      },
      "source": [
        "Supposing you have this data saved as test_pwt.csv in the present working directory (type %pwd in Jupyter to see what this is), it can be read in as follows:"
      ]
    },
    {
      "cell_type": "code",
      "metadata": {
        "hide-output": false,
        "id": "epdPTWhnnkIa",
        "colab_type": "code",
        "colab": {}
      },
      "source": [
        "df = pd.read_csv('https://github.com/QuantEcon/QuantEcon.lectures.code/raw/master/pandas/data/test_pwt.csv')\n",
        "type(df)"
      ],
      "execution_count": 0,
      "outputs": []
    },
    {
      "cell_type": "code",
      "metadata": {
        "hide-output": false,
        "id": "STYRDk2fnkIc",
        "colab_type": "code",
        "colab": {}
      },
      "source": [
        "df"
      ],
      "execution_count": 0,
      "outputs": []
    },
    {
      "cell_type": "markdown",
      "metadata": {
        "id": "JDVMiiRbnkId",
        "colab_type": "text"
      },
      "source": [
        "We can select particular rows using standard Python array slicing notation"
      ]
    },
    {
      "cell_type": "code",
      "metadata": {
        "hide-output": false,
        "id": "LrFhALKUnkIe",
        "colab_type": "code",
        "colab": {}
      },
      "source": [
        "df[2:5]"
      ],
      "execution_count": 0,
      "outputs": []
    },
    {
      "cell_type": "markdown",
      "metadata": {
        "id": "URtrk5RInkIg",
        "colab_type": "text"
      },
      "source": [
        "To select columns, we can pass a list containing the names of the desired columns represented as strings"
      ]
    },
    {
      "cell_type": "code",
      "metadata": {
        "hide-output": false,
        "id": "Wwl4CLTtnkIg",
        "colab_type": "code",
        "colab": {}
      },
      "source": [
        "df[['country', 'tcgdp']]"
      ],
      "execution_count": 0,
      "outputs": []
    },
    {
      "cell_type": "markdown",
      "metadata": {
        "id": "64dgB9iZnkIi",
        "colab_type": "text"
      },
      "source": [
        "To select both rows and columns using integers, the `iloc` attribute should be used with the format `.iloc[rows, columns]`"
      ]
    },
    {
      "cell_type": "code",
      "metadata": {
        "hide-output": false,
        "id": "yCO050HfnkIi",
        "colab_type": "code",
        "colab": {}
      },
      "source": [
        "df.iloc[2:5, 0:4]"
      ],
      "execution_count": 0,
      "outputs": []
    },
    {
      "cell_type": "markdown",
      "metadata": {
        "id": "JL_WDac2nkIk",
        "colab_type": "text"
      },
      "source": [
        "To select rows and columns using a mixture of integers and labels, the `loc` attribute can be used in a similar way"
      ]
    },
    {
      "cell_type": "code",
      "metadata": {
        "hide-output": false,
        "id": "CMEt_bafnkIk",
        "colab_type": "code",
        "colab": {}
      },
      "source": [
        "df.loc[df.index[2:5], ['country', 'tcgdp']]"
      ],
      "execution_count": 0,
      "outputs": []
    },
    {
      "cell_type": "markdown",
      "metadata": {
        "id": "kJP0GufAnkIn",
        "colab_type": "text"
      },
      "source": [
        "Let’s imagine that we’re only interested in population and total GDP (`tcgdp`).\n",
        "\n",
        "One way to strip the data frame `df` down to only these variables is to overwrite the dataframe using the selection method described above"
      ]
    },
    {
      "cell_type": "code",
      "metadata": {
        "hide-output": false,
        "id": "kM9e5B-WnkIo",
        "colab_type": "code",
        "colab": {}
      },
      "source": [
        "df = df[['country', 'POP', 'tcgdp']]\n",
        "df"
      ],
      "execution_count": 0,
      "outputs": []
    },
    {
      "cell_type": "markdown",
      "metadata": {
        "id": "tVkLopI9nkIr",
        "colab_type": "text"
      },
      "source": [
        "Here the index `0, 1,..., 7` is redundant because we can use the country names as an index.\n",
        "\n",
        "To do this, we set the index to be the `country` variable in the dataframe"
      ]
    },
    {
      "cell_type": "code",
      "metadata": {
        "hide-output": false,
        "id": "YsfGXKeQnkIt",
        "colab_type": "code",
        "colab": {}
      },
      "source": [
        "df = df.set_index('country')\n",
        "df"
      ],
      "execution_count": 0,
      "outputs": []
    },
    {
      "cell_type": "markdown",
      "metadata": {
        "id": "vIcIhG3lnkIv",
        "colab_type": "text"
      },
      "source": [
        "Let’s give the columns slightly better names"
      ]
    },
    {
      "cell_type": "code",
      "metadata": {
        "hide-output": false,
        "id": "1NI1_QNknkIv",
        "colab_type": "code",
        "colab": {}
      },
      "source": [
        "df.columns = 'population', 'total GDP'\n",
        "df"
      ],
      "execution_count": 0,
      "outputs": []
    },
    {
      "cell_type": "markdown",
      "metadata": {
        "id": "RT7xjqTjnkIw",
        "colab_type": "text"
      },
      "source": [
        "Population is in thousands, let’s revert to single units"
      ]
    },
    {
      "cell_type": "code",
      "metadata": {
        "hide-output": false,
        "id": "Cb2sE2_RnkIx",
        "colab_type": "code",
        "colab": {}
      },
      "source": [
        "df['population'] = df['population'] * 1e3\n",
        "df"
      ],
      "execution_count": 0,
      "outputs": []
    },
    {
      "cell_type": "markdown",
      "metadata": {
        "id": "TDkxxWNUnkIz",
        "colab_type": "text"
      },
      "source": [
        "Next, we’re going to add a column showing real GDP per capita, multiplying by 1,000,000 as we go because total GDP is in millions"
      ]
    },
    {
      "cell_type": "code",
      "metadata": {
        "hide-output": false,
        "id": "0kgKYQDZnkIz",
        "colab_type": "code",
        "colab": {}
      },
      "source": [
        "df['GDP percap'] = df['total GDP'] * 1e6 / df['population']\n",
        "df"
      ],
      "execution_count": 0,
      "outputs": []
    },
    {
      "cell_type": "markdown",
      "metadata": {
        "id": "wCzrWZ25nkI0",
        "colab_type": "text"
      },
      "source": [
        "One of the nice things about pandas `DataFrame` and `Series` objects is that they have methods for plotting and visualization that work through Matplotlib.\n",
        "\n",
        "For example, we can easily generate a bar plot of GDP per capita"
      ]
    },
    {
      "cell_type": "code",
      "metadata": {
        "hide-output": false,
        "id": "L7tPx3hVnkI1",
        "colab_type": "code",
        "colab": {}
      },
      "source": [
        "df['GDP percap'].plot(kind='bar')\n",
        "plt.show()"
      ],
      "execution_count": 0,
      "outputs": []
    },
    {
      "cell_type": "markdown",
      "metadata": {
        "id": "iIqR-zlcnkI2",
        "colab_type": "text"
      },
      "source": [
        "At the moment the data frame is ordered alphabetically on the countries—let’s change it to GDP per capita"
      ]
    },
    {
      "cell_type": "code",
      "metadata": {
        "hide-output": false,
        "id": "WrL505GMnkI3",
        "colab_type": "code",
        "colab": {}
      },
      "source": [
        "df = df.sort_values(by='GDP percap', ascending=False)\n",
        "df"
      ],
      "execution_count": 0,
      "outputs": []
    },
    {
      "cell_type": "markdown",
      "metadata": {
        "id": "PsEUJ72dnkI4",
        "colab_type": "text"
      },
      "source": [
        "Plotting as before now yields"
      ]
    },
    {
      "cell_type": "code",
      "metadata": {
        "hide-output": false,
        "id": "xvjMMIG1nkI4",
        "colab_type": "code",
        "colab": {}
      },
      "source": [
        "df['GDP percap'].plot(kind='bar')\n",
        "plt.show()"
      ],
      "execution_count": 0,
      "outputs": []
    },
    {
      "cell_type": "markdown",
      "metadata": {
        "id": "d6mwbUqEnkI6",
        "colab_type": "text"
      },
      "source": [
        "## On-Line Data Sources\n",
        "\n",
        "\n",
        "<a id='index-4'></a>\n",
        "Python makes it straightforward to query online databases programmatically.\n",
        "\n",
        "An important database for economists is [FRED](https://research.stlouisfed.org/fred2/) — a vast collection of time series data maintained by the St. Louis Fed.\n",
        "\n",
        "For example, suppose that we are interested in the [unemployment rate](https://research.stlouisfed.org/fred2/series/UNRATE).\n",
        "\n",
        "Via FRED, the entire series for the US civilian unemployment rate can be downloaded directly by entering\n",
        "this URL into your browser (note that this requires an internet connection)"
      ]
    },
    {
      "cell_type": "markdown",
      "metadata": {
        "hide-output": false,
        "id": "IfEbCeJqnkI6",
        "colab_type": "text"
      },
      "source": [
        "```text\n",
        "https://research.stlouisfed.org/fred2/series/UNRATE/downloaddata/UNRATE.csv\n",
        "```\n"
      ]
    },
    {
      "cell_type": "markdown",
      "metadata": {
        "id": "RIsE6xn2nkI7",
        "colab_type": "text"
      },
      "source": [
        "(Equivalently, click here: [https://research.stlouisfed.org/fred2/series/UNRATE/downloaddata/UNRATE.csv](https://research.stlouisfed.org/fred2/series/UNRATE/downloaddata/UNRATE.csv))\n",
        "\n",
        "This request returns a CSV file, which will be handled by your default application for this class of files.\n",
        "\n",
        "Alternatively, we can access the CSV file from within a Python program.\n",
        "\n",
        "This can be done with a variety of methods.\n",
        "\n",
        "We start with a relatively low-level method and then return to pandas."
      ]
    },
    {
      "cell_type": "markdown",
      "metadata": {
        "id": "BuK2wyMfnkI8",
        "colab_type": "text"
      },
      "source": [
        "### Accessing Data with requests\n",
        "\n",
        "\n",
        "<a id='index-6'></a>\n",
        "One option is to use [requests](http://docs.python-requests.org/en/master/), a standard Python library for requesting data over the Internet.\n",
        "\n",
        "To begin, try the following code on your computer"
      ]
    },
    {
      "cell_type": "code",
      "metadata": {
        "hide-output": false,
        "id": "JhgC4mjmnkI8",
        "colab_type": "code",
        "colab": {}
      },
      "source": [
        "r = requests.get('http://research.stlouisfed.org/fred2/series/UNRATE/downloaddata/UNRATE.csv')"
      ],
      "execution_count": 0,
      "outputs": []
    },
    {
      "cell_type": "markdown",
      "metadata": {
        "id": "8pTnQQfOnkI_",
        "colab_type": "text"
      },
      "source": [
        "If there’s no error message, then the call has succeeded.\n",
        "\n",
        "If you do get an error, then there are two likely causes\n",
        "\n",
        "1. You are not connected to the Internet — hopefully, this isn’t the case.  \n",
        "1. Your machine is accessing the Internet through a proxy server, and Python isn’t aware of this.  \n",
        "\n",
        "\n",
        "In the second case, you can either\n",
        "\n",
        "- switch to another machine  \n",
        "- solve your proxy problem by reading [the documentation](http://docs.python-requests.org/en/master/)  \n",
        "\n",
        "\n",
        "Assuming that all is working, you can now proceed to use the `source` object returned by the call `requests.get('http://research.stlouisfed.org/fred2/series/UNRATE/downloaddata/UNRATE.csv')`"
      ]
    },
    {
      "cell_type": "code",
      "metadata": {
        "hide-output": false,
        "id": "d7jNShXxnkI_",
        "colab_type": "code",
        "colab": {}
      },
      "source": [
        "url = 'http://research.stlouisfed.org/fred2/series/UNRATE/downloaddata/UNRATE.csv'\n",
        "source = requests.get(url).content.decode().split(\"\\n\")\n",
        "source[0]"
      ],
      "execution_count": 0,
      "outputs": []
    },
    {
      "cell_type": "code",
      "metadata": {
        "hide-output": false,
        "id": "xl-tJoy8nkJA",
        "colab_type": "code",
        "colab": {}
      },
      "source": [
        "source[1]"
      ],
      "execution_count": 0,
      "outputs": []
    },
    {
      "cell_type": "code",
      "metadata": {
        "hide-output": false,
        "id": "5Gox7ElwnkJC",
        "colab_type": "code",
        "colab": {}
      },
      "source": [
        "source[2]"
      ],
      "execution_count": 0,
      "outputs": []
    },
    {
      "cell_type": "markdown",
      "metadata": {
        "id": "1VGd0jVInkJD",
        "colab_type": "text"
      },
      "source": [
        "We could now write some additional code to parse this text and store it as an array.\n",
        "\n",
        "But this is unnecessary — pandas’ `read_csv` function can handle the task for us.\n",
        "\n",
        "We use `parse_dates=True` so that pandas recognizes our dates column, allowing for simple date filtering"
      ]
    },
    {
      "cell_type": "code",
      "metadata": {
        "hide-output": false,
        "id": "5UN8xFdenkJD",
        "colab_type": "code",
        "colab": {}
      },
      "source": [
        "data = pd.read_csv(url, index_col=0, parse_dates=True)"
      ],
      "execution_count": 0,
      "outputs": []
    },
    {
      "cell_type": "markdown",
      "metadata": {
        "id": "YIjIxN2enkJF",
        "colab_type": "text"
      },
      "source": [
        "The data has been read into a pandas DataFrame called `data` that we can now manipulate in the usual way"
      ]
    },
    {
      "cell_type": "code",
      "metadata": {
        "hide-output": false,
        "id": "R2ywXQGPnkJF",
        "colab_type": "code",
        "colab": {}
      },
      "source": [
        "type(data)"
      ],
      "execution_count": 0,
      "outputs": []
    },
    {
      "cell_type": "code",
      "metadata": {
        "hide-output": false,
        "id": "R5VaNMI0nkJG",
        "colab_type": "code",
        "colab": {}
      },
      "source": [
        "data.head()  # A useful method to get a quick look at a data frame"
      ],
      "execution_count": 0,
      "outputs": []
    },
    {
      "cell_type": "code",
      "metadata": {
        "hide-output": false,
        "id": "rtW8zuPHnkJI",
        "colab_type": "code",
        "colab": {}
      },
      "source": [
        "pd.set_option('precision', 1)\n",
        "data.describe()  # Your output might differ slightly"
      ],
      "execution_count": 0,
      "outputs": []
    },
    {
      "cell_type": "markdown",
      "metadata": {
        "id": "02vz0uOonkJK",
        "colab_type": "text"
      },
      "source": [
        "We can also plot the unemployment rate from 2006 to 2012 as follows"
      ]
    },
    {
      "cell_type": "code",
      "metadata": {
        "hide-output": false,
        "id": "m_FYYYLQnkJK",
        "colab_type": "code",
        "colab": {}
      },
      "source": [
        "data['2006':'2012'].plot()\n",
        "plt.show()"
      ],
      "execution_count": 0,
      "outputs": []
    },
    {
      "cell_type": "markdown",
      "metadata": {
        "id": "lcvDxA0XnkJM",
        "colab_type": "text"
      },
      "source": [
        "### Accessing World Bank Data\n",
        "\n",
        "\n",
        "<a id='index-7'></a>\n",
        "Let’s look at one more example of downloading and manipulating data — this\n",
        "time from the World Bank.\n",
        "\n",
        "The World Bank [collects and organizes data](http://data.worldbank.org/indicator) on a huge range of indicators.\n",
        "\n",
        "For example, [here’s](http://data.worldbank.org/indicator/GC.DOD.TOTL.GD.ZS/countries) some data on government debt as a ratio to GDP.\n",
        "\n",
        "If you click on “DOWNLOAD DATA” you will be given the option to download the\n",
        "data as an Excel file.\n",
        "\n",
        "The next program does this for you, reads an Excel file into a pandas\n",
        "DataFrame, and plots time series for the US and Australia"
      ]
    },
    {
      "cell_type": "code",
      "metadata": {
        "hide-output": false,
        "id": "jwE7n4eQnkJM",
        "colab_type": "code",
        "colab": {}
      },
      "source": [
        "# == Get data and read into file gd.xls == #\n",
        "wb_data_query = \"http://api.worldbank.org/v2/en/indicator/gc.dod.totl.gd.zs?downloadformat=excel\"\n",
        "r = requests.get(wb_data_query)\n",
        "with open('gd.xls', 'wb') as output:\n",
        "    output.write(r.content)\n",
        "\n",
        "# == Parse data into a DataFrame == #\n",
        "govt_debt = pd.read_excel('gd.xls', sheet_name='Data', skiprows=3, index_col=1)\n",
        "\n",
        "# == Take desired values and plot == #\n",
        "govt_debt = govt_debt.transpose()\n",
        "govt_debt = govt_debt[['AUS', 'USA']]\n",
        "govt_debt = govt_debt[38:]\n",
        "govt_debt.plot(lw=2)\n",
        "plt.show()"
      ],
      "execution_count": 0,
      "outputs": []
    },
    {
      "cell_type": "markdown",
      "metadata": {
        "id": "svFcN8hznkJO",
        "colab_type": "text"
      },
      "source": [
        "(The file is `pandas/wb_download.py`, and can be downloaded\n",
        "<a href=_static/lecture_specific/pandas/wb_download.py download>here</a>)."
      ]
    },
    {
      "cell_type": "markdown",
      "metadata": {
        "id": "l4PBKeULnkJO",
        "colab_type": "text"
      },
      "source": [
        "## Exercises\n",
        "\n",
        "\n",
        "<a id='pd-ex1'></a>"
      ]
    },
    {
      "cell_type": "markdown",
      "metadata": {
        "id": "A7uuwaHdnkJQ",
        "colab_type": "text"
      },
      "source": [
        "### Exercise 1\n",
        "\n",
        "Write a program to calculate the percentage price change over 2013 for the following shares"
      ]
    },
    {
      "cell_type": "code",
      "metadata": {
        "hide-output": false,
        "id": "xqbpKCAGnkJQ",
        "colab_type": "code",
        "colab": {}
      },
      "source": [
        "ticker_list = {'INTC': 'Intel',\n",
        "               'MSFT': 'Microsoft',\n",
        "               'IBM': 'IBM',\n",
        "               'BHP': 'BHP',\n",
        "               'TM': 'Toyota',\n",
        "               'AAPL': 'Apple',\n",
        "               'AMZN': 'Amazon',\n",
        "               'BA': 'Boeing',\n",
        "               'QCOM': 'Qualcomm',\n",
        "               'KO': 'Coca-Cola',\n",
        "               'GOOG': 'Google',\n",
        "               'SNE': 'Sony',\n",
        "               'PTR': 'PetroChina'}"
      ],
      "execution_count": 0,
      "outputs": []
    },
    {
      "cell_type": "markdown",
      "metadata": {
        "id": "mhtDAYS5nkJS",
        "colab_type": "text"
      },
      "source": [
        "A dataset of daily closing prices for the above firms can be found in `pandas/data/ticker_data.csv` and can be downloaded\n",
        "<a href=_static/lecture_specific/pandas/data/ticker_data.csv download>here</a>.\n",
        "\n",
        "Plot the result as a bar graph like follows\n",
        "\n",
        "<img src=\"https://s3-ap-southeast-2.amazonaws.com/lectures.quantecon.org/py/_static/lecture_specific/pandas/pandas_share_prices.png\" style=\"\">"
      ]
    },
    {
      "cell_type": "markdown",
      "metadata": {
        "id": "IT7ycdCfnkJS",
        "colab_type": "text"
      },
      "source": [
        "## Solutions"
      ]
    },
    {
      "cell_type": "markdown",
      "metadata": {
        "id": "Ze5-Kj6snkJS",
        "colab_type": "text"
      },
      "source": [
        "### Exercise 1"
      ]
    },
    {
      "cell_type": "code",
      "metadata": {
        "hide-output": false,
        "id": "S26HEN7TnkJT",
        "colab_type": "code",
        "colab": {}
      },
      "source": [
        "ticker = pd.read_csv('https://github.com/QuantEcon/QuantEcon.lectures.code/raw/master/pandas/data/ticker_data.csv')\n",
        "ticker.set_index('Date', inplace=True)\n",
        "\n",
        "ticker_list = {'INTC': 'Intel',\n",
        "               'MSFT': 'Microsoft',\n",
        "               'IBM': 'IBM',\n",
        "               'BHP': 'BHP',\n",
        "               'TM': 'Toyota',\n",
        "               'AAPL': 'Apple',\n",
        "               'AMZN': 'Amazon',\n",
        "               'BA': 'Boeing',\n",
        "               'QCOM': 'Qualcomm',\n",
        "               'KO': 'Coca-Cola',\n",
        "               'GOOG': 'Google',\n",
        "               'SNE': 'Sony',\n",
        "               'PTR': 'PetroChina'}\n",
        "\n",
        "price_change = pd.Series()\n",
        "\n",
        "for tick in ticker_list:\n",
        "    change = 100 * (ticker.loc[ticker.index[-1], tick] - ticker.loc[ticker.index[0], tick]) / ticker.loc[ticker.index[0], tick]\n",
        "    name = ticker_list[tick]\n",
        "    price_change[name] = change\n",
        "\n",
        "price_change.sort_values(inplace=True)\n",
        "fig, ax = plt.subplots(figsize=(10,8))\n",
        "price_change.plot(kind='bar', ax=ax)\n",
        "plt.show()"
      ],
      "execution_count": 0,
      "outputs": []
    },
    {
      "cell_type": "markdown",
      "metadata": {
        "id": "qTjPN1JdnkJU",
        "colab_type": "text"
      },
      "source": [
        "**Footnotes**\n",
        "\n",
        "<p><a id=mung href=#mung-link><strong>[1]</strong></a> Wikipedia defines munging as cleaning data from one raw form into a structured, purged one."
      ]
    }
  ]
}